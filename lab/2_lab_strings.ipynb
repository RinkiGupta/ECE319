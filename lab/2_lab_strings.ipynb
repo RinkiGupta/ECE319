{
  "nbformat": 4,
  "nbformat_minor": 0,
  "metadata": {
    "kernelspec": {
      "display_name": "Python 3",
      "language": "python",
      "name": "python3"
    },
    "language_info": {
      "codemirror_mode": {
        "name": "ipython",
        "version": 3
      },
      "file_extension": ".py",
      "mimetype": "text/x-python",
      "name": "python",
      "nbconvert_exporter": "python",
      "pygments_lexer": "ipython3",
      "version": "3.7.2"
    },
    "colab": {
      "name": "2_lab_strings.ipynb",
      "provenance": [],
      "collapsed_sections": [],
      "include_colab_link": true
    }
  },
  "cells": [
    {
      "cell_type": "markdown",
      "metadata": {
        "id": "view-in-github",
        "colab_type": "text"
      },
      "source": [
        "<a href=\"https://colab.research.google.com/github/RinkiGupta/ECE319/blob/master/lab/2_lab_strings.ipynb\" target=\"_parent\"><img src=\"https://colab.research.google.com/assets/colab-badge.svg\" alt=\"Open In Colab\"/></a>"
      ]
    },
    {
      "cell_type": "markdown",
      "metadata": {
        "id": "OcidX0ad8tgJ"
      },
      "source": [
        "# Experiment 2\n",
        "\n",
        "## AIM\n",
        "\n",
        "Write a python program to count the number of Characters in a given string and hence to display the characters of string in reverse order."
      ]
    },
    {
      "cell_type": "markdown",
      "metadata": {
        "id": "6d3k_XQe8tPh"
      },
      "source": [
        "## Description\n",
        "\n",
        "Strings\n",
        "\n",
        "Counting characters of string \n",
        "\n",
        "Slicing"
      ]
    },
    {
      "cell_type": "markdown",
      "metadata": {
        "id": "AGUPOnsi9MDb"
      },
      "source": [
        "## Program"
      ]
    },
    {
      "cell_type": "code",
      "metadata": {
        "id": "ZHwikhGn_OLW",
        "colab": {
          "base_uri": "https://localhost:8080/",
          "height": 50
        },
        "outputId": "0f3d695f-8f9b-4cb4-88fc-267c63c44849"
      },
      "source": [
        "# Use input() to enter your full name\n",
        "#name =\n",
        "#print(name)"
      ],
      "execution_count": null,
      "outputs": [
        {
          "output_type": "stream",
          "text": [
            "Enter your full Name: Rinki Gupta\n",
            "Rinki Gupta\n"
          ],
          "name": "stdout"
        }
      ]
    },
    {
      "cell_type": "code",
      "metadata": {
        "id": "-Zf3MC4N8n3_",
        "colab": {
          "base_uri": "https://localhost:8080/",
          "height": 50
        },
        "outputId": "126fe516-0e93-4b0d-e256-2043c877be16"
      },
      "source": [
        "# Print the string in Reverse Order\n",
        "print('Print in reverse order:')"
      ],
      "execution_count": null,
      "outputs": [
        {
          "output_type": "stream",
          "text": [
            "Print in reverse order:\n",
            "atpuG ikniR\n"
          ],
          "name": "stdout"
        }
      ]
    },
    {
      "cell_type": "code",
      "metadata": {
        "id": "CP4-X5A7Cvev",
        "colab": {
          "base_uri": "https://localhost:8080/",
          "height": 50
        },
        "outputId": "76ed66d5-36c9-4291-f4d5-a926db23663e"
      },
      "source": [
        "# Using slicing, print only first name from variable name\n",
        "\n",
        "# Print only last name from variable name\n"
      ],
      "execution_count": null,
      "outputs": [
        {
          "output_type": "stream",
          "text": [
            "Rinki\n",
            "Gupta\n"
          ],
          "name": "stdout"
        }
      ]
    },
    {
      "cell_type": "code",
      "metadata": {
        "id": "SuhaTqxi_R2_",
        "colab": {
          "base_uri": "https://localhost:8080/",
          "height": 34
        },
        "outputId": "f1f3a664-f959-494a-caa9-22b161dcd91a"
      },
      "source": [
        "# Print the total number of characters in name\n",
        "print (\"Number of characters: \") "
      ],
      "execution_count": null,
      "outputs": [
        {
          "output_type": "stream",
          "text": [
            "Number of characters:  11\n"
          ],
          "name": "stdout"
        }
      ]
    },
    {
      "cell_type": "code",
      "metadata": {
        "id": "i0X7RrWJ_VLO",
        "colab": {
          "base_uri": "https://localhost:8080/",
          "height": 34
        },
        "outputId": "ad2e8d61-8562-44e2-f8f4-4944294d8f1c"
      },
      "source": [
        "# Print the number of characters in name excluding whitespace\n",
        "print (\"Number of characters (excluding whitespace): \") "
      ],
      "execution_count": null,
      "outputs": [
        {
          "output_type": "stream",
          "text": [
            "Number of characters (excluding whitespace):  10\n"
          ],
          "name": "stdout"
        }
      ]
    },
    {
      "cell_type": "markdown",
      "metadata": {
        "id": "pwO29erVNMVG"
      },
      "source": [
        "## Conclusion\n",
        "\n"
      ]
    },
    {
      "cell_type": "markdown",
      "metadata": {
        "id": "nhtKjNSCkgpz"
      },
      "source": [
        ""
      ]
    },
    {
      "cell_type": "markdown",
      "metadata": {
        "id": "BsFJ-bTkkimf"
      },
      "source": [
        "**Evaluation**\n",
        "\n",
        "<img src='https://github.com/RinkiGupta/ECE319/blob/master/res/IET%20format%20Lab%20File.PNG?raw=true'>"
      ]
    }
  ]
}