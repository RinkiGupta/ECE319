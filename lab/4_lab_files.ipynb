{
  "nbformat": 4,
  "nbformat_minor": 0,
  "metadata": {
    "kernelspec": {
      "display_name": "Python 3",
      "language": "python",
      "name": "python3"
    },
    "language_info": {
      "codemirror_mode": {
        "name": "ipython",
        "version": 3
      },
      "file_extension": ".py",
      "mimetype": "text/x-python",
      "name": "python",
      "nbconvert_exporter": "python",
      "pygments_lexer": "ipython3",
      "version": "3.6.4"
    },
    "colab": {
      "provenance": [],
      "include_colab_link": true
    }
  },
  "cells": [
    {
      "cell_type": "markdown",
      "metadata": {
        "id": "view-in-github",
        "colab_type": "text"
      },
      "source": [
        "<a href=\"https://colab.research.google.com/github/RinkiGupta/ECE319/blob/master/lab/4_lab_files.ipynb\" target=\"_parent\"><img src=\"https://colab.research.google.com/assets/colab-badge.svg\" alt=\"Open In Colab\"/></a>"
      ]
    },
    {
      "cell_type": "markdown",
      "metadata": {
        "id": "wFWExXRzuAaG"
      },
      "source": [
        "# Experiment 4"
      ]
    },
    {
      "cell_type": "markdown",
      "metadata": {
        "id": "U2RX-2Vkt3ww"
      },
      "source": [
        "## AIM\n",
        "\n",
        "Write a Python program\n",
        "\n",
        "*   Create two new files f1 and f2\n",
        "*   Read and Display the contents of files f1 and f2\n",
        "*   Create and display the file f3 which is a combination of f1 and f2."
      ]
    },
    {
      "cell_type": "markdown",
      "metadata": {
        "id": "5_WuD9MZuEEJ"
      },
      "source": [
        "## Description\n",
        "\n",
        "\n",
        "Functions used"
      ]
    },
    {
      "cell_type": "markdown",
      "metadata": {
        "id": "tH9ZmmCtuOW2"
      },
      "source": [
        "## Program"
      ]
    },
    {
      "cell_type": "code",
      "metadata": {
        "id": "ednc7w9ihwsk"
      },
      "source": [
        "lst1 = ['Aug','Sep','Oct','Nov','Sep','Jul','Aug','Sep']\n",
        "lst2 = [1,2,3,4, 2,4,4,1]"
      ],
      "execution_count": null,
      "outputs": []
    },
    {
      "cell_type": "code",
      "metadata": {
        "id": "xrZfMCBitpk7"
      },
      "source": [
        "# Write lst1 into file1.txt\n"
      ],
      "execution_count": null,
      "outputs": []
    },
    {
      "cell_type": "code",
      "metadata": {
        "id": "X49RVmuNh5v_"
      },
      "source": [
        "# Write lst2 into file2.txt\n"
      ],
      "execution_count": null,
      "outputs": []
    },
    {
      "cell_type": "code",
      "metadata": {
        "id": "a2UzLpeYiAff"
      },
      "source": [
        "# deleting lst1 and lst2\n",
        "del lst1, lst2"
      ],
      "execution_count": null,
      "outputs": []
    },
    {
      "cell_type": "code",
      "metadata": {
        "id": "L5JBpvTFtwcq",
        "colab": {
          "base_uri": "https://localhost:8080/"
        },
        "outputId": "8b518f8c-dcd0-40c2-cb69-4cd06916dbd2"
      },
      "source": [
        "# Read contents of file1.txt and display them\n",
        "print('Contents of file1.txt:')\n"
      ],
      "execution_count": null,
      "outputs": [
        {
          "output_type": "stream",
          "text": [
            "Contents of file1.txt:\n",
            "Aug\n",
            "Sep\n",
            "Oct\n",
            "Nov\n",
            "Sep\n",
            "Jul\n",
            "Aug\n",
            "Sep\n"
          ],
          "name": "stdout"
        }
      ]
    },
    {
      "cell_type": "code",
      "metadata": {
        "id": "usHfRYE8uqvL",
        "colab": {
          "base_uri": "https://localhost:8080/"
        },
        "outputId": "e3c0bdfe-5d99-48d5-fd00-d17a366a318e"
      },
      "source": [
        "# Read contents of file2.txt and display them\n",
        "print('Contents of file2.txt:')\n"
      ],
      "execution_count": null,
      "outputs": [
        {
          "output_type": "stream",
          "text": [
            "Contents of file2.txt:\n",
            "1\n",
            "2\n",
            "3\n",
            "4\n",
            "2\n",
            "4\n",
            "4\n",
            "1\n"
          ],
          "name": "stdout"
        }
      ]
    },
    {
      "cell_type": "code",
      "metadata": {
        "id": "3-sSwNr_vb8_",
        "colab": {
          "base_uri": "https://localhost:8080/"
        },
        "outputId": "242ada22-7b5c-4b78-ba39-06bf897a2257"
      },
      "source": [
        "# Create a file3.txt, which is a combination of file1.txt and file2.txt\n",
        "\n",
        "\n",
        "# Display contents of file3.txt\n"
      ],
      "execution_count": null,
      "outputs": [
        {
          "output_type": "stream",
          "text": [
            "Contents of file3.txt:\n",
            "1 Aug 2020\n",
            "2 Sep 2020\n",
            "3 Oct 2020\n",
            "4 Nov 2020\n",
            "2 Sep 2020\n",
            "4 Jul 2020\n",
            "4 Aug 2020\n",
            "1 Sep 2020\n",
            "\n"
          ],
          "name": "stdout"
        }
      ]
    },
    {
      "cell_type": "markdown",
      "metadata": {
        "id": "tn67des4vDlL"
      },
      "source": [
        "## Conclusion\n"
      ]
    },
    {
      "cell_type": "markdown",
      "metadata": {
        "id": "yjQ5OJ_Xdkc-"
      },
      "source": []
    },
    {
      "cell_type": "markdown",
      "metadata": {
        "id": "CgRHDQYxdk5I"
      },
      "source": [
        "**Evaluation**\n",
        "\n",
        "<img src='https://github.com/RinkiGupta/ECE319/blob/master/res/IET%20format%20Lab%20File.PNG?raw=true'>"
      ]
    }
  ]
}