{
  "nbformat": 4,
  "nbformat_minor": 0,
  "metadata": {
    "kernelspec": {
      "display_name": "Python 3",
      "language": "python",
      "name": "python3"
    },
    "language_info": {
      "codemirror_mode": {
        "name": "ipython",
        "version": 3
      },
      "file_extension": ".py",
      "mimetype": "text/x-python",
      "name": "python",
      "nbconvert_exporter": "python",
      "pygments_lexer": "ipython3",
      "version": "3.6.4"
    },
    "colab": {
      "name": "10_lab_dictionary.ipynb",
      "provenance": [],
      "collapsed_sections": [],
      "include_colab_link": true
    }
  },
  "cells": [
    {
      "cell_type": "markdown",
      "metadata": {
        "id": "view-in-github",
        "colab_type": "text"
      },
      "source": [
        "<a href=\"https://colab.research.google.com/github/RinkiGupta/ECE319/blob/master/lab/10_lab_dictionary.ipynb\" target=\"_parent\"><img src=\"https://colab.research.google.com/assets/colab-badge.svg\" alt=\"Open In Colab\"/></a>"
      ]
    },
    {
      "cell_type": "markdown",
      "metadata": {
        "id": "ElNF5e4K-_wc"
      },
      "source": [
        "# AIM\n",
        "Write a Python program to convert a list of tuples into a dictionary"
      ]
    },
    {
      "cell_type": "markdown",
      "metadata": {
        "id": "2BH9N5P1_5_T"
      },
      "source": [
        "# Description\n",
        "\n",
        "Dictionary, zip()"
      ]
    },
    {
      "cell_type": "markdown",
      "metadata": {
        "id": "EmmaCVJ1__7R"
      },
      "source": [
        "# Program"
      ]
    },
    {
      "cell_type": "code",
      "metadata": {
        "id": "vgF8t5BK-_wd",
        "outputId": "0a931e47-af12-465e-e3ec-29877eae969e",
        "colab": {
          "base_uri": "https://localhost:8080/",
          "height": 51
        }
      },
      "source": [
        "details = ['Name','Age','Education','Address']\n",
        "person1 = ['Ravi',14,'Xth','Delhi']\n",
        "\n"
      ],
      "execution_count": null,
      "outputs": [
        {
          "output_type": "stream",
          "text": [
            "Dictionary1:\n",
            "{'Name': 'Ravi', 'Age': 14, 'Education': 'Xth', 'Address': 'Delhi'}\n"
          ],
          "name": "stdout"
        }
      ]
    },
    {
      "cell_type": "code",
      "metadata": {
        "id": "8-8jXwAF-_wl",
        "outputId": "b29706c9-cc94-4ab2-fc4b-9d36ed5d37c1",
        "colab": {
          "base_uri": "https://localhost:8080/",
          "height": 71
        }
      },
      "source": [
        "person2 = ['Anuj',16,'XIIth','Noida']\n",
        "person3 = ['Ram',14,'Xth','Delhi']\n"
      ],
      "execution_count": null,
      "outputs": [
        {
          "output_type": "stream",
          "text": [
            "Dictionary2:\n",
            "{'Name': ('Ravi', 'Anuj', 'Ram'), 'Age': (14, 16, 14), 'Education': ('Xth', 'XIIth', 'Xth'), 'Address': ('Delhi', 'Noida', 'Delhi')}\n"
          ],
          "name": "stdout"
        }
      ]
    }
  ]
}