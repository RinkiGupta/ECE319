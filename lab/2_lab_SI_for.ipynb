{
  "nbformat": 4,
  "nbformat_minor": 0,
  "metadata": {
    "kernelspec": {
      "display_name": "Python 3",
      "language": "python",
      "name": "python3"
    },
    "language_info": {
      "codemirror_mode": {
        "name": "ipython",
        "version": 3
      },
      "file_extension": ".py",
      "mimetype": "text/x-python",
      "name": "python",
      "nbconvert_exporter": "python",
      "pygments_lexer": "ipython3",
      "version": "3.7.3"
    },
    "colab": {
      "name": "2_lab_SI_for.ipynb",
      "provenance": [],
      "collapsed_sections": [],
      "include_colab_link": true
    }
  },
  "cells": [
    {
      "cell_type": "markdown",
      "metadata": {
        "id": "view-in-github",
        "colab_type": "text"
      },
      "source": [
        "<a href=\"https://colab.research.google.com/github/RinkiGupta/ECE319/blob/master/lab/2_lab_SI_for.ipynb\" target=\"_parent\"><img src=\"https://colab.research.google.com/assets/colab-badge.svg\" alt=\"Open In Colab\"/></a>"
      ]
    },
    {
      "cell_type": "markdown",
      "metadata": {
        "id": "o5n89SZbtMWX",
        "colab_type": "text"
      },
      "source": [
        "# Practice Syntax\n",
        "## Taking Input from user"
      ]
    },
    {
      "cell_type": "code",
      "metadata": {
        "id": "GzvHKSHRtMWa",
        "colab_type": "code",
        "colab": {}
      },
      "source": [
        "# use input() to print a promt and save user's input in a variable"
      ],
      "execution_count": 1,
      "outputs": []
    },
    {
      "cell_type": "code",
      "metadata": {
        "id": "MXP9jHoktMWe",
        "colab_type": "code",
        "colab": {}
      },
      "source": [
        "# Accept integer input from user"
      ],
      "execution_count": 2,
      "outputs": []
    },
    {
      "cell_type": "code",
      "metadata": {
        "id": "Ui_rJeXUtMWi",
        "colab_type": "code",
        "colab": {}
      },
      "source": [
        "# Accept float input from user"
      ],
      "execution_count": 3,
      "outputs": []
    },
    {
      "cell_type": "markdown",
      "metadata": {
        "id": "PXRAo6YEtMWl",
        "colab_type": "text"
      },
      "source": [
        "# Experiment 2"
      ]
    },
    {
      "cell_type": "markdown",
      "metadata": {
        "id": "1mBtvPlHtMWl",
        "colab_type": "text"
      },
      "source": [
        "## Aim\n",
        "Write a program to find the simple interest for a given value P, T and R. The program must take the input from the user."
      ]
    },
    {
      "cell_type": "markdown",
      "metadata": {
        "id": "fAWpdpRbtMWm",
        "colab_type": "text"
      },
      "source": [
        "## Description\n",
        "write about input and for-loop"
      ]
    },
    {
      "cell_type": "markdown",
      "metadata": {
        "id": "aC40OALHtMWm",
        "colab_type": "text"
      },
      "source": [
        "## Code\n",
        "<img src='https://catmentor.files.wordpress.com/2015/06/geo28.jpg' width=30%>\n",
        "\n",
        "Total Amount = P + I"
      ]
    },
    {
      "cell_type": "code",
      "metadata": {
        "id": "es3RsWbQtMWn",
        "colab_type": "code",
        "colab": {},
        "outputId": "1a97dc65-aaa7-41e3-d33c-ddcdfceb9330"
      },
      "source": [
        "# Accept Pricipal, Rate, Time as inputs from user\n",
        "#Pricipal =  \n",
        "#Rate = \n",
        "#Time= "
      ],
      "execution_count": null,
      "outputs": [
        {
          "output_type": "stream",
          "text": [
            "Enter Principal amount(Rs): 2000\n",
            "Enter Rate of interest(in %): 2\n",
            "Enter Time(in years): 4\n"
          ],
          "name": "stdout"
        }
      ]
    },
    {
      "cell_type": "code",
      "metadata": {
        "id": "84_BefyPtMWr",
        "colab_type": "code",
        "colab": {},
        "outputId": "895f2708-21dc-4009-ddab-2ace0b09d6fb"
      },
      "source": [
        "# Calculate simple interest\n",
        "#SI = \n",
        "print(\"Simple Interest:\", SI)"
      ],
      "execution_count": null,
      "outputs": [
        {
          "output_type": "stream",
          "text": [
            "Simple Interest: 160.0\n"
          ],
          "name": "stdout"
        }
      ]
    },
    {
      "cell_type": "code",
      "metadata": {
        "id": "JnqPP9zXtMWu",
        "colab_type": "code",
        "colab": {},
        "outputId": "b4b0a103-e81f-4356-adc7-a79b06434216"
      },
      "source": [
        "# Evaluate Total Amount at end of each year till the year entered by the user \n",
        "# Use for loop"
      ],
      "execution_count": null,
      "outputs": [
        {
          "output_type": "stream",
          "text": [
            "Total Amount at end of year 1  =  2040.0\n",
            "Total Amount at end of year 2  =  2080.0\n",
            "Total Amount at end of year 3  =  2120.0\n",
            "Total Amount at end of year 4  =  2160.0\n"
          ],
          "name": "stdout"
        }
      ]
    },
    {
      "cell_type": "code",
      "metadata": {
        "id": "Kyr3nWoGtMWx",
        "colab_type": "code",
        "colab": {},
        "outputId": "ef1c117d-78fd-403d-8822-4d50158b7583"
      },
      "source": [
        "# Evaluate Simple Interest for 4 different Interest rates\n",
        "# Use for loop\n",
        "rates = [2.5, 4, 5, 6.5]\n"
      ],
      "execution_count": null,
      "outputs": [
        {
          "output_type": "stream",
          "text": [
            "SI at rate  2.5 % =  200.0\n",
            "SI at rate  4 % =  320.0\n",
            "SI at rate  5 % =  400.0\n",
            "SI at rate  6.5 % =  520.0\n"
          ],
          "name": "stdout"
        }
      ]
    },
    {
      "cell_type": "code",
      "metadata": {
        "id": "DphcEBErtMW0",
        "colab_type": "code",
        "colab": {},
        "outputId": "c27b39a1-1d68-4166-9c4f-12427d8c9bdf"
      },
      "source": [
        "# Use Single line for-loop to create a list containing SI for each rate in list rates\n",
        "rates = [2.5, 4, 5, 6.5]\n",
        "print('For rates: ',rates)\n",
        "#SI = [  ]\n",
        "print('SI: ',SI)"
      ],
      "execution_count": null,
      "outputs": [
        {
          "output_type": "stream",
          "text": [
            "For rates:  [2.5, 4, 5, 6.5]\n",
            "SI:  [200.0, 320.0, 400.0, 520.0]\n"
          ],
          "name": "stdout"
        }
      ]
    },
    {
      "cell_type": "code",
      "metadata": {
        "id": "1TEA2PQGtMW2",
        "colab_type": "code",
        "colab": {},
        "outputId": "41f3a1f0-e75d-4ad0-a74a-d097a40264c3"
      },
      "source": [
        "# Evaluate Simple Interest for 4 different Interest rates\n",
        "# Use nested for-loop\n",
        "rates = [2.5, 4, 5, 6.5]\n"
      ],
      "execution_count": null,
      "outputs": [
        {
          "output_type": "stream",
          "text": [
            "Calculating SI at rate  2.5 %\n",
            "\tTotal Amount at end of year 1 = 2050.0\n",
            "\tTotal Amount at end of year 2 = 2100.0\n",
            "\tTotal Amount at end of year 3 = 2150.0\n",
            "\tTotal Amount at end of year 4 = 2200.0\n",
            "Calculating SI at rate  4 %\n",
            "\tTotal Amount at end of year 1 = 2080.0\n",
            "\tTotal Amount at end of year 2 = 2160.0\n",
            "\tTotal Amount at end of year 3 = 2240.0\n",
            "\tTotal Amount at end of year 4 = 2320.0\n",
            "Calculating SI at rate  5 %\n",
            "\tTotal Amount at end of year 1 = 2100.0\n",
            "\tTotal Amount at end of year 2 = 2200.0\n",
            "\tTotal Amount at end of year 3 = 2300.0\n",
            "\tTotal Amount at end of year 4 = 2400.0\n"
          ],
          "name": "stdout"
        }
      ]
    },
    {
      "cell_type": "markdown",
      "metadata": {
        "id": "ewO_ZNuutMW5",
        "colab_type": "text"
      },
      "source": [
        "## Conclusion"
      ]
    },
    {
      "cell_type": "markdown",
      "metadata": {
        "id": "wmQSbnTPtMW6",
        "colab_type": "text"
      },
      "source": [
        ""
      ]
    }
  ]
}