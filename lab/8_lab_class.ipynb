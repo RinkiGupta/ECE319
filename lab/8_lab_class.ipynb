{
  "nbformat": 4,
  "nbformat_minor": 0,
  "metadata": {
    "kernelspec": {
      "display_name": "Python 3",
      "language": "python",
      "name": "python3"
    },
    "language_info": {
      "codemirror_mode": {
        "name": "ipython",
        "version": 3
      },
      "file_extension": ".py",
      "mimetype": "text/x-python",
      "name": "python",
      "nbconvert_exporter": "python",
      "pygments_lexer": "ipython3",
      "version": "3.6.4"
    },
    "colab": {
      "name": "8_lab_class.ipynb",
      "provenance": [],
      "collapsed_sections": [],
      "include_colab_link": true
    }
  },
  "cells": [
    {
      "cell_type": "markdown",
      "metadata": {
        "id": "view-in-github",
        "colab_type": "text"
      },
      "source": [
        "<a href=\"https://colab.research.google.com/github/RinkiGupta/ECE319/blob/master/lab/8_lab_class.ipynb\" target=\"_parent\"><img src=\"https://colab.research.google.com/assets/colab-badge.svg\" alt=\"Open In Colab\"/></a>"
      ]
    },
    {
      "cell_type": "markdown",
      "metadata": {
        "id": "a9lMkcs5gyE7"
      },
      "source": [
        "# Experiment 8"
      ]
    },
    {
      "cell_type": "markdown",
      "metadata": {
        "id": "YjUFR2VeglxT"
      },
      "source": [
        "## AIM\n",
        "Write an Object-Oriented Python program to \n",
        "\n",
        "\n",
        "1.   Create two Time objects\n",
        "  *   Current Time, which contains the current time, and\n",
        "  *   Bread Time, which contains the amount of time it takes for a bread maker to make bread\n",
        "\n",
        "2.   Then use add_time to determine when the bread will be done. \n",
        "3. Write the print_time function to display the time when the bread will be done by the bread maker."
      ]
    },
    {
      "cell_type": "markdown",
      "metadata": {
        "id": "GS6cfs5xjrCs"
      },
      "source": [
        "## Description\n",
        "\n",
        "\n",
        "Write about OOP, class definition, object instantiation, methods"
      ]
    },
    {
      "cell_type": "markdown",
      "metadata": {
        "id": "KZfeakfpj2h0"
      },
      "source": [
        "## Program"
      ]
    },
    {
      "cell_type": "code",
      "metadata": {
        "id": "cR0vLGK1pswU"
      },
      "source": [
        "'''\n",
        "Define class Time containing \n",
        "  3 instance variables- hrs,mins,sec\n",
        "  a method  correct_time()  to print time as hrs:mins:sec\n",
        "  a method  print_time()  to maintain correct time format so that mins<60 and sec<60\n",
        "'''\n"
      ],
      "execution_count": null,
      "outputs": []
    },
    {
      "cell_type": "code",
      "metadata": {
        "id": "wXp6O0icgLYS",
        "outputId": "4a04aa7a-1ac5-4f4d-ece0-ed7a9c737bb9",
        "colab": {
          "base_uri": "https://localhost:8080/",
          "height": 52
        }
      },
      "source": [
        "# Create object for Current Time and print the currect time\n",
        "t_curr = Time(9, 45, 30)\n",
        "print('Current Time:')\n",
        "t_curr.print_time()"
      ],
      "execution_count": null,
      "outputs": [
        {
          "output_type": "stream",
          "text": [
            "Current Time:\n",
            "9:45:30\n"
          ],
          "name": "stdout"
        }
      ]
    },
    {
      "cell_type": "code",
      "metadata": {
        "id": "COvD7gXTkq_s",
        "outputId": "8ac93e52-d5d8-40eb-e937-5200eb32999d",
        "colab": {
          "base_uri": "https://localhost:8080/",
          "height": 52
        }
      },
      "source": [
        "# Create object for Bread Time and print the bread time\n"
      ],
      "execution_count": null,
      "outputs": [
        {
          "output_type": "stream",
          "text": [
            "Bread Time:\n",
            "3:35:40\n"
          ],
          "name": "stdout"
        }
      ]
    },
    {
      "cell_type": "code",
      "metadata": {
        "id": "0_3oJa_LgLYO"
      },
      "source": [
        "'''\n",
        "Define function add_time() to add two time objects and \n",
        "return a time object containing total time after correcting its format\n",
        "'''\n",
        "def add_time(t1, t2):\n",
        "    t3 = Time()\n",
        "    \n",
        "    return t3"
      ],
      "execution_count": null,
      "outputs": []
    },
    {
      "cell_type": "code",
      "metadata": {
        "id": "WbvbR5UBgLYV",
        "outputId": "9796f8a6-ed94-4f6a-a4a2-7de44b91406d",
        "colab": {
          "base_uri": "https://localhost:8080/",
          "height": 52
        }
      },
      "source": [
        "# Use add_time function to add current time and bread time. Print the Total Time\n"
      ],
      "execution_count": null,
      "outputs": [
        {
          "output_type": "stream",
          "text": [
            "Total Time:\n",
            "13:21:10\n"
          ],
          "name": "stdout"
        }
      ]
    },
    {
      "cell_type": "markdown",
      "metadata": {
        "id": "ZTnZx4nMoS4i"
      },
      "source": [
        "## Conclusion\n",
        "\n"
      ]
    }
  ]
}