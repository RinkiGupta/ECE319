{
  "nbformat": 4,
  "nbformat_minor": 0,
  "metadata": {
    "kernelspec": {
      "display_name": "Python 3",
      "language": "python",
      "name": "python3"
    },
    "language_info": {
      "codemirror_mode": {
        "name": "ipython",
        "version": 3
      },
      "file_extension": ".py",
      "mimetype": "text/x-python",
      "name": "python",
      "nbconvert_exporter": "python",
      "pygments_lexer": "ipython3",
      "version": "3.6.4"
    },
    "colab": {
      "name": "6_lab_functions.ipynb",
      "provenance": [],
      "collapsed_sections": [],
      "include_colab_link": true
    }
  },
  "cells": [
    {
      "cell_type": "markdown",
      "metadata": {
        "id": "view-in-github",
        "colab_type": "text"
      },
      "source": [
        "<a href=\"https://colab.research.google.com/github/RinkiGupta/ECE319/blob/master/lab/6_lab_functions.ipynb\" target=\"_parent\"><img src=\"https://colab.research.google.com/assets/colab-badge.svg\" alt=\"Open In Colab\"/></a>"
      ]
    },
    {
      "cell_type": "markdown",
      "metadata": {
        "id": "wFWExXRzuAaG",
        "colab_type": "text"
      },
      "source": [
        "# Experiment 6"
      ]
    },
    {
      "cell_type": "markdown",
      "metadata": {
        "id": "U2RX-2Vkt3ww",
        "colab_type": "text"
      },
      "source": [
        "## AIM\n",
        "\n",
        "Write a Python program to generate first n Fibonacci number and factorial of n using functions."
      ]
    },
    {
      "cell_type": "markdown",
      "metadata": {
        "id": "5_WuD9MZuEEJ",
        "colab_type": "text"
      },
      "source": [
        "## Description\n",
        "\n",
        "<img src=\"https://i1.faceprep.in/Companies-1/solution-factorial-program-in-python.png\" width=40%>\n",
        "\n",
        "Binomial Coefficient\n",
        "\n",
        "<img src=\"https://miro.medium.com/max/700/1*M8rH19iMFukgiXHIqeI8Kw.png\" width=50%>\n",
        "\n",
        "The Fibonacci Sequence\n",
        "\n",
        "<img src=\"http://www.statisticslectures.com/images/fibonacci1.gif\" width=35%>\n"
      ]
    },
    {
      "cell_type": "markdown",
      "metadata": {
        "id": "tH9ZmmCtuOW2",
        "colab_type": "text"
      },
      "source": [
        "## Program"
      ]
    },
    {
      "cell_type": "code",
      "metadata": {
        "id": "xrZfMCBitpk7",
        "colab_type": "code",
        "colab": {
          "base_uri": "https://localhost:8080/",
          "height": 35
        },
        "outputId": "6b3b0769-0b19-4934-cf2b-f372c9c62cb8"
      },
      "source": [
        "# Factorial of a number n>=0 \n",
        "# Function definition\n",
        "\n",
        "# Ask user to input the number\n",
        "\n",
        "# Function invocation\n"
      ],
      "execution_count": 2,
      "outputs": [
        {
          "output_type": "stream",
          "text": [
            "5 ! = 120\n"
          ],
          "name": "stdout"
        }
      ]
    },
    {
      "cell_type": "code",
      "metadata": {
        "id": "VQZ_Z6r9O7pK",
        "colab_type": "code",
        "colab": {
          "base_uri": "https://localhost:8080/",
          "height": 35
        },
        "outputId": "ee5b441f-5d19-4b80-936e-bcd9e82512d0"
      },
      "source": [
        "# Determine Binomial Coefficient nCk \n",
        "n,k=5,3\n",
        "#nCk = \n",
        "#print('C (',n,',',k,') = ',nCk)"
      ],
      "execution_count": null,
      "outputs": [
        {
          "output_type": "stream",
          "text": [
            "C ( 5 , 3 ) =  10.0\n"
          ],
          "name": "stdout"
        }
      ]
    },
    {
      "cell_type": "code",
      "metadata": {
        "id": "VJNnoh4hPLu6",
        "colab_type": "code",
        "colab": {
          "base_uri": "https://localhost:8080/",
          "height": 191
        },
        "outputId": "317f48d5-f398-49ad-d97c-b0db537e2a8e"
      },
      "source": [
        "# Function for nth Fibonacci number \n",
        "\n",
        "# Function invocation\n"
      ],
      "execution_count": 6,
      "outputs": [
        {
          "output_type": "stream",
          "text": [
            "Input a number to compute the Fibonacci : 8\n",
            "First 8  Fibonacci numbers:\n",
            "1\n",
            "1\n",
            "2\n",
            "3\n",
            "5\n",
            "8\n",
            "13\n",
            "21\n"
          ],
          "name": "stdout"
        }
      ]
    },
    {
      "cell_type": "markdown",
      "metadata": {
        "id": "tn67des4vDlL",
        "colab_type": "text"
      },
      "source": [
        "## Conclusion\n"
      ]
    }
  ]
}