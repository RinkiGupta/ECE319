{
  "nbformat": 4,
  "nbformat_minor": 0,
  "metadata": {
    "kernelspec": {
      "display_name": "Python 3",
      "language": "python",
      "name": "python3"
    },
    "language_info": {
      "codemirror_mode": {
        "name": "ipython",
        "version": 3
      },
      "file_extension": ".py",
      "mimetype": "text/x-python",
      "name": "python",
      "nbconvert_exporter": "python",
      "pygments_lexer": "ipython3",
      "version": "3.6.4"
    },
    "colab": {
      "name": "9_lab_set_list.ipynb",
      "provenance": [],
      "collapsed_sections": [],
      "include_colab_link": true
    }
  },
  "cells": [
    {
      "cell_type": "markdown",
      "metadata": {
        "id": "view-in-github",
        "colab_type": "text"
      },
      "source": [
        "<a href=\"https://colab.research.google.com/github/RinkiGupta/ECE319/blob/master/lab/9_lab_set_list.ipynb\" target=\"_parent\"><img src=\"https://colab.research.google.com/assets/colab-badge.svg\" alt=\"Open In Colab\"/></a>"
      ]
    },
    {
      "cell_type": "markdown",
      "metadata": {
        "id": "822_QDi36VeG"
      },
      "source": [
        "# AIM\n",
        "Write a Python program to get the frequency of the elements in a list."
      ]
    },
    {
      "cell_type": "markdown",
      "metadata": {
        "id": "xqGd5Qoe60DY"
      },
      "source": [
        "# Description\n",
        "Sets, list, methods used"
      ]
    },
    {
      "cell_type": "markdown",
      "metadata": {
        "id": "sDuPacZC656w"
      },
      "source": [
        "# Program"
      ]
    },
    {
      "cell_type": "code",
      "metadata": {
        "id": "WDyXM9UH6VeI",
        "outputId": "012b0186-bbae-4e9d-923b-abb388a918cb",
        "colab": {
          "base_uri": "https://localhost:8080/",
          "height": 343
        }
      },
      "source": [
        "lst1 = list('Everyday is a Good day to learn Python')\n",
        "# Determine unique elements in lst1 by converting to Set\n"
      ],
      "execution_count": null,
      "outputs": [
        {
          "output_type": "stream",
          "text": [
            "\n",
            "Item\tFrequency\n",
            "  \t 7\n",
            "r \t 2\n",
            "o \t 4\n",
            "v \t 1\n",
            "E \t 1\n",
            "e \t 2\n",
            "s \t 1\n",
            "i \t 1\n",
            "n \t 2\n",
            "h \t 1\n",
            "a \t 4\n",
            "y \t 4\n",
            "d \t 3\n",
            "l \t 1\n",
            "P \t 1\n",
            "t \t 2\n",
            "G \t 1\n"
          ],
          "name": "stdout"
        }
      ]
    },
    {
      "cell_type": "code",
      "metadata": {
        "id": "HWLQkKI581QR",
        "outputId": "d2871ea4-8600-4163-d2f2-1364dee8c0ca",
        "colab": {
          "base_uri": "https://localhost:8080/",
          "height": 54
        }
      },
      "source": [
        "# Use dict comprehension to do the same\n"
      ],
      "execution_count": null,
      "outputs": [
        {
          "output_type": "stream",
          "text": [
            "{' ': 7, 'r': 2, 'o': 4, 'v': 1, 'E': 1, 'e': 2, 's': 1, 'i': 1, 'n': 2, 'h': 1, 'a': 4, 'y': 4, 'd': 3, 'l': 1, 'P': 1, 't': 2, 'G': 1}\n"
          ],
          "name": "stdout"
        }
      ]
    },
    {
      "cell_type": "markdown",
      "metadata": {
        "id": "9KqrHpGXAKbL"
      },
      "source": [
        "# Conclusion\n"
      ]
    }
  ]
}