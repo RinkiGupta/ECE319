{
  "nbformat": 4,
  "nbformat_minor": 0,
  "metadata": {
    "kernelspec": {
      "display_name": "Python 3",
      "language": "python",
      "name": "python3"
    },
    "language_info": {
      "codemirror_mode": {
        "name": "ipython",
        "version": 3
      },
      "file_extension": ".py",
      "mimetype": "text/x-python",
      "name": "python",
      "nbconvert_exporter": "python",
      "pygments_lexer": "ipython3",
      "version": "3.6.4"
    },
    "colab": {
      "name": "10_lab_set_list.ipynb",
      "provenance": [],
      "collapsed_sections": [],
      "include_colab_link": true
    }
  },
  "cells": [
    {
      "cell_type": "markdown",
      "metadata": {
        "id": "view-in-github",
        "colab_type": "text"
      },
      "source": [
        "<a href=\"https://colab.research.google.com/github/RinkiGupta/ECE319/blob/master/lab/10_lab_set_list.ipynb\" target=\"_parent\"><img src=\"https://colab.research.google.com/assets/colab-badge.svg\" alt=\"Open In Colab\"/></a>"
      ]
    },
    {
      "cell_type": "markdown",
      "metadata": {
        "id": "zrsAvF0xSB04"
      },
      "source": [
        "# Experiment 10"
      ]
    },
    {
      "cell_type": "markdown",
      "metadata": {
        "id": "822_QDi36VeG"
      },
      "source": [
        "# AIM\n",
        "Write a Python program to get the frequency of the elements in a list."
      ]
    },
    {
      "cell_type": "markdown",
      "metadata": {
        "id": "xqGd5Qoe60DY"
      },
      "source": [
        "# Description\n",
        "Sets, list, methods used"
      ]
    },
    {
      "cell_type": "markdown",
      "metadata": {
        "id": "sDuPacZC656w"
      },
      "source": [
        "# Program"
      ]
    },
    {
      "cell_type": "code",
      "metadata": {
        "id": "WDyXM9UH6VeI",
        "colab": {
          "base_uri": "https://localhost:8080/"
        },
        "outputId": "477f0aed-035c-4d3d-8f03-08e5281e5319"
      },
      "source": [
        "lst1 = list('Everyday is a Good day to learn Python')\n",
        "print(\"List:\",lst1)\n",
        "# Determine unique elements in lst1 by converting to Set\n",
        "\n",
        "# Determine Count of unique elements in lst1\n"
      ],
      "execution_count": null,
      "outputs": [
        {
          "output_type": "stream",
          "text": [
            "List: ['E', 'v', 'e', 'r', 'y', 'd', 'a', 'y', ' ', 'i', 's', ' ', 'a', ' ', 'G', 'o', 'o', 'd', ' ', 'd', 'a', 'y', ' ', 't', 'o', ' ', 'l', 'e', 'a', 'r', 'n', ' ', 'P', 'y', 't', 'h', 'o', 'n']\n",
            "Set: {'E', 'y', 'P', 'v', 'r', 'a', ' ', 'l', 'i', 'n', 'h', 'e', 'G', 's', 'd', 't', 'o'}\n",
            "\n",
            "Item\tFrequency\n",
            "E \t 1\n",
            "y \t 4\n",
            "P \t 1\n",
            "v \t 1\n",
            "r \t 2\n",
            "a \t 4\n",
            "  \t 7\n",
            "l \t 1\n",
            "i \t 1\n",
            "n \t 2\n",
            "h \t 1\n",
            "e \t 2\n",
            "G \t 1\n",
            "s \t 1\n",
            "d \t 3\n",
            "t \t 2\n",
            "o \t 4\n"
          ],
          "name": "stdout"
        }
      ]
    },
    {
      "cell_type": "code",
      "metadata": {
        "id": "HWLQkKI581QR",
        "colab": {
          "base_uri": "https://localhost:8080/"
        },
        "outputId": "9c729217-42eb-4ec2-e1a7-305bc2c41444"
      },
      "source": [
        "# Use dict comprehension to do the same\n"
      ],
      "execution_count": null,
      "outputs": [
        {
          "output_type": "stream",
          "text": [
            "{'E': 1, 'y': 4, 'P': 1, 'v': 1, 'r': 2, 'a': 4, ' ': 7, 'l': 1, 'i': 1, 'n': 2, 'h': 1, 'e': 2, 'G': 1, 's': 1, 'd': 3, 't': 2, 'o': 4}\n"
          ],
          "name": "stdout"
        }
      ]
    },
    {
      "cell_type": "markdown",
      "metadata": {
        "id": "9KqrHpGXAKbL"
      },
      "source": [
        "# Conclusion\n"
      ]
    },
    {
      "cell_type": "markdown",
      "metadata": {
        "id": "nCoW-OJjl2of"
      },
      "source": [
        ""
      ]
    },
    {
      "cell_type": "markdown",
      "metadata": {
        "id": "Kxg1p1JXl3cF"
      },
      "source": [
        "**Evaluation**\n",
        "\n",
        "<img src='https://github.com/RinkiGupta/ECE319/blob/master/res/IET%20format%20Lab%20File.PNG?raw=true'>"
      ]
    }
  ]
}