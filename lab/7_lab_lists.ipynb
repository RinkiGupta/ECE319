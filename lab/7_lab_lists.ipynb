{
  "nbformat": 4,
  "nbformat_minor": 0,
  "metadata": {
    "kernelspec": {
      "display_name": "Python 3",
      "language": "python",
      "name": "python3"
    },
    "language_info": {
      "codemirror_mode": {
        "name": "ipython",
        "version": 3
      },
      "file_extension": ".py",
      "mimetype": "text/x-python",
      "name": "python",
      "nbconvert_exporter": "python",
      "pygments_lexer": "ipython3",
      "version": "3.6.4"
    },
    "colab": {
      "name": "7_lab_lists.ipynb",
      "provenance": [],
      "collapsed_sections": [],
      "include_colab_link": true
    }
  },
  "cells": [
    {
      "cell_type": "markdown",
      "metadata": {
        "id": "view-in-github",
        "colab_type": "text"
      },
      "source": [
        "<a href=\"https://colab.research.google.com/github/RinkiGupta/ECE319/blob/master/lab/7_lab_lists.ipynb\" target=\"_parent\"><img src=\"https://colab.research.google.com/assets/colab-badge.svg\" alt=\"Open In Colab\"/></a>"
      ]
    },
    {
      "cell_type": "markdown",
      "metadata": {
        "id": "wFWExXRzuAaG",
        "colab_type": "text"
      },
      "source": [
        "# Experiment 7"
      ]
    },
    {
      "cell_type": "markdown",
      "metadata": {
        "id": "U2RX-2Vkt3ww",
        "colab_type": "text"
      },
      "source": [
        "## AIM\n",
        "\n",
        "Write a Python program to find the index of an item in a specified list."
      ]
    },
    {
      "cell_type": "markdown",
      "metadata": {
        "id": "5_WuD9MZuEEJ",
        "colab_type": "text"
      },
      "source": [
        "## Description\n",
        "\n",
        "\n"
      ]
    },
    {
      "cell_type": "markdown",
      "metadata": {
        "id": "tH9ZmmCtuOW2",
        "colab_type": "text"
      },
      "source": [
        "## Program"
      ]
    },
    {
      "cell_type": "code",
      "metadata": {
        "id": "xrZfMCBitpk7",
        "colab_type": "code",
        "colab": {
          "base_uri": "https://localhost:8080/",
          "height": 101
        },
        "outputId": "a70c8be6-e9bf-4cca-f1df-1d38de514ac7"
      },
      "source": [
        "# Consider this string\n",
        "str1 = 'Today is a Good day!'\n",
        "# Form a list from the string \n",
        "\n",
        "# Find index of 'o' in the list\n"
      ],
      "execution_count": null,
      "outputs": [
        {
          "output_type": "stream",
          "text": [
            "String:  Today is a Good day!\n",
            "Type <class 'str'>\n",
            "List:  ['T', 'o', 'd', 'a', 'y', ' ', 'i', 's', ' ', 'a', ' ', 'G', 'o', 'o', 'd', ' ', 'd', 'a', 'y', '!']\n",
            "Type <class 'list'>\n",
            "Index of o:  1\n"
          ],
          "name": "stdout"
        }
      ]
    },
    {
      "cell_type": "code",
      "metadata": {
        "id": "HnkfgyXPb_P5",
        "colab_type": "code",
        "colab": {
          "base_uri": "https://localhost:8080/",
          "height": 34
        },
        "outputId": "f08ff2c4-7941-48f0-bec4-b2e3fc359a98"
      },
      "source": [
        "## Find index of all occurances of 'o' in the list\n"
      ],
      "execution_count": null,
      "outputs": [
        {
          "output_type": "stream",
          "text": [
            "Indices of all occurances of o:  [1, 12, 13]\n"
          ],
          "name": "stdout"
        }
      ]
    },
    {
      "cell_type": "markdown",
      "metadata": {
        "id": "tn67des4vDlL",
        "colab_type": "text"
      },
      "source": [
        "## Conclusion\n"
      ]
    }
  ]
}