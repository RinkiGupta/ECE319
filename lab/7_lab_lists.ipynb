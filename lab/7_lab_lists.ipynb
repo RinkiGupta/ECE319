{
  "nbformat": 4,
  "nbformat_minor": 0,
  "metadata": {
    "kernelspec": {
      "display_name": "Python 3",
      "language": "python",
      "name": "python3"
    },
    "language_info": {
      "codemirror_mode": {
        "name": "ipython",
        "version": 3
      },
      "file_extension": ".py",
      "mimetype": "text/x-python",
      "name": "python",
      "nbconvert_exporter": "python",
      "pygments_lexer": "ipython3",
      "version": "3.6.4"
    },
    "colab": {
      "name": "7_lab_lists.ipynb",
      "provenance": [],
      "collapsed_sections": [],
      "include_colab_link": true
    }
  },
  "cells": [
    {
      "cell_type": "markdown",
      "metadata": {
        "id": "view-in-github",
        "colab_type": "text"
      },
      "source": [
        "<a href=\"https://colab.research.google.com/github/RinkiGupta/ECE319/blob/master/lab/7_lab_lists.ipynb\" target=\"_parent\"><img src=\"https://colab.research.google.com/assets/colab-badge.svg\" alt=\"Open In Colab\"/></a>"
      ]
    },
    {
      "cell_type": "markdown",
      "metadata": {
        "id": "wFWExXRzuAaG"
      },
      "source": [
        "# Experiment 7"
      ]
    },
    {
      "cell_type": "markdown",
      "metadata": {
        "id": "U2RX-2Vkt3ww"
      },
      "source": [
        "## AIM\n",
        "\n",
        "Write a Python program to find the index of an item in a specified list."
      ]
    },
    {
      "cell_type": "markdown",
      "metadata": {
        "id": "5_WuD9MZuEEJ"
      },
      "source": [
        "## Description\n",
        "\n",
        "\n"
      ]
    },
    {
      "cell_type": "markdown",
      "metadata": {
        "id": "tH9ZmmCtuOW2"
      },
      "source": [
        "## Program"
      ]
    },
    {
      "cell_type": "code",
      "metadata": {
        "id": "xrZfMCBitpk7",
        "colab": {
          "base_uri": "https://localhost:8080/"
        },
        "outputId": "d9f7158f-7999-4d07-858d-2e31da0a87a7"
      },
      "source": [
        "# Consider this string\n",
        "str1 = 'Today is a Good day!'\n",
        "print(str1,type(str1))\n",
        "# Form a list from the string \n",
        "\n",
        "# Find index of 'o' in the list\n"
      ],
      "execution_count": null,
      "outputs": [
        {
          "output_type": "stream",
          "text": [
            "Today is a Good day! <class 'str'>\n",
            "['T', 'o', 'd', 'a', 'y', ' ', 'i', 's', ' ', 'a', ' ', 'G', 'o', 'o', 'd', ' ', 'd', 'a', 'y', '!'] <class 'list'>\n",
            "Index of o:  1\n"
          ],
          "name": "stdout"
        }
      ]
    },
    {
      "cell_type": "code",
      "metadata": {
        "id": "HnkfgyXPb_P5",
        "colab": {
          "base_uri": "https://localhost:8080/"
        },
        "outputId": "5f7a66cb-6ac6-47a7-fd30-9c645c5cfc0e"
      },
      "source": [
        "## Use list comprehension to form \n",
        "## a list with index of all occurances of 'o' in the list\n"
      ],
      "execution_count": null,
      "outputs": [
        {
          "output_type": "stream",
          "text": [
            "Indices of all occurances of o: [1, 12, 13]\n"
          ],
          "name": "stdout"
        }
      ]
    },
    {
      "cell_type": "markdown",
      "metadata": {
        "id": "tn67des4vDlL"
      },
      "source": [
        "## Conclusion\n"
      ]
    },
    {
      "cell_type": "markdown",
      "metadata": {
        "id": "BRd664OBlIDQ"
      },
      "source": [
        ""
      ]
    },
    {
      "cell_type": "markdown",
      "metadata": {
        "id": "mbEaX3jxlIh8"
      },
      "source": [
        "**Evaluation**\n",
        "\n",
        "<img src='https://github.com/RinkiGupta/ECE319/blob/master/res/IET%20format%20Lab%20File.PNG?raw=true'>"
      ]
    }
  ]
}