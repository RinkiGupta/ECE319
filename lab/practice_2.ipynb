{
  "nbformat": 4,
  "nbformat_minor": 0,
  "metadata": {
    "colab": {
      "name": "practice_2.ipynb",
      "provenance": [],
      "collapsed_sections": [],
      "include_colab_link": true
    },
    "kernelspec": {
      "name": "python3",
      "display_name": "Python 3"
    }
  },
  "cells": [
    {
      "cell_type": "markdown",
      "metadata": {
        "id": "view-in-github",
        "colab_type": "text"
      },
      "source": [
        "<a href=\"https://colab.research.google.com/github/RinkiGupta/ECE319/blob/master/lab/practice_2.ipynb\" target=\"_parent\"><img src=\"https://colab.research.google.com/assets/colab-badge.svg\" alt=\"Open In Colab\"/></a>"
      ]
    },
    {
      "cell_type": "markdown",
      "metadata": {
        "id": "8j_05SFY90l3",
        "colab_type": "text"
      },
      "source": [
        "# PANDAS\n",
        "\n",
        "Pandas is a software library written for the Python programming language for data manipulation and analysis. In particular, it offers data structures and operations for manipulating numerical tables and time series."
      ]
    },
    {
      "cell_type": "markdown",
      "metadata": {
        "id": "E_i0wDL63mBV",
        "colab_type": "text"
      },
      "source": [
        "# Create DataFrame and CSV file\n",
        "CSV is Comma separated values."
      ]
    },
    {
      "cell_type": "markdown",
      "metadata": {
        "id": "Kj1gmwjzbGl-",
        "colab_type": "text"
      },
      "source": [
        "*To use the library, we must first import it in our program*"
      ]
    },
    {
      "cell_type": "code",
      "metadata": {
        "id": "b9SmLCTO3rOl",
        "colab_type": "code",
        "colab": {
          "base_uri": "https://localhost:8080/",
          "height": 202
        },
        "outputId": "55081101-1a96-4867-efdb-25ad03026477"
      },
      "source": [
        "import pandas as pd\n",
        "bmi_df = pd.DataFrame()\n",
        "bmi_df['Person'] = ['A','B','C','D','E','F']\n",
        "bmi_df['Height'] = [185,195,145,157,161,170]\n",
        "bmi_df['Weight'] = [82,91,38,53,58,70]\n",
        "bmi_df['BMI'] = bmi_df['Weight']/(bmi_df['Height']**2)\n",
        "bmi_df.head()  #display first five rows"
      ],
      "execution_count": null,
      "outputs": [
        {
          "output_type": "execute_result",
          "data": {
            "text/html": [
              "<div>\n",
              "<style scoped>\n",
              "    .dataframe tbody tr th:only-of-type {\n",
              "        vertical-align: middle;\n",
              "    }\n",
              "\n",
              "    .dataframe tbody tr th {\n",
              "        vertical-align: top;\n",
              "    }\n",
              "\n",
              "    .dataframe thead th {\n",
              "        text-align: right;\n",
              "    }\n",
              "</style>\n",
              "<table border=\"1\" class=\"dataframe\">\n",
              "  <thead>\n",
              "    <tr style=\"text-align: right;\">\n",
              "      <th></th>\n",
              "      <th>Person</th>\n",
              "      <th>Height</th>\n",
              "      <th>Weight</th>\n",
              "      <th>BMI</th>\n",
              "    </tr>\n",
              "  </thead>\n",
              "  <tbody>\n",
              "    <tr>\n",
              "      <th>0</th>\n",
              "      <td>A</td>\n",
              "      <td>185</td>\n",
              "      <td>82</td>\n",
              "      <td>0.002396</td>\n",
              "    </tr>\n",
              "    <tr>\n",
              "      <th>1</th>\n",
              "      <td>B</td>\n",
              "      <td>195</td>\n",
              "      <td>91</td>\n",
              "      <td>0.002393</td>\n",
              "    </tr>\n",
              "    <tr>\n",
              "      <th>2</th>\n",
              "      <td>C</td>\n",
              "      <td>145</td>\n",
              "      <td>38</td>\n",
              "      <td>0.001807</td>\n",
              "    </tr>\n",
              "    <tr>\n",
              "      <th>3</th>\n",
              "      <td>D</td>\n",
              "      <td>157</td>\n",
              "      <td>53</td>\n",
              "      <td>0.002150</td>\n",
              "    </tr>\n",
              "    <tr>\n",
              "      <th>4</th>\n",
              "      <td>E</td>\n",
              "      <td>161</td>\n",
              "      <td>58</td>\n",
              "      <td>0.002238</td>\n",
              "    </tr>\n",
              "  </tbody>\n",
              "</table>\n",
              "</div>"
            ],
            "text/plain": [
              "  Person  Height  Weight       BMI\n",
              "0      A     185      82  0.002396\n",
              "1      B     195      91  0.002393\n",
              "2      C     145      38  0.001807\n",
              "3      D     157      53  0.002150\n",
              "4      E     161      58  0.002238"
            ]
          },
          "metadata": {
            "tags": []
          },
          "execution_count": 23
        }
      ]
    },
    {
      "cell_type": "code",
      "metadata": {
        "id": "VZlqcfGV4D6_",
        "colab_type": "code",
        "colab": {}
      },
      "source": [
        "bmi_df.to_csv('BMI.csv',index=False)"
      ],
      "execution_count": null,
      "outputs": []
    },
    {
      "cell_type": "markdown",
      "metadata": {
        "id": "MPRQj301bi7Z",
        "colab_type": "text"
      },
      "source": [
        "## Reading CSV and Excel sheets:\n",
        "df=pd.read_csv(\"filename\")\n",
        "\n",
        "where df=dataframe"
      ]
    },
    {
      "cell_type": "code",
      "metadata": {
        "id": "g5DphBxkbiO0",
        "colab_type": "code",
        "colab": {
          "base_uri": "https://localhost:8080/",
          "height": 158
        },
        "outputId": "365a46df-17ec-406b-b66f-2dcb68d8a63e"
      },
      "source": [
        "df = pd.read_csv('BMI.csv')\n",
        "print(type(df)) # check datatype of df\n",
        "df.head(3) # print first few rows"
      ],
      "execution_count": null,
      "outputs": [
        {
          "output_type": "stream",
          "text": [
            "<class 'pandas.core.frame.DataFrame'>\n"
          ],
          "name": "stdout"
        },
        {
          "output_type": "execute_result",
          "data": {
            "text/html": [
              "<div>\n",
              "<style scoped>\n",
              "    .dataframe tbody tr th:only-of-type {\n",
              "        vertical-align: middle;\n",
              "    }\n",
              "\n",
              "    .dataframe tbody tr th {\n",
              "        vertical-align: top;\n",
              "    }\n",
              "\n",
              "    .dataframe thead th {\n",
              "        text-align: right;\n",
              "    }\n",
              "</style>\n",
              "<table border=\"1\" class=\"dataframe\">\n",
              "  <thead>\n",
              "    <tr style=\"text-align: right;\">\n",
              "      <th></th>\n",
              "      <th>Person</th>\n",
              "      <th>Height</th>\n",
              "      <th>Weight</th>\n",
              "      <th>BMI</th>\n",
              "    </tr>\n",
              "  </thead>\n",
              "  <tbody>\n",
              "    <tr>\n",
              "      <th>0</th>\n",
              "      <td>A</td>\n",
              "      <td>185</td>\n",
              "      <td>82</td>\n",
              "      <td>0.002396</td>\n",
              "    </tr>\n",
              "    <tr>\n",
              "      <th>1</th>\n",
              "      <td>B</td>\n",
              "      <td>195</td>\n",
              "      <td>91</td>\n",
              "      <td>0.002393</td>\n",
              "    </tr>\n",
              "    <tr>\n",
              "      <th>2</th>\n",
              "      <td>C</td>\n",
              "      <td>145</td>\n",
              "      <td>38</td>\n",
              "      <td>0.001807</td>\n",
              "    </tr>\n",
              "  </tbody>\n",
              "</table>\n",
              "</div>"
            ],
            "text/plain": [
              "  Person  Height  Weight       BMI\n",
              "0      A     185      82  0.002396\n",
              "1      B     195      91  0.002393\n",
              "2      C     145      38  0.001807"
            ]
          },
          "metadata": {
            "tags": []
          },
          "execution_count": 25
        }
      ]
    },
    {
      "cell_type": "markdown",
      "metadata": {
        "id": "HjmIQdX_cw8m",
        "colab_type": "text"
      },
      "source": [
        "## Indexing in dataframe\n",
        "Slicing rows"
      ]
    },
    {
      "cell_type": "code",
      "metadata": {
        "id": "xirPCf5adDS6",
        "colab_type": "code",
        "colab": {
          "base_uri": "https://localhost:8080/",
          "height": 141
        },
        "outputId": "2ba26d55-ee1d-4e09-fac7-05c67a660fe4"
      },
      "source": [
        "df[2:5] # access rows 2 to 4"
      ],
      "execution_count": null,
      "outputs": [
        {
          "output_type": "execute_result",
          "data": {
            "text/html": [
              "<div>\n",
              "<style scoped>\n",
              "    .dataframe tbody tr th:only-of-type {\n",
              "        vertical-align: middle;\n",
              "    }\n",
              "\n",
              "    .dataframe tbody tr th {\n",
              "        vertical-align: top;\n",
              "    }\n",
              "\n",
              "    .dataframe thead th {\n",
              "        text-align: right;\n",
              "    }\n",
              "</style>\n",
              "<table border=\"1\" class=\"dataframe\">\n",
              "  <thead>\n",
              "    <tr style=\"text-align: right;\">\n",
              "      <th></th>\n",
              "      <th>Person</th>\n",
              "      <th>Height</th>\n",
              "      <th>Weight</th>\n",
              "      <th>BMI</th>\n",
              "    </tr>\n",
              "  </thead>\n",
              "  <tbody>\n",
              "    <tr>\n",
              "      <th>2</th>\n",
              "      <td>C</td>\n",
              "      <td>145</td>\n",
              "      <td>38</td>\n",
              "      <td>0.001807</td>\n",
              "    </tr>\n",
              "    <tr>\n",
              "      <th>3</th>\n",
              "      <td>D</td>\n",
              "      <td>157</td>\n",
              "      <td>53</td>\n",
              "      <td>0.002150</td>\n",
              "    </tr>\n",
              "    <tr>\n",
              "      <th>4</th>\n",
              "      <td>E</td>\n",
              "      <td>161</td>\n",
              "      <td>58</td>\n",
              "      <td>0.002238</td>\n",
              "    </tr>\n",
              "  </tbody>\n",
              "</table>\n",
              "</div>"
            ],
            "text/plain": [
              "  Person  Height  Weight       BMI\n",
              "2      C     145      38  0.001807\n",
              "3      D     157      53  0.002150\n",
              "4      E     161      58  0.002238"
            ]
          },
          "metadata": {
            "tags": []
          },
          "execution_count": 26
        }
      ]
    },
    {
      "cell_type": "markdown",
      "metadata": {
        "id": "Z0lF2-x0dO1B",
        "colab_type": "text"
      },
      "source": [
        "Accessing Columns of dataframe"
      ]
    },
    {
      "cell_type": "code",
      "metadata": {
        "id": "8dUBquladUNA",
        "colab_type": "code",
        "colab": {
          "base_uri": "https://localhost:8080/",
          "height": 139
        },
        "outputId": "78a4e425-017e-4745-d2b5-0f5597aaf9f5"
      },
      "source": [
        "df['BMI'] # access column wih label 'BMI'"
      ],
      "execution_count": null,
      "outputs": [
        {
          "output_type": "execute_result",
          "data": {
            "text/plain": [
              "0    0.002396\n",
              "1    0.002393\n",
              "2    0.001807\n",
              "3    0.002150\n",
              "4    0.002238\n",
              "5    0.002422\n",
              "Name: BMI, dtype: float64"
            ]
          },
          "metadata": {
            "tags": []
          },
          "execution_count": 27
        }
      ]
    },
    {
      "cell_type": "code",
      "metadata": {
        "id": "Ov-wbFf-GonB",
        "colab_type": "code",
        "colab": {
          "base_uri": "https://localhost:8080/",
          "height": 233
        },
        "outputId": "d96010bb-9b8d-4005-983c-dbf93f3405b7"
      },
      "source": [
        "df[['Person','Height']] # access multiple columns"
      ],
      "execution_count": null,
      "outputs": [
        {
          "output_type": "execute_result",
          "data": {
            "text/html": [
              "<div>\n",
              "<style scoped>\n",
              "    .dataframe tbody tr th:only-of-type {\n",
              "        vertical-align: middle;\n",
              "    }\n",
              "\n",
              "    .dataframe tbody tr th {\n",
              "        vertical-align: top;\n",
              "    }\n",
              "\n",
              "    .dataframe thead th {\n",
              "        text-align: right;\n",
              "    }\n",
              "</style>\n",
              "<table border=\"1\" class=\"dataframe\">\n",
              "  <thead>\n",
              "    <tr style=\"text-align: right;\">\n",
              "      <th></th>\n",
              "      <th>Person</th>\n",
              "      <th>Height</th>\n",
              "    </tr>\n",
              "  </thead>\n",
              "  <tbody>\n",
              "    <tr>\n",
              "      <th>0</th>\n",
              "      <td>A</td>\n",
              "      <td>185</td>\n",
              "    </tr>\n",
              "    <tr>\n",
              "      <th>1</th>\n",
              "      <td>B</td>\n",
              "      <td>195</td>\n",
              "    </tr>\n",
              "    <tr>\n",
              "      <th>2</th>\n",
              "      <td>C</td>\n",
              "      <td>145</td>\n",
              "    </tr>\n",
              "    <tr>\n",
              "      <th>3</th>\n",
              "      <td>D</td>\n",
              "      <td>157</td>\n",
              "    </tr>\n",
              "    <tr>\n",
              "      <th>4</th>\n",
              "      <td>E</td>\n",
              "      <td>161</td>\n",
              "    </tr>\n",
              "    <tr>\n",
              "      <th>5</th>\n",
              "      <td>F</td>\n",
              "      <td>170</td>\n",
              "    </tr>\n",
              "  </tbody>\n",
              "</table>\n",
              "</div>"
            ],
            "text/plain": [
              "  Person  Height\n",
              "0      A     185\n",
              "1      B     195\n",
              "2      C     145\n",
              "3      D     157\n",
              "4      E     161\n",
              "5      F     170"
            ]
          },
          "metadata": {
            "tags": []
          },
          "execution_count": 28
        }
      ]
    },
    {
      "cell_type": "markdown",
      "metadata": {
        "id": "HyOjCw0IwWMQ",
        "colab_type": "text"
      },
      "source": [
        "Access using integer-location"
      ]
    },
    {
      "cell_type": "code",
      "metadata": {
        "id": "oRLVdQLnwWuW",
        "colab_type": "code",
        "colab": {
          "base_uri": "https://localhost:8080/",
          "height": 104
        },
        "outputId": "a5a3cbc0-9406-4973-f54e-966204b9133d"
      },
      "source": [
        "df.iloc[2] # access row 2"
      ],
      "execution_count": null,
      "outputs": [
        {
          "output_type": "execute_result",
          "data": {
            "text/plain": [
              "Person             C\n",
              "Height           145\n",
              "Weight            38\n",
              "BMI       0.00180737\n",
              "Name: 2, dtype: object"
            ]
          },
          "metadata": {
            "tags": []
          },
          "execution_count": 29
        }
      ]
    },
    {
      "cell_type": "code",
      "metadata": {
        "id": "KL5wcZ3xHvF2",
        "colab_type": "code",
        "colab": {
          "base_uri": "https://localhost:8080/",
          "height": 141
        },
        "outputId": "bd465394-b7c3-4eea-d2e5-638c1f6f2687"
      },
      "source": [
        "df.iloc[0:3,0:3] # access rows 0 to 2 from columns 0 to 2 "
      ],
      "execution_count": null,
      "outputs": [
        {
          "output_type": "execute_result",
          "data": {
            "text/html": [
              "<div>\n",
              "<style scoped>\n",
              "    .dataframe tbody tr th:only-of-type {\n",
              "        vertical-align: middle;\n",
              "    }\n",
              "\n",
              "    .dataframe tbody tr th {\n",
              "        vertical-align: top;\n",
              "    }\n",
              "\n",
              "    .dataframe thead th {\n",
              "        text-align: right;\n",
              "    }\n",
              "</style>\n",
              "<table border=\"1\" class=\"dataframe\">\n",
              "  <thead>\n",
              "    <tr style=\"text-align: right;\">\n",
              "      <th></th>\n",
              "      <th>Person</th>\n",
              "      <th>Height</th>\n",
              "      <th>Weight</th>\n",
              "    </tr>\n",
              "  </thead>\n",
              "  <tbody>\n",
              "    <tr>\n",
              "      <th>0</th>\n",
              "      <td>A</td>\n",
              "      <td>185</td>\n",
              "      <td>82</td>\n",
              "    </tr>\n",
              "    <tr>\n",
              "      <th>1</th>\n",
              "      <td>B</td>\n",
              "      <td>195</td>\n",
              "      <td>91</td>\n",
              "    </tr>\n",
              "    <tr>\n",
              "      <th>2</th>\n",
              "      <td>C</td>\n",
              "      <td>145</td>\n",
              "      <td>38</td>\n",
              "    </tr>\n",
              "  </tbody>\n",
              "</table>\n",
              "</div>"
            ],
            "text/plain": [
              "  Person  Height  Weight\n",
              "0      A     185      82\n",
              "1      B     195      91\n",
              "2      C     145      38"
            ]
          },
          "metadata": {
            "tags": []
          },
          "execution_count": 30
        }
      ]
    },
    {
      "cell_type": "markdown",
      "metadata": {
        "id": "pPvARIb4y_ws",
        "colab_type": "text"
      },
      "source": [
        "Boolean Indexing"
      ]
    },
    {
      "cell_type": "code",
      "metadata": {
        "id": "gjT2NdNh9-2Z",
        "colab_type": "code",
        "colab": {
          "base_uri": "https://localhost:8080/",
          "height": 171
        },
        "outputId": "ca1f73aa-e997-42fc-9532-58c74ac5a58b"
      },
      "source": [
        "df[df['Height']>160] # boolean indexing"
      ],
      "execution_count": null,
      "outputs": [
        {
          "output_type": "execute_result",
          "data": {
            "text/html": [
              "<div>\n",
              "<style scoped>\n",
              "    .dataframe tbody tr th:only-of-type {\n",
              "        vertical-align: middle;\n",
              "    }\n",
              "\n",
              "    .dataframe tbody tr th {\n",
              "        vertical-align: top;\n",
              "    }\n",
              "\n",
              "    .dataframe thead th {\n",
              "        text-align: right;\n",
              "    }\n",
              "</style>\n",
              "<table border=\"1\" class=\"dataframe\">\n",
              "  <thead>\n",
              "    <tr style=\"text-align: right;\">\n",
              "      <th></th>\n",
              "      <th>Person</th>\n",
              "      <th>Height</th>\n",
              "      <th>Weight</th>\n",
              "      <th>BMI</th>\n",
              "    </tr>\n",
              "  </thead>\n",
              "  <tbody>\n",
              "    <tr>\n",
              "      <th>0</th>\n",
              "      <td>A</td>\n",
              "      <td>185</td>\n",
              "      <td>82</td>\n",
              "      <td>0.002396</td>\n",
              "    </tr>\n",
              "    <tr>\n",
              "      <th>1</th>\n",
              "      <td>B</td>\n",
              "      <td>195</td>\n",
              "      <td>91</td>\n",
              "      <td>0.002393</td>\n",
              "    </tr>\n",
              "    <tr>\n",
              "      <th>4</th>\n",
              "      <td>E</td>\n",
              "      <td>161</td>\n",
              "      <td>58</td>\n",
              "      <td>0.002238</td>\n",
              "    </tr>\n",
              "    <tr>\n",
              "      <th>5</th>\n",
              "      <td>F</td>\n",
              "      <td>170</td>\n",
              "      <td>70</td>\n",
              "      <td>0.002422</td>\n",
              "    </tr>\n",
              "  </tbody>\n",
              "</table>\n",
              "</div>"
            ],
            "text/plain": [
              "  Person  Height  Weight       BMI\n",
              "0      A     185      82  0.002396\n",
              "1      B     195      91  0.002393\n",
              "4      E     161      58  0.002238\n",
              "5      F     170      70  0.002422"
            ]
          },
          "metadata": {
            "tags": []
          },
          "execution_count": 31
        }
      ]
    },
    {
      "cell_type": "code",
      "metadata": {
        "id": "Kfe_R5BP-L5A",
        "colab_type": "code",
        "colab": {
          "base_uri": "https://localhost:8080/",
          "height": 171
        },
        "outputId": "dfb4339b-1560-4ff5-9bf2-f5fe1ccc65ac"
      },
      "source": [
        "df[df['Height']>160].reset_index()"
      ],
      "execution_count": null,
      "outputs": [
        {
          "output_type": "execute_result",
          "data": {
            "text/html": [
              "<div>\n",
              "<style scoped>\n",
              "    .dataframe tbody tr th:only-of-type {\n",
              "        vertical-align: middle;\n",
              "    }\n",
              "\n",
              "    .dataframe tbody tr th {\n",
              "        vertical-align: top;\n",
              "    }\n",
              "\n",
              "    .dataframe thead th {\n",
              "        text-align: right;\n",
              "    }\n",
              "</style>\n",
              "<table border=\"1\" class=\"dataframe\">\n",
              "  <thead>\n",
              "    <tr style=\"text-align: right;\">\n",
              "      <th></th>\n",
              "      <th>index</th>\n",
              "      <th>Person</th>\n",
              "      <th>Height</th>\n",
              "      <th>Weight</th>\n",
              "      <th>BMI</th>\n",
              "    </tr>\n",
              "  </thead>\n",
              "  <tbody>\n",
              "    <tr>\n",
              "      <th>0</th>\n",
              "      <td>0</td>\n",
              "      <td>A</td>\n",
              "      <td>185</td>\n",
              "      <td>82</td>\n",
              "      <td>0.002396</td>\n",
              "    </tr>\n",
              "    <tr>\n",
              "      <th>1</th>\n",
              "      <td>1</td>\n",
              "      <td>B</td>\n",
              "      <td>195</td>\n",
              "      <td>91</td>\n",
              "      <td>0.002393</td>\n",
              "    </tr>\n",
              "    <tr>\n",
              "      <th>2</th>\n",
              "      <td>4</td>\n",
              "      <td>E</td>\n",
              "      <td>161</td>\n",
              "      <td>58</td>\n",
              "      <td>0.002238</td>\n",
              "    </tr>\n",
              "    <tr>\n",
              "      <th>3</th>\n",
              "      <td>5</td>\n",
              "      <td>F</td>\n",
              "      <td>170</td>\n",
              "      <td>70</td>\n",
              "      <td>0.002422</td>\n",
              "    </tr>\n",
              "  </tbody>\n",
              "</table>\n",
              "</div>"
            ],
            "text/plain": [
              "   index Person  Height  Weight       BMI\n",
              "0      0      A     185      82  0.002396\n",
              "1      1      B     195      91  0.002393\n",
              "2      4      E     161      58  0.002238\n",
              "3      5      F     170      70  0.002422"
            ]
          },
          "metadata": {
            "tags": []
          },
          "execution_count": 32
        }
      ]
    },
    {
      "cell_type": "code",
      "metadata": {
        "id": "KLuzYbjt-WeB",
        "colab_type": "code",
        "colab": {
          "base_uri": "https://localhost:8080/",
          "height": 171
        },
        "outputId": "493d9fe2-8473-4bca-85fe-77da1b0ef0ba"
      },
      "source": [
        "df[df['Height']>160].reset_index(drop=True)"
      ],
      "execution_count": null,
      "outputs": [
        {
          "output_type": "execute_result",
          "data": {
            "text/html": [
              "<div>\n",
              "<style scoped>\n",
              "    .dataframe tbody tr th:only-of-type {\n",
              "        vertical-align: middle;\n",
              "    }\n",
              "\n",
              "    .dataframe tbody tr th {\n",
              "        vertical-align: top;\n",
              "    }\n",
              "\n",
              "    .dataframe thead th {\n",
              "        text-align: right;\n",
              "    }\n",
              "</style>\n",
              "<table border=\"1\" class=\"dataframe\">\n",
              "  <thead>\n",
              "    <tr style=\"text-align: right;\">\n",
              "      <th></th>\n",
              "      <th>Person</th>\n",
              "      <th>Height</th>\n",
              "      <th>Weight</th>\n",
              "      <th>BMI</th>\n",
              "    </tr>\n",
              "  </thead>\n",
              "  <tbody>\n",
              "    <tr>\n",
              "      <th>0</th>\n",
              "      <td>A</td>\n",
              "      <td>185</td>\n",
              "      <td>82</td>\n",
              "      <td>0.002396</td>\n",
              "    </tr>\n",
              "    <tr>\n",
              "      <th>1</th>\n",
              "      <td>B</td>\n",
              "      <td>195</td>\n",
              "      <td>91</td>\n",
              "      <td>0.002393</td>\n",
              "    </tr>\n",
              "    <tr>\n",
              "      <th>2</th>\n",
              "      <td>E</td>\n",
              "      <td>161</td>\n",
              "      <td>58</td>\n",
              "      <td>0.002238</td>\n",
              "    </tr>\n",
              "    <tr>\n",
              "      <th>3</th>\n",
              "      <td>F</td>\n",
              "      <td>170</td>\n",
              "      <td>70</td>\n",
              "      <td>0.002422</td>\n",
              "    </tr>\n",
              "  </tbody>\n",
              "</table>\n",
              "</div>"
            ],
            "text/plain": [
              "  Person  Height  Weight       BMI\n",
              "0      A     185      82  0.002396\n",
              "1      B     195      91  0.002393\n",
              "2      E     161      58  0.002238\n",
              "3      F     170      70  0.002422"
            ]
          },
          "metadata": {
            "tags": []
          },
          "execution_count": 33
        }
      ]
    },
    {
      "cell_type": "markdown",
      "metadata": {
        "id": "oUZXx16a-U_J",
        "colab_type": "text"
      },
      "source": [
        "# MATPLOTLIB\n",
        "\n",
        "Matplotlib is a plotting library for the Python programming language."
      ]
    },
    {
      "cell_type": "markdown",
      "metadata": {
        "id": "1aQYZ6il5LzS",
        "colab_type": "text"
      },
      "source": [
        "## Line Plot\n",
        "Plot Height for each person\n",
        "\n",
        "Plot Weight for each person\n",
        "\n",
        "Include legends and axis labeling"
      ]
    },
    {
      "cell_type": "code",
      "metadata": {
        "id": "UmLEJg23-zVO",
        "colab_type": "code",
        "colab": {
          "base_uri": "https://localhost:8080/",
          "height": 297
        },
        "outputId": "6d41b56c-6d04-4837-bc2e-1607938c94f3"
      },
      "source": [
        "import matplotlib.pyplot as plt # Import the library\n",
        "\n",
        "plt.plot(df['Person'],df['Height'])\n",
        "plt.plot(df['Person'],df['Weight'])\n",
        "plt.legend(('Height','Weight'))\n",
        "plt.xlabel('Person')\n",
        "plt.ylabel('Height Weight')"
      ],
      "execution_count": null,
      "outputs": [
        {
          "output_type": "execute_result",
          "data": {
            "text/plain": [
              "Text(0, 0.5, 'Height Weight')"
            ]
          },
          "metadata": {
            "tags": []
          },
          "execution_count": 34
        },
        {
          "output_type": "display_data",
          "data": {
            "image/png": "[encoded data removed]",
            "text/plain": [
              "<Figure size 432x288 with 1 Axes>"
            ]
          },
          "metadata": {
            "tags": [],
            "needs_background": "light"
          }
        }
      ]
    },
    {
      "cell_type": "markdown",
      "metadata": {
        "id": "fQzKGvq05bc_",
        "colab_type": "text"
      },
      "source": [
        "## Scatter Plot\n",
        "Plot BMI with respect to Weight\n",
        "\n",
        "Label the axis"
      ]
    },
    {
      "cell_type": "code",
      "metadata": {
        "id": "g40Yduad_vGd",
        "colab_type": "code",
        "colab": {
          "base_uri": "https://localhost:8080/",
          "height": 297
        },
        "outputId": "4aa0309f-0ad7-473c-dde4-309f166adff9"
      },
      "source": [
        "plt.scatter(df['Weight'],df['BMI'])\n",
        "plt.xlabel('Weight')\n",
        "plt.ylabel('BMI')"
      ],
      "execution_count": null,
      "outputs": [
        {
          "output_type": "execute_result",
          "data": {
            "text/plain": [
              "Text(0, 0.5, 'BMI')"
            ]
          },
          "metadata": {
            "tags": []
          },
          "execution_count": 35
        },
        {
          "output_type": "display_data",
          "data": {
            "image/png": "[encoded data removed]",
            "text/plain": [
              "<Figure size 432x288 with 1 Axes>"
            ]
          },
          "metadata": {
            "tags": [],
            "needs_background": "light"
          }
        }
      ]
    },
    {
      "cell_type": "markdown",
      "metadata": {
        "id": "gbFuguq5Atq_",
        "colab_type": "text"
      },
      "source": [
        "# Read and Visualize COVID-19 data"
      ]
    },
    {
      "cell_type": "markdown",
      "metadata": {
        "id": "t1locX1lA1v7",
        "colab_type": "text"
      },
      "source": [
        "## COVID19 data\n",
        "Live Dashboard\n",
        "https://systems.jhu.edu/research/public-health/ncov/\n",
        "\n",
        "made available by team at Johns Hopkins University Center for Systems Science and Engineering (CSSE)\n",
        "\n",
        "Source of data: https://github.com/datasets/covid-19 \n",
        "\n",
        "\n",
        "Indian website: https://www.mygov.in/covid-19\n",
        "\n"
      ]
    },
    {
      "cell_type": "markdown",
      "metadata": {
        "id": "NRholVreA9BG",
        "colab_type": "text"
      },
      "source": [
        "## Use PANDAS for loading data\n",
        "\n",
        "Reading CSV and Excel sheets:\n",
        "\n",
        "df=pd.read_csv(\"filename\")\n",
        "\n",
        "where df=dataframe, CSV is Comma Separated Values"
      ]
    },
    {
      "cell_type": "code",
      "metadata": {
        "id": "qka4B4z0A5FA",
        "colab_type": "code",
        "colab": {}
      },
      "source": [
        "import pandas as pd\n",
        "URL_DATASET = r'https://raw.githubusercontent.com/datasets/covid-19/master/data/countries-aggregated.csv'\n",
        "df1 = pd.read_csv(URL_DATASET)\n",
        "#display first three rows from df1"
      ],
      "execution_count": 3,
      "outputs": []
    },
    {
      "cell_type": "markdown",
      "metadata": {
        "id": "JytJOSffBusX",
        "colab_type": "text"
      },
      "source": [
        "## Use Indexing to retain data for India"
      ]
    },
    {
      "cell_type": "code",
      "metadata": {
        "id": "8m9rp5UNB3QE",
        "colab_type": "code",
        "colab": {}
      },
      "source": [
        "df_india = df1[df1['Country']=='India']"
      ],
      "execution_count": 8,
      "outputs": []
    },
    {
      "cell_type": "markdown",
      "metadata": {
        "id": "FD1ImbCQB6eX",
        "colab_type": "text"
      },
      "source": [
        "## Visualize the data using Matplotlib"
      ]
    },
    {
      "cell_type": "code",
      "metadata": {
        "id": "Ku_YmSCBB839",
        "colab_type": "code",
        "colab": {
          "base_uri": "https://localhost:8080/",
          "height": 382
        },
        "outputId": "d8a2512f-fc76-415f-a53a-724160e74deb"
      },
      "source": [
        "import matplotlib.pyplot as plt\n",
        "plt.plot(df_india['Date'],df_india['Confirmed'])\n",
        "plt.legend(('Confirmed',''))\n",
        "plt.title(('COVID-19 : Indian Stats'))\n",
        "plt.xlabel(('Date'))\n",
        "plt.ylabel(('COVID-19 Cases'))\n",
        "plt.xticks(['2020-02-01','2020-04-01','2020-06-01',df_india.iloc[-1,0]])  "
      ],
      "execution_count": 15,
      "outputs": [
        {
          "output_type": "execute_result",
          "data": {
            "text/plain": [
              "([<matplotlib.axis.XTick at 0x7f64cef94a58>,\n",
              "  <matplotlib.axis.XTick at 0x7f64cef94a20>,\n",
              "  <matplotlib.axis.XTick at 0x7f64cf6166d8>,\n",
              "  <matplotlib.axis.XTick at 0x7f64cf62bba8>],\n",
              " <a list of 4 Text major ticklabel objects>)"
            ]
          },
          "metadata": {
            "tags": []
          },
          "execution_count": 15
        },
        {
          "output_type": "display_data",
          "data": {
            "image/png": "[encoded data removed]",
            "text/plain": [
              "<Figure size 432x288 with 1 Axes>"
            ]
          },
          "metadata": {
            "tags": [],
            "needs_background": "light"
          }
        }
      ]
    },
    {
      "cell_type": "markdown",
      "metadata": {
        "id": "K5lbNITjCFXc",
        "colab_type": "text"
      },
      "source": [
        "**Retain data of other countries and compare death tolls**\n",
        "\n",
        "eg. US Italy China"
      ]
    },
    {
      "cell_type": "code",
      "metadata": {
        "id": "7HdpaVQ66MoF",
        "colab_type": "code",
        "colab": {}
      },
      "source": [
        ""
      ],
      "execution_count": null,
      "outputs": []
    }
  ]
}