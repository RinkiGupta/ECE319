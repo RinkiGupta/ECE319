{
  "nbformat": 4,
  "nbformat_minor": 0,
  "metadata": {
    "colab": {
      "name": "Practice_sheet_2.ipynb",
      "provenance": [],
      "collapsed_sections": [],
      "include_colab_link": true
    },
    "kernelspec": {
      "name": "python3",
      "display_name": "Python 3"
    }
  },
  "cells": [
    {
      "cell_type": "markdown",
      "metadata": {
        "id": "view-in-github",
        "colab_type": "text"
      },
      "source": [
        "<a href=\"https://colab.research.google.com/github/RinkiGupta/ECE319/blob/master/lab/Practice_sheet_2.ipynb\" target=\"_parent\"><img src=\"https://colab.research.google.com/assets/colab-badge.svg\" alt=\"Open In Colab\"/></a>"
      ]
    },
    {
      "cell_type": "markdown",
      "metadata": {
        "id": "8j_05SFY90l3"
      },
      "source": [
        "# PANDAS\n",
        "\n",
        "Pandas is a software library written for the Python programming language for data manipulation and analysis. In particular, it offers data structures and operations for manipulating numerical tables and time series."
      ]
    },
    {
      "cell_type": "markdown",
      "metadata": {
        "id": "E_i0wDL63mBV"
      },
      "source": [
        "# Create DataFrame and CSV file\n",
        "CSV is Comma separated values."
      ]
    },
    {
      "cell_type": "markdown",
      "metadata": {
        "id": "Kj1gmwjzbGl-"
      },
      "source": [
        "*To use the library, we must first import it in our program*"
      ]
    },
    {
      "cell_type": "code",
      "metadata": {
        "id": "b9SmLCTO3rOl"
      },
      "source": [
        "import pandas as pd # Import library\n",
        "bmi_df = pd.DataFrame() # Create empty DataFrame\n",
        "bmi_df['Person'] = ['A','B','C','D','E','F']  # Include columns in DataFrame\n",
        "bmi_df['Height'] = [185,195,145,157,161,170]\n",
        "bmi_df['Weight'] = [82,91,38,53,58,70]\n",
        "bmi_df['BMI'] = bmi_df['Weight']/(bmi_df['Height']**2)\n",
        "bmi_df.head()  # display first five rows"
      ],
      "execution_count": null,
      "outputs": []
    },
    {
      "cell_type": "code",
      "metadata": {
        "id": "VZlqcfGV4D6_"
      },
      "source": [
        "bmi_df.to_csv('BMI.csv',index=False) # Write to csv file"
      ],
      "execution_count": null,
      "outputs": []
    },
    {
      "cell_type": "markdown",
      "metadata": {
        "id": "MPRQj301bi7Z"
      },
      "source": [
        "## Reading CSV and Excel sheets:\n",
        "`df=pd.read_csv(\"filename\")`\n",
        "\n",
        "where df=dataframe"
      ]
    },
    {
      "cell_type": "code",
      "metadata": {
        "id": "g5DphBxkbiO0"
      },
      "source": [
        "df = pd.read_csv('BMI.csv') # Read csv into pandas DataFrame\n",
        "print(type(df)) # check datatype of df\n",
        "df.head(3) # print first few rows"
      ],
      "execution_count": null,
      "outputs": []
    },
    {
      "cell_type": "markdown",
      "metadata": {
        "id": "HjmIQdX_cw8m"
      },
      "source": [
        "## Indexing in dataframe\n"
      ]
    },
    {
      "cell_type": "code",
      "metadata": {
        "id": "xirPCf5adDS6"
      },
      "source": [
        "# Slicing rows\n",
        "df[2:5] # access rows 2 to 4"
      ],
      "execution_count": null,
      "outputs": []
    },
    {
      "cell_type": "code",
      "metadata": {
        "id": "8dUBquladUNA"
      },
      "source": [
        "# Accessing Columns of dataframe\n",
        "df['BMI'] # access column wih label 'BMI'"
      ],
      "execution_count": null,
      "outputs": []
    },
    {
      "cell_type": "code",
      "metadata": {
        "id": "Ov-wbFf-GonB"
      },
      "source": [
        "# access multiple columns\n",
        "df[['Person','Height']] "
      ],
      "execution_count": null,
      "outputs": []
    },
    {
      "cell_type": "code",
      "metadata": {
        "id": "oRLVdQLnwWuW"
      },
      "source": [
        "# Access using integer-location\n",
        "df.iloc[2] # access row 2"
      ],
      "execution_count": null,
      "outputs": []
    },
    {
      "cell_type": "code",
      "metadata": {
        "id": "KL5wcZ3xHvF2"
      },
      "source": [
        "# Access using integer-location\n",
        "df.iloc[0:3,0:3] # access rows 0 to 2 from columns 0 to 2 "
      ],
      "execution_count": null,
      "outputs": []
    },
    {
      "cell_type": "code",
      "metadata": {
        "id": "gjT2NdNh9-2Z"
      },
      "source": [
        "df[df['Height']>160] # boolean indexing"
      ],
      "execution_count": null,
      "outputs": []
    },
    {
      "cell_type": "code",
      "metadata": {
        "id": "Kfe_R5BP-L5A"
      },
      "source": [
        "df[df['Height']>160].reset_index() # Reset Index 0,1,2,..."
      ],
      "execution_count": null,
      "outputs": []
    },
    {
      "cell_type": "code",
      "metadata": {
        "id": "KLuzYbjt-WeB"
      },
      "source": [
        "df[df['Height']>160].reset_index(drop=True) # drop extra index column"
      ],
      "execution_count": null,
      "outputs": []
    },
    {
      "cell_type": "markdown",
      "metadata": {
        "id": "oUZXx16a-U_J"
      },
      "source": [
        "# MATPLOTLIB\n",
        "\n",
        "Matplotlib is a plotting library for the Python programming language."
      ]
    },
    {
      "cell_type": "markdown",
      "metadata": {
        "id": "1aQYZ6il5LzS"
      },
      "source": [
        "## Line Plot"
      ]
    },
    {
      "cell_type": "code",
      "metadata": {
        "id": "UmLEJg23-zVO"
      },
      "source": [
        "import matplotlib.pyplot as plt # Import the library\n",
        "plt.plot(df['Person'],df['Height']); # Plot Height for each person\n",
        "plt.plot(df['Person'],df['Weight']); # Plot Weight for each person\n",
        "plt.legend(('Height','Weight')); # Include legends\n",
        "plt.xlabel('Person'); # axis labeling\n",
        "plt.ylabel('Height Weight'); # axis labeling"
      ],
      "execution_count": null,
      "outputs": []
    },
    {
      "cell_type": "markdown",
      "metadata": {
        "id": "fQzKGvq05bc_"
      },
      "source": [
        "## Scatter Plot"
      ]
    },
    {
      "cell_type": "code",
      "metadata": {
        "id": "g40Yduad_vGd"
      },
      "source": [
        "plt.scatter(df['Weight'],df['BMI']); # shows distribution of two quantities\n",
        "plt.xlabel('Weight');\n",
        "plt.ylabel('BMI');"
      ],
      "execution_count": null,
      "outputs": []
    },
    {
      "cell_type": "markdown",
      "metadata": {
        "id": "gbFuguq5Atq_"
      },
      "source": [
        "# Read and Visualize COVID-19 data"
      ]
    },
    {
      "cell_type": "markdown",
      "metadata": {
        "id": "t1locX1lA1v7"
      },
      "source": [
        "## COVID19 data\n",
        "Live Dashboard\n",
        "https://systems.jhu.edu/research/public-health/ncov/\n",
        "\n",
        "made available by team at Johns Hopkins University Center for Systems Science and Engineering (CSSE)\n",
        "\n",
        "Source of data: https://github.com/datasets/covid-19 \n",
        "\n",
        "\n",
        "Indian website: https://www.mygov.in/covid-19\n",
        "\n"
      ]
    },
    {
      "cell_type": "markdown",
      "metadata": {
        "id": "NRholVreA9BG"
      },
      "source": [
        "## Use PANDAS for loading data"
      ]
    },
    {
      "cell_type": "code",
      "metadata": {
        "id": "qka4B4z0A5FA",
        "colab": {
          "base_uri": "https://localhost:8080/",
          "height": 143
        },
        "outputId": "0ec1e644-7c0c-45eb-ac1f-19e18e6473f8"
      },
      "source": [
        "import pandas as pd\n",
        "URL_DATASET = r'https://raw.githubusercontent.com/datasets/covid-19/master/data/countries-aggregated.csv'\n",
        "df1 = pd.read_csv(URL_DATASET) # read csv into pandas DataFrame\n",
        "df1.head(3) #display first three rows"
      ],
      "execution_count": 4,
      "outputs": [
        {
          "output_type": "execute_result",
          "data": {
            "text/plain": [
              "         Date      Country  Confirmed  Recovered  Deaths\n",
              "0  2020-01-22  Afghanistan          0          0       0\n",
              "1  2020-01-23  Afghanistan          0          0       0\n",
              "2  2020-01-24  Afghanistan          0          0       0"
            ],
            "text/html": [
              "\n",
              "  <div id=\"df-d74fefff-dc81-42a9-972c-d0881e26fbf6\">\n",
              "    <div class=\"colab-df-container\">\n",
              "      <div>\n",
              "<style scoped>\n",
              "    .dataframe tbody tr th:only-of-type {\n",
              "        vertical-align: middle;\n",
              "    }\n",
              "\n",
              "    .dataframe tbody tr th {\n",
              "        vertical-align: top;\n",
              "    }\n",
              "\n",
              "    .dataframe thead th {\n",
              "        text-align: right;\n",
              "    }\n",
              "</style>\n",
              "<table border=\"1\" class=\"dataframe\">\n",
              "  <thead>\n",
              "    <tr style=\"text-align: right;\">\n",
              "      <th></th>\n",
              "      <th>Date</th>\n",
              "      <th>Country</th>\n",
              "      <th>Confirmed</th>\n",
              "      <th>Recovered</th>\n",
              "      <th>Deaths</th>\n",
              "    </tr>\n",
              "  </thead>\n",
              "  <tbody>\n",
              "    <tr>\n",
              "      <th>0</th>\n",
              "      <td>2020-01-22</td>\n",
              "      <td>Afghanistan</td>\n",
              "      <td>0</td>\n",
              "      <td>0</td>\n",
              "      <td>0</td>\n",
              "    </tr>\n",
              "    <tr>\n",
              "      <th>1</th>\n",
              "      <td>2020-01-23</td>\n",
              "      <td>Afghanistan</td>\n",
              "      <td>0</td>\n",
              "      <td>0</td>\n",
              "      <td>0</td>\n",
              "    </tr>\n",
              "    <tr>\n",
              "      <th>2</th>\n",
              "      <td>2020-01-24</td>\n",
              "      <td>Afghanistan</td>\n",
              "      <td>0</td>\n",
              "      <td>0</td>\n",
              "      <td>0</td>\n",
              "    </tr>\n",
              "  </tbody>\n",
              "</table>\n",
              "</div>\n",
              "      <button class=\"colab-df-convert\" onclick=\"convertToInteractive('df-d74fefff-dc81-42a9-972c-d0881e26fbf6')\"\n",
              "              title=\"Convert this dataframe to an interactive table.\"\n",
              "              style=\"display:none;\">\n",
              "        \n",
              "  <svg xmlns=\"http://www.w3.org/2000/svg\" height=\"24px\"viewBox=\"0 0 24 24\"\n",
              "       width=\"24px\">\n",
              "    <path d=\"M0 0h24v24H0V0z\" fill=\"none\"/>\n",
              "    <path d=\"M18.56 5.44l.94 2.06.94-2.06 2.06-.94-2.06-.94-.94-2.06-.94 2.06-2.06.94zm-11 1L8.5 8.5l.94-2.06 2.06-.94-2.06-.94L8.5 2.5l-.94 2.06-2.06.94zm10 10l.94 2.06.94-2.06 2.06-.94-2.06-.94-.94-2.06-.94 2.06-2.06.94z\"/><path d=\"M17.41 7.96l-1.37-1.37c-.4-.4-.92-.59-1.43-.59-.52 0-1.04.2-1.43.59L10.3 9.45l-7.72 7.72c-.78.78-.78 2.05 0 2.83L4 21.41c.39.39.9.59 1.41.59.51 0 1.02-.2 1.41-.59l7.78-7.78 2.81-2.81c.8-.78.8-2.07 0-2.86zM5.41 20L4 18.59l7.72-7.72 1.47 1.35L5.41 20z\"/>\n",
              "  </svg>\n",
              "      </button>\n",
              "      \n",
              "  <style>\n",
              "    .colab-df-container {\n",
              "      display:flex;\n",
              "      flex-wrap:wrap;\n",
              "      gap: 12px;\n",
              "    }\n",
              "\n",
              "    .colab-df-convert {\n",
              "      background-color: #E8F0FE;\n",
              "      border: none;\n",
              "      border-radius: 50%;\n",
              "      cursor: pointer;\n",
              "      display: none;\n",
              "      fill: #1967D2;\n",
              "      height: 32px;\n",
              "      padding: 0 0 0 0;\n",
              "      width: 32px;\n",
              "    }\n",
              "\n",
              "    .colab-df-convert:hover {\n",
              "      background-color: #E2EBFA;\n",
              "      box-shadow: 0px 1px 2px rgba(60, 64, 67, 0.3), 0px 1px 3px 1px rgba(60, 64, 67, 0.15);\n",
              "      fill: #174EA6;\n",
              "    }\n",
              "\n",
              "    [theme=dark] .colab-df-convert {\n",
              "      background-color: #3B4455;\n",
              "      fill: #D2E3FC;\n",
              "    }\n",
              "\n",
              "    [theme=dark] .colab-df-convert:hover {\n",
              "      background-color: #434B5C;\n",
              "      box-shadow: 0px 1px 3px 1px rgba(0, 0, 0, 0.15);\n",
              "      filter: drop-shadow(0px 1px 2px rgba(0, 0, 0, 0.3));\n",
              "      fill: #FFFFFF;\n",
              "    }\n",
              "  </style>\n",
              "\n",
              "      <script>\n",
              "        const buttonEl =\n",
              "          document.querySelector('#df-d74fefff-dc81-42a9-972c-d0881e26fbf6 button.colab-df-convert');\n",
              "        buttonEl.style.display =\n",
              "          google.colab.kernel.accessAllowed ? 'block' : 'none';\n",
              "\n",
              "        async function convertToInteractive(key) {\n",
              "          const element = document.querySelector('#df-d74fefff-dc81-42a9-972c-d0881e26fbf6');\n",
              "          const dataTable =\n",
              "            await google.colab.kernel.invokeFunction('convertToInteractive',\n",
              "                                                     [key], {});\n",
              "          if (!dataTable) return;\n",
              "\n",
              "          const docLinkHtml = 'Like what you see? Visit the ' +\n",
              "            '<a target=\"_blank\" href=https://colab.research.google.com/notebooks/data_table.ipynb>data table notebook</a>'\n",
              "            + ' to learn more about interactive tables.';\n",
              "          element.innerHTML = '';\n",
              "          dataTable['output_type'] = 'display_data';\n",
              "          await google.colab.output.renderOutput(dataTable, element);\n",
              "          const docLink = document.createElement('div');\n",
              "          docLink.innerHTML = docLinkHtml;\n",
              "          element.appendChild(docLink);\n",
              "        }\n",
              "      </script>\n",
              "    </div>\n",
              "  </div>\n",
              "  "
            ]
          },
          "metadata": {},
          "execution_count": 4
        }
      ]
    },
    {
      "cell_type": "markdown",
      "metadata": {
        "id": "JytJOSffBusX"
      },
      "source": [
        "## Use Indexing to retain data for India"
      ]
    },
    {
      "cell_type": "code",
      "metadata": {
        "id": "9DW_LRDJDiOM",
        "colab": {
          "base_uri": "https://localhost:8080/",
          "height": 206
        },
        "outputId": "73418ac5-5a6f-44f6-d532-3e0ac94e452a"
      },
      "source": [
        "df1[df1['Country'] == 'India'].tail() #display last few rows"
      ],
      "execution_count": 5,
      "outputs": [
        {
          "output_type": "execute_result",
          "data": {
            "text/plain": [
              "             Date Country  Confirmed  Recovered  Deaths\n",
              "63823  2022-03-15   India   42998938          0  516072\n",
              "63824  2022-03-16   India   43001477          0  516132\n",
              "63825  2022-03-17   India   43004005          0  516281\n",
              "63826  2022-03-18   India   43006080          0  516352\n",
              "63827  2022-03-19   India   43007841          0  516479"
            ],
            "text/html": [
              "\n",
              "  <div id=\"df-949e5cf3-2fc0-40d2-b472-90f5b2b1651f\">\n",
              "    <div class=\"colab-df-container\">\n",
              "      <div>\n",
              "<style scoped>\n",
              "    .dataframe tbody tr th:only-of-type {\n",
              "        vertical-align: middle;\n",
              "    }\n",
              "\n",
              "    .dataframe tbody tr th {\n",
              "        vertical-align: top;\n",
              "    }\n",
              "\n",
              "    .dataframe thead th {\n",
              "        text-align: right;\n",
              "    }\n",
              "</style>\n",
              "<table border=\"1\" class=\"dataframe\">\n",
              "  <thead>\n",
              "    <tr style=\"text-align: right;\">\n",
              "      <th></th>\n",
              "      <th>Date</th>\n",
              "      <th>Country</th>\n",
              "      <th>Confirmed</th>\n",
              "      <th>Recovered</th>\n",
              "      <th>Deaths</th>\n",
              "    </tr>\n",
              "  </thead>\n",
              "  <tbody>\n",
              "    <tr>\n",
              "      <th>63823</th>\n",
              "      <td>2022-03-15</td>\n",
              "      <td>India</td>\n",
              "      <td>42998938</td>\n",
              "      <td>0</td>\n",
              "      <td>516072</td>\n",
              "    </tr>\n",
              "    <tr>\n",
              "      <th>63824</th>\n",
              "      <td>2022-03-16</td>\n",
              "      <td>India</td>\n",
              "      <td>43001477</td>\n",
              "      <td>0</td>\n",
              "      <td>516132</td>\n",
              "    </tr>\n",
              "    <tr>\n",
              "      <th>63825</th>\n",
              "      <td>2022-03-17</td>\n",
              "      <td>India</td>\n",
              "      <td>43004005</td>\n",
              "      <td>0</td>\n",
              "      <td>516281</td>\n",
              "    </tr>\n",
              "    <tr>\n",
              "      <th>63826</th>\n",
              "      <td>2022-03-18</td>\n",
              "      <td>India</td>\n",
              "      <td>43006080</td>\n",
              "      <td>0</td>\n",
              "      <td>516352</td>\n",
              "    </tr>\n",
              "    <tr>\n",
              "      <th>63827</th>\n",
              "      <td>2022-03-19</td>\n",
              "      <td>India</td>\n",
              "      <td>43007841</td>\n",
              "      <td>0</td>\n",
              "      <td>516479</td>\n",
              "    </tr>\n",
              "  </tbody>\n",
              "</table>\n",
              "</div>\n",
              "      <button class=\"colab-df-convert\" onclick=\"convertToInteractive('df-949e5cf3-2fc0-40d2-b472-90f5b2b1651f')\"\n",
              "              title=\"Convert this dataframe to an interactive table.\"\n",
              "              style=\"display:none;\">\n",
              "        \n",
              "  <svg xmlns=\"http://www.w3.org/2000/svg\" height=\"24px\"viewBox=\"0 0 24 24\"\n",
              "       width=\"24px\">\n",
              "    <path d=\"M0 0h24v24H0V0z\" fill=\"none\"/>\n",
              "    <path d=\"M18.56 5.44l.94 2.06.94-2.06 2.06-.94-2.06-.94-.94-2.06-.94 2.06-2.06.94zm-11 1L8.5 8.5l.94-2.06 2.06-.94-2.06-.94L8.5 2.5l-.94 2.06-2.06.94zm10 10l.94 2.06.94-2.06 2.06-.94-2.06-.94-.94-2.06-.94 2.06-2.06.94z\"/><path d=\"M17.41 7.96l-1.37-1.37c-.4-.4-.92-.59-1.43-.59-.52 0-1.04.2-1.43.59L10.3 9.45l-7.72 7.72c-.78.78-.78 2.05 0 2.83L4 21.41c.39.39.9.59 1.41.59.51 0 1.02-.2 1.41-.59l7.78-7.78 2.81-2.81c.8-.78.8-2.07 0-2.86zM5.41 20L4 18.59l7.72-7.72 1.47 1.35L5.41 20z\"/>\n",
              "  </svg>\n",
              "      </button>\n",
              "      \n",
              "  <style>\n",
              "    .colab-df-container {\n",
              "      display:flex;\n",
              "      flex-wrap:wrap;\n",
              "      gap: 12px;\n",
              "    }\n",
              "\n",
              "    .colab-df-convert {\n",
              "      background-color: #E8F0FE;\n",
              "      border: none;\n",
              "      border-radius: 50%;\n",
              "      cursor: pointer;\n",
              "      display: none;\n",
              "      fill: #1967D2;\n",
              "      height: 32px;\n",
              "      padding: 0 0 0 0;\n",
              "      width: 32px;\n",
              "    }\n",
              "\n",
              "    .colab-df-convert:hover {\n",
              "      background-color: #E2EBFA;\n",
              "      box-shadow: 0px 1px 2px rgba(60, 64, 67, 0.3), 0px 1px 3px 1px rgba(60, 64, 67, 0.15);\n",
              "      fill: #174EA6;\n",
              "    }\n",
              "\n",
              "    [theme=dark] .colab-df-convert {\n",
              "      background-color: #3B4455;\n",
              "      fill: #D2E3FC;\n",
              "    }\n",
              "\n",
              "    [theme=dark] .colab-df-convert:hover {\n",
              "      background-color: #434B5C;\n",
              "      box-shadow: 0px 1px 3px 1px rgba(0, 0, 0, 0.15);\n",
              "      filter: drop-shadow(0px 1px 2px rgba(0, 0, 0, 0.3));\n",
              "      fill: #FFFFFF;\n",
              "    }\n",
              "  </style>\n",
              "\n",
              "      <script>\n",
              "        const buttonEl =\n",
              "          document.querySelector('#df-949e5cf3-2fc0-40d2-b472-90f5b2b1651f button.colab-df-convert');\n",
              "        buttonEl.style.display =\n",
              "          google.colab.kernel.accessAllowed ? 'block' : 'none';\n",
              "\n",
              "        async function convertToInteractive(key) {\n",
              "          const element = document.querySelector('#df-949e5cf3-2fc0-40d2-b472-90f5b2b1651f');\n",
              "          const dataTable =\n",
              "            await google.colab.kernel.invokeFunction('convertToInteractive',\n",
              "                                                     [key], {});\n",
              "          if (!dataTable) return;\n",
              "\n",
              "          const docLinkHtml = 'Like what you see? Visit the ' +\n",
              "            '<a target=\"_blank\" href=https://colab.research.google.com/notebooks/data_table.ipynb>data table notebook</a>'\n",
              "            + ' to learn more about interactive tables.';\n",
              "          element.innerHTML = '';\n",
              "          dataTable['output_type'] = 'display_data';\n",
              "          await google.colab.output.renderOutput(dataTable, element);\n",
              "          const docLink = document.createElement('div');\n",
              "          docLink.innerHTML = docLinkHtml;\n",
              "          element.appendChild(docLink);\n",
              "        }\n",
              "      </script>\n",
              "    </div>\n",
              "  </div>\n",
              "  "
            ]
          },
          "metadata": {},
          "execution_count": 5
        }
      ]
    },
    {
      "cell_type": "code",
      "metadata": {
        "id": "8m9rp5UNB3QE",
        "colab": {
          "base_uri": "https://localhost:8080/"
        },
        "outputId": "9a973026-00c3-4d9e-a3d9-88dfecb320f9"
      },
      "source": [
        "df_india = df1[df1['Country'] == 'India'].reset_index(drop=True)\n",
        "print(df_india.tail())"
      ],
      "execution_count": 6,
      "outputs": [
        {
          "output_type": "stream",
          "name": "stdout",
          "text": [
            "           Date Country  Confirmed  Recovered  Deaths\n",
            "783  2022-03-15   India   42998938          0  516072\n",
            "784  2022-03-16   India   43001477          0  516132\n",
            "785  2022-03-17   India   43004005          0  516281\n",
            "786  2022-03-18   India   43006080          0  516352\n",
            "787  2022-03-19   India   43007841          0  516479\n"
          ]
        }
      ]
    },
    {
      "cell_type": "markdown",
      "metadata": {
        "id": "FD1ImbCQB6eX"
      },
      "source": [
        "## Visualize the data using Matplotlib"
      ]
    },
    {
      "cell_type": "code",
      "metadata": {
        "id": "Ku_YmSCBB839",
        "colab": {
          "base_uri": "https://localhost:8080/",
          "height": 295
        },
        "outputId": "3dd788b4-5e06-43bf-cb31-b08f22bfdb92"
      },
      "source": [
        "import matplotlib.pyplot as plt\n",
        "plt.plot(df_india['Date'],df_india['Confirmed']);\n",
        "plt.title(('COVID-19 : Indian Stats'));\n",
        "plt.xlabel(('Date'));\n",
        "plt.ylabel(('COVID-19 Confirmed Cases'));\n",
        "plt.xticks(['2020-02-01','2021-02-01',df_india.iloc[-1,0]]);"
      ],
      "execution_count": 12,
      "outputs": [
        {
          "output_type": "display_data",
          "data": {
            "text/plain": [
              "<Figure size 432x288 with 1 Axes>"
            ],
            "image/png": "[encoded data removed]"
          },
          "metadata": {
            "needs_background": "light"
          }
        }
      ]
    },
    {
      "cell_type": "code",
      "metadata": {
        "id": "PlVnQTUXYwo8",
        "colab": {
          "base_uri": "https://localhost:8080/",
          "height": 295
        },
        "outputId": "981e751c-a3d1-4cf5-d1de-7cbd0e66a5a9"
      },
      "source": [
        "import matplotlib.pyplot as plt\n",
        "\n",
        "df_india1 = df_india[df_india['Date']>='2022-01-01']\n",
        "df_india1 = df_india1[df_india1['Date']<'2022-04-01']\n",
        "\n",
        "plt.plot(df_india1['Date'],df_india1['Confirmed']);\n",
        "\n",
        "plt.title(('COVID-19 : Indian Stats'));\n",
        "plt.xlabel(('Date'));\n",
        "plt.ylabel(('Confirmed Cases (2022)'));\n",
        "plt.xticks([df_india1.iloc[0,0],df_india1.iloc[-1,0]]);"
      ],
      "execution_count": 9,
      "outputs": [
        {
          "output_type": "display_data",
          "data": {
            "text/plain": [
              "<Figure size 432x288 with 1 Axes>"
            ],
            "image/png": "[encoded data removed]"
          },
          "metadata": {
            "needs_background": "light"
          }
        }
      ]
    },
    {
      "cell_type": "markdown",
      "metadata": {
        "id": "K5lbNITjCFXc"
      },
      "source": [
        "## DIY: COVID-19 stats of other countries\n"
      ]
    },
    {
      "cell_type": "code",
      "metadata": {
        "id": "qlYl1y7WdUhp",
        "colab": {
          "base_uri": "https://localhost:8080/"
        },
        "outputId": "94af1fed-e2fe-431c-8b45-39fe67791b12"
      },
      "source": [
        "df1['Country'].unique() # Other countries in the database"
      ],
      "execution_count": 13,
      "outputs": [
        {
          "output_type": "execute_result",
          "data": {
            "text/plain": [
              "array(['Afghanistan', 'Albania', 'Algeria', 'Andorra', 'Angola',\n",
              "       'Antarctica', 'Antigua and Barbuda', 'Argentina', 'Armenia',\n",
              "       'Australia', 'Austria', 'Azerbaijan', 'Bahamas', 'Bahrain',\n",
              "       'Bangladesh', 'Barbados', 'Belarus', 'Belgium', 'Belize', 'Benin',\n",
              "       'Bhutan', 'Bolivia', 'Bosnia and Herzegovina', 'Botswana',\n",
              "       'Brazil', 'Brunei', 'Bulgaria', 'Burkina Faso', 'Burma', 'Burundi',\n",
              "       'Cabo Verde', 'Cambodia', 'Cameroon', 'Canada',\n",
              "       'Central African Republic', 'Chad', 'Chile', 'China', 'Colombia',\n",
              "       'Comoros', 'Congo (Brazzaville)', 'Congo (Kinshasa)', 'Costa Rica',\n",
              "       \"Cote d'Ivoire\", 'Croatia', 'Cuba', 'Cyprus', 'Czechia', 'Denmark',\n",
              "       'Diamond Princess', 'Djibouti', 'Dominica', 'Dominican Republic',\n",
              "       'Ecuador', 'Egypt', 'El Salvador', 'Equatorial Guinea', 'Eritrea',\n",
              "       'Estonia', 'Eswatini', 'Ethiopia', 'Fiji', 'Finland', 'France',\n",
              "       'Gabon', 'Gambia', 'Georgia', 'Germany', 'Ghana', 'Greece',\n",
              "       'Grenada', 'Guatemala', 'Guinea', 'Guinea-Bissau', 'Guyana',\n",
              "       'Haiti', 'Holy See', 'Honduras', 'Hungary', 'Iceland', 'India',\n",
              "       'Indonesia', 'Iran', 'Iraq', 'Ireland', 'Israel', 'Italy',\n",
              "       'Jamaica', 'Japan', 'Jordan', 'Kazakhstan', 'Kenya', 'Kiribati',\n",
              "       'Korea, South', 'Kosovo', 'Kuwait', 'Kyrgyzstan', 'Laos', 'Latvia',\n",
              "       'Lebanon', 'Lesotho', 'Liberia', 'Libya', 'Liechtenstein',\n",
              "       'Lithuania', 'Luxembourg', 'MS Zaandam', 'Madagascar', 'Malawi',\n",
              "       'Malaysia', 'Maldives', 'Mali', 'Malta', 'Marshall Islands',\n",
              "       'Mauritania', 'Mauritius', 'Mexico', 'Micronesia', 'Moldova',\n",
              "       'Monaco', 'Mongolia', 'Montenegro', 'Morocco', 'Mozambique',\n",
              "       'Namibia', 'Nepal', 'Netherlands', 'New Zealand', 'Nicaragua',\n",
              "       'Niger', 'Nigeria', 'North Macedonia', 'Norway', 'Oman',\n",
              "       'Pakistan', 'Palau', 'Panama', 'Papua New Guinea', 'Paraguay',\n",
              "       'Peru', 'Philippines', 'Poland', 'Portugal', 'Qatar', 'Romania',\n",
              "       'Russia', 'Rwanda', 'Saint Kitts and Nevis', 'Saint Lucia',\n",
              "       'Saint Vincent and the Grenadines', 'Samoa', 'San Marino',\n",
              "       'Sao Tome and Principe', 'Saudi Arabia', 'Senegal', 'Serbia',\n",
              "       'Seychelles', 'Sierra Leone', 'Singapore', 'Slovakia', 'Slovenia',\n",
              "       'Solomon Islands', 'Somalia', 'South Africa', 'South Sudan',\n",
              "       'Spain', 'Sri Lanka', 'Sudan', 'Summer Olympics 2020', 'Suriname',\n",
              "       'Sweden', 'Switzerland', 'Syria', 'Taiwan*', 'Tajikistan',\n",
              "       'Tanzania', 'Thailand', 'Timor-Leste', 'Togo', 'Tonga',\n",
              "       'Trinidad and Tobago', 'Tunisia', 'Turkey', 'US', 'Uganda',\n",
              "       'Ukraine', 'United Arab Emirates', 'United Kingdom', 'Uruguay',\n",
              "       'Uzbekistan', 'Vanuatu', 'Venezuela', 'Vietnam',\n",
              "       'West Bank and Gaza', 'Winter Olympics 2022', 'Yemen', 'Zambia',\n",
              "       'Zimbabwe'], dtype=object)"
            ]
          },
          "metadata": {},
          "execution_count": 13
        }
      ]
    },
    {
      "cell_type": "code",
      "metadata": {
        "id": "s9IZTywfG9wI"
      },
      "source": [
        "# Retain data of other countries\n"
      ],
      "execution_count": null,
      "outputs": []
    },
    {
      "cell_type": "code",
      "metadata": {
        "id": "shgpV-6csSBc"
      },
      "source": [
        "# Plot data for other countries\n"
      ],
      "execution_count": null,
      "outputs": []
    }
  ]
}