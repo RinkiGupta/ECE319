{
  "nbformat": 4,
  "nbformat_minor": 0,
  "metadata": {
    "colab": {
      "name": "Practice sheet 2.ipynb",
      "provenance": [],
      "collapsed_sections": [],
      "include_colab_link": true
    },
    "kernelspec": {
      "name": "python3",
      "display_name": "Python 3"
    }
  },
  "cells": [
    {
      "cell_type": "markdown",
      "metadata": {
        "id": "view-in-github",
        "colab_type": "text"
      },
      "source": [
        "<a href=\"https://colab.research.google.com/github/RinkiGupta/ECE319/blob/master/lab/Practice_sheet_2.ipynb\" target=\"_parent\"><img src=\"https://colab.research.google.com/assets/colab-badge.svg\" alt=\"Open In Colab\"/></a>"
      ]
    },
    {
      "cell_type": "markdown",
      "metadata": {
        "id": "8j_05SFY90l3"
      },
      "source": [
        "# PANDAS\n",
        "\n",
        "Pandas is a software library written for the Python programming language for data manipulation and analysis. In particular, it offers data structures and operations for manipulating numerical tables and time series."
      ]
    },
    {
      "cell_type": "markdown",
      "metadata": {
        "id": "E_i0wDL63mBV"
      },
      "source": [
        "# Create DataFrame and CSV file\n",
        "CSV is Comma separated values."
      ]
    },
    {
      "cell_type": "markdown",
      "metadata": {
        "id": "Kj1gmwjzbGl-"
      },
      "source": [
        "*To use the library, we must first import it in our program*"
      ]
    },
    {
      "cell_type": "code",
      "metadata": {
        "id": "b9SmLCTO3rOl"
      },
      "source": [
        "import pandas as pd # Import library\n",
        "bmi_df = pd.DataFrame() # Create empty DataFrame\n",
        "bmi_df['Person'] = ['A','B','C','D','E','F']  # Include columns in DataFrame\n",
        "bmi_df['Height'] = [185,195,145,157,161,170]\n",
        "bmi_df['Weight'] = [82,91,38,53,58,70]\n",
        "bmi_df['BMI'] = bmi_df['Weight']/(bmi_df['Height']**2)\n",
        "bmi_df.head()  # display first five rows"
      ],
      "execution_count": null,
      "outputs": []
    },
    {
      "cell_type": "code",
      "metadata": {
        "id": "VZlqcfGV4D6_"
      },
      "source": [
        "bmi_df.to_csv('BMI.csv',index=False) # Write to csv file"
      ],
      "execution_count": null,
      "outputs": []
    },
    {
      "cell_type": "markdown",
      "metadata": {
        "id": "MPRQj301bi7Z"
      },
      "source": [
        "## Reading CSV and Excel sheets:\n",
        "`df=pd.read_csv(\"filename\")`\n",
        "\n",
        "where df=dataframe"
      ]
    },
    {
      "cell_type": "code",
      "metadata": {
        "id": "g5DphBxkbiO0"
      },
      "source": [
        "df = pd.read_csv('BMI.csv') # Read csv into pandas DataFrame\n",
        "print(type(df)) # check datatype of df\n",
        "df.head(3) # print first few rows"
      ],
      "execution_count": null,
      "outputs": []
    },
    {
      "cell_type": "markdown",
      "metadata": {
        "id": "HjmIQdX_cw8m"
      },
      "source": [
        "## Indexing in dataframe\n"
      ]
    },
    {
      "cell_type": "code",
      "metadata": {
        "id": "xirPCf5adDS6"
      },
      "source": [
        "# Slicing rows\n",
        "df[2:5] # access rows 2 to 4"
      ],
      "execution_count": null,
      "outputs": []
    },
    {
      "cell_type": "code",
      "metadata": {
        "id": "8dUBquladUNA"
      },
      "source": [
        "# Accessing Columns of dataframe\n",
        "df['BMI'] # access column wih label 'BMI'"
      ],
      "execution_count": null,
      "outputs": []
    },
    {
      "cell_type": "code",
      "metadata": {
        "id": "Ov-wbFf-GonB"
      },
      "source": [
        "# access multiple columns\n",
        "df[['Person','Height']] "
      ],
      "execution_count": null,
      "outputs": []
    },
    {
      "cell_type": "code",
      "metadata": {
        "id": "oRLVdQLnwWuW"
      },
      "source": [
        "# Access using integer-location\n",
        "df.iloc[2] # access row 2"
      ],
      "execution_count": null,
      "outputs": []
    },
    {
      "cell_type": "code",
      "metadata": {
        "id": "KL5wcZ3xHvF2"
      },
      "source": [
        "# Access using integer-location\n",
        "df.iloc[0:3,0:3] # access rows 0 to 2 from columns 0 to 2 "
      ],
      "execution_count": null,
      "outputs": []
    },
    {
      "cell_type": "code",
      "metadata": {
        "id": "gjT2NdNh9-2Z"
      },
      "source": [
        "df[df['Height']>160] # boolean indexing"
      ],
      "execution_count": null,
      "outputs": []
    },
    {
      "cell_type": "code",
      "metadata": {
        "id": "Kfe_R5BP-L5A"
      },
      "source": [
        "df[df['Height']>160].reset_index() # Reset Index 0,1,2,..."
      ],
      "execution_count": null,
      "outputs": []
    },
    {
      "cell_type": "code",
      "metadata": {
        "id": "KLuzYbjt-WeB"
      },
      "source": [
        "df[df['Height']>160].reset_index(drop=True) # drop extra index column"
      ],
      "execution_count": null,
      "outputs": []
    },
    {
      "cell_type": "markdown",
      "metadata": {
        "id": "oUZXx16a-U_J"
      },
      "source": [
        "# MATPLOTLIB\n",
        "\n",
        "Matplotlib is a plotting library for the Python programming language."
      ]
    },
    {
      "cell_type": "markdown",
      "metadata": {
        "id": "1aQYZ6il5LzS"
      },
      "source": [
        "## Line Plot"
      ]
    },
    {
      "cell_type": "code",
      "metadata": {
        "id": "UmLEJg23-zVO"
      },
      "source": [
        "import matplotlib.pyplot as plt # Import the library\n",
        "plt.plot(df['Person'],df['Height']); # Plot Height for each person\n",
        "plt.plot(df['Person'],df['Weight']); # Plot Weight for each person\n",
        "plt.legend(('Height','Weight')); # Include legends\n",
        "plt.xlabel('Person'); # axis labeling\n",
        "plt.ylabel('Height Weight'); # axis labeling"
      ],
      "execution_count": null,
      "outputs": []
    },
    {
      "cell_type": "markdown",
      "metadata": {
        "id": "fQzKGvq05bc_"
      },
      "source": [
        "## Scatter Plot"
      ]
    },
    {
      "cell_type": "code",
      "metadata": {
        "id": "g40Yduad_vGd"
      },
      "source": [
        "plt.scatter(df['Weight'],df['BMI']); # shows distribution of two quantities\n",
        "plt.xlabel('Weight');\n",
        "plt.ylabel('BMI');"
      ],
      "execution_count": null,
      "outputs": []
    },
    {
      "cell_type": "markdown",
      "metadata": {
        "id": "gbFuguq5Atq_"
      },
      "source": [
        "# Read and Visualize COVID-19 data"
      ]
    },
    {
      "cell_type": "markdown",
      "metadata": {
        "id": "t1locX1lA1v7"
      },
      "source": [
        "## COVID19 data\n",
        "Live Dashboard\n",
        "https://systems.jhu.edu/research/public-health/ncov/\n",
        "\n",
        "made available by team at Johns Hopkins University Center for Systems Science and Engineering (CSSE)\n",
        "\n",
        "Source of data: https://github.com/datasets/covid-19 \n",
        "\n",
        "\n",
        "Indian website: https://www.mygov.in/covid-19\n",
        "\n"
      ]
    },
    {
      "cell_type": "markdown",
      "metadata": {
        "id": "NRholVreA9BG"
      },
      "source": [
        "## Use PANDAS for loading data"
      ]
    },
    {
      "cell_type": "code",
      "metadata": {
        "id": "qka4B4z0A5FA"
      },
      "source": [
        "import pandas as pd\n",
        "URL_DATASET = r'https://raw.githubusercontent.com/datasets/covid-19/master/data/countries-aggregated.csv'\n",
        "df1 = pd.read_csv(URL_DATASET) # read csv into pandas DataFrame\n",
        "df1.head(3) #display first three rows"
      ],
      "execution_count": null,
      "outputs": []
    },
    {
      "cell_type": "markdown",
      "metadata": {
        "id": "JytJOSffBusX"
      },
      "source": [
        "## Use Indexing to retain data for India"
      ]
    },
    {
      "cell_type": "code",
      "metadata": {
        "id": "9DW_LRDJDiOM"
      },
      "source": [
        "df1[df1['Country'] == 'India'].tail() #display last few rows"
      ],
      "execution_count": null,
      "outputs": []
    },
    {
      "cell_type": "code",
      "metadata": {
        "id": "8m9rp5UNB3QE"
      },
      "source": [
        "df_india = df1[df1['Country'] == 'India'].reset_index(drop=True)\n",
        "print(df_india.tail())"
      ],
      "execution_count": null,
      "outputs": []
    },
    {
      "cell_type": "markdown",
      "metadata": {
        "id": "FD1ImbCQB6eX"
      },
      "source": [
        "## Visualize the data using Matplotlib"
      ]
    },
    {
      "cell_type": "code",
      "metadata": {
        "id": "Ku_YmSCBB839"
      },
      "source": [
        "import matplotlib.pyplot as plt\n",
        "plt.plot(df_india['Date'],df_india['Confirmed']);\n",
        "plt.plot(df_india['Date'],df_india['Recovered']);\n",
        "plt.plot(df_india['Date'],df_india['Deaths']);\n",
        "plt.legend(('Confirmed','Recovered','Deaths'));\n",
        "plt.title(('COVID-19 : Indian Stats'));\n",
        "plt.xlabel(('Date'));\n",
        "plt.ylabel(('COVID-19 Cases'));\n",
        "plt.xticks(['2020-02-01','2020-08-01','2021-02-01',df_india.iloc[-1,0]]);"
      ],
      "execution_count": null,
      "outputs": []
    },
    {
      "cell_type": "code",
      "metadata": {
        "id": "PlVnQTUXYwo8"
      },
      "source": [
        "df_india1 = df_india[df_india['Date']>='2021-08-01']\n",
        "df_india1 = df_india1[df_india1['Date']<'2021-09-01']\n",
        "\n",
        "plt.plot(df_india1['Date'],df_india1['Confirmed']);\n",
        "plt.title(('COVID-19 : Indian Stats'));\n",
        "plt.xlabel(('Date'));\n",
        "plt.ylabel(('Confirmed Cases (Aug 2021)'));\n",
        "plt.xticks([df_india1.iloc[0,0],df_india1.iloc[-1,0]]);"
      ],
      "execution_count": null,
      "outputs": []
    },
    {
      "cell_type": "markdown",
      "metadata": {
        "id": "K5lbNITjCFXc"
      },
      "source": [
        "## DIY: COVID-19 stats of other countries\n"
      ]
    },
    {
      "cell_type": "code",
      "metadata": {
        "id": "qlYl1y7WdUhp"
      },
      "source": [
        "df1['Country'].unique() # Other countries in the database"
      ],
      "execution_count": null,
      "outputs": []
    },
    {
      "cell_type": "code",
      "metadata": {
        "id": "s9IZTywfG9wI"
      },
      "source": [
        "# Retain data of other countries\n"
      ],
      "execution_count": null,
      "outputs": []
    },
    {
      "cell_type": "code",
      "metadata": {
        "id": "shgpV-6csSBc"
      },
      "source": [
        "# Plot data for other countries\n"
      ],
      "execution_count": null,
      "outputs": []
    }
  ]
}