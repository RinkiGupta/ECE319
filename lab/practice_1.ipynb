{
  "nbformat": 4,
  "nbformat_minor": 0,
  "metadata": {
    "kernelspec": {
      "display_name": "Python 3",
      "language": "python",
      "name": "python3"
    },
    "language_info": {
      "codemirror_mode": {
        "name": "ipython",
        "version": 3
      },
      "file_extension": ".py",
      "mimetype": "text/x-python",
      "name": "python",
      "nbconvert_exporter": "python",
      "pygments_lexer": "ipython3",
      "version": "3.7.2"
    },
    "colab": {
      "name": "practice_1.ipynb",
      "provenance": [],
      "collapsed_sections": [],
      "include_colab_link": true
    }
  },
  "cells": [
    {
      "cell_type": "markdown",
      "metadata": {
        "id": "view-in-github",
        "colab_type": "text"
      },
      "source": [
        "<a href=\"https://colab.research.google.com/github/RinkiGupta/ECE319/blob/master/lab/practice_1.ipynb\" target=\"_parent\"><img src=\"https://colab.research.google.com/assets/colab-badge.svg\" alt=\"Open In Colab\"/></a>"
      ]
    },
    {
      "cell_type": "markdown",
      "metadata": {
        "id": "OEQShYhuzaXj",
        "colab_type": "text"
      },
      "source": [
        "1. Write a Python program that computes the sum of the squares of the numbers in the list numbers. \n",
        "\n",
        "Eg\n",
        "\n",
        "num = [2,3,4] should print sum as 4+9+16 which is 29."
      ]
    },
    {
      "cell_type": "code",
      "metadata": {
        "id": "VLsCq-QHzztm",
        "colab_type": "code",
        "colab": {}
      },
      "source": [
        ""
      ],
      "execution_count": null,
      "outputs": []
    },
    {
      "cell_type": "markdown",
      "metadata": {
        "id": "LXZNs60WzaXt",
        "colab_type": "text"
      },
      "source": [
        "2. Write a Python program that computes the sum of all the even numbers in a list "
      ]
    },
    {
      "cell_type": "code",
      "metadata": {
        "id": "gQkj_7-gz2QI",
        "colab_type": "code",
        "colab": {}
      },
      "source": [
        ""
      ],
      "execution_count": null,
      "outputs": []
    },
    {
      "cell_type": "markdown",
      "metadata": {
        "id": "nAbmNbiCzaXx",
        "colab_type": "text"
      },
      "source": [
        "3. Write a Python program that prints all even numbers strarting from zero upto a number entered by the user\n",
        "\n",
        "Eg\n",
        "\n",
        "Enter a number greater than 1: 9\n",
        "\n",
        "0 2 4 6 8 "
      ]
    },
    {
      "cell_type": "code",
      "metadata": {
        "id": "OSvy0LJpz4ih",
        "colab_type": "code",
        "colab": {}
      },
      "source": [
        ""
      ],
      "execution_count": null,
      "outputs": []
    },
    {
      "cell_type": "markdown",
      "metadata": {
        "id": "zh_DB-myzaX0",
        "colab_type": "text"
      },
      "source": [
        "4. Given a number, Display if it is positive-even, negative-even, positive-odd, negative-odd.\n",
        "\n",
        "Eg. \n",
        "Enter an integer : 6\n",
        "\n",
        "6  is Positive and Even"
      ]
    },
    {
      "cell_type": "code",
      "metadata": {
        "id": "XAR432wt0Jkw",
        "colab_type": "code",
        "colab": {}
      },
      "source": [
        ""
      ],
      "execution_count": null,
      "outputs": []
    },
    {
      "cell_type": "markdown",
      "metadata": {
        "id": "2mQtncX9zaX-",
        "colab_type": "text"
      },
      "source": [
        "5. Given a string, Generate all possible subsequences of length 2\n",
        "\n",
        "eg. arr = 'wxyz'\n",
        "\n",
        "wx\n",
        "wy\n",
        "wz\n",
        "xy\n",
        "xz\n",
        "yz"
      ]
    },
    {
      "cell_type": "code",
      "metadata": {
        "id": "MGodopl-0Kab",
        "colab_type": "code",
        "colab": {}
      },
      "source": [
        ""
      ],
      "execution_count": null,
      "outputs": []
    }
  ]
}