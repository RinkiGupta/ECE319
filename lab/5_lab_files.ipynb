{
  "nbformat": 4,
  "nbformat_minor": 0,
  "metadata": {
    "kernelspec": {
      "display_name": "Python 3",
      "language": "python",
      "name": "python3"
    },
    "language_info": {
      "codemirror_mode": {
        "name": "ipython",
        "version": 3
      },
      "file_extension": ".py",
      "mimetype": "text/x-python",
      "name": "python",
      "nbconvert_exporter": "python",
      "pygments_lexer": "ipython3",
      "version": "3.6.4"
    },
    "colab": {
      "name": "5_lab_files.ipynb",
      "provenance": [],
      "collapsed_sections": [],
      "include_colab_link": true
    }
  },
  "cells": [
    {
      "cell_type": "markdown",
      "metadata": {
        "id": "view-in-github",
        "colab_type": "text"
      },
      "source": [
        "<a href=\"https://colab.research.google.com/github/RinkiGupta/ECE319/blob/master/lab/5_lab_files.ipynb\" target=\"_parent\"><img src=\"https://colab.research.google.com/assets/colab-badge.svg\" alt=\"Open In Colab\"/></a>"
      ]
    },
    {
      "cell_type": "markdown",
      "metadata": {
        "id": "wFWExXRzuAaG",
        "colab_type": "text"
      },
      "source": [
        "# Experiment 5"
      ]
    },
    {
      "cell_type": "markdown",
      "metadata": {
        "id": "U2RX-2Vkt3ww",
        "colab_type": "text"
      },
      "source": [
        "## AIM\n",
        "\n",
        "Write a Python program\n",
        "\n",
        "*   Create two new files f1 and f2\n",
        "*   Read and Display the contents of files f1 and f2\n",
        "*   Count the number of lines and find the word whose count is more in f1 and f2 respectively.\n",
        "*   Create and display the file f3 which is a combination of f1 and f2."
      ]
    },
    {
      "cell_type": "markdown",
      "metadata": {
        "id": "5_WuD9MZuEEJ",
        "colab_type": "text"
      },
      "source": [
        "## Description\n",
        "\n",
        "\n",
        "Functions used"
      ]
    },
    {
      "cell_type": "markdown",
      "metadata": {
        "id": "tH9ZmmCtuOW2",
        "colab_type": "text"
      },
      "source": [
        "## Program"
      ]
    },
    {
      "cell_type": "code",
      "metadata": {
        "id": "xrZfMCBitpk7",
        "colab_type": "code",
        "colab": {}
      },
      "source": [
        "lst1 = ['Aug','Sep','Oct','Nov','Sep','Jul','Aug','Sep']\n",
        "lst2 = [1,2,3,4, 2,4,4,1]\n",
        "# Write list lst1 into file file1.txt and \n",
        "with open('file1.txt', 'w') as f1:\n",
        "    for item in lst1:\n",
        "        print(item,file=f1)\n",
        "# Write list lst2 into file file2.txt\n"
      ],
      "execution_count": null,
      "outputs": []
    },
    {
      "cell_type": "code",
      "metadata": {
        "id": "L5JBpvTFtwcq",
        "colab_type": "code",
        "colab": {
          "base_uri": "https://localhost:8080/",
          "height": 353
        },
        "outputId": "e4e7ed0f-d051-43ef-f5cb-c3ce4cf3e73a"
      },
      "source": [
        "# Read contents of file1.txt and display them\n",
        "with open('file1.txt','r') as f1:\n",
        "    str_f1 = f1.read()\n",
        "print('Contents of file1.txt:'); print(str_f1)\n",
        "# Read contents of file2.txt and display them\n"
      ],
      "execution_count": null,
      "outputs": [
        {
          "output_type": "stream",
          "text": [
            "Contents of file1.txt:\n",
            "Aug\n",
            "Sep\n",
            "Oct\n",
            "Nov\n",
            "Sep\n",
            "Jul\n",
            "Aug\n",
            "Sep\n",
            "\n",
            "Contents of file2.txt:\n",
            "1\n",
            "2\n",
            "3\n",
            "4\n",
            "2\n",
            "4\n",
            "4\n",
            "1\n",
            "\n"
          ],
          "name": "stdout"
        }
      ]
    },
    {
      "cell_type": "code",
      "metadata": {
        "id": "usHfRYE8uqvL",
        "colab_type": "code",
        "colab": {
          "base_uri": "https://localhost:8080/",
          "height": 50
        },
        "outputId": "19b1a8f1-cebc-42c9-e20d-48e5438a1481"
      },
      "source": [
        "# Count number of lines in file1.txt\n"
      ],
      "execution_count": null,
      "outputs": [
        {
          "output_type": "stream",
          "text": [
            "['Aug', 'Sep', 'Oct', 'Nov', 'Sep', 'Jul', 'Aug', 'Sep']\n",
            "Number of lines:  8\n"
          ],
          "name": "stdout"
        }
      ]
    },
    {
      "cell_type": "code",
      "metadata": {
        "id": "zHQ2Ts6tvM0u",
        "colab_type": "code",
        "colab": {
          "base_uri": "https://localhost:8080/",
          "height": 34
        },
        "outputId": "d20bc6f5-222f-4dcf-d7d0-c90c0fbd20fc"
      },
      "source": [
        "# Find the most occuring word in file1.txt\n"
      ],
      "execution_count": null,
      "outputs": [
        {
          "output_type": "stream",
          "text": [
            "Most occuring word in file1.txt:  Sep\n"
          ],
          "name": "stdout"
        }
      ]
    },
    {
      "cell_type": "code",
      "metadata": {
        "id": "3-sSwNr_vb8_",
        "colab_type": "code",
        "colab": {
          "base_uri": "https://localhost:8080/",
          "height": 185
        },
        "outputId": "57cecf07-94f7-4a82-f9d6-00a29098cf64"
      },
      "source": [
        "# Create a file3.txt, which is a combination of file1.txt and file2.txt\n"
      ],
      "execution_count": null,
      "outputs": [
        {
          "output_type": "stream",
          "text": [
            "Contents of file3.txt:\n",
            "1 Aug 2020\n",
            "2 Sep 2020\n",
            "3 Oct 2020\n",
            "4 Nov 2020\n",
            "2 Sep 2020\n",
            "4 Jul 2020\n",
            "4 Aug 2020\n",
            "1 Sep 2020\n",
            "\n"
          ],
          "name": "stdout"
        }
      ]
    },
    {
      "cell_type": "code",
      "metadata": {
        "id": "4iDRGLBOxJbz",
        "colab_type": "code",
        "colab": {
          "base_uri": "https://localhost:8080/",
          "height": 319
        },
        "outputId": "5c8660ff-16b1-4642-c9c6-23f0d5a0368d"
      },
      "source": [
        "# Create a file3.txt, which is a combination of file1.txt and file2.txt\n"
      ],
      "execution_count": null,
      "outputs": [
        {
          "output_type": "stream",
          "text": [
            "Contents of file3.txt:\n",
            "Aug\n",
            "Sep\n",
            "Oct\n",
            "Nov\n",
            "Sep\n",
            "Jul\n",
            "Aug\n",
            "Sep\n",
            "1\n",
            "2\n",
            "3\n",
            "4\n",
            "2\n",
            "4\n",
            "4\n",
            "1\n",
            "\n"
          ],
          "name": "stdout"
        }
      ]
    },
    {
      "cell_type": "markdown",
      "metadata": {
        "id": "tn67des4vDlL",
        "colab_type": "text"
      },
      "source": [
        "## Conclusion\n"
      ]
    }
  ]
}