{
  "nbformat": 4,
  "nbformat_minor": 0,
  "metadata": {
    "colab": {
      "name": "1_lab_addsub.ipynb",
      "provenance": [],
      "collapsed_sections": [],
      "include_colab_link": true
    },
    "kernelspec": {
      "display_name": "Python 3",
      "language": "python",
      "name": "python3"
    },
    "language_info": {
      "codemirror_mode": {
        "name": "ipython",
        "version": 3
      },
      "file_extension": ".py",
      "mimetype": "text/x-python",
      "name": "python",
      "nbconvert_exporter": "python",
      "pygments_lexer": "ipython3",
      "version": "3.7.3"
    }
  },
  "cells": [
    {
      "cell_type": "markdown",
      "metadata": {
        "id": "view-in-github",
        "colab_type": "text"
      },
      "source": [
        "<a href=\"https://colab.research.google.com/github/RinkiGupta/ECE319/blob/master/lab/1_lab_addsub.ipynb\" target=\"_parent\"><img src=\"https://colab.research.google.com/assets/colab-badge.svg\" alt=\"Open In Colab\"/></a>"
      ]
    },
    {
      "cell_type": "markdown",
      "metadata": {
        "colab_type": "text",
        "id": "oGYLRO98OUE6"
      },
      "source": [
        "# Practice Syntax\n"
      ]
    },
    {
      "cell_type": "markdown",
      "metadata": {
        "id": "lAJ7sp4Y7DMb",
        "colab_type": "text"
      },
      "source": [
        "## Print Single Variable"
      ]
    },
    {
      "cell_type": "code",
      "metadata": {
        "colab_type": "code",
        "id": "YIncedUMOUE7",
        "colab": {
          "base_uri": "https://localhost:8080/",
          "height": 87
        },
        "outputId": "7bb10559-aa43-42b4-f2d4-a3b03a27b606"
      },
      "source": [
        "var1=10\n",
        "print(var1)\n",
        "print('Var1=',var1)\n",
        "print('Var1=%d' %var1)\n",
        "print('Var1={}'.format(var1))"
      ],
      "execution_count": 1,
      "outputs": [
        {
          "output_type": "stream",
          "text": [
            "10\n",
            "Var1= 10\n",
            "Var1=10\n",
            "Var1=10\n"
          ],
          "name": "stdout"
        }
      ]
    },
    {
      "cell_type": "markdown",
      "metadata": {
        "id": "dyGT44iB6LGh",
        "colab_type": "text"
      },
      "source": [
        "## Print Multiple Variables"
      ]
    },
    {
      "cell_type": "code",
      "metadata": {
        "id": "GnjRPP486Lr3",
        "colab_type": "code",
        "colab": {
          "base_uri": "https://localhost:8080/",
          "height": 87
        },
        "outputId": "561c95a0-592c-4158-8958-44eb0c06ced0"
      },
      "source": [
        "var2=20.518\n",
        "print('Var1=',var1,' Var2=',var2)\n",
        "print('Var1=%d, Var2=%f' %(var1,var2))\n",
        "print('Var1=%d, Var2=%.2f' %(var1,var2))\n",
        "print('Var1={}, Var2={}'.format(var1,var2))"
      ],
      "execution_count": 2,
      "outputs": [
        {
          "output_type": "stream",
          "text": [
            "Var1= 10  Var2= 20.518\n",
            "Var1=10, Var2=20.518000\n",
            "Var1=10, Var2=20.52\n",
            "Var1=10, Var2=20.518\n"
          ],
          "name": "stdout"
        }
      ]
    },
    {
      "cell_type": "markdown",
      "metadata": {
        "id": "N7IVg8-L8bIo",
        "colab_type": "text"
      },
      "source": [
        "## print() Parameters: sep, end"
      ]
    },
    {
      "cell_type": "code",
      "metadata": {
        "id": "n9eu5vb476hR",
        "colab_type": "code",
        "colab": {
          "base_uri": "https://localhost:8080/",
          "height": 52
        },
        "outputId": "90dd9609-6890-45b2-ddaf-38b16204e036"
      },
      "source": [
        "# change separator using sep\n",
        "print('Var1=,',var1,' Var2=',var2)\n",
        "print('Var1=,',var1,' Var2=',var2,sep='...')"
      ],
      "execution_count": 7,
      "outputs": [
        {
          "output_type": "stream",
          "text": [
            "Var1=, 10  Var2= 20.518\n",
            "Var1=,...10... Var2=...20.518\n"
          ],
          "name": "stdout"
        }
      ]
    },
    {
      "cell_type": "code",
      "metadata": {
        "id": "VTaMqRrP-gEu",
        "colab_type": "code",
        "colab": {
          "base_uri": "https://localhost:8080/",
          "height": 34
        },
        "outputId": "edf33ac9-583e-49f5-8961-f1d26cc50dc7"
      },
      "source": [
        "# end parameter of print()\n",
        "#The print() function accepts an optional parameter known as end of line \n",
        "#Its value is new_line by default. We can change the end character in a print statement with the value of our choice using this parameter.\n",
        "print(\"Let's learn\",end='...')  \n",
        "print(\"Python\") "
      ],
      "execution_count": 4,
      "outputs": [
        {
          "output_type": "stream",
          "text": [
            "Let's learn...Python\n"
          ],
          "name": "stdout"
        }
      ]
    },
    {
      "cell_type": "markdown",
      "metadata": {
        "id": "JQwVMKdSGDmo",
        "colab_type": "text"
      },
      "source": [
        "# Experiment 1\n",
        "**AIM : Write a program to read two integers and find the sum, diff, mult and div**"
      ]
    },
    {
      "cell_type": "markdown",
      "metadata": {
        "id": "OqT1A9b2GDmu",
        "colab_type": "text"
      },
      "source": [
        "## Description\n",
        "Wrtite description here"
      ]
    },
    {
      "cell_type": "markdown",
      "metadata": {
        "id": "arFLyp8ZGDmv",
        "colab_type": "text"
      },
      "source": [
        "## Python Code"
      ]
    },
    {
      "cell_type": "code",
      "metadata": {
        "id": "zDtQE6JvGDmv",
        "colab_type": "code",
        "colab": {
          "base_uri": "https://localhost:8080/",
          "height": 52
        },
        "outputId": "f996177b-3899-4d6b-bf33-9bd133225949"
      },
      "source": [
        "# start your program here...\n",
        "num1 = 10\n",
        "num2 = 20\n",
        "print('Num1 = ',num1)\n",
        "print('Num2 = ',num2)"
      ],
      "execution_count": 5,
      "outputs": [
        {
          "output_type": "stream",
          "text": [
            "Num1 =  10\n",
            "Num2 =  20\n"
          ],
          "name": "stdout"
        }
      ]
    },
    {
      "cell_type": "code",
      "metadata": {
        "id": "Ufb0taW99Lzr",
        "colab_type": "code",
        "colab": {}
      },
      "source": [
        "# Start writing your program here"
      ],
      "execution_count": 6,
      "outputs": []
    },
    {
      "cell_type": "markdown",
      "metadata": {
        "id": "uDEqHmX0HV_7",
        "colab_type": "text"
      },
      "source": [
        "**Conclusion:** "
      ]
    }
  ]
}