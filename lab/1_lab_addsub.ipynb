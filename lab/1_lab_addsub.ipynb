{
  "nbformat": 4,
  "nbformat_minor": 0,
  "metadata": {
    "colab": {
      "name": "1_lab_addsub.ipynb",
      "provenance": [],
      "collapsed_sections": [],
      "toc_visible": true,
      "include_colab_link": true
    },
    "kernelspec": {
      "display_name": "Python 3",
      "language": "python",
      "name": "python3"
    },
    "language_info": {
      "codemirror_mode": {
        "name": "ipython",
        "version": 3
      },
      "file_extension": ".py",
      "mimetype": "text/x-python",
      "name": "python",
      "nbconvert_exporter": "python",
      "pygments_lexer": "ipython3",
      "version": "3.7.3"
    }
  },
  "cells": [
    {
      "cell_type": "markdown",
      "metadata": {
        "id": "view-in-github",
        "colab_type": "text"
      },
      "source": [
        "<a href=\"https://colab.research.google.com/github/RinkiGupta/ECE319/blob/master/lab/1_lab_addsub.ipynb\" target=\"_parent\"><img src=\"https://colab.research.google.com/assets/colab-badge.svg\" alt=\"Open In Colab\"/></a>"
      ]
    },
    {
      "cell_type": "markdown",
      "metadata": {
        "id": "UxdNnWLAvy4n"
      },
      "source": [
        "# Experiment 1"
      ]
    },
    {
      "cell_type": "markdown",
      "metadata": {
        "id": "JQwVMKdSGDmo"
      },
      "source": [
        "## AIM \n",
        "**Write a program to read two integers and find the sum, diff, mult and div**"
      ]
    },
    {
      "cell_type": "markdown",
      "metadata": {
        "id": "OqT1A9b2GDmu"
      },
      "source": [
        "## Description\n",
        "Describe arithmetic operators in python\n",
        "\n",
        "Syntax of print function is:\n",
        "```\n",
        "print(value1,value2)\n",
        "```\n",
        "\n",
        "\n",
        "\n"
      ]
    },
    {
      "cell_type": "markdown",
      "metadata": {
        "id": "arFLyp8ZGDmv"
      },
      "source": [
        "## Python Code"
      ]
    },
    {
      "cell_type": "code",
      "metadata": {
        "id": "zDtQE6JvGDmv",
        "colab": {
          "base_uri": "https://localhost:8080/"
        },
        "outputId": "37d648d6-9c3d-4ad3-bc0c-dafe97285952"
      },
      "source": [
        "# Create Variables and Display their values\n"
      ],
      "execution_count": null,
      "outputs": [
        {
          "output_type": "stream",
          "text": [
            "Num1 =  10\n",
            "Num2 =  20\n"
          ],
          "name": "stdout"
        }
      ]
    },
    {
      "cell_type": "code",
      "metadata": {
        "id": "Ufb0taW99Lzr",
        "colab": {
          "base_uri": "https://localhost:8080/"
        },
        "outputId": "9353210a-ece2-44d3-c939-557c9c1d3ab6"
      },
      "source": [
        "# Apply arithmetic operations and display results\n"
      ],
      "execution_count": null,
      "outputs": [
        {
          "output_type": "stream",
          "text": [
            "10 + 20 = 30\n",
            "10 - 20 = -10\n",
            "10 * 20 = 200\n",
            "10 / 20 = 0.5\n"
          ],
          "name": "stdout"
        }
      ]
    },
    {
      "cell_type": "markdown",
      "metadata": {
        "id": "uDEqHmX0HV_7"
      },
      "source": [
        "## Conclusion"
      ]
    },
    {
      "cell_type": "markdown",
      "metadata": {
        "id": "oHI5szujvt9c"
      },
      "source": [
        ""
      ]
    },
    {
      "cell_type": "markdown",
      "metadata": {
        "id": "6hHCGJ98j-UZ"
      },
      "source": [
        "**Evaluation**\n",
        "\n",
        "<img src='https://github.com/RinkiGupta/ECE319/blob/master/res/IET%20format%20Lab%20File.PNG?raw=true'>"
      ]
    }
  ]
}