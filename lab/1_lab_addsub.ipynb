{
  "nbformat": 4,
  "nbformat_minor": 0,
  "metadata": {
    "colab": {
      "name": "1_lab_addsub.ipynb",
      "provenance": [],
      "collapsed_sections": [],
      "include_colab_link": true
    },
    "kernelspec": {
      "display_name": "Python 3",
      "language": "python",
      "name": "python3"
    },
    "language_info": {
      "codemirror_mode": {
        "name": "ipython",
        "version": 3
      },
      "file_extension": ".py",
      "mimetype": "text/x-python",
      "name": "python",
      "nbconvert_exporter": "python",
      "pygments_lexer": "ipython3",
      "version": "3.7.3"
    }
  },
  "cells": [
    {
      "cell_type": "markdown",
      "metadata": {
        "id": "view-in-github",
        "colab_type": "text"
      },
      "source": [
        "<a href=\"https://colab.research.google.com/github/RinkiGupta/ECE319/blob/master/lab/1_lab_addsub.ipynb\" target=\"_parent\"><img src=\"https://colab.research.google.com/assets/colab-badge.svg\" alt=\"Open In Colab\"/></a>"
      ]
    },
    {
      "cell_type": "markdown",
      "metadata": {
        "colab_type": "text",
        "id": "oGYLRO98OUE6"
      },
      "source": [
        "# Practice Syntax\n"
      ]
    },
    {
      "cell_type": "markdown",
      "metadata": {
        "id": "lAJ7sp4Y7DMb",
        "colab_type": "text"
      },
      "source": [
        "## Print Single Variable"
      ]
    },
    {
      "cell_type": "code",
      "metadata": {
        "colab_type": "code",
        "id": "YIncedUMOUE7",
        "colab": {
          "base_uri": "https://localhost:8080/",
          "height": 35
        },
        "outputId": "ec562591-6f47-4706-c96e-995f0e2cac41"
      },
      "source": [
        "var1=10\n",
        "print(var1)\n"
      ],
      "execution_count": 13,
      "outputs": [
        {
          "output_type": "stream",
          "text": [
            "10\n"
          ],
          "name": "stdout"
        }
      ]
    },
    {
      "cell_type": "markdown",
      "metadata": {
        "id": "dyGT44iB6LGh",
        "colab_type": "text"
      },
      "source": [
        "## Print Multiple Variables"
      ]
    },
    {
      "cell_type": "code",
      "metadata": {
        "id": "GnjRPP486Lr3",
        "colab_type": "code",
        "colab": {
          "base_uri": "https://localhost:8080/",
          "height": 35
        },
        "outputId": "66a818d4-2a0d-4b09-d0be-b5e5696ad50d"
      },
      "source": [
        "var2=20.518\n",
        "print('Var1=',var1,' Var2=',var2)\n"
      ],
      "execution_count": 14,
      "outputs": [
        {
          "output_type": "stream",
          "text": [
            "Var1= 10  Var2= 20.518\n"
          ],
          "name": "stdout"
        }
      ]
    },
    {
      "cell_type": "markdown",
      "metadata": {
        "id": "N7IVg8-L8bIo",
        "colab_type": "text"
      },
      "source": [
        "## print() Parameters: sep, end"
      ]
    },
    {
      "cell_type": "code",
      "metadata": {
        "id": "n9eu5vb476hR",
        "colab_type": "code",
        "colab": {
          "base_uri": "https://localhost:8080/",
          "height": 35
        },
        "outputId": "4cbb0797-8e1b-41a3-f97d-5e6a520c8e72"
      },
      "source": [
        "# change separator using sep\n",
        "print('Var1=',var1,' Var2=',var2)\n"
      ],
      "execution_count": 15,
      "outputs": [
        {
          "output_type": "stream",
          "text": [
            "Var1= 10  Var2= 20.518\n"
          ],
          "name": "stdout"
        }
      ]
    },
    {
      "cell_type": "code",
      "metadata": {
        "id": "VTaMqRrP-gEu",
        "colab_type": "code",
        "colab": {
          "base_uri": "https://localhost:8080/",
          "height": 52
        },
        "outputId": "bc713372-dca0-4642-ceb3-49eef12dbe0b"
      },
      "source": [
        "# end parameter of print()\n",
        "#The print() function accepts an optional parameter known as end of line \n",
        "#Its value is new_line by default. We can change the end character in a print statement with the value of our choice using this parameter.\n",
        "print(\"Let's learn\")  \n",
        "print(\"Python\") "
      ],
      "execution_count": 16,
      "outputs": [
        {
          "output_type": "stream",
          "text": [
            "Let's learn\n",
            "Python\n"
          ],
          "name": "stdout"
        }
      ]
    },
    {
      "cell_type": "markdown",
      "metadata": {
        "id": "JQwVMKdSGDmo",
        "colab_type": "text"
      },
      "source": [
        "# Experiment 1\n",
        "**AIM : Write a program to read two integers and find the sum, diff, mult and div**"
      ]
    },
    {
      "cell_type": "markdown",
      "metadata": {
        "id": "OqT1A9b2GDmu",
        "colab_type": "text"
      },
      "source": [
        "## Description"
      ]
    },
    {
      "cell_type": "markdown",
      "metadata": {
        "id": "arFLyp8ZGDmv",
        "colab_type": "text"
      },
      "source": [
        "## Python Code"
      ]
    },
    {
      "cell_type": "code",
      "metadata": {
        "id": "zDtQE6JvGDmv",
        "colab_type": "code",
        "colab": {}
      },
      "source": [
        "# start your program here...\n"
      ],
      "execution_count": 17,
      "outputs": []
    }
  ]
}