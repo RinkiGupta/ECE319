{
  "nbformat": 4,
  "nbformat_minor": 0,
  "metadata": {
    "kernelspec": {
      "display_name": "Python 3",
      "language": "python",
      "name": "python3"
    },
    "language_info": {
      "codemirror_mode": {
        "name": "ipython",
        "version": 3
      },
      "file_extension": ".py",
      "mimetype": "text/x-python",
      "name": "python",
      "nbconvert_exporter": "python",
      "pygments_lexer": "ipython3",
      "version": "3.6.4"
    },
    "colab": {
      "provenance": [],
      "include_colab_link": true
    }
  },
  "cells": [
    {
      "cell_type": "markdown",
      "metadata": {
        "id": "view-in-github",
        "colab_type": "text"
      },
      "source": [
        "<a href=\"https://colab.research.google.com/github/RinkiGupta/ECE319/blob/master/lab/9_lab_dictionary.ipynb\" target=\"_parent\"><img src=\"https://colab.research.google.com/assets/colab-badge.svg\" alt=\"Open In Colab\"/></a>"
      ]
    },
    {
      "cell_type": "markdown",
      "metadata": {
        "id": "TqaG9AvCyMqa"
      },
      "source": [
        "# Experiment 9"
      ]
    },
    {
      "cell_type": "markdown",
      "metadata": {
        "id": "ElNF5e4K-_wc"
      },
      "source": [
        "# AIM\n",
        "Write a Python program to convert a list of tuples into a dictionary"
      ]
    },
    {
      "cell_type": "markdown",
      "metadata": {
        "id": "2BH9N5P1_5_T"
      },
      "source": [
        "# Description\n",
        "\n",
        "Dictionary, zip()"
      ]
    },
    {
      "cell_type": "markdown",
      "metadata": {
        "id": "EmmaCVJ1__7R"
      },
      "source": [
        "# Program"
      ]
    },
    {
      "cell_type": "code",
      "metadata": {
        "id": "vgF8t5BK-_wd",
        "colab": {
          "base_uri": "https://localhost:8080/"
        },
        "outputId": "b1247918-58c8-4733-ec97-512a59575742"
      },
      "source": [
        "details = ['Name','Age','Education','Address']\n",
        "person1 = ['Ravi',14,'Xth','Delhi']\n",
        "# Create list of tuples\n",
        "\n",
        "# Create dictionary\n"
      ],
      "execution_count": null,
      "outputs": [
        {
          "output_type": "stream",
          "text": [
            "list of tuples: [('Name', 'Ravi'), ('Age', 14), ('Education', 'Xth'), ('Address', 'Delhi')]\n",
            "Dictionary 1:\n",
            "{'Name': 'Ravi', 'Age': 14, 'Education': 'Xth', 'Address': 'Delhi'}\n"
          ],
          "name": "stdout"
        }
      ]
    },
    {
      "cell_type": "code",
      "metadata": {
        "id": "8-8jXwAF-_wl",
        "colab": {
          "base_uri": "https://localhost:8080/"
        },
        "outputId": "7b14b78f-0f06-48ec-efbc-c584bb67d079"
      },
      "source": [
        "person2 = ['Anuj',16,'XIIth','Noida']\n",
        "person3 = ['Ram',14,'Xth','Delhi']\n",
        "# Create list of tuples\n",
        "\n",
        "# Create dictionary\n"
      ],
      "execution_count": null,
      "outputs": [
        {
          "output_type": "stream",
          "text": [
            "[('Name', ('Ravi', 'Anuj', 'Ram')), ('Age', (14, 16, 14)), ('Education', ('Xth', 'XIIth', 'Xth')), ('Address', ('Delhi', 'Noida', 'Delhi'))]\n",
            "Dictionary 2:\n",
            "{'Name': ('Ravi', 'Anuj', 'Ram'), 'Age': (14, 16, 14), 'Education': ('Xth', 'XIIth', 'Xth'), 'Address': ('Delhi', 'Noida', 'Delhi')}\n"
          ],
          "name": "stdout"
        }
      ]
    },
    {
      "cell_type": "markdown",
      "metadata": {
        "id": "fmIzFfwm7xh2"
      },
      "source": [
        "## Conclusion\n"
      ]
    },
    {
      "cell_type": "markdown",
      "metadata": {
        "id": "b0iYx6IDlnw3"
      },
      "source": []
    },
    {
      "cell_type": "markdown",
      "metadata": {
        "id": "AyR3zAX2loPu"
      },
      "source": [
        "**Evaluation**\n",
        "\n",
        "<img src='https://github.com/RinkiGupta/ECE319/blob/master/res/IET%20format%20Lab%20File.PNG?raw=true'>"
      ]
    }
  ]
}