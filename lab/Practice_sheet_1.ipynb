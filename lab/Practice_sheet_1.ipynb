{
  "nbformat": 4,
  "nbformat_minor": 0,
  "metadata": {
    "colab": {
      "name": "Practice_sheet_1.ipynb",
      "provenance": [],
      "collapsed_sections": [],
      "include_colab_link": true
    },
    "kernelspec": {
      "name": "python3",
      "display_name": "Python 3"
    }
  },
  "cells": [
    {
      "cell_type": "markdown",
      "metadata": {
        "id": "view-in-github",
        "colab_type": "text"
      },
      "source": [
        "<a href=\"https://colab.research.google.com/github/RinkiGupta/ECE319/blob/master/lab/Practice_sheet_1.ipynb\" target=\"_parent\"><img src=\"https://colab.research.google.com/assets/colab-badge.svg\" alt=\"Open In Colab\"/></a>"
      ]
    },
    {
      "cell_type": "markdown",
      "metadata": {
        "id": "ZiEGz5iVYlt4"
      },
      "source": [
        "# Practice Syntax\n",
        "\n",
        "The input() function exepts input from user.\n",
        "Syntax:\n",
        "\n",
        "\n",
        "```\n",
        "x = input(prompt)\n",
        "```\n",
        "where *prompt* is\ta String, representing a default message before the input.\n",
        "\n",
        "User input will be stores in *x*\n",
        "\n",
        "\n",
        "\n",
        "*   When input() function executes program flow will be stopped until the user has given an input.\n",
        "*   Whatever you enter as input, input() function converts it into a string. if you enter an integer value still input() function convert it into a string. You need to explicitly convert it into an integer in your code using typecasting.\n",
        "\n",
        "\n"
      ]
    },
    {
      "cell_type": "code",
      "metadata": {
        "colab": {
          "base_uri": "https://localhost:8080/"
        },
        "id": "R1X0xoKqYhEo",
        "outputId": "3b671de9-8cca-4a9a-ef8d-6f6622306b2d"
      },
      "source": [
        "var0 = input('Enter a Value: ')\n",
        "print(var0,type(var0))"
      ],
      "execution_count": null,
      "outputs": [
        {
          "output_type": "stream",
          "text": [
            "Enter a Value: 10\n",
            "10 <class 'str'>\n"
          ],
          "name": "stdout"
        }
      ]
    },
    {
      "cell_type": "code",
      "metadata": {
        "colab": {
          "base_uri": "https://localhost:8080/"
        },
        "id": "T9D6HWoqaImX",
        "outputId": "52ce25bc-5f7a-4f23-e391-3a846935bfc9"
      },
      "source": [
        "var2 = int(input('Enter a Value: ')) #typecasting\n",
        "print(var2,type(var2))"
      ],
      "execution_count": null,
      "outputs": [
        {
          "output_type": "stream",
          "text": [
            "Enter a Value: 10\n",
            "10 <class 'int'>\n"
          ],
          "name": "stdout"
        }
      ]
    },
    {
      "cell_type": "code",
      "metadata": {
        "colab": {
          "base_uri": "https://localhost:8080/"
        },
        "id": "4xSg4ofDjINg",
        "outputId": "ecd82e40-dbc1-4303-a3a2-a6e4c67ef60f"
      },
      "source": [
        "var3 = float(input('Enter a Value: ')) #typecasting\n",
        "print(var3,type(var3))"
      ],
      "execution_count": null,
      "outputs": [
        {
          "output_type": "stream",
          "text": [
            "Enter a Value: 10.2\n",
            "10.2 <class 'float'>\n"
          ],
          "name": "stdout"
        }
      ]
    },
    {
      "cell_type": "markdown",
      "metadata": {
        "id": "eYzXf1YMz1TC"
      },
      "source": [
        "# Practice Problem 1"
      ]
    },
    {
      "cell_type": "markdown",
      "metadata": {
        "id": "HyRb8Shqy7z5"
      },
      "source": [
        "Write a Python program which accepts the user's first and last name and prints them in reverse order with a space between them.\n",
        "\n",
        "Eg: Gupta Rinki"
      ]
    },
    {
      "cell_type": "code",
      "metadata": {
        "id": "FAMKj434y8a_"
      },
      "source": [
        ""
      ],
      "execution_count": null,
      "outputs": []
    },
    {
      "cell_type": "markdown",
      "metadata": {
        "id": "07heeZZZz5a7"
      },
      "source": [
        "# Practice Problem 2"
      ]
    },
    {
      "cell_type": "markdown",
      "metadata": {
        "id": "EiRuHvsozNwG"
      },
      "source": [
        "Write a Python program to calculate midpoint of a line. The line is specified between two points (x1, y1) and (x2, y2), to be taken as input from user. "
      ]
    },
    {
      "cell_type": "code",
      "metadata": {
        "id": "GIWGe7xfzOTt"
      },
      "source": [
        ""
      ],
      "execution_count": null,
      "outputs": []
    },
    {
      "cell_type": "markdown",
      "metadata": {
        "id": "A-nqMGoez7fQ"
      },
      "source": [
        "# Practice Problem 3"
      ]
    },
    {
      "cell_type": "markdown",
      "metadata": {
        "id": "iFyDoyPAzcaO"
      },
      "source": [
        "Write a Python program that will accept the base and height of a triangle and compute the area."
      ]
    },
    {
      "cell_type": "code",
      "metadata": {
        "id": "ydM6b_t0zw0l"
      },
      "source": [
        ""
      ],
      "execution_count": null,
      "outputs": []
    },
    {
      "cell_type": "markdown",
      "metadata": {
        "id": "4q4h-SS0z9Ao"
      },
      "source": [
        "# Practice Problem 4"
      ]
    },
    {
      "cell_type": "markdown",
      "metadata": {
        "id": "cWcywcJfyNkT"
      },
      "source": [
        "Try these questions and determine the correct answers:\n",
        "\n",
        "\n",
        "\n",
        "1.   Which of the following syntax would print 20.10.2020?\n",
        "* print('20'+'10'+'2020', end='.')\n",
        "* print('20'+'10'+'2020', sep='.')\n",
        "* print('20','10','2020', end='.')\n",
        "* print('20','10','2020', sep='.')\n",
        "\n",
        "2.   Which statement will result into an error\n",
        "* False = 0\n",
        "* true = '0'\n",
        "* false = True\n",
        "* true = False\n",
        "3.   Will the command print=12 lead to an error?\n",
        "* True\n",
        "* False\n"
      ]
    },
    {
      "cell_type": "code",
      "metadata": {
        "id": "5t5unwCD1fKq"
      },
      "source": [
        ""
      ],
      "execution_count": null,
      "outputs": []
    }
  ]
}