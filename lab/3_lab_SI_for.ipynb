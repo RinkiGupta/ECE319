{
  "nbformat": 4,
  "nbformat_minor": 0,
  "metadata": {
    "kernelspec": {
      "display_name": "Python 3",
      "language": "python",
      "name": "python3"
    },
    "language_info": {
      "codemirror_mode": {
        "name": "ipython",
        "version": 3
      },
      "file_extension": ".py",
      "mimetype": "text/x-python",
      "name": "python",
      "nbconvert_exporter": "python",
      "pygments_lexer": "ipython3",
      "version": "3.7.3"
    },
    "colab": {
      "name": "3_lab_SI_for.ipynb",
      "provenance": [],
      "collapsed_sections": [],
      "include_colab_link": true
    }
  },
  "cells": [
    {
      "cell_type": "markdown",
      "metadata": {
        "id": "view-in-github",
        "colab_type": "text"
      },
      "source": [
        "<a href=\"https://colab.research.google.com/github/RinkiGupta/ECE319/blob/master/lab/3_lab_SI_for.ipynb\" target=\"_parent\"><img src=\"https://colab.research.google.com/assets/colab-badge.svg\" alt=\"Open In Colab\"/></a>"
      ]
    },
    {
      "cell_type": "markdown",
      "metadata": {
        "id": "PXRAo6YEtMWl"
      },
      "source": [
        "# Experiment 3"
      ]
    },
    {
      "cell_type": "markdown",
      "metadata": {
        "id": "1mBtvPlHtMWl"
      },
      "source": [
        "## Aim\n",
        "Write a program to find the simple interest for a given value P, T and R. The program must take the input from the user."
      ]
    },
    {
      "cell_type": "markdown",
      "metadata": {
        "id": "fAWpdpRbtMWm"
      },
      "source": [
        "## Description\n",
        "\n",
        "<img src='https://d138zd1ktt9iqe.cloudfront.net/media/seo_landing_files/image-05-1592309542.png' width=40%>\n",
        "\n",
        "**Total Amount** = P + SI"
      ]
    },
    {
      "cell_type": "markdown",
      "metadata": {
        "id": "ee86-MiAEwVd"
      },
      "source": [
        "Include description about for-loop\n",
        "\n",
        "\n",
        "\n",
        "```\n",
        "for var  in sequence:\n",
        "  code cell\n",
        "```\n",
        "\n"
      ]
    },
    {
      "cell_type": "markdown",
      "metadata": {
        "id": "aC40OALHtMWm"
      },
      "source": [
        "## Code\n"
      ]
    },
    {
      "cell_type": "code",
      "metadata": {
        "id": "es3RsWbQtMWn",
        "colab": {
          "base_uri": "https://localhost:8080/"
        },
        "outputId": "8133bd9f-4621-430c-94be-cb4ac3876273"
      },
      "source": [
        "# Accept Pricipal, Rate, Time as inputs from user\n",
        "P = \n",
        "R = \n",
        "T = "
      ],
      "execution_count": null,
      "outputs": [
        {
          "output_type": "stream",
          "text": [
            "Enter the Principal amount (Rs):2000\n",
            "Enter Rate of interest(in %):2\n",
            "Enter Time(in years):4\n"
          ],
          "name": "stdout"
        }
      ]
    },
    {
      "cell_type": "code",
      "metadata": {
        "id": "84_BefyPtMWr",
        "colab": {
          "base_uri": "https://localhost:8080/"
        },
        "outputId": "d8967f00-335b-4192-8d79-b768b3e979f4"
      },
      "source": [
        "# Calculate simple interest\n",
        "SI = \n",
        "print(\"Simple Interest:\", SI)"
      ],
      "execution_count": null,
      "outputs": [
        {
          "output_type": "stream",
          "text": [
            "Simple Interest: 160.0\n"
          ],
          "name": "stdout"
        }
      ]
    },
    {
      "cell_type": "code",
      "metadata": {
        "id": "JnqPP9zXtMWu",
        "colab": {
          "base_uri": "https://localhost:8080/"
        },
        "outputId": "28d1c2c7-028a-43bd-9981-a30f8aeba27f"
      },
      "source": [
        "# Evaluate Total Amount at end of each year till the year entered by the user \n",
        "# Use for loop\n",
        "for \n",
        "  interest = \n",
        "  print(\"Total Amount at end of year \",year,\"  =\",P+interest)"
      ],
      "execution_count": null,
      "outputs": [
        {
          "output_type": "stream",
          "text": [
            "Total Amount at end of year  1   = 2040.0\n",
            "Total Amount at end of year  2   = 2080.0\n",
            "Total Amount at end of year  3   = 2120.0\n",
            "Total Amount at end of year  4   = 2160.0\n"
          ],
          "name": "stdout"
        }
      ]
    },
    {
      "cell_type": "code",
      "metadata": {
        "id": "Kyr3nWoGtMWx",
        "colab": {
          "base_uri": "https://localhost:8080/"
        },
        "outputId": "0c097ba2-b182-41de-e20a-3624f6e0e1f1"
      },
      "source": [
        "# Evaluate Simple Interest for 4 different Interest rates\n",
        "# Use for loop\n",
        "rates = [2.5, 4, 5, 6.5]\n"
      ],
      "execution_count": null,
      "outputs": [
        {
          "output_type": "stream",
          "text": [
            "SI at rate 2.5  % = 200.0\n",
            "SI at rate 4  % = 320.0\n",
            "SI at rate 5  % = 400.0\n",
            "SI at rate 6.5  % = 520.0\n"
          ],
          "name": "stdout"
        }
      ]
    },
    {
      "cell_type": "code",
      "metadata": {
        "id": "DphcEBErtMW0",
        "colab": {
          "base_uri": "https://localhost:8080/"
        },
        "outputId": "599a722b-c41f-49f5-9e2f-716cd9cf5272"
      },
      "source": [
        "# Use Single line for-loop to create a list containing SI for each rate in list rates\n",
        "rates = [2.5, 4, 5, 6.5]\n",
        "print('For rates: ',rates)\n",
        "SI = \n",
        "print('SI: ',SI)"
      ],
      "execution_count": null,
      "outputs": [
        {
          "output_type": "stream",
          "text": [
            "For rates:  [2.5, 4, 5, 6.5]\n",
            "SI:  [200.0, 320.0, 400.0, 520.0]\n"
          ],
          "name": "stdout"
        }
      ]
    },
    {
      "cell_type": "markdown",
      "metadata": {
        "id": "ewO_ZNuutMW5"
      },
      "source": [
        "## Conclusion"
      ]
    },
    {
      "cell_type": "markdown",
      "metadata": {
        "id": "wmQSbnTPtMW6"
      },
      "source": [
        ""
      ]
    },
    {
      "cell_type": "markdown",
      "metadata": {
        "id": "z5BajvEikp6_"
      },
      "source": [
        "**Evaluation**\n",
        "\n",
        "<img src='https://github.com/RinkiGupta/ECE319/blob/master/res/IET%20format%20Lab%20File.PNG?raw=true'>"
      ]
    }
  ]
}