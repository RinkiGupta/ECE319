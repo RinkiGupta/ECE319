{
  "nbformat": 4,
  "nbformat_minor": 0,
  "metadata": {
    "kernelspec": {
      "display_name": "Python 3",
      "language": "python",
      "name": "python3"
    },
    "language_info": {
      "codemirror_mode": {
        "name": "ipython",
        "version": 3
      },
      "file_extension": ".py",
      "mimetype": "text/x-python",
      "name": "python",
      "nbconvert_exporter": "python",
      "pygments_lexer": "ipython3",
      "version": "3.7.3"
    },
    "colab": {
      "name": "2_2_range_for.ipynb",
      "provenance": [],
      "collapsed_sections": [],
      "include_colab_link": true
    }
  },
  "cells": [
    {
      "cell_type": "markdown",
      "metadata": {
        "id": "view-in-github",
        "colab_type": "text"
      },
      "source": [
        "<a href=\"https://colab.research.google.com/github/RinkiGupta/ECE319/blob/master/lectures/2_2_range_for.ipynb\" target=\"_parent\"><img src=\"https://colab.research.google.com/assets/colab-badge.svg\" alt=\"Open In Colab\"/></a>"
      ]
    },
    {
      "cell_type": "markdown",
      "metadata": {
        "id": "zJbStcBaqzMS",
        "colab_type": "text"
      },
      "source": [
        "# range() \n",
        "The range() function returns a sequence of numbers."
      ]
    },
    {
      "cell_type": "code",
      "metadata": {
        "id": "pzGqHYUNqzMT",
        "colab_type": "code",
        "colab": {
          "base_uri": "https://localhost:8080/",
          "height": 70
        },
        "outputId": "0ca67832-9d2f-42ab-c82e-c7a71b1e7083"
      },
      "source": [
        "print('list(range(5)) ', list(range(5)) ) # 0 to 4 in steps of 1\n",
        "print('list(range(2,5)) ', list(range(2,5)) ) # 2 to 4 in steps of 1\n",
        "print('list(range(1,5,2)) ', list(range(1,5,2)) ) # 1 to 3 in steps of 2"
      ],
      "execution_count": null,
      "outputs": [
        {
          "output_type": "stream",
          "text": [
            "list(range(5))  [0, 1, 2, 3, 4]\n",
            "list(range(2,5))  [2, 3, 4]\n",
            "list(range(1,5,2))  [1, 3]\n"
          ],
          "name": "stdout"
        }
      ]
    },
    {
      "cell_type": "markdown",
      "metadata": {
        "id": "fJTMcJTiqzMX",
        "colab_type": "text"
      },
      "source": [
        "# Python Indentation\n",
        "Indentation refers to the spaces at the beginning of a code line. It is used to indicate a code block."
      ]
    },
    {
      "cell_type": "code",
      "metadata": {
        "id": "Ty00gXUqqzMX",
        "colab_type": "code",
        "colab": {
          "base_uri": "https://localhost:8080/",
          "height": 132
        },
        "outputId": "6a612d8b-8e5b-4526-bfe3-68384c403444"
      },
      "source": [
        "print('Hello')\n",
        " print('World')"
      ],
      "execution_count": null,
      "outputs": [
        {
          "output_type": "error",
          "ename": "IndentationError",
          "evalue": "ignored",
          "traceback": [
            "\u001b[0;36m  File \u001b[0;32m\"<ipython-input-12-9fc316ff0686>\"\u001b[0;36m, line \u001b[0;32m2\u001b[0m\n\u001b[0;31m    print('World')\u001b[0m\n\u001b[0m    ^\u001b[0m\n\u001b[0;31mIndentationError\u001b[0m\u001b[0;31m:\u001b[0m unexpected indent\n"
          ]
        }
      ]
    },
    {
      "cell_type": "markdown",
      "metadata": {
        "id": "0m6wOz-9qzMa",
        "colab_type": "text"
      },
      "source": [
        "# for loop\n",
        "When we have a **sequence of things to loop through**, we can construct a definite loop using a for statement and automate repetition. Code block inside for-loop is indicated by identation.\n",
        "\n",
        "There is an iterable object such as a list, tuple or a string.\n",
        "There is also a variable to store the successive values from the sequence in the loop.\n"
      ]
    },
    {
      "cell_type": "code",
      "metadata": {
        "id": "-rm1SXGGqzMb",
        "colab_type": "code",
        "colab": {
          "base_uri": "https://localhost:8080/",
          "height": 122
        },
        "outputId": "6bd2f765-7e48-4463-b496-1568605f7b7c"
      },
      "source": [
        "friends = ['Alan', 'Ben', 'Sally', 'Rose']\n",
        "# use for-loop to say hello to each friend\n",
        "for friend in friends:\n",
        "  print('Hello',friend)\n",
        "print('Please join my Party!')"
      ],
      "execution_count": null,
      "outputs": [
        {
          "output_type": "stream",
          "text": [
            "Hello Alan\n",
            "Hello Ben\n",
            "Hello Sally\n",
            "Hello Rose\n",
            "Please join my Party!\n",
            "Again\n"
          ],
          "name": "stdout"
        }
      ]
    },
    {
      "cell_type": "code",
      "metadata": {
        "id": "mFSqBbyCqzMf",
        "colab_type": "code",
        "colab": {
          "base_uri": "https://localhost:8080/",
          "height": 87
        },
        "outputId": "ebc469ff-fa5b-492d-d003-86136d6e4709"
      },
      "source": [
        "friends = ['Alan', 'Ben', 'Sally', 'Rose']\n",
        "# use range and indexing in for-loop to say hello to each friend \n",
        "for idx in range(len(friends)):\n",
        "  print(idx,'Hello',friends[idx])\n",
        "print('Please join my Party!')"
      ],
      "execution_count": null,
      "outputs": [
        {
          "output_type": "stream",
          "text": [
            "1 Hello Ben\n",
            "2 Hello Sally\n",
            "3 Hello Rose\n",
            "Please join my Party!\n"
          ],
          "name": "stdout"
        }
      ]
    },
    {
      "cell_type": "markdown",
      "metadata": {
        "id": "Tz94u661qzMj",
        "colab_type": "text"
      },
      "source": [
        "## Nested for-loop"
      ]
    },
    {
      "cell_type": "code",
      "metadata": {
        "id": "lRFHMviOqzMk",
        "colab_type": "code",
        "colab": {
          "base_uri": "https://localhost:8080/",
          "height": 105
        },
        "outputId": "acf6828d-84fa-4264-8a85-52dc7982dc3e"
      },
      "source": [
        "friends = ['Alan', 'Ben', 'Sally', 'Rose']\n",
        "for idx in range(len(friends)):\n",
        "    print('Hello ', friends[idx],'. Please join my party!\\t', end=' ')\n",
        "    for friend in list(friends[:idx])+list(friends[idx+1:]): # list + list => Concatenate lists\n",
        "        print(friend,end=' ')\n",
        "    print('are also coming.')\n",
        "print('Done!')"
      ],
      "execution_count": null,
      "outputs": [
        {
          "output_type": "stream",
          "text": [
            "Hello  Alan . Please join my party!\t Ben Sally Rose are also coming.\n",
            "Hello  Ben . Please join my party!\t Alan Sally Rose are also coming.\n",
            "Hello  Sally . Please join my party!\t Alan Ben Rose are also coming.\n",
            "Hello  Rose . Please join my party!\t Alan Ben Sally are also coming.\n",
            "Done!\n"
          ],
          "name": "stdout"
        }
      ]
    },
    {
      "cell_type": "markdown",
      "metadata": {
        "id": "M0EtW7RxqzMn",
        "colab_type": "text"
      },
      "source": [
        "## Single Line For Loop"
      ]
    },
    {
      "cell_type": "code",
      "metadata": {
        "id": "GaARQsFRqzMn",
        "colab_type": "code",
        "colab": {},
        "outputId": "5e2aafc9-3129-4329-ed65-72ffe51ca098"
      },
      "source": [
        "friends = ['Alan', 'Ben', 'Sally', 'Rose']\n",
        "hellos = ['Hello '+friend for friend in friends]\n",
        "print(hellos)"
      ],
      "execution_count": null,
      "outputs": [
        {
          "output_type": "stream",
          "text": [
            "['Hello Alan', 'Hello Ben', 'Hello Sally', 'Hello Rose']\n"
          ],
          "name": "stdout"
        }
      ]
    }
  ]
}