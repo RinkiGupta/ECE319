{
  "nbformat": 4,
  "nbformat_minor": 0,
  "metadata": {
    "colab": {
      "name": "3_2_functions.ipynb",
      "provenance": [],
      "collapsed_sections": [],
      "authorship_tag": "ABX9TyPqln/ANZwkDzWFhlZJnkmK",
      "include_colab_link": true
    },
    "kernelspec": {
      "name": "python3",
      "display_name": "Python 3"
    }
  },
  "cells": [
    {
      "cell_type": "markdown",
      "metadata": {
        "id": "view-in-github",
        "colab_type": "text"
      },
      "source": [
        "<a href=\"https://colab.research.google.com/github/RinkiGupta/ECE319/blob/master/lectures/3_2_functions.ipynb\" target=\"_parent\"><img src=\"https://colab.research.google.com/assets/colab-badge.svg\" alt=\"Open In Colab\"/></a>"
      ]
    },
    {
      "cell_type": "markdown",
      "metadata": {
        "id": "KO-DahaNNCyT",
        "colab_type": "text"
      },
      "source": [
        "# Types of Functions\n",
        "\n",
        "There are 3 types of functions in Python:\n",
        "\n",
        "* Built-in functions, such as print(), len(), type()\n",
        "* User-Defined Functions: Declared with **def** keyword. \n",
        "* Anonymous functions (also called lambda functions) because they are **not** declared with the standard def keyword."
      ]
    },
    {
      "cell_type": "code",
      "metadata": {
        "id": "R0HdkHxcM1GM",
        "colab_type": "code",
        "colab": {
          "base_uri": "https://localhost:8080/",
          "height": 52
        },
        "outputId": "c5e45e62-87b7-4c62-9d5e-38ff3ead3002"
      },
      "source": [
        "# User-defined function\n",
        "def square(x):\n",
        "   return x**2\n",
        "print(type(square))\n",
        "print(square(5))"
      ],
      "execution_count": 3,
      "outputs": [
        {
          "output_type": "stream",
          "text": [
            "<class 'function'>\n",
            "25\n"
          ],
          "name": "stdout"
        }
      ]
    },
    {
      "cell_type": "code",
      "metadata": {
        "id": "aG4eTioWN9YX",
        "colab_type": "code",
        "colab": {
          "base_uri": "https://localhost:8080/",
          "height": 52
        },
        "outputId": "f2e31169-3111-4109-a3a2-9552eb8aee3b"
      },
      "source": [
        "# Anonymous Function/ Lambda Function\n",
        "sq = lambda x: x**2\n",
        "print(type(sq))\n",
        "print(sq(5))"
      ],
      "execution_count": 2,
      "outputs": [
        {
          "output_type": "stream",
          "text": [
            "<class 'function'>\n",
            "25\n"
          ],
          "name": "stdout"
        }
      ]
    },
    {
      "cell_type": "code",
      "metadata": {
        "id": "iQjyUdyQO1bP",
        "colab_type": "code",
        "colab": {
          "base_uri": "https://localhost:8080/",
          "height": 52
        },
        "outputId": "b7928505-ee38-4989-ef24-d08ad981d6ce"
      },
      "source": [
        "# A lambda function can take any number of arguments, but can only have one expression.\n",
        "pow1 = lambda a,b: a**b\n",
        "print(type(pow1))\n",
        "print(pow1(5,2))"
      ],
      "execution_count": 8,
      "outputs": [
        {
          "output_type": "stream",
          "text": [
            "<class 'function'>\n",
            "25\n"
          ],
          "name": "stdout"
        }
      ]
    },
    {
      "cell_type": "markdown",
      "metadata": {
        "id": "m-Ie2VM5P3_p",
        "colab_type": "text"
      },
      "source": [
        "# Global and Local Variables\n",
        "\n",
        "The part of a program where a variable is accessible is called its scope.\n",
        "* Variables that are defined inside a function have a local scope. Local variables are defined within a function block and can only be accessed inside that function\n",
        "* Variables that are defined outside a function have a global scope. Global variables can be obtained by all functions that might be in your script."
      ]
    },
    {
      "cell_type": "code",
      "metadata": {
        "id": "LtztbYSNPGZ4",
        "colab_type": "code",
        "colab": {
          "base_uri": "https://localhost:8080/",
          "height": 105
        },
        "outputId": "8cc8d04a-8fdc-459c-b758-85292c6eee17"
      },
      "source": [
        "x = 10  #Global Variable\n",
        "print('1. Outside function, x = ',x)\n",
        "\n",
        "def increment(a):\n",
        "    y=1 #Local variable\n",
        "    print('2. Inside function, x= ',x) # Can access x\n",
        "    print('3. Inside function, y= ',y)\n",
        "    y=y+a\n",
        "    print('4. Incremented value, y= ',y)\n",
        "\n",
        "increment(2)\n",
        "print('5. Outside function again, x= ',x)"
      ],
      "execution_count": 27,
      "outputs": [
        {
          "output_type": "stream",
          "text": [
            "1. Outside function, x =  10\n",
            "2. Inside function, x=  12\n",
            "3. Inside function, y=  1\n",
            "4. Incremented value, y=  3\n",
            "5. Outside function again, x=  10\n"
          ],
          "name": "stdout"
        }
      ]
    },
    {
      "cell_type": "code",
      "metadata": {
        "id": "CO4CQeaYUSWv",
        "colab_type": "code",
        "colab": {
          "base_uri": "https://localhost:8080/",
          "height": 290
        },
        "outputId": "d2a5061a-0137-4e9c-da32-98bb37f5e9d2"
      },
      "source": [
        "x = 10  #Global Variable\n",
        "print('1. Outside function, x = ',x)\n",
        "\n",
        "def increment(a):\n",
        "    y=1 #Local variable\n",
        "    print('2. Inside function, x= ',x)\n",
        "    print('3. Inside function, y= ',y)\n",
        "    y=y+a\n",
        "    print('4. Incremented value, y= ',y)\n",
        "\n",
        "increment(2)\n",
        "print('5. Outside function again, x= ',x)\n",
        "print('6. Outside function, y= ',y) # Cannot access y here"
      ],
      "execution_count": 28,
      "outputs": [
        {
          "output_type": "stream",
          "text": [
            "1. Outside function, x =  10\n",
            "2. Inside function, x=  10\n",
            "3. Inside function, y=  1\n",
            "4. Incremented value, y=  3\n",
            "5. Outside function again, x=  10\n"
          ],
          "name": "stdout"
        },
        {
          "output_type": "error",
          "ename": "NameError",
          "evalue": "ignored",
          "traceback": [
            "\u001b[0;31m---------------------------------------------------------------------------\u001b[0m",
            "\u001b[0;31mNameError\u001b[0m                                 Traceback (most recent call last)",
            "\u001b[0;32m<ipython-input-28-326456a7fa10>\u001b[0m in \u001b[0;36m<module>\u001b[0;34m()\u001b[0m\n\u001b[1;32m     11\u001b[0m \u001b[0mincrement\u001b[0m\u001b[0;34m(\u001b[0m\u001b[0;36m2\u001b[0m\u001b[0;34m)\u001b[0m\u001b[0;34m\u001b[0m\u001b[0;34m\u001b[0m\u001b[0m\n\u001b[1;32m     12\u001b[0m \u001b[0mprint\u001b[0m\u001b[0;34m(\u001b[0m\u001b[0;34m'5. Outside function again, x= '\u001b[0m\u001b[0;34m,\u001b[0m\u001b[0mx\u001b[0m\u001b[0;34m)\u001b[0m\u001b[0;34m\u001b[0m\u001b[0;34m\u001b[0m\u001b[0m\n\u001b[0;32m---> 13\u001b[0;31m \u001b[0mprint\u001b[0m\u001b[0;34m(\u001b[0m\u001b[0;34m'6. Outside function, y= '\u001b[0m\u001b[0;34m,\u001b[0m\u001b[0my\u001b[0m\u001b[0;34m)\u001b[0m \u001b[0;31m# Cannot access y here\u001b[0m\u001b[0;34m\u001b[0m\u001b[0;34m\u001b[0m\u001b[0m\n\u001b[0m",
            "\u001b[0;31mNameError\u001b[0m: name 'y' is not defined"
          ]
        }
      ]
    },
    {
      "cell_type": "code",
      "metadata": {
        "id": "I4U8W0g5S1Pd",
        "colab_type": "code",
        "colab": {
          "base_uri": "https://localhost:8080/",
          "height": 105
        },
        "outputId": "b589ba35-cf7f-4a6d-da7a-319b1a184d34"
      },
      "source": [
        "x = 10  #Global Variable\n",
        "print('1. Outside function, x = ',x)\n",
        "\n",
        "def increment(a):\n",
        "    y=1 #Local variable\n",
        "    x=20 #Local variable\n",
        "    print('2. Inside function, x= ',x) #Local variable x\n",
        "    print('3. Inside function, y= ',y)    \n",
        "    y=y+a\n",
        "    print('4. Incremented value, y= ',y)\n",
        "\n",
        "increment(2)\n",
        "print('5. Outside function again, x= ',x) #Global variable x"
      ],
      "execution_count": 29,
      "outputs": [
        {
          "output_type": "stream",
          "text": [
            "1. Outside function, x =  10\n",
            "2. Inside function, x=  20\n",
            "3. Inside function, y=  1\n",
            "4. Incremented value, y=  3\n",
            "5. Outside function again, x=  10\n"
          ],
          "name": "stdout"
        }
      ]
    },
    {
      "cell_type": "code",
      "metadata": {
        "id": "v88xFVqxRRCm",
        "colab_type": "code",
        "colab": {
          "base_uri": "https://localhost:8080/",
          "height": 361
        },
        "outputId": "8979f989-8048-4366-fc16-b98812370b95"
      },
      "source": [
        "x = 10  #Global Variable\n",
        "print('1. Outside function, x = ',x)\n",
        "\n",
        "def increment(a):\n",
        "    y=1 #Local variable\n",
        "    #x=20 #Local variable\n",
        "    print('2. Inside function, x= ',x+a)\n",
        "    print('3. Inside function, y= ',y)    \n",
        "    y=y+a\n",
        "    x=x+a #Local variable\n",
        "    print('4. Incremented value, y= ',y)\n",
        "\n",
        "increment(2)\n",
        "print('5. Outside function again, x= ',x)"
      ],
      "execution_count": 32,
      "outputs": [
        {
          "output_type": "stream",
          "text": [
            "1. Outside function, x =  10\n"
          ],
          "name": "stdout"
        },
        {
          "output_type": "error",
          "ename": "UnboundLocalError",
          "evalue": "ignored",
          "traceback": [
            "\u001b[0;31m---------------------------------------------------------------------------\u001b[0m",
            "\u001b[0;31mUnboundLocalError\u001b[0m                         Traceback (most recent call last)",
            "\u001b[0;32m<ipython-input-32-c5c8aca71616>\u001b[0m in \u001b[0;36m<module>\u001b[0;34m()\u001b[0m\n\u001b[1;32m     11\u001b[0m     \u001b[0mprint\u001b[0m\u001b[0;34m(\u001b[0m\u001b[0;34m'4. Incremented value, y= '\u001b[0m\u001b[0;34m,\u001b[0m\u001b[0my\u001b[0m\u001b[0;34m)\u001b[0m\u001b[0;34m\u001b[0m\u001b[0;34m\u001b[0m\u001b[0m\n\u001b[1;32m     12\u001b[0m \u001b[0;34m\u001b[0m\u001b[0m\n\u001b[0;32m---> 13\u001b[0;31m \u001b[0mincrement\u001b[0m\u001b[0;34m(\u001b[0m\u001b[0;36m2\u001b[0m\u001b[0;34m)\u001b[0m\u001b[0;34m\u001b[0m\u001b[0;34m\u001b[0m\u001b[0m\n\u001b[0m\u001b[1;32m     14\u001b[0m \u001b[0mprint\u001b[0m\u001b[0;34m(\u001b[0m\u001b[0;34m'5. Outside function again, x= '\u001b[0m\u001b[0;34m,\u001b[0m\u001b[0mx\u001b[0m\u001b[0;34m)\u001b[0m\u001b[0;34m\u001b[0m\u001b[0;34m\u001b[0m\u001b[0m\n",
            "\u001b[0;32m<ipython-input-32-c5c8aca71616>\u001b[0m in \u001b[0;36mincrement\u001b[0;34m(a)\u001b[0m\n\u001b[1;32m      5\u001b[0m     \u001b[0my\u001b[0m\u001b[0;34m=\u001b[0m\u001b[0;36m1\u001b[0m \u001b[0;31m#Local variable\u001b[0m\u001b[0;34m\u001b[0m\u001b[0;34m\u001b[0m\u001b[0m\n\u001b[1;32m      6\u001b[0m     \u001b[0;31m#x=20 #Local variable\u001b[0m\u001b[0;34m\u001b[0m\u001b[0;34m\u001b[0m\u001b[0;34m\u001b[0m\u001b[0m\n\u001b[0;32m----> 7\u001b[0;31m     \u001b[0mprint\u001b[0m\u001b[0;34m(\u001b[0m\u001b[0;34m'2. Inside function, x= '\u001b[0m\u001b[0;34m,\u001b[0m\u001b[0mx\u001b[0m\u001b[0;34m+\u001b[0m\u001b[0ma\u001b[0m\u001b[0;34m)\u001b[0m\u001b[0;34m\u001b[0m\u001b[0;34m\u001b[0m\u001b[0m\n\u001b[0m\u001b[1;32m      8\u001b[0m     \u001b[0mprint\u001b[0m\u001b[0;34m(\u001b[0m\u001b[0;34m'3. Inside function, y= '\u001b[0m\u001b[0;34m,\u001b[0m\u001b[0my\u001b[0m\u001b[0;34m)\u001b[0m\u001b[0;34m\u001b[0m\u001b[0;34m\u001b[0m\u001b[0m\n\u001b[1;32m      9\u001b[0m     \u001b[0my\u001b[0m\u001b[0;34m=\u001b[0m\u001b[0my\u001b[0m\u001b[0;34m+\u001b[0m\u001b[0ma\u001b[0m\u001b[0;34m\u001b[0m\u001b[0;34m\u001b[0m\u001b[0m\n",
            "\u001b[0;31mUnboundLocalError\u001b[0m: local variable 'x' referenced before assignment"
          ]
        }
      ]
    },
    {
      "cell_type": "markdown",
      "metadata": {
        "id": "wVu5mlMTV3yH",
        "colab_type": "text"
      },
      "source": [
        "# Global keyword\n",
        "\n",
        "We **global** keyword to read and write a global variable inside a function.\n",
        "\n",
        "Use of global keyword outside a function has no effect"
      ]
    },
    {
      "cell_type": "code",
      "metadata": {
        "id": "3N43ZHIiTojR",
        "colab_type": "code",
        "colab": {
          "base_uri": "https://localhost:8080/",
          "height": 122
        },
        "outputId": "cf2da656-b968-451e-8cbc-d0079cb9c311"
      },
      "source": [
        "x = 10  #Global Variable\n",
        "print('1. Outside function, x = ',x)\n",
        "\n",
        "def increment(a):\n",
        "    y=1 #Local variable\n",
        "    global x #Change Scope to global\n",
        "    print('2. Inside function, x= ',x)\n",
        "    print('3. Inside function, y= ',y)    \n",
        "    y=y+a\n",
        "    x=x+a #Declared global\n",
        "    print('4. Incremented value, y= ',y)\n",
        "    print('5. Incremented value, x= ',x)\n",
        "\n",
        "increment(2)\n",
        "print('5. Outside function again, x= ',x)"
      ],
      "execution_count": 33,
      "outputs": [
        {
          "output_type": "stream",
          "text": [
            "1. Outside function, x =  10\n",
            "2. Inside function, x=  10\n",
            "3. Inside function, y=  1\n",
            "4. Incremented value, y=  3\n",
            "5. Incremented value, x=  12\n",
            "5. Outside function again, x=  12\n"
          ],
          "name": "stdout"
        }
      ]
    },
    {
      "cell_type": "code",
      "metadata": {
        "id": "MdqnNr4TWfto",
        "colab_type": "code",
        "colab": {
          "base_uri": "https://localhost:8080/",
          "height": 361
        },
        "outputId": "6eae05de-a205-4ae7-8a4e-28ecb8c18c16"
      },
      "source": [
        "x = 10  #Global Variable\n",
        "print('1. Outside function, x = ',x)\n",
        "global x # no effect\n",
        "def increment(a):\n",
        "    y=1 #Local variable\n",
        "    #global x\n",
        "    print('2. Inside function, x= ',x)\n",
        "    print('3. Inside function, y= ',y)    \n",
        "    y=y+a\n",
        "    x=x+a #Lacal variable\n",
        "    print('4. Incremented value, y= ',y)\n",
        "    print('5. Incremented value, x= ',x)\n",
        "\n",
        "increment(2)\n",
        "print('5. Outside function again, x= ',x)"
      ],
      "execution_count": 34,
      "outputs": [
        {
          "output_type": "stream",
          "text": [
            "1. Outside function, x =  10\n"
          ],
          "name": "stdout"
        },
        {
          "output_type": "error",
          "ename": "UnboundLocalError",
          "evalue": "ignored",
          "traceback": [
            "\u001b[0;31m---------------------------------------------------------------------------\u001b[0m",
            "\u001b[0;31mUnboundLocalError\u001b[0m                         Traceback (most recent call last)",
            "\u001b[0;32m<ipython-input-34-c044b039438a>\u001b[0m in \u001b[0;36m<module>\u001b[0;34m()\u001b[0m\n\u001b[1;32m     12\u001b[0m     \u001b[0mprint\u001b[0m\u001b[0;34m(\u001b[0m\u001b[0;34m'5. Incremented value, x= '\u001b[0m\u001b[0;34m,\u001b[0m\u001b[0mx\u001b[0m\u001b[0;34m)\u001b[0m\u001b[0;34m\u001b[0m\u001b[0;34m\u001b[0m\u001b[0m\n\u001b[1;32m     13\u001b[0m \u001b[0;34m\u001b[0m\u001b[0m\n\u001b[0;32m---> 14\u001b[0;31m \u001b[0mincrement\u001b[0m\u001b[0;34m(\u001b[0m\u001b[0;36m2\u001b[0m\u001b[0;34m)\u001b[0m\u001b[0;34m\u001b[0m\u001b[0;34m\u001b[0m\u001b[0m\n\u001b[0m\u001b[1;32m     15\u001b[0m \u001b[0mprint\u001b[0m\u001b[0;34m(\u001b[0m\u001b[0;34m'5. Outside function again, x= '\u001b[0m\u001b[0;34m,\u001b[0m\u001b[0mx\u001b[0m\u001b[0;34m)\u001b[0m\u001b[0;34m\u001b[0m\u001b[0;34m\u001b[0m\u001b[0m\n",
            "\u001b[0;32m<ipython-input-34-c044b039438a>\u001b[0m in \u001b[0;36mincrement\u001b[0;34m(a)\u001b[0m\n\u001b[1;32m      5\u001b[0m     \u001b[0my\u001b[0m\u001b[0;34m=\u001b[0m\u001b[0;36m1\u001b[0m \u001b[0;31m#Local variable\u001b[0m\u001b[0;34m\u001b[0m\u001b[0;34m\u001b[0m\u001b[0m\n\u001b[1;32m      6\u001b[0m     \u001b[0;31m#global x #Change Scope to global\u001b[0m\u001b[0;34m\u001b[0m\u001b[0;34m\u001b[0m\u001b[0;34m\u001b[0m\u001b[0m\n\u001b[0;32m----> 7\u001b[0;31m     \u001b[0mprint\u001b[0m\u001b[0;34m(\u001b[0m\u001b[0;34m'2. Inside function, x= '\u001b[0m\u001b[0;34m,\u001b[0m\u001b[0mx\u001b[0m\u001b[0;34m)\u001b[0m\u001b[0;34m\u001b[0m\u001b[0;34m\u001b[0m\u001b[0m\n\u001b[0m\u001b[1;32m      8\u001b[0m     \u001b[0mprint\u001b[0m\u001b[0;34m(\u001b[0m\u001b[0;34m'3. Inside function, y= '\u001b[0m\u001b[0;34m,\u001b[0m\u001b[0my\u001b[0m\u001b[0;34m)\u001b[0m\u001b[0;34m\u001b[0m\u001b[0;34m\u001b[0m\u001b[0m\n\u001b[1;32m      9\u001b[0m     \u001b[0my\u001b[0m\u001b[0;34m=\u001b[0m\u001b[0my\u001b[0m\u001b[0;34m+\u001b[0m\u001b[0ma\u001b[0m\u001b[0;34m\u001b[0m\u001b[0;34m\u001b[0m\u001b[0m\n",
            "\u001b[0;31mUnboundLocalError\u001b[0m: local variable 'x' referenced before assignment"
          ]
        }
      ]
    },
    {
      "cell_type": "markdown",
      "metadata": {
        "id": "Zv9Hik7ZYmhK",
        "colab_type": "text"
      },
      "source": [
        "# Modules\n",
        "\n",
        "A module is a file consisting of Python code. A module can define functions, classes and variables. A module can also include runnable code.\n",
        "\n",
        "**Library** is a collection of modules."
      ]
    },
    {
      "cell_type": "markdown",
      "metadata": {
        "id": "EtAOjPHUZKfG",
        "colab_type": "text"
      },
      "source": [
        "**Example: Math Module**\n",
        "\n",
        "This module provides access to the mathematical functions defined by the C standard.\n",
        "\n",
        "https://docs.python.org/3/library/math.html\n",
        "\n",
        "The **import** statement adds the object to the current scope of your program."
      ]
    },
    {
      "cell_type": "code",
      "metadata": {
        "id": "WEGBpeWjYlXo",
        "colab_type": "code",
        "colab": {
          "base_uri": "https://localhost:8080/",
          "height": 87
        },
        "outputId": "bf74e058-a91e-418d-bd67-87a61f4360db"
      },
      "source": [
        "#%% Module\n",
        "import math  #Gain access to code from math module\n",
        "print( math.log(math.e) )\n",
        "print( math.sin(0) )\n",
        "print( math.sin(math.pi) )\n",
        "print( math.factorial(5) )"
      ],
      "execution_count": 39,
      "outputs": [
        {
          "output_type": "stream",
          "text": [
            "1.0\n",
            "0.0\n",
            "1.2246467991473532e-16\n",
            "120\n"
          ],
          "name": "stdout"
        }
      ]
    },
    {
      "cell_type": "code",
      "metadata": {
        "id": "CKww2qF_Z8AT",
        "colab_type": "code",
        "colab": {
          "base_uri": "https://localhost:8080/",
          "height": 87
        },
        "outputId": "40086fc3-803f-4a59-cbde-726293384dda"
      },
      "source": [
        "import math as ma # define an abbreviation for module name\n",
        "print( ma.log10(10) )\n",
        "print( ma.sqrt(4) )\n",
        "print( ma.cos(0) )\n",
        "print( ma.cos(ma.pi) )"
      ],
      "execution_count": 40,
      "outputs": [
        {
          "output_type": "stream",
          "text": [
            "1.0\n",
            "2.0\n",
            "1.0\n",
            "-1.0\n"
          ],
          "name": "stdout"
        }
      ]
    },
    {
      "cell_type": "code",
      "metadata": {
        "id": "He8TiK5yZ-MU",
        "colab_type": "code",
        "colab": {
          "base_uri": "https://localhost:8080/",
          "height": 34
        },
        "outputId": "3eb19ff3-f022-4e00-ec0e-1fa2c7dbbf8a"
      },
      "source": [
        "# Specify both the code to be imported along with the module where it is contained\n",
        "from math import pi\n",
        "print(\"The value of pi is\", pi)"
      ],
      "execution_count": 41,
      "outputs": [
        {
          "output_type": "stream",
          "text": [
            "The value of pi is 3.141592653589793\n"
          ],
          "name": "stdout"
        }
      ]
    },
    {
      "cell_type": "code",
      "metadata": {
        "id": "mZiXWsCFaAHx",
        "colab_type": "code",
        "colab": {
          "base_uri": "https://localhost:8080/",
          "height": 34
        },
        "outputId": "c95febd1-a232-42e7-fbe7-e8fec45f7dfc"
      },
      "source": [
        "from math import pi,sin, cos\n",
        "def sincos(ang):\n",
        "    return sin(ang),cos(ang)\n",
        "print( sincos(pi))"
      ],
      "execution_count": 42,
      "outputs": [
        {
          "output_type": "stream",
          "text": [
            "(1.2246467991473532e-16, -1.0)\n"
          ],
          "name": "stdout"
        }
      ]
    }
  ]
}