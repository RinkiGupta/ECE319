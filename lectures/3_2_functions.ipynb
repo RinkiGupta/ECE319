{
  "nbformat": 4,
  "nbformat_minor": 0,
  "metadata": {
    "colab": {
      "name": "3_2_functions.ipynb",
      "provenance": [],
      "collapsed_sections": [],
      "include_colab_link": true
    },
    "kernelspec": {
      "name": "python3",
      "display_name": "Python 3"
    }
  },
  "cells": [
    {
      "cell_type": "markdown",
      "metadata": {
        "id": "view-in-github",
        "colab_type": "text"
      },
      "source": [
        "<a href=\"https://colab.research.google.com/github/RinkiGupta/ECE319/blob/master/lectures/3_2_functions.ipynb\" target=\"_parent\"><img src=\"https://colab.research.google.com/assets/colab-badge.svg\" alt=\"Open In Colab\"/></a>"
      ]
    },
    {
      "cell_type": "markdown",
      "metadata": {
        "id": "KO-DahaNNCyT"
      },
      "source": [
        "# Types of Functions\n",
        "\n",
        "There are 3 types of functions in Python:\n",
        "\n",
        "* Built-in functions, such as print(), len(), type()\n",
        "* User-Defined Functions: Declared with **def** keyword. \n",
        "* Anonymous functions (also called **lambda** functions) because they are not declared with the standard def keyword."
      ]
    },
    {
      "cell_type": "code",
      "metadata": {
        "id": "R0HdkHxcM1GM"
      },
      "source": [
        "# User-defined function\n",
        "def square(x):\n",
        "   return x**2\n",
        "print(type(square))\n",
        "print(square(5))"
      ],
      "execution_count": null,
      "outputs": []
    },
    {
      "cell_type": "markdown",
      "metadata": {
        "id": "jgxFe6i5USLu"
      },
      "source": [
        "## Anonymous/unnamed/lambda function \n",
        "\n",
        "In Python we can also create unnamed functions, using the `lambda` keyword. \n",
        "\n",
        "* Lambda function has no function name and can only contain one expression. \n",
        "\n",
        "* Lambda definition does not include a “return” statement, it always contains an expression which is returned. \n",
        "\n",
        "* This technique is useful for example when we want to pass a simple function as an argument to another function. \n",
        "\n",
        "General syntax is:\n",
        "\n",
        "`lambda arguments: expression`\n"
      ]
    },
    {
      "cell_type": "code",
      "metadata": {
        "id": "aG4eTioWN9YX"
      },
      "source": [
        "# Anonymous Function/ Lambda Function\n",
        "sq = lambda x: x**2\n",
        "print(type(sq))\n",
        "print(sq(5))"
      ],
      "execution_count": null,
      "outputs": []
    },
    {
      "cell_type": "code",
      "metadata": {
        "id": "iQjyUdyQO1bP"
      },
      "source": [
        "# A lambda function can take any number of arguments, but can only have one expression.\n",
        "pow1 = lambda a,b: a**b\n",
        "print(type(pow1))\n",
        "print(pow1(5,2))"
      ],
      "execution_count": null,
      "outputs": []
    },
    {
      "cell_type": "markdown",
      "metadata": {
        "id": "m-Ie2VM5P3_p"
      },
      "source": [
        "# Global and Local Variables\n",
        "\n",
        "The part of a program where a variable is accessible is called its **scope**.\n",
        "* Variables that are defined inside a function have a local scope. Local variables are defined within a function block and can only be accessed inside that function\n",
        "* Variables that are defined outside a function have a global scope. Global variables can be obtained by all functions that might be in your script."
      ]
    },
    {
      "cell_type": "code",
      "metadata": {
        "id": "LtztbYSNPGZ4"
      },
      "source": [
        "x = 10  #Global Variable\n",
        "print('1. Outside function, x = ',x)\n",
        "\n",
        "def increment(a):\n",
        "    y=1 #Local variable\n",
        "    print('2. Inside function, x= ',x) # Can access x\n",
        "    print('3. Inside function, y= ',y)\n",
        "    y=y+a\n",
        "    print('4. Incremented value, y= ',y)\n",
        "\n",
        "increment(2)\n",
        "print('5. Outside function again, x= ',x)\n",
        "#print('6. Outside function, y= ',y)"
      ],
      "execution_count": null,
      "outputs": []
    },
    {
      "cell_type": "code",
      "metadata": {
        "id": "I4U8W0g5S1Pd"
      },
      "source": [
        "x = 10  #Global Variable\n",
        "print('1. Outside function, x = ',x)\n",
        "\n",
        "def increment(a):\n",
        "    y=1 #Local variable\n",
        "    x=20 #Local variable\n",
        "    print('2. Inside function, x= ',x) # Access Local variable x\n",
        "    print('3. Inside function, y= ',y)    \n",
        "    y=y+a\n",
        "    print('4. Incremented value, y= ',y)\n",
        "\n",
        "increment(2)\n",
        "print('5. Outside function again, x= ',x) #Global variable x"
      ],
      "execution_count": null,
      "outputs": []
    },
    {
      "cell_type": "code",
      "metadata": {
        "id": "v88xFVqxRRCm"
      },
      "source": [
        "x = 10  #Global Variable\n",
        "print('1. Outside function, x = ',x)\n",
        "\n",
        "def increment(a):\n",
        "    y=1 #Local variable\n",
        "    #x=20 #Local variable\n",
        "    print('2. Inside function, x= ',x)\n",
        "    print('3. Inside function, y= ',y)    \n",
        "    y=y+a\n",
        "    x=x+a #Local variable\n",
        "    print('4. Incremented value, y= ',y)\n",
        "\n",
        "increment(2)\n",
        "print('5. Outside function again, x= ',x)"
      ],
      "execution_count": null,
      "outputs": []
    },
    {
      "cell_type": "markdown",
      "metadata": {
        "id": "wVu5mlMTV3yH"
      },
      "source": [
        "# Global keyword\n",
        "\n",
        "We **`global`** keyword to read and write a global variable inside a function.\n",
        "\n",
        "Use of `global` keyword outside a function has no effect"
      ]
    },
    {
      "cell_type": "code",
      "metadata": {
        "id": "3N43ZHIiTojR"
      },
      "source": [
        "x = 10  #Global Variable\n",
        "print('1. Outside function, x = ',x)\n",
        "\n",
        "def increment(a):\n",
        "    y=1 #Local variable\n",
        "    global x #Change Scope to global\n",
        "    print('2. Inside function, x= ',x)\n",
        "    print('3. Inside function, y= ',y)    \n",
        "    y=y+a\n",
        "    x=x+a #Declared global\n",
        "    print('4. Incremented value, y= ',y)\n",
        "    print('5. Incremented value, x= ',x)\n",
        "\n",
        "increment(2)\n",
        "print('5. Outside function again, x= ',x)"
      ],
      "execution_count": null,
      "outputs": []
    },
    {
      "cell_type": "code",
      "metadata": {
        "id": "MdqnNr4TWfto"
      },
      "source": [
        "x = 10  #Global Variable\n",
        "print('1. Outside function, x = ',x)\n",
        "global x # no effect\n",
        "def increment(a):\n",
        "    y=1 #Local variable\n",
        "    #global x\n",
        "    print('2. Inside function, x= ',x)\n",
        "    print('3. Inside function, y= ',y)    \n",
        "    y=y+a\n",
        "    x=x+a #Local variable\n",
        "    print('4. Incremented value, y= ',y)\n",
        "    print('5. Incremented value, x= ',x)\n",
        "\n",
        "increment(2)\n",
        "print('5. Outside function again, x= ',x)"
      ],
      "execution_count": null,
      "outputs": []
    },
    {
      "cell_type": "markdown",
      "metadata": {
        "id": "Zv9Hik7ZYmhK"
      },
      "source": [
        "# Modules\n",
        "\n",
        "* A module is a file consisting of Python code.\n",
        "* A module can define functions, classes and variables. A module can also include runnable code.\n",
        "\n",
        "**Library** is a collection of modules."
      ]
    },
    {
      "cell_type": "markdown",
      "metadata": {
        "id": "EtAOjPHUZKfG"
      },
      "source": [
        "**Example: Math Module**\n",
        "\n",
        "This module provides access to the mathematical functions defined by the C standard.\n",
        "\n",
        "https://docs.python.org/3/library/math.html\n",
        "\n",
        "The **import** statement adds the object to the current scope of your program."
      ]
    },
    {
      "cell_type": "code",
      "metadata": {
        "id": "WEGBpeWjYlXo"
      },
      "source": [
        "#%% Module\n",
        "import math  #Gain access to code from math module\n",
        "print( math.log(math.e) )\n",
        "print( math.sin(0) )\n",
        "print( math.sin(math.pi) )\n",
        "print( math.factorial(5) )"
      ],
      "execution_count": null,
      "outputs": []
    },
    {
      "cell_type": "code",
      "metadata": {
        "id": "CKww2qF_Z8AT"
      },
      "source": [
        "import math as ma # define an abbreviation for module name\n",
        "print( ma.log10(10) )\n",
        "print( ma.sqrt(4) )\n",
        "print( ma.cos(0) )\n",
        "print( ma.cos(ma.pi) )"
      ],
      "execution_count": null,
      "outputs": []
    },
    {
      "cell_type": "code",
      "metadata": {
        "id": "He8TiK5yZ-MU"
      },
      "source": [
        "# Specify both the code to be imported along with the module where it is contained\n",
        "from math import pi\n",
        "print(\"The value of pi is\", pi)"
      ],
      "execution_count": null,
      "outputs": []
    },
    {
      "cell_type": "code",
      "metadata": {
        "id": "mZiXWsCFaAHx"
      },
      "source": [
        "from math import pi,sin, cos\n",
        "def sincos(ang):\n",
        "    return sin(ang),cos(ang)\n",
        "print( sincos(pi))"
      ],
      "execution_count": null,
      "outputs": []
    },
    {
      "cell_type": "markdown",
      "metadata": {
        "id": "nWNmXO3WdON6"
      },
      "source": [
        "# Practice Programs\n",
        "\n",
        "1. Write a function that returns the number of vowels in a string\n",
        "\n",
        "2. Write a function that returns the grade in a subject, given the score in the subject. \n",
        "\n",
        "Eg. 0-40: C, 41:60: B, 61:70: A, 71-100:A+\n",
        "\n",
        "3. Write a function that returns an email id given the name and surname of the person.\n",
        "(use lambda function)\n",
        "\n",
        "Eg. Rinki Gupta: rgupta@xyz.co.in\n"
      ]
    },
    {
      "cell_type": "code",
      "metadata": {
        "id": "oto_7qHpo-FZ"
      },
      "source": [
        ""
      ],
      "execution_count": null,
      "outputs": []
    }
  ]
}