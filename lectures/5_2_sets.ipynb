{
  "nbformat": 4,
  "nbformat_minor": 0,
  "metadata": {
    "kernelspec": {
      "display_name": "Python 3",
      "language": "python",
      "name": "python3"
    },
    "language_info": {
      "codemirror_mode": {
        "name": "ipython",
        "version": 3
      },
      "file_extension": ".py",
      "mimetype": "text/x-python",
      "name": "python",
      "nbconvert_exporter": "python",
      "pygments_lexer": "ipython3",
      "version": "3.6.4"
    },
    "colab": {
      "name": "5_2_sets.ipynb",
      "provenance": [],
      "collapsed_sections": [],
      "include_colab_link": true
    }
  },
  "cells": [
    {
      "cell_type": "markdown",
      "metadata": {
        "id": "view-in-github",
        "colab_type": "text"
      },
      "source": [
        "<a href=\"https://colab.research.google.com/github/RinkiGupta/ECE319/blob/master/lectures/5_2_sets.ipynb\" target=\"_parent\"><img src=\"https://colab.research.google.com/assets/colab-badge.svg\" alt=\"Open In Colab\"/></a>"
      ]
    },
    {
      "cell_type": "markdown",
      "metadata": {
        "id": "dz_9gox_Ddad"
      },
      "source": [
        "# Sets\n",
        "* Unordered collections of unique elements\n",
        "* Sets are comma-separated values defined in curly brackets {} or using function ``` set() ```.\n",
        "* Sets do not admit duplicate elements.\n",
        "* Sets may contain values of mixed datatypes, but must be immutable\n",
        "* Sets are unordered and the items has no index.\n",
        "\n",
        "Unlike Python lists, sets are unordered and can contain no duplicate elements. \n",
        "Hence, items in a set cannot be access by referring to an index. But you can loop through the set items using a for loop.\n",
        "\n",
        "Python distinguishes between a set and a dictionary by the fact that all the items in a dictionary are colon-connected (:) key-value pairs, while the elements in a set are simply values."
      ]
    },
    {
      "cell_type": "markdown",
      "metadata": {
        "id": "aS9WRKiVPQ7F"
      },
      "source": [
        "## Set Creation"
      ]
    },
    {
      "cell_type": "code",
      "metadata": {
        "id": "wksMHT_kDdae",
        "outputId": "c39ad65f-1d6c-4eef-e980-7a76234ddbd2",
        "colab": {
          "base_uri": "https://localhost:8080/",
          "height": 68
        }
      },
      "source": [
        "set1 = {1, 2, 3, 1, 2} # duplicate elements removed\n",
        "print('Set 1:',set1,type(set1))\n",
        "print('Number of elements in Set1:',len(set1))\n",
        "set2 = set([3, 4, 5])\n",
        "print('Set 2:',set2,type(set2))"
      ],
      "execution_count": 19,
      "outputs": [
        {
          "output_type": "stream",
          "text": [
            "Set 1: {1, 2, 3} <class 'set'>\n",
            "Number of elements in Set1: 3\n",
            "Set 2: {3, 4, 5} <class 'set'>\n"
          ],
          "name": "stdout"
        }
      ]
    },
    {
      "cell_type": "code",
      "metadata": {
        "id": "ojd67EfVJuq0",
        "outputId": "fa3d9564-a89d-4e75-a9ff-68ec7accb9fc",
        "colab": {
          "base_uri": "https://localhost:8080/",
          "height": 34
        }
      },
      "source": [
        "eg1 = {1.0, \"Hello\", (1, 2, 3)}\n",
        "#eg1 = {1.0, \"Hello\", (1, 2, 3),[3,4,5]} # mutable values not allowed\n",
        "print('Set eg1:',eg1)"
      ],
      "execution_count": 8,
      "outputs": [
        {
          "output_type": "stream",
          "text": [
            "Set eg1: {1.0, 'Hello', (1, 2, 3)}\n"
          ],
          "name": "stdout"
        }
      ]
    },
    {
      "cell_type": "code",
      "metadata": {
        "id": "spGZNlrGPek6",
        "outputId": "bcb1b7c0-33f3-481b-d690-d777a430e6b8",
        "colab": {
          "base_uri": "https://localhost:8080/",
          "height": 51
        }
      },
      "source": [
        "# Empty Set\n",
        "eg2 = {} # this will create a dictionary\n",
        "eg3 = set()\n",
        "print('eg2:',eg2,type(eg2))\n",
        "print('eg3:',eg3,type(eg3))"
      ],
      "execution_count": 27,
      "outputs": [
        {
          "output_type": "stream",
          "text": [
            "eg2: {} <class 'dict'>\n",
            "eg3: set() <class 'set'>\n"
          ],
          "name": "stdout"
        }
      ]
    },
    {
      "cell_type": "markdown",
      "metadata": {
        "id": "vgF4wh1fDdbH"
      },
      "source": [
        "## Modifying sets\n",
        "\n",
        "Sets are mutable, but since they are unordered, indexing cannot be used. Hence, sets can be modified using methods like add(), update() and remove()."
      ]
    },
    {
      "cell_type": "code",
      "metadata": {
        "id": "6MmLHeVwMklW",
        "outputId": "746c1a26-63a5-4439-fa3c-e2635cee0df0",
        "colab": {
          "base_uri": "https://localhost:8080/",
          "height": 164
        }
      },
      "source": [
        "print(set1[0]) # no index-accessing"
      ],
      "execution_count": 10,
      "outputs": [
        {
          "output_type": "error",
          "ename": "TypeError",
          "evalue": "ignored",
          "traceback": [
            "\u001b[0;31m---------------------------------------------------------------------------\u001b[0m",
            "\u001b[0;31mTypeError\u001b[0m                                 Traceback (most recent call last)",
            "\u001b[0;32m<ipython-input-10-ca90c6e7048b>\u001b[0m in \u001b[0;36m<module>\u001b[0;34m()\u001b[0m\n\u001b[0;32m----> 1\u001b[0;31m \u001b[0mprint\u001b[0m\u001b[0;34m(\u001b[0m\u001b[0mset1\u001b[0m\u001b[0;34m[\u001b[0m\u001b[0;36m0\u001b[0m\u001b[0;34m]\u001b[0m\u001b[0;34m)\u001b[0m\u001b[0;34m\u001b[0m\u001b[0;34m\u001b[0m\u001b[0m\n\u001b[0m",
            "\u001b[0;31mTypeError\u001b[0m: 'set' object does not support indexing"
          ]
        }
      ]
    },
    {
      "cell_type": "code",
      "metadata": {
        "id": "SuTEsHKeDdbH",
        "outputId": "ece3a538-8c9f-4504-fc64-810e638e2f84",
        "colab": {
          "base_uri": "https://localhost:8080/",
          "height": 51
        }
      },
      "source": [
        "# Set is mutable, but unordered\n",
        "print('Set1:',set1)\n",
        "set1.add(10) # add an element\n",
        "print('Set1:',set1)"
      ],
      "execution_count": 20,
      "outputs": [
        {
          "output_type": "stream",
          "text": [
            "Set1: {1, 2, 3}\n",
            "Set1: {10, 1, 2, 3}\n"
          ],
          "name": "stdout"
        }
      ]
    },
    {
      "cell_type": "code",
      "metadata": {
        "id": "C7QY_dHyM1g6",
        "outputId": "68e5fcf2-9a90-45e2-d319-b3f5deedf5e5",
        "colab": {
          "base_uri": "https://localhost:8080/",
          "height": 34
        }
      },
      "source": [
        "set1.update([4,20,10]) # add multiple elements\n",
        "print('Set1:',set1)"
      ],
      "execution_count": 22,
      "outputs": [
        {
          "output_type": "stream",
          "text": [
            "Set1: {1, 2, 3, 4, 10, 20}\n"
          ],
          "name": "stdout"
        }
      ]
    },
    {
      "cell_type": "code",
      "metadata": {
        "id": "FluCzONnM4Mh",
        "outputId": "16bb617f-e647-4208-e683-e12d4d23a64a",
        "colab": {
          "base_uri": "https://localhost:8080/",
          "height": 34
        }
      },
      "source": [
        "set1.remove(10) # Remove an elemet from set\n",
        "print('Set1:',set1)\n"
      ],
      "execution_count": 23,
      "outputs": [
        {
          "output_type": "stream",
          "text": [
            "Set1: {1, 2, 3, 4, 20}\n"
          ],
          "name": "stdout"
        }
      ]
    },
    {
      "cell_type": "code",
      "metadata": {
        "id": "-Pq7OTWWM68B",
        "outputId": "a16477fe-a0ae-4c89-af75-4f605950f4e3",
        "colab": {
          "base_uri": "https://localhost:8080/",
          "height": 34
        }
      },
      "source": [
        "set1.discard(20) # Remove an elemet from set\n",
        "print('Set1:',set1)"
      ],
      "execution_count": 24,
      "outputs": [
        {
          "output_type": "stream",
          "text": [
            "Set1: {1, 2, 3, 4}\n"
          ],
          "name": "stdout"
        }
      ]
    },
    {
      "cell_type": "markdown",
      "metadata": {
        "id": "4l9VbIyGOVlB"
      },
      "source": [
        "The `discard()` function leaves a set unchanged if the element is **not** present in the set. On the other hand, the `remove()` function will raise an error if element is not present in the set."
      ]
    },
    {
      "cell_type": "code",
      "metadata": {
        "id": "NFV-wpQUPBBM",
        "outputId": "7e6c10a8-c313-40c9-a62b-ed263e20fb20",
        "colab": {
          "base_uri": "https://localhost:8080/",
          "height": 34
        }
      },
      "source": [
        "set1.discard(20)\n",
        "print('Set1:',set1)"
      ],
      "execution_count": 25,
      "outputs": [
        {
          "output_type": "stream",
          "text": [
            "Set1: {1, 2, 3, 4}\n"
          ],
          "name": "stdout"
        }
      ]
    },
    {
      "cell_type": "code",
      "metadata": {
        "id": "FGTCPKiAPA1V",
        "outputId": "05622126-1e53-430c-fecc-f9d911984161",
        "colab": {
          "base_uri": "https://localhost:8080/",
          "height": 182
        }
      },
      "source": [
        "set1.remove(10) \n",
        "print('Set1:',set1)"
      ],
      "execution_count": 26,
      "outputs": [
        {
          "output_type": "error",
          "ename": "KeyError",
          "evalue": "ignored",
          "traceback": [
            "\u001b[0;31m---------------------------------------------------------------------------\u001b[0m",
            "\u001b[0;31mKeyError\u001b[0m                                  Traceback (most recent call last)",
            "\u001b[0;32m<ipython-input-26-9da6528b8f21>\u001b[0m in \u001b[0;36m<module>\u001b[0;34m()\u001b[0m\n\u001b[0;32m----> 1\u001b[0;31m \u001b[0mset1\u001b[0m\u001b[0;34m.\u001b[0m\u001b[0mremove\u001b[0m\u001b[0;34m(\u001b[0m\u001b[0;36m10\u001b[0m\u001b[0;34m)\u001b[0m\u001b[0;34m\u001b[0m\u001b[0;34m\u001b[0m\u001b[0m\n\u001b[0m\u001b[1;32m      2\u001b[0m \u001b[0mprint\u001b[0m\u001b[0;34m(\u001b[0m\u001b[0;34m'Set1:'\u001b[0m\u001b[0;34m,\u001b[0m\u001b[0mset1\u001b[0m\u001b[0;34m)\u001b[0m\u001b[0;34m\u001b[0m\u001b[0;34m\u001b[0m\u001b[0m\n",
            "\u001b[0;31mKeyError\u001b[0m: 10"
          ]
        }
      ]
    },
    {
      "cell_type": "markdown",
      "metadata": {
        "id": "a1sAo_s4L-6W"
      },
      "source": [
        "## Set Operations"
      ]
    },
    {
      "cell_type": "code",
      "metadata": {
        "id": "7xZo3oF7JviD",
        "outputId": "12b581d1-997a-4e0d-b39c-090ffa50788d",
        "colab": {
          "base_uri": "https://localhost:8080/",
          "height": 51
        }
      },
      "source": [
        "set1 = {1, 2, 3, 4}\n",
        "set2 = set([3, 4, 5, 6])\n",
        "# UNION / OR : Set of all elements from both sets\n",
        "print('OR(Set1,Set2): ',set1 | set2) # {1,2,3,4,5,6}, Note: No Duplicate items\n",
        "print('UNION(Set1,Set2): ',set1.union(set2)) # {1,2,3,4,5,6}"
      ],
      "execution_count": 29,
      "outputs": [
        {
          "output_type": "stream",
          "text": [
            "OR(Set1,Set2):  {1, 2, 3, 4, 5, 6}\n",
            "UNION(Set1,Set2):  {1, 2, 3, 4, 5, 6}\n"
          ],
          "name": "stdout"
        }
      ]
    },
    {
      "cell_type": "code",
      "metadata": {
        "id": "4ZlRpfv6Ddam",
        "outputId": "7b96f3ee-e570-4a30-80d5-be7450090557",
        "colab": {
          "base_uri": "https://localhost:8080/",
          "height": 51
        }
      },
      "source": [
        "set1 = {1, 2, 3, 4}\n",
        "set2 = set([3, 4, 5, 6])\n",
        "# INTERSECTION / AND: Set of elements that are present in both the sets\n",
        "print('AND(Set1,Set2): ',set1 & set2) # {3, 4}\n",
        "print('INTERSECTION(Set1,Set2): ',set1.intersection(set2)) # {3, 4}"
      ],
      "execution_count": 30,
      "outputs": [
        {
          "output_type": "stream",
          "text": [
            "AND(Set1,Set2):  {3, 4}\n",
            "INTERSECTION(Set1,Set2):  {3, 4}\n"
          ],
          "name": "stdout"
        }
      ]
    },
    {
      "cell_type": "code",
      "metadata": {
        "id": "yjk-muQsDdar",
        "outputId": "3c140637-bde3-4a0b-e910-ecdaf07dd858",
        "colab": {
          "base_uri": "https://localhost:8080/",
          "height": 68
        }
      },
      "source": [
        "# Set Difference\n",
        "set1 = {1, 2, 3, 4}\n",
        "set2 = set([3, 4, 5, 6])\n",
        "print('(Set1-Set2): ',set1-set2) # {1, 2} elements in set1, but not in set2\n",
        "print('(Set2-Set1): ',set2-set1) # {5, 6}\n",
        "print('(Set2-Set1): ',set2.difference(set1)) # Alternative"
      ],
      "execution_count": 31,
      "outputs": [
        {
          "output_type": "stream",
          "text": [
            "(Set1-Set2):  {1, 2}\n",
            "(Set2-Set1):  {5, 6}\n",
            "(Set2-Set1):  {5, 6}\n"
          ],
          "name": "stdout"
        }
      ]
    },
    {
      "cell_type": "code",
      "metadata": {
        "id": "VE7_5QMjDda0",
        "outputId": "56b81e3f-0332-451e-9d39-5f6dfc771a3c",
        "colab": {
          "base_uri": "https://localhost:8080/",
          "height": 86
        }
      },
      "source": [
        "# Symmetric Difference: elements in Set1 or Set2, but not in both \n",
        "set1 = {1, 2, 3, 4}\n",
        "set2 = set([3, 4, 5, 6])\n",
        "print('(set1|set2 - set1&set2): ',set1^set2) # {1, 2, 5, 6}, can use set1.symmetric_difference(set2) \n",
        "print('Symmetric Difference: ',set1.symmetric_difference(set2))\n",
        "print('Symmetric Difference: ',set2.symmetric_difference(set1))\n",
        "print('(set1|set2 - set1&set2): ',(set1|set2)-(set1&set2)) # {1, 2, 5, 6}"
      ],
      "execution_count": 32,
      "outputs": [
        {
          "output_type": "stream",
          "text": [
            "(set1|set2 - set1&set2):  {1, 2, 5, 6}\n",
            "Symmetric Difference:  {1, 2, 5, 6}\n",
            "Symmetric Difference:  {1, 2, 5, 6}\n",
            "(set1|set2 - set1&set2):  {1, 2, 5, 6}\n"
          ],
          "name": "stdout"
        }
      ]
    },
    {
      "cell_type": "code",
      "metadata": {
        "id": "TmoWYIhrDda6",
        "outputId": "8602c458-5024-441d-b2ec-a0a29abe149b",
        "colab": {
          "base_uri": "https://localhost:8080/",
          "height": 86
        }
      },
      "source": [
        "# Subset\n",
        "set1 = {1, 2, 3, 4}\n",
        "set2 = set([3, 4])\n",
        "print('Is Set2 a subset of Set1: ',set2<set1) # All elements in set2 also in set1?\n",
        "print('Is Set2 a subset of Set1: ',set2.issubset(set1))\n",
        "print('Is Set1 a subset of Set2: ',set1<set2)\n",
        "print('Is Set1 a subset of Set2: ',set1.issubset(set2))"
      ],
      "execution_count": 33,
      "outputs": [
        {
          "output_type": "stream",
          "text": [
            "Is Set2 a subset of Set1:  True\n",
            "Is Set2 a subset of Set1:  True\n",
            "Is Set1 a subset of Set2:  False\n",
            "Is Set1 a subset of Set2:  False\n"
          ],
          "name": "stdout"
        }
      ]
    },
    {
      "cell_type": "code",
      "metadata": {
        "id": "ZolohgfwajE4",
        "outputId": "990a8cd9-fc02-41a9-99b6-90dec712d1ce",
        "colab": {
          "base_uri": "https://localhost:8080/",
          "height": 86
        }
      },
      "source": [
        "# Superset\n",
        "set1 = {1, 2, 3, 4}\n",
        "set2 = set([3, 4])\n",
        "print('Is Set2 a Superset of Set1: ',set2>set1) # All elements in set1 also in set2?\n",
        "print('Is Set2 a Superset of Set1: ',set2.issuperset(set1))\n",
        "print('Is Set1 a Superset of Set2: ',set1>set2)\n",
        "print('Is Set1 a Superset of Set2: ',set1.issuperset(set2))"
      ],
      "execution_count": 39,
      "outputs": [
        {
          "output_type": "stream",
          "text": [
            "Is Set2 a Superset of Set1:  False\n",
            "Is Set2 a Superset of Set1:  False\n",
            "Is Set1 a Superset of Set2:  True\n",
            "Is Set1 a Superset of Set2:  True\n"
          ],
          "name": "stdout"
        }
      ]
    },
    {
      "cell_type": "code",
      "metadata": {
        "id": "RsGCswRQDdbA",
        "outputId": "78bd28e0-db47-4bf9-91cc-10f4360ff10e",
        "colab": {
          "base_uri": "https://localhost:8080/",
          "height": 51
        }
      },
      "source": [
        "# Set Equality\n",
        "set1 = {1, 2, 3, 4}\n",
        "set2 = set([3, 4])\n",
        "set3 = {3, 4}\n",
        "print('Set 1 = Set2? :',set1==set2)\n",
        "print('Set 2 = Set3? :',set2==set3)"
      ],
      "execution_count": 34,
      "outputs": [
        {
          "output_type": "stream",
          "text": [
            "Set 1 = Set2? : False\n",
            "Set 2 = Set3? : True\n"
          ],
          "name": "stdout"
        }
      ]
    },
    {
      "cell_type": "code",
      "metadata": {
        "id": "xP1LvDHVDdbE",
        "outputId": "09ca93bc-9de3-46c3-ec22-1375fb3ca1ca",
        "colab": {
          "base_uri": "https://localhost:8080/",
          "height": 51
        }
      },
      "source": [
        "# Membership Operator\n",
        "set1 = {1, 2, 3, 4}\n",
        "print(1 in set1)\n",
        "print(5 in set1)"
      ],
      "execution_count": 36,
      "outputs": [
        {
          "output_type": "stream",
          "text": [
            "True\n",
            "False\n"
          ],
          "name": "stdout"
        }
      ]
    },
    {
      "cell_type": "markdown",
      "metadata": {
        "id": "JVG5LfHMDdbK"
      },
      "source": [
        "## Set as iterable \n",
        "\n",
        "Sets are unordered and the items has no index. Hence, items in a set cannot be access by referring to an index.\n",
        "But you can loop through the set items using a for loop."
      ]
    },
    {
      "cell_type": "code",
      "metadata": {
        "id": "ZRYUwuQADdbL",
        "outputId": "767eb950-66d6-43c7-e6d8-4a52f4d2a513",
        "colab": {
          "base_uri": "https://localhost:8080/",
          "height": 86
        }
      },
      "source": [
        "eg1 = {1.0, \"Hello\", (1, 2, 3)}\n",
        "print('Elements in eg1:')\n",
        "for a in eg1:\n",
        "    print(a,type(a))"
      ],
      "execution_count": 38,
      "outputs": [
        {
          "output_type": "stream",
          "text": [
            "Elements in eg1:\n",
            "1.0 <class 'float'>\n",
            "Hello <class 'str'>\n",
            "(1, 2, 3) <class 'tuple'>\n"
          ],
          "name": "stdout"
        }
      ]
    }
  ]
}