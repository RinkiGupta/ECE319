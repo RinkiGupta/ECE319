{
  "nbformat": 4,
  "nbformat_minor": 0,
  "metadata": {
    "kernelspec": {
      "display_name": "Python 3",
      "language": "python",
      "name": "python3"
    },
    "language_info": {
      "codemirror_mode": {
        "name": "ipython",
        "version": 3
      },
      "file_extension": ".py",
      "mimetype": "text/x-python",
      "name": "python",
      "nbconvert_exporter": "python",
      "pygments_lexer": "ipython3",
      "version": "3.6.4"
    },
    "colab": {
      "name": "5_2_sets.ipynb",
      "provenance": [],
      "collapsed_sections": [],
      "include_colab_link": true
    }
  },
  "cells": [
    {
      "cell_type": "markdown",
      "metadata": {
        "id": "view-in-github",
        "colab_type": "text"
      },
      "source": [
        "<a href=\"https://colab.research.google.com/github/RinkiGupta/ECE319/blob/master/lectures/5_2_sets.ipynb\" target=\"_parent\"><img src=\"https://colab.research.google.com/assets/colab-badge.svg\" alt=\"Open In Colab\"/></a>"
      ]
    },
    {
      "cell_type": "markdown",
      "metadata": {
        "id": "dz_9gox_Ddad"
      },
      "source": [
        "# Sets\n",
        "* Sets are comma-separated values defined in curly brackets {} or using function ``` set() ```.\n",
        "* Unordered collections of unique elements\n",
        "> * Sets are unordered and the items has no index.\n",
        "> * Sets do not admit duplicate elements.\n",
        "\n",
        "* Sets may contain values of mixed datatypes, but must be immutable\n"
      ]
    },
    {
      "cell_type": "markdown",
      "metadata": {
        "id": "aS9WRKiVPQ7F"
      },
      "source": [
        "## Set Creation\n",
        "* Values in curly brakets. \n",
        "> Python distinguishes between a set and a dictionary by the fact that all the items in a dictionary are colon-connected (:) key-value pairs, while the elements in a set are simply values.\n",
        "* ```set() ``` constructor\n",
        "\n"
      ]
    },
    {
      "cell_type": "code",
      "metadata": {
        "id": "wksMHT_kDdae"
      },
      "source": [
        "set1 = {1, 2, 3, 1, 2} # duplicate elements removed\n",
        "print('Set 1:',set1,type(set1))\n",
        "print('Number of elements in Set1:',len(set1))"
      ],
      "execution_count": null,
      "outputs": []
    },
    {
      "cell_type": "code",
      "metadata": {
        "id": "ojd67EfVJuq0"
      },
      "source": [
        "set2 = {1.0, \"Hello\", (1, 2, 3)}\n",
        "#set2 = {1.0, \"Hello\", (1, 2, 3),[3,4,5]} # mutable values not allowed\n",
        "print('Set 2:',set2)"
      ],
      "execution_count": null,
      "outputs": []
    },
    {
      "cell_type": "code",
      "metadata": {
        "id": "KF9Tb2grCHSl"
      },
      "source": [
        "set3 = set([3, 4, 5])\n",
        "set4 = set((3, 4, 5))\n",
        "print('Set 3:',set3,type(set3))\n",
        "print('Set 4:',set4,type(set4))"
      ],
      "execution_count": null,
      "outputs": []
    },
    {
      "cell_type": "code",
      "metadata": {
        "id": "spGZNlrGPek6"
      },
      "source": [
        "# Empty Set\n",
        "eg = {} # this will create a dictionary\n",
        "set5 = set()\n",
        "print('eg :',eg,type(eg))\n",
        "print('Set 5:',set5,type(set5))"
      ],
      "execution_count": null,
      "outputs": []
    },
    {
      "cell_type": "code",
      "metadata": {
        "id": "wReARbynzpTr"
      },
      "source": [
        "set4[0]"
      ],
      "execution_count": null,
      "outputs": []
    },
    {
      "cell_type": "markdown",
      "metadata": {
        "id": "JVG5LfHMDdbK"
      },
      "source": [
        "## Set as iterable \n",
        "\n",
        "Sets are unordered and the items has no index. Hence, items in a set cannot be access by referring to an index.\n",
        "But you can loop through the set items using a for loop."
      ]
    },
    {
      "cell_type": "code",
      "metadata": {
        "id": "ZRYUwuQADdbL"
      },
      "source": [
        "set1 = {1.0, \"Hello\", (1, 2, 3)}\n",
        "print('Elements in set1:')\n",
        "for a in set1:\n",
        "    print(a,type(a))"
      ],
      "execution_count": null,
      "outputs": []
    },
    {
      "cell_type": "markdown",
      "metadata": {
        "id": "vgF4wh1fDdbH"
      },
      "source": [
        "## Modifying sets\n",
        "\n",
        "Sets are mutable, but since they are unordered, indexing cannot be used. \n",
        "\n",
        "Hence, sets can be modified using methods like add(), update() and remove()."
      ]
    },
    {
      "cell_type": "code",
      "metadata": {
        "id": "A_MXSI9CEOKA"
      },
      "source": [
        "set1={1, 2, 3}\n",
        "print(set1)"
      ],
      "execution_count": null,
      "outputs": []
    },
    {
      "cell_type": "code",
      "metadata": {
        "id": "6MmLHeVwMklW"
      },
      "source": [
        "print(set1[0]) # no index-accessing"
      ],
      "execution_count": null,
      "outputs": []
    },
    {
      "cell_type": "code",
      "metadata": {
        "id": "SuTEsHKeDdbH"
      },
      "source": [
        "# Set is mutable, but unordered\n",
        "print('Set1:',set1)\n",
        "set1.add(10) # add an element\n",
        "print('Set1:',set1)"
      ],
      "execution_count": null,
      "outputs": []
    },
    {
      "cell_type": "code",
      "metadata": {
        "id": "C7QY_dHyM1g6"
      },
      "source": [
        "set1.update([4,20,10]) # add multiple elements\n",
        "print('Set1:',set1)"
      ],
      "execution_count": null,
      "outputs": []
    },
    {
      "cell_type": "code",
      "metadata": {
        "id": "FluCzONnM4Mh"
      },
      "source": [
        "set1.remove(10) # Remove an element from set\n",
        "print('Set1:',set1)\n"
      ],
      "execution_count": null,
      "outputs": []
    },
    {
      "cell_type": "code",
      "metadata": {
        "id": "-Pq7OTWWM68B",
        "colab": {
          "base_uri": "https://localhost:8080/"
        },
        "outputId": "ee41064e-2b9b-496d-c031-a141b9728dfe"
      },
      "source": [
        "set1.discard(20) # Remove an element from set\n",
        "print('Set1:',set1)"
      ],
      "execution_count": null,
      "outputs": [
        {
          "output_type": "stream",
          "text": [
            "Set1: {1, 2, 3, 4}\n"
          ],
          "name": "stdout"
        }
      ]
    },
    {
      "cell_type": "markdown",
      "metadata": {
        "id": "4l9VbIyGOVlB"
      },
      "source": [
        "* The `discard()` function leaves a set unchanged if the element is **not** present in the set. \n",
        "* On the other hand, the `remove()` function will raise an error if element is not present in the set."
      ]
    },
    {
      "cell_type": "code",
      "metadata": {
        "id": "NFV-wpQUPBBM"
      },
      "source": [
        "set1.discard(20)\n",
        "print('Set1:',set1)"
      ],
      "execution_count": null,
      "outputs": []
    },
    {
      "cell_type": "code",
      "metadata": {
        "id": "FGTCPKiAPA1V"
      },
      "source": [
        "set1.remove(20) \n",
        "print('Set1:',set1)"
      ],
      "execution_count": null,
      "outputs": []
    },
    {
      "cell_type": "markdown",
      "metadata": {
        "id": "a1sAo_s4L-6W"
      },
      "source": [
        "## Set Operations"
      ]
    },
    {
      "cell_type": "code",
      "metadata": {
        "id": "7xZo3oF7JviD"
      },
      "source": [
        "set1 = {1, 2, 3, 4}\n",
        "set2 = {3, 4, 5, 6}\n",
        "print(\"Set 1: \",set1)\n",
        "print(\"Set 2: \",set2)"
      ],
      "execution_count": null,
      "outputs": []
    },
    {
      "cell_type": "code",
      "metadata": {
        "id": "t9WGCh3VOQk7"
      },
      "source": [
        "# UNION / OR : Set of all elements from both sets\n",
        "print('OR(Set1,Set2): ',set1 | set2) # Note: No Duplicate items\n",
        "print('UNION(Set1,Set2): ',set1.union(set2)) "
      ],
      "execution_count": null,
      "outputs": []
    },
    {
      "cell_type": "code",
      "metadata": {
        "id": "4ZlRpfv6Ddam"
      },
      "source": [
        "# INTERSECTION / AND: Set of elements that are present in both the sets\n",
        "print('AND(Set1,Set2): ',set1 & set2) \n",
        "print('INTERSECTION(Set1,Set2): ',set1.intersection(set2))"
      ],
      "execution_count": null,
      "outputs": []
    },
    {
      "cell_type": "code",
      "metadata": {
        "id": "yjk-muQsDdar"
      },
      "source": [
        "# Set Difference\n",
        "print('(Set1-Set2): ',set1-set2) # elements in set1, but not in set2\n",
        "print('(Set2-Set1): ',set2-set1) # elements in set2, but not in set1\n",
        "print('(Set2-Set1): ',set2.difference(set1)) # Alternative"
      ],
      "execution_count": null,
      "outputs": []
    },
    {
      "cell_type": "code",
      "metadata": {
        "id": "VE7_5QMjDda0"
      },
      "source": [
        "# Symmetric Difference: elements in Set1 or Set2, but not in both \n",
        "print('(set1|set2 - set1&set2): ',set1^set2) # can use set1.symmetric_difference(set2) \n",
        "print('Symmetric Difference: ',set1.symmetric_difference(set2))\n",
        "print('Symmetric Difference: ',set2.symmetric_difference(set1))\n",
        "print('(set1|set2 - set1&set2): ',(set1|set2)-(set1&set2)) # {1, 2, 5, 6}"
      ],
      "execution_count": null,
      "outputs": []
    },
    {
      "cell_type": "code",
      "metadata": {
        "id": "TmoWYIhrDda6"
      },
      "source": [
        "# Subset\n",
        "set1 = {1, 2, 3, 4}\n",
        "set2 = {3, 4}\n",
        "print('Is Set2 a subset of Set1: ',set2<set1) # set2 subset of set1?\n",
        "print('Is Set2 a subset of Set1: ',set2.issubset(set1))\n",
        "print('Is Set1 a subset of Set2: ',set1<set2)\n",
        "print('Is Set1 a subset of Set2: ',set1.issubset(set2))"
      ],
      "execution_count": null,
      "outputs": []
    },
    {
      "cell_type": "code",
      "metadata": {
        "id": "ZolohgfwajE4"
      },
      "source": [
        "# Superset\n",
        "set1 = {1, 2, 3, 4}\n",
        "set2 = {3, 4}\n",
        "print('Is Set2 a Superset of Set1: ',set2>set1) # All elements in set1 also in set2?\n",
        "print('Is Set2 a Superset of Set1: ',set2.issuperset(set1))\n",
        "print('Is Set1 a Superset of Set2: ',set1>set2)\n",
        "print('Is Set1 a Superset of Set2: ',set1.issuperset(set2))"
      ],
      "execution_count": null,
      "outputs": []
    },
    {
      "cell_type": "code",
      "metadata": {
        "id": "RsGCswRQDdbA"
      },
      "source": [
        "# Set Equality\n",
        "set1 = {1, 2, 3, 4}\n",
        "set2 = {3, 4}\n",
        "set3 = {3, 4}\n",
        "print('Set 1 = Set2? :',set1==set2)\n",
        "print('Set 2 = Set3? :',set2==set3)"
      ],
      "execution_count": null,
      "outputs": []
    },
    {
      "cell_type": "code",
      "metadata": {
        "id": "xP1LvDHVDdbE"
      },
      "source": [
        "# Membership Operator\n",
        "set1 = {1, 2, 3, 4}\n",
        "print(1 in set1)\n",
        "print(5 not in set1)"
      ],
      "execution_count": null,
      "outputs": []
    }
  ]
}