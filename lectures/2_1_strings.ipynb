{
  "nbformat": 4,
  "nbformat_minor": 0,
  "metadata": {
    "kernelspec": {
      "display_name": "Python 3",
      "language": "python",
      "name": "python3"
    },
    "language_info": {
      "codemirror_mode": {
        "name": "ipython",
        "version": 3
      },
      "file_extension": ".py",
      "mimetype": "text/x-python",
      "name": "python",
      "nbconvert_exporter": "python",
      "pygments_lexer": "ipython3",
      "version": "3.7.2"
    },
    "colab": {
      "provenance": [],
      "include_colab_link": true
    }
  },
  "cells": [
    {
      "cell_type": "markdown",
      "metadata": {
        "id": "view-in-github",
        "colab_type": "text"
      },
      "source": [
        "<a href=\"https://colab.research.google.com/github/RinkiGupta/ECE319/blob/master/lectures/2_1_strings.ipynb\" target=\"_parent\"><img src=\"https://colab.research.google.com/assets/colab-badge.svg\" alt=\"Open In Colab\"/></a>"
      ]
    },
    {
      "cell_type": "markdown",
      "metadata": {
        "id": "g4qdTDNoM-QA"
      },
      "source": [
        "# Python Strings\n",
        "\n",
        "String may be defined within single quotes ' ' or double quotes \" \" or triple quotes ''' ''' (multiline string)\n",
        "\n",
        "The delimiters must match."
      ]
    },
    {
      "cell_type": "code",
      "metadata": {
        "id": "MXPcSiCZM-QB"
      },
      "source": [
        "print('Hello World')\n",
        "print(\"Hello World, Again\")\n",
        "print('''Hello World !!!!!! ''')"
      ],
      "execution_count": null,
      "outputs": []
    },
    {
      "cell_type": "code",
      "metadata": {
        "id": "_1-B5O86M-QI"
      },
      "source": [
        "s = \"Hello World\"\n",
        "print(s,type(s))"
      ],
      "execution_count": null,
      "outputs": []
    },
    {
      "cell_type": "code",
      "metadata": {
        "id": "aQyGG7nyM-QL"
      },
      "source": [
        "## Strings are immutable datatypes\n",
        "print(s[0])\n",
        "s[0]='E'"
      ],
      "execution_count": null,
      "outputs": []
    },
    {
      "cell_type": "markdown",
      "metadata": {
        "id": "6SzN4JJzM-QP"
      },
      "source": [
        "## Slicing\n",
        "Strings are sequence types. Indices in Python begin at 0. Negative Index are also allowed.\n",
        "\n",
        "<img src='https://github.com/RinkiGupta/ECE319/blob/master/res/m2_pic0_index.PNG?raw=true' width=60%>"
      ]
    },
    {
      "cell_type": "code",
      "metadata": {
        "id": "in-RvM4IM-QP"
      },
      "source": [
        "s = \"Hello World\"\n",
        "print('s=', s) \n",
        "print('s[0]=', s[0]) # character at index 0\n",
        "print('s[-1]=', s[-1]) # character at index -1"
      ],
      "execution_count": null,
      "outputs": []
    },
    {
      "cell_type": "code",
      "metadata": {
        "id": "RH-q6GIXBEmq"
      },
      "source": [
        "# Guess the output\n",
        "print('s[6]', s[6])\n",
        "print('s[-5]', s[-5])"
      ],
      "execution_count": null,
      "outputs": []
    },
    {
      "cell_type": "code",
      "metadata": {
        "id": "VQB8Gj54BY72"
      },
      "source": [
        "print('s[0:5]', s[0:5]) # sub-string between index 0 to 4\n",
        "print('s[:5]', s[:5]) # sub-string from start index to index 4\n",
        "print('s[:-6]', s[:-6]) # sub-string from start index to index -7"
      ],
      "execution_count": null,
      "outputs": []
    },
    {
      "cell_type": "code",
      "metadata": {
        "id": "aLfIuikNOPIy"
      },
      "source": [
        "# DIY: Try using positive and negative indices to slice \"World\" from s\n",
        "print() # use positive index\n",
        "print() # use negative index"
      ],
      "execution_count": null,
      "outputs": []
    },
    {
      "cell_type": "code",
      "metadata": {
        "id": "f38FbC8CA86G"
      },
      "source": [
        "# change step\n",
        "print('s[0:11:2]', s[0:11:2]) # characters between index 0 to 10 in steps of 2\n",
        "print('s[::2]', s[::2]) # characters between start index to end index in steps of 2"
      ],
      "execution_count": null,
      "outputs": []
    },
    {
      "cell_type": "code",
      "metadata": {
        "id": "SlKoV3c_CM5q"
      },
      "source": [
        "# DIY: guess the output\n",
        "print('s[-6:]=',s[-6:])\n",
        "print('s[-6::-1]=',s[-6::-1])"
      ],
      "execution_count": null,
      "outputs": []
    },
    {
      "cell_type": "markdown",
      "metadata": {
        "id": "8KIm9cu3F67q"
      },
      "source": [
        "Length of String = Number of characters in a string"
      ]
    },
    {
      "cell_type": "code",
      "metadata": {
        "id": "V11n6QoFF5-j"
      },
      "source": [
        "s = \"Hello World\"\n",
        "print(\"Length of string \")\n",
        "print(len(s)) "
      ],
      "execution_count": null,
      "outputs": []
    },
    {
      "cell_type": "markdown",
      "metadata": {
        "id": "q-oBYFA5M-QW"
      },
      "source": [
        "## String Methods\n",
        "A new string is returned as output, the original string is not modified."
      ]
    },
    {
      "cell_type": "code",
      "metadata": {
        "id": "PI7eaaE7M-QW"
      },
      "source": [
        "s1 = 'HEllO woRLd'\n",
        "s2=s1.lower(); print('s1.lower()  ',s1,' -> ',s2) # returns string in lower case\n",
        "s2=s1.upper(); print('s1.upper()  ',s1,' -> ',s2) # returns string in upper case\n",
        "s2=s1.title(); print('s1.title()  ',s1,' -> ',s2) # returns string in title case"
      ],
      "execution_count": null,
      "outputs": []
    },
    {
      "cell_type": "code",
      "metadata": {
        "id": "4daZ9oU-M-Qd"
      },
      "source": [
        "s1 = 'Hello World'\n",
        "# Replace substring\n",
        "s2 = s1.replace(\"World\", \"Python\") # replaces all instances of 'World' with 'Python'\n",
        "print(s2)"
      ],
      "execution_count": null,
      "outputs": []
    },
    {
      "cell_type": "code",
      "metadata": {
        "id": "JA3EkaFyFLQR"
      },
      "source": [
        "s1 = 'Hello World'\n",
        "# guess the output\n",
        "s2=s1.replace(\" \",\",\")\n",
        "print(s2)\n",
        "s2=s1.replace(\" \",\"\")\n",
        "print(s2)"
      ],
      "execution_count": null,
      "outputs": []
    },
    {
      "cell_type": "code",
      "metadata": {
        "id": "69mVl0IyIF1T"
      },
      "source": [
        "s = \"Hello World\"\n",
        "# returns index of first occurrence of substring if found and -1 otherwise\n",
        "print(s.find('World')) "
      ],
      "execution_count": null,
      "outputs": []
    },
    {
      "cell_type": "code",
      "metadata": {
        "id": "GIWk6LVsIYLZ"
      },
      "source": [
        "# Guess the output\n",
        "print(\"s.find('l') \", s.find('l')) \n",
        "print(\"s.find('Python') \",s.find('Python'))"
      ],
      "execution_count": null,
      "outputs": []
    },
    {
      "cell_type": "code",
      "metadata": {
        "id": "9jHHoxFLI7C7"
      },
      "source": [
        "# index of first occurrences between [start, end] indices\n",
        "print(\"s.find('l', 6,len(s1)) \", s1.find('l', 6,len(s1)) ) "
      ],
      "execution_count": null,
      "outputs": []
    },
    {
      "cell_type": "code",
      "metadata": {
        "id": "WNFy5iikM-Qj"
      },
      "source": [
        "# number of occurrences of substring between [start, end] indices\n",
        "print(\" s1.count('l') \")\n",
        "print( s1.count('l') ) \n",
        "\n",
        "print(\" s1.count('P') \")\n",
        "print( s1.count('P') ) \n",
        "\n",
        "print(\" s1.count('l', 6,len(s1)) \")\n",
        "print( s1.count('l', 6,len(s1)) ) "
      ],
      "execution_count": null,
      "outputs": []
    },
    {
      "cell_type": "markdown",
      "metadata": {
        "id": "dF29yQ6iKEGC"
      },
      "source": [
        "More String Methods..."
      ]
    },
    {
      "cell_type": "code",
      "metadata": {
        "id": "zn3RgXY6M-Qg"
      },
      "source": [
        "# Check String \n",
        "s1='Hello World'; \n",
        "s2=s1.startswith('Hello'); print(\"s1.startswith('Hello') \", s2) # True is s1 begins with the specified substring\n",
        "s2=s1.startswith('He'); print(\"s1.startswith('He') \", s2) \n",
        "s2=s1.endswith('World'); print(\"s1.endswith('World') \", s2)  # True is s1 ends with the specified substring\n",
        "s2=s1.endswith('ld'); print(\"s1.endswith('ld') \", s2) "
      ],
      "execution_count": null,
      "outputs": []
    },
    {
      "cell_type": "code",
      "metadata": {
        "id": "LdwEOOn2KM_d"
      },
      "source": [
        "s3='45018' \n",
        "s2=s3.isdigit(); print(\"s3.isdigit() \", s2)  # returns True if every character in the string is a digit\n",
        "s4='   '\n",
        "s2=s4.isspace(); print(\"s4.isspace() \", s2) # returns True if every character in the string is a whitespace"
      ],
      "execution_count": null,
      "outputs": []
    },
    {
      "cell_type": "code",
      "metadata": {
        "id": "w3fUmpmaM-Qa"
      },
      "source": [
        "# remove whitespace \n",
        "s4 = '     bread and butter     '\n",
        "print('.'+s4+'.')\n",
        "print('.'+s4.lstrip()+'.') #remove leading white space \n",
        "print('.'+s4.rstrip()+'.')#remove trailing white space\n",
        "print('.'+s4.strip()+'.') #run both lstrip and rstrip"
      ],
      "execution_count": null,
      "outputs": []
    },
    {
      "cell_type": "code",
      "metadata": {
        "id": "ihmbOoZfM-Ql"
      },
      "source": [
        "# Join strings in a list, no numeral allowed in list \n",
        "list_of_words = ['Hello','World','Again']\n",
        "string_of_words=' '.join(list_of_words) \n",
        "print(list_of_words, type(list_of_words),' -> ', string_of_words, type(string_of_words))"
      ],
      "execution_count": null,
      "outputs": []
    },
    {
      "cell_type": "code",
      "metadata": {
        "id": "gft-n5jRKcaQ"
      },
      "source": [
        "#Split a string into a list where each word is a list item\n",
        "split_string = string_of_words.split(' ')\n",
        "print(string_of_words ,type(string_of_words),' -> ', split_string,type(split_string))"
      ],
      "execution_count": null,
      "outputs": []
    },
    {
      "cell_type": "code",
      "metadata": {
        "id": "sUlKI_jgKuIe"
      },
      "source": [
        "s2 = 'a, an, the'\n",
        "s3=s2.split(',') # character to be considered for splitting\n",
        "print(s2 ,type(s2),' -> ', s3,type(s3))"
      ],
      "execution_count": null,
      "outputs": []
    },
    {
      "cell_type": "markdown",
      "metadata": {
        "id": "mSgES7klM-Qo"
      },
      "source": [
        "## String Operators"
      ]
    },
    {
      "cell_type": "code",
      "metadata": {
        "scrolled": false,
        "id": "vxVdoUzbM-Qp"
      },
      "source": [
        "a=\"Hello\"\n",
        "b=\"World\"\n",
        "print(a+b) # Concatenation,'HelloWorld'\n",
        "print(a*2) # Repetition, returns 'HelloHello'\n",
        "# Membership Operators\n",
        "print('H' in a)\n",
        "print('H' in b)\n",
        "print('W' not in a)"
      ],
      "execution_count": null,
      "outputs": []
    },
    {
      "cell_type": "markdown",
      "metadata": {
        "id": "YvF0XMJ1M-Qr"
      },
      "source": [
        "## String Formating"
      ]
    },
    {
      "cell_type": "code",
      "metadata": {
        "id": "1CSpG33tM-Qs"
      },
      "source": [
        "# Escape Characters\n",
        "print('Example of escape character:\\\\')\n",
        "print(\"This is \\\"Python\\\" Lab\") # \\' is treated as single quote, \\\" as double quote\n",
        "print('Example of escape character \\\\t, Tab')\n",
        "print(\"Hello\\tPython\")\n",
        "print('Example of escape character \\\\r, Carriage Return')\n",
        "print(\"Hello World\\rAgain\")\n",
        "print('Example of escape character \\\\n, New Line')\n",
        "print(\"Hello\\nPython\")"
      ],
      "execution_count": null,
      "outputs": []
    },
    {
      "cell_type": "code",
      "metadata": {
        "id": "JwUBI61lJvjm"
      },
      "source": [
        "# Raw String: Suppresses actual meaning of Escape characters\n",
        "print('Example of Raw String:')\n",
        "print(r\"Hello\\nWorld\") #Raw String\n",
        "s1='C:\\new_folder'\n",
        "print(s1)\n",
        "s2=r'C:\\new_folder'\n",
        "print(s2)"
      ],
      "execution_count": null,
      "outputs": []
    },
    {
      "cell_type": "code",
      "metadata": {
        "id": "TOWOYE1UM-Qu"
      },
      "source": [
        "# Multiline String\n",
        "s7 = r\"\"\"this is a long string that is made up of\n",
        "several lines and non-printable characters such as\n",
        "TAB ( \\t ) and they will show up that way when displayed.\n",
        "NEWLINEs within the string, whether explicitly given like\n",
        "this \\n , or just a NEWLINE within\n",
        "the variable assignment will also show up.\n",
        "\"\"\"\n",
        "print(s7)"
      ],
      "execution_count": null,
      "outputs": []
    },
    {
      "cell_type": "code",
      "metadata": {
        "id": "eTtW_wG6M-Qx"
      },
      "source": [
        "s1 = 'raining %s and %s' % ('cats','dogs') ; print(s1)\n",
        "s1 = 'raining {} and {}'.format('cats','dogs'); print(s1) \n",
        "s1 = 'raining {1} and {0}'.format('cats','dogs'); print(s1)  # indexed arguments\n",
        "s1 = 'raining {arg1} and {arg2}'.format(arg1='cats',arg2='dogs'); print(s1)  # named arguments\n",
        "s1 = 'pi is {:.2f}'.format(3.14159); print(s1)  # returns 'pi is 3.14'\n",
        "s1 = \"value1 = %.2f, value2 = %d\" %(3.1415, 1.5) ; print(s1) \n",
        "arg1='cats'; arg2='dogs';\n",
        "s1= f'raining {arg1} and {arg2}'; print(s1) # f strings"
      ],
      "execution_count": null,
      "outputs": []
    },
    {
      "cell_type": "markdown",
      "metadata": {
        "id": "TLUJfCZrNvGS"
      },
      "source": [
        "## Type Conversion"
      ]
    },
    {
      "cell_type": "code",
      "metadata": {
        "id": "P-3A1-WvK3B1"
      },
      "source": [
        "s1 = 'Hello';     print('s1 ',s1,type(s1))\n",
        "s1a = list(s1);   print('s1a ',s1a,type(s1a))\n",
        "s1b = tuple(s1);  print('s1b ',s1b,type(s1b))\n",
        "s1c = set(s1);    print('s1c ',s1c,type(s1c))\n",
        "s1d = bool(s1);    print('s1d ',s1d,type(s1d))"
      ],
      "execution_count": null,
      "outputs": []
    },
    {
      "cell_type": "code",
      "metadata": {
        "id": "-TUI9On7NIQf"
      },
      "source": [
        "s2 = '100';      print('s2 ',s2,type(s2))\n",
        "s2a = int(s2);   print('s2a ',s2a,type(s2a))\n",
        "s2b = float(s2); print('s2b ',s2b,type(s2b))\n",
        "s2c = complex(s2); print('s2c ',s2c,type(s2c))"
      ],
      "execution_count": null,
      "outputs": []
    },
    {
      "cell_type": "code",
      "metadata": {
        "id": "1eGfqPeYMmCD"
      },
      "source": [
        "s3 = '100.50';   print('s3 ',s3,type(s3))\n",
        "s3a = float(s3); print('s3a ',s3a,type(s3a))\n",
        "s3b = complex(s3); print('s3b ',s3b,type(s3b))\n",
        "s3c = int(s3);   print('s3c ',s3c,type(s3c))"
      ],
      "execution_count": null,
      "outputs": []
    },
    {
      "cell_type": "markdown",
      "source": [
        "# Practice\n",
        "\n",
        "1. What will the following statement print?\n",
        "\n",
        "```\n",
        "print('{1} & {2}'.format('Day','Night','Night'))\n",
        "```\n",
        "\n",
        "2. What will be the result of the following program?\n",
        "\n",
        "```\n",
        "str1 = 'Every Day is a Good Day to learn Python'\n",
        "print('Input String: ',str1)\n",
        "print('Ouput 1:', str1.upper())\n",
        "print('Ouput 2:', str1.replace(' ',''))\n",
        "print('Ouput 3:', str1[-6::])\n",
        "print('Ouput 4:', str1[:-7:-1])\n",
        "```\n",
        "\n",
        "3. Explain the output of the program-- \n",
        "\n",
        "```\n",
        "str1='lab'; str1[0]='L'; print(str1);\n",
        "```\n",
        "\n",
        "\n",
        "\n"
      ],
      "metadata": {
        "id": "FPo8sQ1Dp1rz"
      }
    }
  ]
}