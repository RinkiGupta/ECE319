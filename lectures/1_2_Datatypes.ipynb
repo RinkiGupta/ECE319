{
  "nbformat": 4,
  "nbformat_minor": 0,
  "metadata": {
    "colab": {
      "name": "1_2_Datatypes.ipynb",
      "provenance": [],
      "collapsed_sections": [],
      "include_colab_link": true
    },
    "kernelspec": {
      "display_name": "Python 3",
      "language": "python",
      "name": "python3"
    },
    "language_info": {
      "codemirror_mode": {
        "name": "ipython",
        "version": 3
      },
      "file_extension": ".py",
      "mimetype": "text/x-python",
      "name": "python",
      "nbconvert_exporter": "python",
      "pygments_lexer": "ipython3",
      "version": "3.7.3"
    }
  },
  "cells": [
    {
      "cell_type": "markdown",
      "metadata": {
        "id": "view-in-github",
        "colab_type": "text"
      },
      "source": [
        "<a href=\"https://colab.research.google.com/github/RinkiGupta/ECE319/blob/master/lectures/1_2_Datatypes.ipynb\" target=\"_parent\"><img src=\"https://colab.research.google.com/assets/colab-badge.svg\" alt=\"Open In Colab\"/></a>"
      ]
    },
    {
      "cell_type": "markdown",
      "metadata": {
        "colab_type": "text",
        "id": "ncT2D1myVYId"
      },
      "source": [
        "# Data Types\n",
        " \n",
        "*   Datatype of a variable is interpreted at runtime\n",
        "*   If value of object can change, its mutable. Otherwise, it is immutable.\n",
        "\n"
      ]
    },
    {
      "cell_type": "code",
      "metadata": {
        "colab_type": "code",
        "id": "dX_Ez7P_WEbo",
        "colab": {
          "base_uri": "https://localhost:8080/",
          "height": 52
        },
        "outputId": "3edcb3b2-b3e5-4eb8-e7f5-15aa92b48abd"
      },
      "source": [
        "var0 = 'Hello'\n",
        "print(var0,type(var0))\n",
        "var1 = 1\n",
        "print(var1,type(var1))"
      ],
      "execution_count": 1,
      "outputs": [
        {
          "output_type": "stream",
          "text": [
            "Hello <class 'str'>\n",
            "1 <class 'int'>\n"
          ],
          "name": "stdout"
        }
      ]
    },
    {
      "cell_type": "markdown",
      "metadata": {
        "id": "u9rbL4SLGuXD",
        "colab_type": "text"
      },
      "source": [
        "**Datatypes in Python**"
      ]
    },
    {
      "cell_type": "markdown",
      "metadata": {
        "colab_type": "text",
        "id": "ZXm_49mtVbxa"
      },
      "source": [
        "## String\n",
        "\n",
        "String may be defined within single quotes ' ' or double quotes \" \" or triple quotes ''' ''' (multiline string)\n",
        "\n",
        "The delimiters must match."
      ]
    },
    {
      "cell_type": "code",
      "metadata": {
        "colab_type": "code",
        "id": "_frxh-NZz2lj",
        "colab": {
          "base_uri": "https://localhost:8080/",
          "height": 70
        },
        "outputId": "2840cef4-676b-4b25-f360-d12df1c14385"
      },
      "source": [
        "# Create string and print the type\n",
        "print('Hello World')\n",
        "print(\"Hello World, Again\")\n",
        "print('''Hello World !!!''')"
      ],
      "execution_count": 2,
      "outputs": [
        {
          "output_type": "stream",
          "text": [
            "Hello World\n",
            "Hello World, Again\n",
            "Hello World !!!\n"
          ],
          "name": "stdout"
        }
      ]
    },
    {
      "cell_type": "code",
      "metadata": {
        "colab_type": "code",
        "id": "rGaPCF15zufm",
        "colab": {
          "base_uri": "https://localhost:8080/",
          "height": 202
        },
        "outputId": "33d1aaec-6395-48c6-c570-e26ea9fdfe79"
      },
      "source": [
        "## Strings are immutable\n",
        "var0 = 'Hello'\n",
        "var0[0]='E'"
      ],
      "execution_count": 3,
      "outputs": [
        {
          "output_type": "error",
          "ename": "TypeError",
          "evalue": "ignored",
          "traceback": [
            "\u001b[0;31m---------------------------------------------------------------------------\u001b[0m",
            "\u001b[0;31mTypeError\u001b[0m                                 Traceback (most recent call last)",
            "\u001b[0;32m<ipython-input-3-7b702b124b58>\u001b[0m in \u001b[0;36m<module>\u001b[0;34m()\u001b[0m\n\u001b[1;32m      1\u001b[0m \u001b[0;31m## Strings are immutable\u001b[0m\u001b[0;34m\u001b[0m\u001b[0;34m\u001b[0m\u001b[0;34m\u001b[0m\u001b[0m\n\u001b[1;32m      2\u001b[0m \u001b[0mvar0\u001b[0m \u001b[0;34m=\u001b[0m \u001b[0;34m'Hello'\u001b[0m\u001b[0;34m\u001b[0m\u001b[0;34m\u001b[0m\u001b[0m\n\u001b[0;32m----> 3\u001b[0;31m \u001b[0mvar0\u001b[0m\u001b[0;34m[\u001b[0m\u001b[0;36m0\u001b[0m\u001b[0;34m]\u001b[0m\u001b[0;34m=\u001b[0m\u001b[0;34m'E'\u001b[0m\u001b[0;34m\u001b[0m\u001b[0;34m\u001b[0m\u001b[0m\n\u001b[0m",
            "\u001b[0;31mTypeError\u001b[0m: 'str' object does not support item assignment"
          ]
        }
      ]
    },
    {
      "cell_type": "markdown",
      "metadata": {
        "id": "d79KmOKUGuXO",
        "colab_type": "text"
      },
      "source": [
        "**Multiline String**"
      ]
    },
    {
      "cell_type": "code",
      "metadata": {
        "id": "n_guPLvwcIuC",
        "colab_type": "code",
        "colab": {
          "base_uri": "https://localhost:8080/",
          "height": 132
        },
        "outputId": "ec26a0e0-0fc1-4fb2-e860-cf464ccc32a4"
      },
      "source": [
        "print('Hello\n",
        "World')"
      ],
      "execution_count": 4,
      "outputs": [
        {
          "output_type": "error",
          "ename": "SyntaxError",
          "evalue": "ignored",
          "traceback": [
            "\u001b[0;36m  File \u001b[0;32m\"<ipython-input-4-4a7635e37a28>\"\u001b[0;36m, line \u001b[0;32m1\u001b[0m\n\u001b[0;31m    print('Hello\u001b[0m\n\u001b[0m                ^\u001b[0m\n\u001b[0;31mSyntaxError\u001b[0m\u001b[0;31m:\u001b[0m EOL while scanning string literal\n"
          ]
        }
      ]
    },
    {
      "cell_type": "code",
      "metadata": {
        "id": "O5lNTUHFzV4s",
        "colab_type": "code",
        "colab": {
          "base_uri": "https://localhost:8080/",
          "height": 34
        },
        "outputId": "3acb6e84-3bf0-4d0c-9afe-049a58e6a6ac"
      },
      "source": [
        "# continued line\n",
        "print('Hello\\\n",
        "World')"
      ],
      "execution_count": 5,
      "outputs": [
        {
          "output_type": "stream",
          "text": [
            "HelloWorld\n"
          ],
          "name": "stdout"
        }
      ]
    },
    {
      "cell_type": "code",
      "metadata": {
        "id": "qt9D9b41GuXS",
        "colab_type": "code",
        "colab": {
          "base_uri": "https://localhost:8080/",
          "height": 105
        },
        "outputId": "8d32d4f9-ceee-4ca4-9e31-71151e3bbb29"
      },
      "source": [
        "#%% span the string across multiple lines using triple quotes\n",
        "print('Hello\\nWorld')\n",
        "print('''Hello \n",
        "World\n",
        "Again''')"
      ],
      "execution_count": 6,
      "outputs": [
        {
          "output_type": "stream",
          "text": [
            "Hello\n",
            "World\n",
            "Hello \n",
            "World\n",
            "Again\n"
          ],
          "name": "stdout"
        }
      ]
    },
    {
      "cell_type": "markdown",
      "metadata": {
        "colab_type": "text",
        "id": "zdc1wFWmV2Pj"
      },
      "source": [
        "## Numeric\n",
        "int, float, complex\n",
        "\n",
        "No commas or spaces are allowed in integers"
      ]
    },
    {
      "cell_type": "code",
      "metadata": {
        "colab_type": "code",
        "id": "S1UXuDSIWjHI",
        "colab": {
          "base_uri": "https://localhost:8080/",
          "height": 70
        },
        "outputId": "4cc275b1-f3d3-4d20-cae0-eab12e960613"
      },
      "source": [
        "# Create int, float, complex and print the type\n",
        "var1 = 10\n",
        "var2 = 1.0\n",
        "var3 = 1+2j\n",
        "\n",
        "print(var1,type(var1))\n",
        "print(var2,type(var2))\n",
        "print(var3,type(var3))"
      ],
      "execution_count": 7,
      "outputs": [
        {
          "output_type": "stream",
          "text": [
            "10 <class 'int'>\n",
            "1.0 <class 'float'>\n",
            "(1+2j) <class 'complex'>\n"
          ],
          "name": "stdout"
        }
      ]
    },
    {
      "cell_type": "markdown",
      "metadata": {
        "colab_type": "text",
        "id": "ThvQmg3b4Gml"
      },
      "source": [
        "## Boolean\n",
        "\n",
        "Can take value True or False"
      ]
    },
    {
      "cell_type": "code",
      "metadata": {
        "colab_type": "code",
        "id": "b3y4c6xd4bVV",
        "colab": {
          "base_uri": "https://localhost:8080/",
          "height": 52
        },
        "outputId": "b58d8849-e1b7-4f04-bd44-1800508e3369"
      },
      "source": [
        "# create a variable containing Boolean\n",
        "var4 = True\n",
        "print(var4,type(var4))\n",
        "var5 = False\n",
        "print(var5,type(var5))"
      ],
      "execution_count": 8,
      "outputs": [
        {
          "output_type": "stream",
          "text": [
            "True <class 'bool'>\n",
            "False <class 'bool'>\n"
          ],
          "name": "stdout"
        }
      ]
    },
    {
      "cell_type": "markdown",
      "metadata": {
        "colab_type": "text",
        "id": "I6QFKiDTzrbA"
      },
      "source": [
        "## Tuple\n",
        "\n",
        "defined within ( )\n",
        "\n",
        "immutable, allow mixed datatypes"
      ]
    },
    {
      "cell_type": "code",
      "metadata": {
        "colab_type": "code",
        "id": "IA2L1CGhzqMm",
        "colab": {
          "base_uri": "https://localhost:8080/",
          "height": 34
        },
        "outputId": "9d4fdef7-573d-4ca6-e1ac-4068ddfd77f3"
      },
      "source": [
        "# create a Tuple\n",
        "var5 = (var0,var1,var2,var3,var4)\n",
        "print(var5,type(var5))"
      ],
      "execution_count": 9,
      "outputs": [
        {
          "output_type": "stream",
          "text": [
            "('Hello', 10, 1.0, (1+2j), True) <class 'tuple'>\n"
          ],
          "name": "stdout"
        }
      ]
    },
    {
      "cell_type": "code",
      "metadata": {
        "id": "mAYONWpLv6ps",
        "colab_type": "code",
        "colab": {
          "base_uri": "https://localhost:8080/",
          "height": 185
        },
        "outputId": "34a78221-c568-4fd3-8e2e-3aa2203f8954"
      },
      "source": [
        "# Tuple is immutable\n",
        "var5[0]= 'Python'"
      ],
      "execution_count": 10,
      "outputs": [
        {
          "output_type": "error",
          "ename": "TypeError",
          "evalue": "ignored",
          "traceback": [
            "\u001b[0;31m---------------------------------------------------------------------------\u001b[0m",
            "\u001b[0;31mTypeError\u001b[0m                                 Traceback (most recent call last)",
            "\u001b[0;32m<ipython-input-10-57820a275098>\u001b[0m in \u001b[0;36m<module>\u001b[0;34m()\u001b[0m\n\u001b[1;32m      1\u001b[0m \u001b[0;31m# Tuple is immutable\u001b[0m\u001b[0;34m\u001b[0m\u001b[0;34m\u001b[0m\u001b[0;34m\u001b[0m\u001b[0m\n\u001b[0;32m----> 2\u001b[0;31m \u001b[0mvar5\u001b[0m\u001b[0;34m[\u001b[0m\u001b[0;36m0\u001b[0m\u001b[0;34m]\u001b[0m\u001b[0;34m=\u001b[0m \u001b[0;34m'Python'\u001b[0m\u001b[0;34m\u001b[0m\u001b[0;34m\u001b[0m\u001b[0m\n\u001b[0m",
            "\u001b[0;31mTypeError\u001b[0m: 'tuple' object does not support item assignment"
          ]
        }
      ]
    },
    {
      "cell_type": "markdown",
      "metadata": {
        "colab_type": "text",
        "id": "PAdzSCv709Eh"
      },
      "source": [
        "## Lists\n",
        "\n",
        "defined within [ ]\n",
        "\n",
        "Mutable datatype, allow mixed datatypes"
      ]
    },
    {
      "cell_type": "code",
      "metadata": {
        "colab_type": "code",
        "id": "vnmaCsCn1ZZ3",
        "colab": {
          "base_uri": "https://localhost:8080/",
          "height": 34
        },
        "outputId": "400bf4cd-0188-4f70-a303-629542db0fd5"
      },
      "source": [
        "# create a List\n",
        "var6 = [var0,var1,var2,var3,var4]\n",
        "print(var6,type(var6))"
      ],
      "execution_count": 11,
      "outputs": [
        {
          "output_type": "stream",
          "text": [
            "['Hello', 10, 1.0, (1+2j), True] <class 'list'>\n"
          ],
          "name": "stdout"
        }
      ]
    },
    {
      "cell_type": "code",
      "metadata": {
        "id": "0Knf6t6Aw76i",
        "colab_type": "code",
        "colab": {
          "base_uri": "https://localhost:8080/",
          "height": 34
        },
        "outputId": "3d219a05-2e76-48a8-f6aa-3daeeb043f3e"
      },
      "source": [
        "var6[0]=20\n",
        "print(var6,type(var6))"
      ],
      "execution_count": 12,
      "outputs": [
        {
          "output_type": "stream",
          "text": [
            "[20, 10, 1.0, (1+2j), True] <class 'list'>\n"
          ],
          "name": "stdout"
        }
      ]
    },
    {
      "cell_type": "markdown",
      "metadata": {
        "colab_type": "text",
        "id": "Hn8U2jaI13Ll"
      },
      "source": [
        "## Dictionary\n",
        "\n",
        "Defined within { }\\\n",
        "A dictionary consists of (key, value) pairs"
      ]
    },
    {
      "cell_type": "code",
      "metadata": {
        "colab_type": "code",
        "id": "GlJawsVw2NIa",
        "colab": {
          "base_uri": "https://localhost:8080/",
          "height": 34
        },
        "outputId": "77d18e94-acd5-466c-91c2-4b6b825b270e"
      },
      "source": [
        "# create a dictionary\n",
        "var7 = {'human':2, 4:['dog','horse','lion'],'spider':8}\n",
        "print(var7,type(var7))"
      ],
      "execution_count": 13,
      "outputs": [
        {
          "output_type": "stream",
          "text": [
            "{'human': 2, 4: ['dog', 'horse', 'lion'], 'spider': 8} <class 'dict'>\n"
          ],
          "name": "stdout"
        }
      ]
    },
    {
      "cell_type": "markdown",
      "metadata": {
        "colab_type": "text",
        "id": "0bC24_1I3Tm2"
      },
      "source": [
        "## Set\n",
        "\n",
        "Defined within { }\\\n",
        "Unordered collection, mixed datatypes allowed\\\n",
        "No duplication of elements"
      ]
    },
    {
      "cell_type": "code",
      "metadata": {
        "colab_type": "code",
        "id": "bSpTqt323nQC",
        "colab": {
          "base_uri": "https://localhost:8080/",
          "height": 34
        },
        "outputId": "cdd179dc-5900-48ea-babd-95d9b8010fe2"
      },
      "source": [
        "# create a set\n",
        "var8={'human',('dog','horse','lion'),'spider',2,4,4,4,8}\n",
        "print(var8,type(var8))"
      ],
      "execution_count": 14,
      "outputs": [
        {
          "output_type": "stream",
          "text": [
            "{'spider', 2, 4, 8, 'human', ('dog', 'horse', 'lion')} <class 'set'>\n"
          ],
          "name": "stdout"
        }
      ]
    },
    {
      "cell_type": "markdown",
      "metadata": {
        "colab_type": "text",
        "id": "KAXf9Y_D4ke0"
      },
      "source": [
        "## Type Conversion"
      ]
    },
    {
      "cell_type": "code",
      "metadata": {
        "colab_type": "code",
        "id": "csnVAlbG48aH",
        "colab": {
          "base_uri": "https://localhost:8080/",
          "height": 105
        },
        "outputId": "77ffec37-2bc7-490a-9b2a-f92668c6ae5d"
      },
      "source": [
        "a=2;    b=float(a);   print(a,type(a),' --> ',b,type(b))\n",
        "a=2.9;  b=int(a);     print(a,type(a),' --> ',b,type(b)) \n",
        "a=2;    b=str(2);     print(a,type(a),' --> ',b,type(b))\n",
        "a='2';  b=int(2);     print(a,type(a),' --> ',b,type(b))\n",
        "a=2;    b=complex(2); print(a,type(a),' --> ',b,type(b))"
      ],
      "execution_count": 15,
      "outputs": [
        {
          "output_type": "stream",
          "text": [
            "2 <class 'int'>  -->  2.0 <class 'float'>\n",
            "2.9 <class 'float'>  -->  2 <class 'int'>\n",
            "2 <class 'int'>  -->  2 <class 'str'>\n",
            "2 <class 'str'>  -->  2 <class 'int'>\n",
            "2 <class 'int'>  -->  (2+0j) <class 'complex'>\n"
          ],
          "name": "stdout"
        }
      ]
    },
    {
      "cell_type": "code",
      "metadata": {
        "colab_type": "code",
        "id": "6t2bhuhIgFa1",
        "colab": {
          "base_uri": "https://localhost:8080/",
          "height": 105
        },
        "outputId": "6439c796-383e-4e4a-ec90-53d6b6a53abc"
      },
      "source": [
        "#%% zero and empty containers are converted to False\n",
        "print(bool(0))\n",
        "print(bool('')) # empty string\n",
        "print(bool([])) # empty list\n",
        "print(bool(set())) #empty set\n",
        "print(bool({})) # empty dictionary"
      ],
      "execution_count": 16,
      "outputs": [
        {
          "output_type": "stream",
          "text": [
            "False\n",
            "False\n",
            "False\n",
            "False\n",
            "False\n"
          ],
          "name": "stdout"
        }
      ]
    },
    {
      "cell_type": "code",
      "metadata": {
        "colab_type": "code",
        "id": "I5SFTTw5gIeG",
        "colab": {
          "base_uri": "https://localhost:8080/",
          "height": 87
        },
        "outputId": "e67d8e87-ad55-4598-e647-12ac38b4cf91"
      },
      "source": [
        "#%% non-zero values and non-empty containers are converted to True\n",
        "print(bool(2))\n",
        "print(bool('two'))\n",
        "print(bool([2]))\n",
        "print(bool({2}))"
      ],
      "execution_count": 17,
      "outputs": [
        {
          "output_type": "stream",
          "text": [
            "True\n",
            "True\n",
            "True\n",
            "True\n"
          ],
          "name": "stdout"
        }
      ]
    }
  ]
}