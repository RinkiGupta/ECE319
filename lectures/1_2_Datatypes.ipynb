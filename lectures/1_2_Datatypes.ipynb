{
  "nbformat": 4,
  "nbformat_minor": 0,
  "metadata": {
    "colab": {
      "name": "1_2_Datatypes.ipynb",
      "provenance": [],
      "collapsed_sections": [],
      "include_colab_link": true
    },
    "kernelspec": {
      "display_name": "Python 3",
      "language": "python",
      "name": "python3"
    },
    "language_info": {
      "codemirror_mode": {
        "name": "ipython",
        "version": 3
      },
      "file_extension": ".py",
      "mimetype": "text/x-python",
      "name": "python",
      "nbconvert_exporter": "python",
      "pygments_lexer": "ipython3",
      "version": "3.7.3"
    }
  },
  "cells": [
    {
      "cell_type": "markdown",
      "metadata": {
        "id": "view-in-github",
        "colab_type": "text"
      },
      "source": [
        "<a href=\"https://colab.research.google.com/github/RinkiGupta/ECE319/blob/master/lectures/1_2_Datatypes.ipynb\" target=\"_parent\"><img src=\"https://colab.research.google.com/assets/colab-badge.svg\" alt=\"Open In Colab\"/></a>"
      ]
    },
    {
      "cell_type": "markdown",
      "metadata": {
        "id": "J-hCeAnLAW5D"
      },
      "source": [
        "# **Datatypes in Python**"
      ]
    },
    {
      "cell_type": "markdown",
      "metadata": {
        "id": "ncT2D1myVYId"
      },
      "source": [
        "## Interpretation of Data Types\n",
        "\n",
        "<center>\n",
        "<img src='https://github.com/RinkiGupta/ECE319/blob/master/res/m1_pic5_type%20interpretation.PNG?raw=true' width=20%>\n",
        "</center>\n",
        "\n",
        "*   Datatype of a variable is interpreted at runtime\n",
        "*   If value of object can change, its mutable. Otherwise, it is immutable.\n",
        "\n"
      ]
    },
    {
      "cell_type": "code",
      "metadata": {
        "id": "dX_Ez7P_WEbo"
      },
      "source": [
        "var0 = 'Hello'\n",
        "print(var0,type(var0))\n",
        "var1 = 1\n",
        "print(var1,type(var1))"
      ],
      "execution_count": null,
      "outputs": []
    },
    {
      "cell_type": "markdown",
      "metadata": {
        "id": "u9rbL4SLGuXD"
      },
      "source": [
        "## Mutable vs  Immutable\n",
        "* Mutable object is one whose internal state can be changed after assignement \n",
        "* An immutable object can't be changed after it is created\n",
        "<center>\n",
        "<img src='https://github.com/RinkiGupta/ECE319/blob/master/res/m1_pic4_DataTypes1.png?raw=true'>\n",
        "</center>"
      ]
    },
    {
      "cell_type": "markdown",
      "metadata": {
        "id": "ZXm_49mtVbxa"
      },
      "source": [
        "### **String**\n",
        "\n",
        "String may be defined within single quotes ' ' or double quotes \" \" or triple quotes ''' ''' (multiline string)\n",
        "\n",
        "The delimiters must match."
      ]
    },
    {
      "cell_type": "code",
      "metadata": {
        "id": "CiqEedBeiObw"
      },
      "source": [
        "var0=\" Hello '\n",
        "print(var0)"
      ],
      "execution_count": null,
      "outputs": []
    },
    {
      "cell_type": "code",
      "metadata": {
        "id": "_frxh-NZz2lj"
      },
      "source": [
        "# Create string and print the type\n",
        "print('Hello World')\n",
        "print(\"Hello World, Again\")\n",
        "print('''Hello World !!!''')"
      ],
      "execution_count": null,
      "outputs": []
    },
    {
      "cell_type": "code",
      "metadata": {
        "id": "rGaPCF15zufm"
      },
      "source": [
        "## Strings are immutable\n",
        "var0 = 'Hello'\n",
        "var0[0] = 'h'\n",
        "print(var0)"
      ],
      "execution_count": null,
      "outputs": []
    },
    {
      "cell_type": "markdown",
      "metadata": {
        "id": "d79KmOKUGuXO"
      },
      "source": [
        "*Multiline String*"
      ]
    },
    {
      "cell_type": "code",
      "metadata": {
        "id": "n_guPLvwcIuC"
      },
      "source": [
        "print('Hello\n",
        "World')"
      ],
      "execution_count": null,
      "outputs": []
    },
    {
      "cell_type": "code",
      "metadata": {
        "id": "O5lNTUHFzV4s"
      },
      "source": [
        "# continued line\n",
        "print('Hello\\\n",
        "World')"
      ],
      "execution_count": null,
      "outputs": []
    },
    {
      "cell_type": "code",
      "metadata": {
        "id": "qt9D9b41GuXS"
      },
      "source": [
        "#%% span the string across multiple lines using triple quotes\n",
        "print('Hello\\nWorld')\n",
        "print()\n",
        "print('''Hello \n",
        "World\n",
        "Again''')"
      ],
      "execution_count": null,
      "outputs": []
    },
    {
      "cell_type": "markdown",
      "metadata": {
        "id": "zdc1wFWmV2Pj"
      },
      "source": [
        "### **Numeric** \n",
        "* int, float, complex\n",
        "* No commas or spaces are allowed in integers"
      ]
    },
    {
      "cell_type": "code",
      "metadata": {
        "id": "S1UXuDSIWjHI"
      },
      "source": [
        "# Create int, float, complex and print the type\n",
        "var1 = 10\n",
        "var2 = 1.0\n",
        "var3 = 1+2j\n",
        "\n",
        "print(var1,type(var1))\n",
        "print(var2,type(var2))\n",
        "print(var3,type(var3))"
      ],
      "execution_count": null,
      "outputs": []
    },
    {
      "cell_type": "markdown",
      "metadata": {
        "id": "ThvQmg3b4Gml"
      },
      "source": [
        "### **Boolean**\n",
        "\n",
        "Can take value True or False"
      ]
    },
    {
      "cell_type": "code",
      "metadata": {
        "id": "b3y4c6xd4bVV"
      },
      "source": [
        "# create a variable containing Boolean\n",
        "var4 = True\n",
        "print(var4,type(var4))\n",
        "var5 = False\n",
        "print(var5,type(var5))"
      ],
      "execution_count": null,
      "outputs": []
    },
    {
      "cell_type": "markdown",
      "metadata": {
        "id": "I6QFKiDTzrbA"
      },
      "source": [
        "### **Tuple** \n",
        "* immutable, allow mixed datatypes\n",
        "* defined within ( ) or by assigning multiple values to the same variable"
      ]
    },
    {
      "cell_type": "code",
      "metadata": {
        "id": "IA2L1CGhzqMm"
      },
      "source": [
        "# create a Tuple\n",
        "var5 = (var0,var1,var2,var3,var4)\n",
        "print(var5,type(var5))"
      ],
      "execution_count": null,
      "outputs": []
    },
    {
      "cell_type": "code",
      "metadata": {
        "id": "yQs09Y-2B1C5"
      },
      "source": [
        "# Or create a Tuple as\n",
        "var5a = var0,var1,var2,var3,var4\n",
        "print(var5a,type(var5a))"
      ],
      "execution_count": null,
      "outputs": []
    },
    {
      "cell_type": "code",
      "metadata": {
        "id": "BBTumIDTZtDT"
      },
      "source": [
        "print(var5[0])"
      ],
      "execution_count": null,
      "outputs": []
    },
    {
      "cell_type": "code",
      "metadata": {
        "id": "mAYONWpLv6ps"
      },
      "source": [
        "# Tuple is immutable\n",
        "var5[0]= 'Python'"
      ],
      "execution_count": null,
      "outputs": []
    },
    {
      "cell_type": "markdown",
      "metadata": {
        "id": "PAdzSCv709Eh"
      },
      "source": [
        "### **Lists**\n",
        "\n",
        "* defined within [ ]\n",
        "* Mutable datatype, allow mixed datatypes"
      ]
    },
    {
      "cell_type": "code",
      "metadata": {
        "id": "vnmaCsCn1ZZ3"
      },
      "source": [
        "# create a List\n",
        "var6 = [var0,var1,var2,var3,var4]\n",
        "print(var6,type(var6))"
      ],
      "execution_count": null,
      "outputs": []
    },
    {
      "cell_type": "code",
      "metadata": {
        "id": "RRNbtCUAbK8t"
      },
      "source": [
        "print(var6[0])"
      ],
      "execution_count": null,
      "outputs": []
    },
    {
      "cell_type": "code",
      "metadata": {
        "id": "0Knf6t6Aw76i"
      },
      "source": [
        "var6[0]=20\n",
        "print(var6,type(var6))"
      ],
      "execution_count": null,
      "outputs": []
    },
    {
      "cell_type": "markdown",
      "metadata": {
        "id": "Hn8U2jaI13Ll"
      },
      "source": [
        "### **Dictionary**\n",
        "\n",
        "* Defined within { }\n",
        "* A dictionary consists of (key, value) pairs"
      ]
    },
    {
      "cell_type": "code",
      "metadata": {
        "id": "GlJawsVw2NIa"
      },
      "source": [
        "# create a dictionary\n",
        "var7 = {'human':2, 4:['dog','horse','lion'],'spider':8}\n",
        "print(var7,type(var7))"
      ],
      "execution_count": null,
      "outputs": []
    },
    {
      "cell_type": "markdown",
      "metadata": {
        "id": "0bC24_1I3Tm2"
      },
      "source": [
        "### **Set**\n",
        "\n",
        "* Defined within { }\n",
        "* Unordered collection, mixed datatypes allowed\n",
        "* No duplication of elements"
      ]
    },
    {
      "cell_type": "code",
      "metadata": {
        "id": "bSpTqt323nQC"
      },
      "source": [
        "# create a set\n",
        "var8={'human',('dog','horse','lion'),'spider',2,4,4,4,8}\n",
        "print(var8,type(var8))"
      ],
      "execution_count": null,
      "outputs": []
    },
    {
      "cell_type": "markdown",
      "metadata": {
        "id": "KAXf9Y_D4ke0"
      },
      "source": [
        "## Type Conversion"
      ]
    },
    {
      "cell_type": "code",
      "metadata": {
        "id": "csnVAlbG48aH"
      },
      "source": [
        "a=2;    b=float(a);   print(a,type(a),' --> ',b,type(b))\n",
        "a=2.9;  b=int(a);     print(a,type(a),' --> ',b,type(b)) \n",
        "a=2;    b=str(2);     print(a,type(a),' --> ',b,type(b))\n",
        "a='2';  b=int(2);     print(a,type(a),' --> ',b,type(b))\n",
        "a=2;    b=complex(2); print(a,type(a),' --> ',b,type(b))"
      ],
      "execution_count": null,
      "outputs": []
    },
    {
      "cell_type": "code",
      "metadata": {
        "id": "6t2bhuhIgFa1"
      },
      "source": [
        "#%% zero and empty containers are converted to False\n",
        "print(bool(0))\n",
        "print(bool('')) # empty string\n",
        "print(bool([])) # empty list\n",
        "print(bool(set())) #empty set\n",
        "print(bool({})) # empty dictionary"
      ],
      "execution_count": null,
      "outputs": []
    },
    {
      "cell_type": "code",
      "metadata": {
        "id": "I5SFTTw5gIeG"
      },
      "source": [
        "#%% non-zero values and non-empty containers are converted to True\n",
        "print(bool(2))\n",
        "print(bool('two'))\n",
        "print(bool([2]))\n",
        "print(bool({2}))"
      ],
      "execution_count": null,
      "outputs": []
    }
  ]
}