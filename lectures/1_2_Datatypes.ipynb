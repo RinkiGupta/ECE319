{
  "nbformat": 4,
  "nbformat_minor": 0,
  "metadata": {
    "colab": {
      "name": "1_2_Datatypes.ipynb",
      "provenance": [],
      "collapsed_sections": [],
      "include_colab_link": true
    },
    "kernelspec": {
      "display_name": "Python 3",
      "language": "python",
      "name": "python3"
    },
    "language_info": {
      "codemirror_mode": {
        "name": "ipython",
        "version": 3
      },
      "file_extension": ".py",
      "mimetype": "text/x-python",
      "name": "python",
      "nbconvert_exporter": "python",
      "pygments_lexer": "ipython3",
      "version": "3.7.3"
    }
  },
  "cells": [
    {
      "cell_type": "markdown",
      "metadata": {
        "id": "view-in-github",
        "colab_type": "text"
      },
      "source": [
        "<a href=\"https://colab.research.google.com/github/RinkiGupta/ECE319/blob/master/lectures/1_2_Datatypes.ipynb\" target=\"_parent\"><img src=\"https://colab.research.google.com/assets/colab-badge.svg\" alt=\"Open In Colab\"/></a>"
      ]
    },
    {
      "cell_type": "markdown",
      "metadata": {
        "colab_type": "text",
        "id": "ncT2D1myVYId"
      },
      "source": [
        "# Data Types\n",
        " \n",
        "*   Datatype of a variable is interpreted at runtime\n",
        "*   If value of object can change, its mutable. Otherwise, it is immutable.\n",
        "\n"
      ]
    },
    {
      "cell_type": "code",
      "metadata": {
        "colab_type": "code",
        "id": "dX_Ez7P_WEbo",
        "colab": {}
      },
      "source": [
        "var0 = 'Hello'\n",
        "print(var0,type(var0))\n",
        "var1 = 1\n",
        "print(var1,type(var1))"
      ],
      "execution_count": null,
      "outputs": []
    },
    {
      "cell_type": "markdown",
      "metadata": {
        "id": "u9rbL4SLGuXD",
        "colab_type": "text"
      },
      "source": [
        "**Datatypes in Python**"
      ]
    },
    {
      "cell_type": "markdown",
      "metadata": {
        "colab_type": "text",
        "id": "ZXm_49mtVbxa"
      },
      "source": [
        "## String\n",
        "\n",
        "String may be defined within single quotes ' ' or double quotes \" \" or triple quotes ''' ''' (multiline string)\n",
        "\n",
        "The delimiters must match."
      ]
    },
    {
      "cell_type": "code",
      "metadata": {
        "colab_type": "code",
        "id": "_frxh-NZz2lj",
        "colab": {}
      },
      "source": [
        "# Create string and print the type"
      ],
      "execution_count": null,
      "outputs": []
    },
    {
      "cell_type": "code",
      "metadata": {
        "colab_type": "code",
        "id": "rGaPCF15zufm",
        "colab": {}
      },
      "source": [
        "## Strings are immutable\n"
      ],
      "execution_count": null,
      "outputs": []
    },
    {
      "cell_type": "markdown",
      "metadata": {
        "id": "d79KmOKUGuXO",
        "colab_type": "text"
      },
      "source": [
        "**Multiline String**"
      ]
    },
    {
      "cell_type": "code",
      "metadata": {
        "id": "qt9D9b41GuXS",
        "colab_type": "code",
        "colab": {}
      },
      "source": [
        "#%% span the string across multiple lines using triple quotes\n"
      ],
      "execution_count": null,
      "outputs": []
    },
    {
      "cell_type": "markdown",
      "metadata": {
        "colab_type": "text",
        "id": "zdc1wFWmV2Pj"
      },
      "source": [
        "## Numeric\n",
        "int, float, complex\n",
        "\n",
        "No commas or spaces are allowed in integers"
      ]
    },
    {
      "cell_type": "code",
      "metadata": {
        "colab_type": "code",
        "id": "S1UXuDSIWjHI",
        "colab": {}
      },
      "source": [
        "# Create int, float, complex and print the type\n"
      ],
      "execution_count": null,
      "outputs": []
    },
    {
      "cell_type": "markdown",
      "metadata": {
        "colab_type": "text",
        "id": "ThvQmg3b4Gml"
      },
      "source": [
        "## Boolean\n",
        "\n",
        "Can take value True or False"
      ]
    },
    {
      "cell_type": "code",
      "metadata": {
        "colab_type": "code",
        "id": "b3y4c6xd4bVV",
        "colab": {}
      },
      "source": [
        "# create a variable containing Boolean\n"
      ],
      "execution_count": null,
      "outputs": []
    },
    {
      "cell_type": "markdown",
      "metadata": {
        "colab_type": "text",
        "id": "I6QFKiDTzrbA"
      },
      "source": [
        "## Tuple\n",
        "\n",
        "defined within ( )\n",
        "\n",
        "immutable, allow mixed datatypes"
      ]
    },
    {
      "cell_type": "code",
      "metadata": {
        "colab_type": "code",
        "id": "IA2L1CGhzqMm",
        "colab": {}
      },
      "source": [
        "# create a Tuple\n"
      ],
      "execution_count": null,
      "outputs": []
    },
    {
      "cell_type": "markdown",
      "metadata": {
        "colab_type": "text",
        "id": "PAdzSCv709Eh"
      },
      "source": [
        "## Lists\n",
        "\n",
        "defined within [ ]\n",
        "\n",
        "Mutable datatype, allow mixed datatypes"
      ]
    },
    {
      "cell_type": "code",
      "metadata": {
        "colab_type": "code",
        "id": "njwQXpRi1Gtx",
        "colab": {}
      },
      "source": [
        "var6 =[var0,var1,var2,var3,var4]\n",
        "print(var6,type(var6))"
      ],
      "execution_count": null,
      "outputs": []
    },
    {
      "cell_type": "code",
      "metadata": {
        "colab_type": "code",
        "id": "vnmaCsCn1ZZ3",
        "colab": {}
      },
      "source": [
        "# create a List\n"
      ],
      "execution_count": null,
      "outputs": []
    },
    {
      "cell_type": "markdown",
      "metadata": {
        "colab_type": "text",
        "id": "Hn8U2jaI13Ll"
      },
      "source": [
        "## Dictionary\n",
        "\n",
        "Defined within { }\\\n",
        "A dictionary consists of (key, value) pairs"
      ]
    },
    {
      "cell_type": "code",
      "metadata": {
        "colab_type": "code",
        "id": "GlJawsVw2NIa",
        "colab": {}
      },
      "source": [
        "# create a dictionary\n"
      ],
      "execution_count": null,
      "outputs": []
    },
    {
      "cell_type": "markdown",
      "metadata": {
        "colab_type": "text",
        "id": "0bC24_1I3Tm2"
      },
      "source": [
        "## Set\n",
        "\n",
        "Defined within { }\\\n",
        "Unordered collection, mixed datatypes allowed\\\n",
        "No duplication of elements"
      ]
    },
    {
      "cell_type": "code",
      "metadata": {
        "colab_type": "code",
        "id": "bSpTqt323nQC",
        "colab": {}
      },
      "source": [
        "# create a set\n"
      ],
      "execution_count": null,
      "outputs": []
    },
    {
      "cell_type": "markdown",
      "metadata": {
        "colab_type": "text",
        "id": "KAXf9Y_D4ke0"
      },
      "source": [
        "## Type Conversion"
      ]
    },
    {
      "cell_type": "code",
      "metadata": {
        "colab_type": "code",
        "id": "csnVAlbG48aH",
        "colab": {}
      },
      "source": [
        "a=2;    b=float(a);   print(a,type(a),' --> ',b,type(b))\n",
        "a=2.9;  b=int(a);     print(a,type(a),' --> ',b,type(b)) \n",
        "a=2;    b=str(2);     print(a,type(a),' --> ',b,type(b))\n",
        "a='2';  b=int(2);     print(a,type(a),' --> ',b,type(b))\n",
        "a=2;    b=complex(2); print(a,type(a),' --> ',b,type(b))"
      ],
      "execution_count": null,
      "outputs": []
    },
    {
      "cell_type": "code",
      "metadata": {
        "colab_type": "code",
        "id": "6t2bhuhIgFa1",
        "colab": {}
      },
      "source": [
        "#%% zero and empty containers are converted to False\n",
        "print(bool(0))\n",
        "print(bool('')) # empty string\n",
        "print(bool([])) # empty list\n",
        "print(bool(set())) #empty set\n",
        "print(bool({})) # empty dictionary"
      ],
      "execution_count": null,
      "outputs": []
    },
    {
      "cell_type": "code",
      "metadata": {
        "colab_type": "code",
        "id": "I5SFTTw5gIeG",
        "colab": {}
      },
      "source": [
        "#%% non-zero values and non-empty containers are converted to True\n",
        "print(bool(2))\n",
        "print(bool('two'))\n",
        "print(bool([2]))\n",
        "print(bool({2}))"
      ],
      "execution_count": null,
      "outputs": []
    }
  ]
}