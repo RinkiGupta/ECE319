{
  "nbformat": 4,
  "nbformat_minor": 0,
  "metadata": {
    "kernelspec": {
      "display_name": "Python 3",
      "language": "python",
      "name": "python3"
    },
    "language_info": {
      "codemirror_mode": {
        "name": "ipython",
        "version": 3
      },
      "file_extension": ".py",
      "mimetype": "text/x-python",
      "name": "python",
      "nbconvert_exporter": "python",
      "pygments_lexer": "ipython3",
      "version": "3.7.3"
    },
    "colab": {
      "name": "2_1_if_loop.ipynb",
      "provenance": [],
      "collapsed_sections": [],
      "include_colab_link": true
    }
  },
  "cells": [
    {
      "cell_type": "markdown",
      "metadata": {
        "id": "view-in-github",
        "colab_type": "text"
      },
      "source": [
        "<a href=\"https://colab.research.google.com/github/RinkiGupta/ECE319/blob/master/lectures/2_1_if_loop.ipynb\" target=\"_parent\"><img src=\"https://colab.research.google.com/assets/colab-badge.svg\" alt=\"Open In Colab\"/></a>"
      ]
    },
    {
      "cell_type": "markdown",
      "metadata": {
        "id": "b-8hCp_JT_2R",
        "colab_type": "text"
      },
      "source": [
        "# Conditional Statements\n",
        "## Python Indentation\n",
        "Indentation refers to the spaces at the beginning of a code line.\n",
        "\n",
        "In Python, indentation is used to indicate a block of code."
      ]
    },
    {
      "cell_type": "code",
      "metadata": {
        "id": "hDZ9SNDxT_2U",
        "colab_type": "code",
        "colab": {
          "base_uri": "https://localhost:8080/",
          "height": 135
        },
        "outputId": "748fb58f-a61b-4b15-ce45-28079b1217b1"
      },
      "source": [
        "var='Hello'\n",
        "  print(var) # unintended Indentation may create error"
      ],
      "execution_count": null,
      "outputs": [
        {
          "output_type": "error",
          "ename": "IndentationError",
          "evalue": "ignored",
          "traceback": [
            "\u001b[0;36m  File \u001b[0;32m\"<ipython-input-3-b9fc3599bc54>\"\u001b[0;36m, line \u001b[0;32m2\u001b[0m\n\u001b[0;31m    print(var) # unintended Indentation may create error\u001b[0m\n\u001b[0m    ^\u001b[0m\n\u001b[0;31mIndentationError\u001b[0m\u001b[0;31m:\u001b[0m unexpected indent\n"
          ]
        }
      ]
    },
    {
      "cell_type": "markdown",
      "metadata": {
        "id": "VCU9LxesT_2f",
        "colab_type": "text"
      },
      "source": [
        "## If Loop\n",
        "\n",
        "Used for conditional execution of a code block"
      ]
    },
    {
      "cell_type": "code",
      "metadata": {
        "id": "Yu1RLeQDT_2g",
        "colab_type": "code",
        "colab": {
          "base_uri": "https://localhost:8080/",
          "height": 101
        },
        "outputId": "e4a57657-518f-451a-f1c0-c0d6f9cc1a67"
      },
      "source": [
        "# example: if-loop\n",
        "x=input('Do you want to have some Pizza? (yes/no) ')\n",
        "if x=='yes':\n",
        "    n= input('Enter the number of slices you want to have: ')#Execute Conditionally \n",
        "    print('Bringing you', n, 'slices of Pizza')\n",
        "print('Have a Good Day!') #Execute Unconditionally \n",
        "print('Come again later!') "
      ],
      "execution_count": null,
      "outputs": [
        {
          "output_type": "stream",
          "text": [
            "Do you want to have some Pizza? (yes/no) yes\n",
            "Enter the number of slices you want to have: 3\n",
            "Bringing you 3 slices of Pizza\n",
            "Have a Good Day!\n",
            "Come again later!\n"
          ],
          "name": "stdout"
        }
      ]
    },
    {
      "cell_type": "markdown",
      "metadata": {
        "id": "VznirawiT_2m",
        "colab_type": "text"
      },
      "source": [
        "## If-else\n",
        "\n",
        "code block under else is executed, if the condition controlling the executiion of code block under if is False"
      ]
    },
    {
      "cell_type": "code",
      "metadata": {
        "id": "RSC1yJX-T_2p",
        "colab_type": "code",
        "colab": {
          "base_uri": "https://localhost:8080/",
          "height": 67
        },
        "outputId": "6d7596e9-2947-4a78-b6ac-2b1452ce8c93"
      },
      "source": [
        "# example: if-else loop \n",
        "x=input('Do you want to have some Pizza? (yes/no) ')\n",
        "if x=='yes':\n",
        "    n= input('Enter the number of slices you want to have: ')#Execute Conditionally \n",
        "    print('Bringing you', n, 'slices of Pizza')\n",
        "else:\n",
        "    print('Ok, come again later!') \n",
        "print('Have a Good Day!') #Execute Unconditionally "
      ],
      "execution_count": null,
      "outputs": [
        {
          "output_type": "stream",
          "text": [
            "Do you want to have some Pizza? (yes/no) no\n",
            "Ok, come again later!\n",
            "Have a Good Day!\n"
          ],
          "name": "stdout"
        }
      ]
    },
    {
      "cell_type": "markdown",
      "metadata": {
        "id": "b0WKuerNT_2z",
        "colab_type": "text"
      },
      "source": [
        "## If - elif - else\n",
        "\n",
        "Conditions are checked sequentially, starting from that after if, then that after elif (and suceeding elif). If noe of the conditions is true, the codeblock under else is executed."
      ]
    },
    {
      "cell_type": "code",
      "metadata": {
        "id": "3UwmhR-oT_20",
        "colab_type": "code",
        "colab": {
          "base_uri": "https://localhost:8080/",
          "height": 67
        },
        "outputId": "46419edf-2a74-4af3-d0af-f7a9332aead2"
      },
      "source": [
        "# example: if-elif-else \n",
        "x=input('Do you want to have some Pizza? (yes/maybe/no) ')\n",
        "if x=='yes':\n",
        "    n= input('Enter the number of slices you want to have: ')#Execute Conditionally \n",
        "    print('Bringing you', n, 'slices of Pizza')\n",
        "elif x=='maybe':\n",
        "    print('We a special discount today...')\n",
        "    n= input('Enter the number of slices you want to have: ')#Execute Conditionally \n",
        "    print('Bringing you', n, 'slices of Pizza')\n",
        "else:\n",
        "    print('Ok, come again later!') \n",
        "print('Have a Good Day!') #Execute Unconditionally "
      ],
      "execution_count": null,
      "outputs": [
        {
          "output_type": "stream",
          "text": [
            "Do you want to have some Pizza? (yes/maybe/no) no\n",
            "Ok, come again later!\n",
            "Have a Good Day!\n"
          ],
          "name": "stdout"
        }
      ]
    },
    {
      "cell_type": "markdown",
      "metadata": {
        "id": "SUkp6nCVT_2_",
        "colab_type": "text"
      },
      "source": [
        "## Nested If\n",
        "\n",
        "if loop containted inside if loop. \n",
        "\n",
        "Note the Indentations"
      ]
    },
    {
      "cell_type": "code",
      "metadata": {
        "id": "OdSJ5uzPT_3B",
        "colab_type": "code",
        "colab": {
          "base_uri": "https://localhost:8080/",
          "height": 118
        },
        "outputId": "632c0d93-b2aa-4ede-8acf-976d546a289e"
      },
      "source": [
        "x=input('Do you want to have some Pizza? (yes/no) ') # Code block 1\n",
        "if x=='yes':\n",
        "    n= input('Enter the number of slices you want to have: ') # Code block 2 \n",
        "    y=input('Do you want to have a cold drink also? (yes/no) ')\n",
        "    if y=='yes':\n",
        "        flav= input('Enter the flavour (cola/orange): ')  # Code block 3\n",
        "        print('Bringing you', n, 'slices of Pizza and (', flav, ') cold drink')\n",
        "    else:\n",
        "        print('Bringing you', n, 'slices of Pizza')\n",
        "else:\n",
        "    print('Ok, come again later !') #Execute Conditionally \n",
        "print('Have a Good Day!') #Execute Unconditionally "
      ],
      "execution_count": null,
      "outputs": [
        {
          "output_type": "stream",
          "text": [
            "Do you want to have some Pizza? (yes/no) yes\n",
            "Enter the number of slices you want to have: 2\n",
            "Do you want to have a cold drink also? (yes/no) yes\n",
            "Enter the flavour (cola/orange): cola\n",
            "Bringing you 2 slices of Pizza and ( cola ) cold drink\n",
            "Have a Good Day!\n"
          ],
          "name": "stdout"
        }
      ]
    },
    {
      "cell_type": "markdown",
      "metadata": {
        "id": "v-LMSu66T_3L",
        "colab_type": "text"
      },
      "source": [
        "# Practice Problem"
      ]
    },
    {
      "cell_type": "code",
      "metadata": {
        "id": "cBQHHiZPT_3Z",
        "colab_type": "code",
        "colab": {
          "base_uri": "https://localhost:8080/",
          "height": 34
        },
        "outputId": "b4859a5e-8099-4dd4-b86d-04815af923fe"
      },
      "source": [
        "# Given a number, Display if it is positive-even, negative-even, positive-odd, negative-odd or zero.\n",
        "var1 = int(input('Enter an integer : '))"
      ],
      "execution_count": null,
      "outputs": [
        {
          "output_type": "stream",
          "text": [
            "Enter an integer : 4\n"
          ],
          "name": "stdout"
        }
      ]
    }
  ]
}