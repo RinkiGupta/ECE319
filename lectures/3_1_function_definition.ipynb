{
  "nbformat": 4,
  "nbformat_minor": 0,
  "metadata": {
    "kernelspec": {
      "display_name": "Python 3",
      "language": "python",
      "name": "python3"
    },
    "language_info": {
      "codemirror_mode": {
        "name": "ipython",
        "version": 3
      },
      "file_extension": ".py",
      "mimetype": "text/x-python",
      "name": "python",
      "nbconvert_exporter": "python",
      "pygments_lexer": "ipython3",
      "version": "3.6.4"
    },
    "colab": {
      "name": "3_1_function_definition.ipynb",
      "provenance": [],
      "collapsed_sections": [],
      "include_colab_link": true
    }
  },
  "cells": [
    {
      "cell_type": "markdown",
      "metadata": {
        "id": "view-in-github",
        "colab_type": "text"
      },
      "source": [
        "<a href=\"https://colab.research.google.com/github/RinkiGupta/ECE319/blob/master/lectures/3_1_function_definition.ipynb\" target=\"_parent\"><img src=\"https://colab.research.google.com/assets/colab-badge.svg\" alt=\"Open In Colab\"/></a>"
      ]
    },
    {
      "cell_type": "markdown",
      "metadata": {
        "id": "gmi0DgyR4c35",
        "colab_type": "text"
      },
      "source": [
        "# Functions\n",
        "\n",
        "In the context of programming, a *function* is a named sequence of statements that performs a computation.\n",
        "\n",
        "There are two aspects to every Python function:\n",
        "* **Function definition**. The definition of a function contains the code that determines the function’s behaviour.\n",
        "* **Function invocation**. A function is used within a program via a function invocation.\n",
        "\n"
      ]
    },
    {
      "cell_type": "markdown",
      "metadata": {
        "id": "8Kr120cO54-v",
        "colab_type": "text"
      },
      "source": [
        "## Built-in Functions\n",
        "\n",
        "The function definition of built-in functions is available with Python interpreter. \n",
        "\n",
        "Only Function invocation is required."
      ]
    },
    {
      "cell_type": "code",
      "metadata": {
        "id": "5aIzHIhg9foM",
        "colab_type": "code",
        "colab": {
          "base_uri": "https://localhost:8080/",
          "height": 54
        },
        "outputId": "f4b7aef6-dda4-442f-b766-4871eb171246"
      },
      "source": [
        "print('Hello World')"
      ],
      "execution_count": null,
      "outputs": [
        {
          "output_type": "stream",
          "text": [
            "Hello World\n"
          ],
          "name": "stdout"
        },
        {
          "output_type": "execute_result",
          "data": {
            "text/plain": [
              "str"
            ]
          },
          "metadata": {
            "tags": []
          },
          "execution_count": 10
        }
      ]
    },
    {
      "cell_type": "code",
      "metadata": {
        "id": "qf78vihi9p8k",
        "colab_type": "code",
        "colab": {
          "base_uri": "https://localhost:8080/",
          "height": 35
        },
        "outputId": "5ce89c4c-f982-4418-941c-c1cab6a66231"
      },
      "source": [
        "type('Hello World')"
      ],
      "execution_count": null,
      "outputs": [
        {
          "output_type": "execute_result",
          "data": {
            "text/plain": [
              "str"
            ]
          },
          "metadata": {
            "tags": []
          },
          "execution_count": 11
        }
      ]
    },
    {
      "cell_type": "code",
      "metadata": {
        "id": "8ATP1jJF9qoQ",
        "colab_type": "code",
        "colab": {
          "base_uri": "https://localhost:8080/",
          "height": 35
        },
        "outputId": "7edea02e-ed5f-4f5d-e5a5-74b01593669c"
      },
      "source": [
        "len('Hello World')"
      ],
      "execution_count": null,
      "outputs": [
        {
          "output_type": "execute_result",
          "data": {
            "text/plain": [
              "11"
            ]
          },
          "metadata": {
            "tags": []
          },
          "execution_count": 12
        }
      ]
    },
    {
      "cell_type": "markdown",
      "metadata": {
        "id": "atN6F2Fw59A1",
        "colab_type": "text"
      },
      "source": [
        "## User-defined Functions\n",
        "\n",
        "The ability to define our own functions helps programmers in two ways. \n",
        "\n",
        "\n",
        "* When there is a code block that has to be executed repeatedly with different inputs, it may be defined as a function. We should avoid writing the same code more than once in our programs because writing code is error-prone.\n",
        "\n",
        "* Functions make our code *easier to read*. The modularized code is much easier to maintain by you and by others programmers.\n"
      ]
    },
    {
      "cell_type": "markdown",
      "metadata": {
        "id": "afhudffK8IKr",
        "colab_type": "text"
      },
      "source": [
        "### Function definition\n",
        "Function blocks begin with the keyword **def** followed by the **function name** and parentheses **()**"
      ]
    },
    {
      "cell_type": "code",
      "metadata": {
        "colab_type": "code",
        "id": "5oFtqA6-8NSy",
        "colab": {
          "base_uri": "https://localhost:8080/",
          "height": 35
        },
        "outputId": "142e0e07-c8fd-4459-fc30-08552c1acbc5"
      },
      "source": [
        "def greet():        #Function definition\n",
        "   print(\"Hello\")\n",
        "\n",
        "greet();   #Function invocation"
      ],
      "execution_count": 11,
      "outputs": [
        {
          "output_type": "stream",
          "text": [
            "Hello\n"
          ],
          "name": "stdout"
        }
      ]
    },
    {
      "cell_type": "markdown",
      "metadata": {
        "id": "_u73Mra-_ugE",
        "colab_type": "text"
      },
      "source": [
        "### docstrings \n",
        "The string that appear right after the definition of a function and are used to provide documentation of code."
      ]
    },
    {
      "cell_type": "code",
      "metadata": {
        "id": "FGzrhsQsALB-",
        "colab_type": "code",
        "colab": {
          "base_uri": "https://localhost:8080/",
          "height": 53
        },
        "outputId": "bd2e1c5e-40cb-41f5-975b-c7549295be57"
      },
      "source": [
        "def greet():        #Function definition\n",
        "    '''This function prints Hello'''\n",
        "    print(\"Hello\")\n",
        "\n",
        "greet();   #Function invocation\n",
        "greet.__doc__ # retrieve the docstring"
      ],
      "execution_count": 7,
      "outputs": [
        {
          "output_type": "stream",
          "text": [
            "Hello\n"
          ],
          "name": "stdout"
        },
        {
          "output_type": "execute_result",
          "data": {
            "application/vnd.google.colaboratory.intrinsic+json": {
              "type": "string"
            },
            "text/plain": [
              "'This function prints Hello'"
            ]
          },
          "metadata": {
            "tags": []
          },
          "execution_count": 7
        }
      ]
    },
    {
      "cell_type": "code",
      "metadata": {
        "id": "RdJe7u19BLuC",
        "colab_type": "code",
        "colab": {}
      },
      "source": [
        "# Check docstring for len() function\n"
      ],
      "execution_count": null,
      "outputs": []
    },
    {
      "cell_type": "markdown",
      "metadata": {
        "id": "v9qbak0k-Ca5",
        "colab_type": "text"
      },
      "source": [
        "### Input parameters\n",
        "Input parameters should be placed within the parentheses in Function Definition. "
      ]
    },
    {
      "cell_type": "code",
      "metadata": {
        "id": "6Z0Z5LRL4c38",
        "colab_type": "code",
        "colab": {}
      },
      "source": [
        "def greet(name):        #Function definition with 'input' paramter\n",
        "   print(\"Hello\",name)  # No 'output' argument (void function)\n",
        "\n",
        "# Try Function invocation with different input arguments\n"
      ],
      "execution_count": null,
      "outputs": []
    },
    {
      "cell_type": "markdown",
      "metadata": {
        "id": "58R2Fecl8Cx5",
        "colab_type": "text"
      },
      "source": [
        "#### **Order of input arguments** \n",
        "\n",
        "Order of input arguments has to be maintained same as the order of input parameters."
      ]
    },
    {
      "cell_type": "code",
      "metadata": {
        "id": "J2d4c36c4c4C",
        "colab_type": "code",
        "colab": {
          "base_uri": "https://localhost:8080/",
          "height": 35
        },
        "outputId": "8eaecb28-224d-42e4-c832-9c62367c99a3"
      },
      "source": [
        "def compare(num,th): # Function definition\n",
        "    if num>th:\n",
        "        print(num,'>',th)\n",
        "    elif num<th:\n",
        "        print(num,'<',th)\n",
        "    else:\n",
        "        print(num,'=',th)\n",
        "\n",
        "compare(10,2) # Function invocation, num=10, th=2"
      ],
      "execution_count": 8,
      "outputs": [
        {
          "output_type": "stream",
          "text": [
            "10 > 2\n"
          ],
          "name": "stdout"
        }
      ]
    },
    {
      "cell_type": "code",
      "metadata": {
        "id": "kNZfFhDyHQW4",
        "colab_type": "code",
        "colab": {}
      },
      "source": [
        "# Check the result\n",
        "compare(10)"
      ],
      "execution_count": null,
      "outputs": []
    },
    {
      "cell_type": "markdown",
      "metadata": {
        "id": "YU3ICvFwFVmD",
        "colab_type": "text"
      },
      "source": [
        "#### **Default arguments** \n",
        "We can specify a default value of a parameter if an argument is not passed to it."
      ]
    },
    {
      "cell_type": "code",
      "metadata": {
        "id": "bb4G7zQMFpBM",
        "colab_type": "code",
        "colab": {}
      },
      "source": [
        "def compare(num,th=0): # Default value of th is zero\n",
        "    if num>th:\n",
        "        print(num,'>',th)\n",
        "    elif num<th:\n",
        "        print(num,'<',th)\n",
        "    else:\n",
        "        print(num,'=',th)\n",
        "# Try different Function invocations\n"
      ],
      "execution_count": null,
      "outputs": []
    },
    {
      "cell_type": "markdown",
      "metadata": {
        "id": "uoB-rPvfDd62",
        "colab_type": "text"
      },
      "source": [
        "#### **Variable number of input arguments** \n",
        "*   Asterisk (*) is to take in a variable number of arguments\n",
        "*   Parameter with * becomes an iterable\n",
        "\n"
      ]
    },
    {
      "cell_type": "code",
      "metadata": {
        "id": "5W4oOS7a4c4G",
        "colab_type": "code",
        "colab": {
          "base_uri": "https://localhost:8080/",
          "height": 52
        },
        "outputId": "ebcc7d84-5d61-4ee1-d98d-ba66ecd9b77c"
      },
      "source": [
        "def greet(*names):\n",
        "    print('Type of input argument: ',type(names))\n",
        "    for name in names: # names is a tuple, which is iterable\n",
        "      print(\"Hello\",name)\n",
        "\n",
        "greet(\"Rose\") \n",
        "# Pass any number of input arguments"
      ],
      "execution_count": 24,
      "outputs": [
        {
          "output_type": "stream",
          "text": [
            "Type of input argument:  <class 'tuple'>\n",
            "Hello Rose\n"
          ],
          "name": "stdout"
        }
      ]
    },
    {
      "cell_type": "markdown",
      "metadata": {
        "id": "vcQTwvLtF_IW",
        "colab_type": "text"
      },
      "source": [
        "#### **Keyword arguments** \n",
        "\n",
        "We can define the arguments by the parameter name during function invocation."
      ]
    },
    {
      "cell_type": "code",
      "metadata": {
        "id": "Ll6_w1TxGW3j",
        "colab_type": "code",
        "colab": {
          "base_uri": "https://localhost:8080/",
          "height": 35
        },
        "outputId": "078691d7-bdb5-4c91-ee04-0c7d266f4745"
      },
      "source": [
        "def compare(num,th): # Function definition\n",
        "    if num>th:\n",
        "        print(num,'>',th) # Note: num prints first then th\n",
        "    elif num<th:\n",
        "        print(num,'<',th)\n",
        "    else:\n",
        "        print(num,'=',th)\n",
        "\n",
        "compare(num=10, th=2)   # Function invocation, identify arguments by parameter name\n",
        "# Try chaning order of the input arguments now..."
      ],
      "execution_count": 28,
      "outputs": [
        {
          "output_type": "stream",
          "text": [
            "10 > 2\n"
          ],
          "name": "stdout"
        }
      ]
    },
    {
      "cell_type": "code",
      "metadata": {
        "id": "zOIbsX4E4c4J",
        "colab_type": "code",
        "colab": {
          "base_uri": "https://localhost:8080/",
          "height": 191
        },
        "outputId": "cecd394c-31b6-43ab-bb0a-8b2ecd2d2003"
      },
      "source": [
        "# Use of keyword argument with variable-argument\n",
        "def compare(*num,th=0):\n",
        "    for n in num:\n",
        "        if n>th:\n",
        "            print(n,'>',th) # Note: num prints first then th\n",
        "        elif n<th:\n",
        "            print(n,'<',th)\n",
        "        else:\n",
        "            print(n,'=',th)\n",
        "print('Use default argument for th')\n",
        "compare(1,-1,4,-4) # th=0: default argument is used\n",
        "print('Use keyword argument for th')\n",
        "compare(10,-10,40,-40,th=2) # th=2: keyword argument must be used"
      ],
      "execution_count": 30,
      "outputs": [
        {
          "output_type": "stream",
          "text": [
            "Use default argument for th\n",
            "1 > 0\n",
            "-1 < 0\n",
            "4 > 0\n",
            "-4 < 0\n",
            "Use keyword argument for th\n",
            "10 > 2\n",
            "-10 < 2\n",
            "40 > 2\n",
            "-40 < 2\n"
          ],
          "name": "stdout"
        }
      ]
    },
    {
      "cell_type": "markdown",
      "metadata": {
        "id": "z_V9ft7qH99W",
        "colab_type": "text"
      },
      "source": [
        "### Output using return\n",
        "\n",
        "The statement **return [expression]** exits a function, optionally passing back an expression to the caller.\n",
        "\n",
        "A return statement with no arguments is the same as return None."
      ]
    },
    {
      "cell_type": "markdown",
      "metadata": {
        "id": "y-PBWolsLviB",
        "colab_type": "text"
      },
      "source": [
        "#### Single output"
      ]
    },
    {
      "cell_type": "code",
      "metadata": {
        "id": "AiQc8e0b4c4M",
        "colab_type": "code",
        "colab": {
          "base_uri": "https://localhost:8080/",
          "height": 72
        },
        "outputId": "37b5ed5e-9ebe-4931-c64c-c7a544f6a8f7"
      },
      "source": [
        "# When function returns an output, its called as a fruitful function\n",
        "def square(num):\n",
        "    print('Inside the Function')\n",
        "    return num*num\n",
        "    print('Function already exited')\n",
        "\n",
        "n=10;\n",
        "n_sq = square(n)\n",
        "print('Outside the function')\n",
        "print(n,'^2 = ',n_sq)"
      ],
      "execution_count": null,
      "outputs": [
        {
          "output_type": "stream",
          "text": [
            "Inside the Function\n",
            "Outside the function\n",
            "10 ^2 =  100\n"
          ],
          "name": "stdout"
        }
      ]
    },
    {
      "cell_type": "markdown",
      "metadata": {
        "id": "kT_bJzbjL14l",
        "colab_type": "text"
      },
      "source": [
        "#### Multiple outputs"
      ]
    },
    {
      "cell_type": "code",
      "metadata": {
        "id": "CPxWRhpD4c4Q",
        "colab_type": "code",
        "colab": {
          "base_uri": "https://localhost:8080/",
          "height": 35
        },
        "outputId": "f2629df3-8bad-4ad3-e694-7b531d99467c"
      },
      "source": [
        "#%% Multiple output arguments\n",
        "def plus_minus(x,y):\n",
        "    return x+y, x-y\n",
        "ans = plus_minus(10,20)\n",
        "print(ans)  # Produces a tuple"
      ],
      "execution_count": 37,
      "outputs": [
        {
          "output_type": "stream",
          "text": [
            "(30, -10)\n"
          ],
          "name": "stdout"
        }
      ]
    }
  ]
}