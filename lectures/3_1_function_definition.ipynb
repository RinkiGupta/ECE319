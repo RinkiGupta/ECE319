{
  "nbformat": 4,
  "nbformat_minor": 0,
  "metadata": {
    "kernelspec": {
      "display_name": "Python 3",
      "language": "python",
      "name": "python3"
    },
    "language_info": {
      "codemirror_mode": {
        "name": "ipython",
        "version": 3
      },
      "file_extension": ".py",
      "mimetype": "text/x-python",
      "name": "python",
      "nbconvert_exporter": "python",
      "pygments_lexer": "ipython3",
      "version": "3.6.4"
    },
    "colab": {
      "provenance": [],
      "include_colab_link": true
    }
  },
  "cells": [
    {
      "cell_type": "markdown",
      "metadata": {
        "id": "view-in-github",
        "colab_type": "text"
      },
      "source": [
        "<a href=\"https://colab.research.google.com/github/RinkiGupta/ECE319/blob/master/lectures/3_1_function_definition.ipynb\" target=\"_parent\"><img src=\"https://colab.research.google.com/assets/colab-badge.svg\" alt=\"Open In Colab\"/></a>"
      ]
    },
    {
      "cell_type": "markdown",
      "metadata": {
        "id": "gmi0DgyR4c35"
      },
      "source": [
        "# Functions\n",
        "\n",
        "In the context of programming, a *function* is a named sequence of statements that performs a computation.\n",
        "\n",
        "There are two aspects to every Python function:\n",
        "* **Function definition**. The definition of a function contains the code that determines the function’s behaviour.\n",
        "* **Function invocation**. A function is used within a program via a function invocation.\n",
        "\n"
      ]
    },
    {
      "cell_type": "markdown",
      "metadata": {
        "id": "8Kr120cO54-v"
      },
      "source": [
        "## Built-in Functions\n",
        "\n",
        "The function definition of built-in functions is available with Python interpreter.\n",
        "\n",
        "Only Function invocation is required."
      ]
    },
    {
      "cell_type": "code",
      "metadata": {
        "id": "5aIzHIhg9foM"
      },
      "source": [
        "print('Hello World') # Function Invocation"
      ],
      "execution_count": null,
      "outputs": []
    },
    {
      "cell_type": "code",
      "metadata": {
        "id": "qf78vihi9p8k"
      },
      "source": [
        "type('Hello World') # Function Invocation"
      ],
      "execution_count": null,
      "outputs": []
    },
    {
      "cell_type": "code",
      "metadata": {
        "id": "8ATP1jJF9qoQ"
      },
      "source": [
        "len('Hello World') # Function Invocation"
      ],
      "execution_count": null,
      "outputs": []
    },
    {
      "cell_type": "markdown",
      "metadata": {
        "id": "atN6F2Fw59A1"
      },
      "source": [
        "## User-defined Functions\n",
        "\n",
        "The ability to define our own functions helps programmers in two ways.\n",
        "\n",
        "\n",
        "* When there is a code block that has to be executed *repeatedly* with different inputs, it may be defined as a function. We should avoid writing the same code more than once in our programs because writing code is error-prone.\n",
        "\n",
        "* Functions make our code *easier to read*. The modularized code is much easier to maintain by you and by others programmers.\n"
      ]
    },
    {
      "cell_type": "markdown",
      "metadata": {
        "id": "afhudffK8IKr"
      },
      "source": [
        "### Function definition\n",
        "Function blocks begin with the keyword **def** followed by the **function name** and parentheses **()**\n",
        "```\n",
        "def function_name(parameter_list):\n",
        "    statements\n",
        "```\n",
        "<img src='https://www.softwaretestinghelp.com/wp-content/qa/uploads/2021/01/fig2_function-definition.png' width=50%>"
      ]
    },
    {
      "cell_type": "code",
      "metadata": {
        "id": "5oFtqA6-8NSy"
      },
      "source": [
        "def greet():        #Function definition\n",
        "   print(\"Hello\")   #No Return statement\n",
        "\n",
        "greet();   #Function invocation"
      ],
      "execution_count": null,
      "outputs": []
    },
    {
      "cell_type": "code",
      "metadata": {
        "id": "jTKxg9fEpxRZ"
      },
      "source": [
        "greet(); # Call function again"
      ],
      "execution_count": null,
      "outputs": []
    },
    {
      "cell_type": "code",
      "metadata": {
        "id": "DmyaS2Mep0J_"
      },
      "source": [
        "greet(); # call again"
      ],
      "execution_count": null,
      "outputs": []
    },
    {
      "cell_type": "markdown",
      "metadata": {
        "id": "_u73Mra-_ugE"
      },
      "source": [
        "### docstrings\n",
        "The string that appear right after the definition of a function and are used to provide documentation of code."
      ]
    },
    {
      "cell_type": "code",
      "metadata": {
        "id": "FGzrhsQsALB-"
      },
      "source": [
        "def greet():        #Function definition\n",
        "    '''This function prints Hello''' # docstring\n",
        "    print(\"Hello\")"
      ],
      "execution_count": null,
      "outputs": []
    },
    {
      "cell_type": "code",
      "metadata": {
        "id": "7M_a_GTGYGKZ"
      },
      "source": [
        "greet();   #Function invocation"
      ],
      "execution_count": null,
      "outputs": []
    },
    {
      "cell_type": "code",
      "metadata": {
        "id": "zcK4byf-YFfw"
      },
      "source": [
        "greet.__doc__ # retrieve the docstring"
      ],
      "execution_count": null,
      "outputs": []
    },
    {
      "cell_type": "code",
      "metadata": {
        "id": "RdJe7u19BLuC"
      },
      "source": [
        "# Check docstring for len() function\n",
        "len.__doc__"
      ],
      "execution_count": null,
      "outputs": []
    },
    {
      "cell_type": "markdown",
      "metadata": {
        "id": "v9qbak0k-Ca5"
      },
      "source": [
        "### Input parameters\n",
        "Input parameters should be placed within the parentheses in Function Definition."
      ]
    },
    {
      "cell_type": "code",
      "metadata": {
        "id": "6Z0Z5LRL4c38"
      },
      "source": [
        "#Function definition with 'input' parameter\n",
        "def greet(name):\n",
        "   print(\"Hello\",name)  # No 'output' argument (void function)"
      ],
      "execution_count": null,
      "outputs": []
    },
    {
      "cell_type": "code",
      "metadata": {
        "id": "Og-6fQ9CsNpx"
      },
      "source": [
        "# Try Function invocation with different input arguments\n",
        "greet('Monica')"
      ],
      "execution_count": null,
      "outputs": []
    },
    {
      "cell_type": "code",
      "metadata": {
        "id": "H09wimf5sa8s"
      },
      "source": [
        "greet('Steve')"
      ],
      "execution_count": null,
      "outputs": []
    },
    {
      "cell_type": "code",
      "metadata": {
        "id": "55CUepEassws"
      },
      "source": [
        "greet() # Guess the output"
      ],
      "execution_count": null,
      "outputs": []
    },
    {
      "cell_type": "markdown",
      "metadata": {
        "id": "58R2Fecl8Cx5"
      },
      "source": [
        "#### **Order of input arguments**\n",
        "\n",
        "Order of input arguments has to be maintained same as the order of input parameters."
      ]
    },
    {
      "cell_type": "code",
      "metadata": {
        "id": "J2d4c36c4c4C"
      },
      "source": [
        "def compare(num,th): # Function definition\n",
        "    if num>th:\n",
        "        print(num,'>',th)\n",
        "    elif num<th:\n",
        "        print(num,'<',th)\n",
        "    else:\n",
        "        print(num,'=',th)\n",
        "\n",
        "compare(10,2) # Function invocation, num=10, th=2"
      ],
      "execution_count": null,
      "outputs": []
    },
    {
      "cell_type": "code",
      "metadata": {
        "id": "PIj2IWrjt6KM"
      },
      "source": [
        "compare(2,10)"
      ],
      "execution_count": null,
      "outputs": []
    },
    {
      "cell_type": "code",
      "metadata": {
        "id": "kNZfFhDyHQW4"
      },
      "source": [
        "compare(10) # Check the result"
      ],
      "execution_count": null,
      "outputs": []
    },
    {
      "cell_type": "markdown",
      "metadata": {
        "id": "YU3ICvFwFVmD"
      },
      "source": [
        "#### **Default arguments**\n",
        "We can specify a default value of a parameter if an argument is not passed to it.\n",
        "\n",
        "Default value is specified in function definition"
      ]
    },
    {
      "cell_type": "code",
      "metadata": {
        "id": "bb4G7zQMFpBM"
      },
      "source": [
        "def compare(num,th=0): # Default value of th is zero\n",
        "    if num>th:\n",
        "        print(num,'>',th)\n",
        "    elif num<th:\n",
        "        print(num,'<',th)\n",
        "    else:\n",
        "        print(num,'=',th)"
      ],
      "execution_count": null,
      "outputs": []
    },
    {
      "cell_type": "code",
      "metadata": {
        "id": "5ZyCsmdBu4Nc"
      },
      "source": [
        "# Try different Function invocations\n",
        "compare(10,2)\n",
        "compare(2,10)\n",
        "compare(10)"
      ],
      "execution_count": null,
      "outputs": []
    },
    {
      "cell_type": "markdown",
      "metadata": {
        "id": "uoB-rPvfDd62"
      },
      "source": [
        "#### **Variable number of input arguments**\n",
        "*   Asterisk (*) is to take in a variable number of arguments\n",
        "*   Parameter with * becomes an iterable\n",
        "\n"
      ]
    },
    {
      "cell_type": "code",
      "metadata": {
        "id": "5W4oOS7a4c4G"
      },
      "source": [
        "def greet(*names):\n",
        "    print('Type of input argument: ',type(names))\n",
        "    for name in names: # names is a tuple, which is iterable\n",
        "      print(\"Hello\",name)\n",
        "\n",
        "greet(\"Rose\") # Function Invocation"
      ],
      "execution_count": null,
      "outputs": []
    },
    {
      "cell_type": "code",
      "metadata": {
        "id": "TKt7BO3iwLaD"
      },
      "source": [
        "# Pass any number of input arguments\n",
        "greet('Rose','Monica','Steve')"
      ],
      "execution_count": null,
      "outputs": []
    },
    {
      "cell_type": "markdown",
      "metadata": {
        "id": "vcQTwvLtF_IW"
      },
      "source": [
        "#### **Keyword arguments**\n",
        "\n",
        "We can define the arguments by the parameter name during function invocation.\n",
        "\n",
        "Keyword arguments are to be specified in function invocation."
      ]
    },
    {
      "cell_type": "code",
      "metadata": {
        "id": "Ll6_w1TxGW3j"
      },
      "source": [
        "def compare(num,th): # Function definition\n",
        "    if num>th:\n",
        "        print(num,'>',th) # Note: num prints first then th\n",
        "    elif num<th:\n",
        "        print(num,'<',th)\n",
        "    else:\n",
        "        print(num,'=',th)\n",
        "\n",
        "compare(10, 2) # no keyword argument"
      ],
      "execution_count": null,
      "outputs": []
    },
    {
      "cell_type": "code",
      "metadata": {
        "id": "5GOyK1oswx85"
      },
      "source": [
        "# Function invocation, identify arguments by parameter name\n",
        "compare(num=10,th=2)"
      ],
      "execution_count": null,
      "outputs": []
    },
    {
      "cell_type": "code",
      "metadata": {
        "id": "ZtaNdH-Gw1Gn"
      },
      "source": [
        "# Try chaning order of the input arguments now...\n",
        "compare(th=2,num=10)"
      ],
      "execution_count": null,
      "outputs": []
    },
    {
      "cell_type": "code",
      "metadata": {
        "id": "zOIbsX4E4c4J"
      },
      "source": [
        "# Use of keyword argument with variable-argument\n",
        "def compare(*num,th=0):\n",
        "    for n in num:\n",
        "        if n>th:\n",
        "            print(n,'>',th) # Note: num prints first then th\n",
        "        elif n<th:\n",
        "            print(n,'<',th)\n",
        "        else:\n",
        "            print(n,'=',th)"
      ],
      "execution_count": null,
      "outputs": []
    },
    {
      "cell_type": "code",
      "metadata": {
        "id": "ojf5ELbMZjty"
      },
      "source": [
        "print('Use default argument for th')\n",
        "compare(1,-1,4,-4) # th=0: default argument is used"
      ],
      "execution_count": null,
      "outputs": []
    },
    {
      "cell_type": "code",
      "metadata": {
        "id": "fa1Hq-0WZlvE"
      },
      "source": [
        "print('Use keyword argument for th')\n",
        "compare(10,-10,40,-40,th=2) # th=2: keyword argument must be used"
      ],
      "execution_count": null,
      "outputs": []
    },
    {
      "cell_type": "markdown",
      "metadata": {
        "id": "z_V9ft7qH99W"
      },
      "source": [
        "### Output using return\n",
        "\n",
        "The statement **return expression** exits a function, optionally passing back an expression to the caller.\n",
        "\n",
        "A return statement with no arguments is the same as return None."
      ]
    },
    {
      "cell_type": "markdown",
      "metadata": {
        "id": "y-PBWolsLviB"
      },
      "source": [
        "#### Single output"
      ]
    },
    {
      "cell_type": "code",
      "metadata": {
        "id": "AiQc8e0b4c4M"
      },
      "source": [
        "# When function returns an output, its called as a fruitful function\n",
        "def square(num):\n",
        "    print('Inside the Function')\n",
        "    return num*num\n",
        "    print('Function already exited')\n",
        "\n",
        "n=10;\n",
        "n_sq = square(n)\n",
        "print('Outside the function')\n",
        "print(n,'^2 = ',n_sq)"
      ],
      "execution_count": null,
      "outputs": []
    },
    {
      "cell_type": "markdown",
      "metadata": {
        "id": "kT_bJzbjL14l"
      },
      "source": [
        "#### Multiple outputs"
      ]
    },
    {
      "cell_type": "code",
      "metadata": {
        "id": "PGf-VfnUghkg"
      },
      "source": [
        "#%% Multiple output arguments\n",
        "def plus_minus(x,y):\n",
        "    return x+y, x-y\n",
        "ans = plus_minus(10,20)\n",
        "print(ans)  # Produces a tuple"
      ],
      "execution_count": null,
      "outputs": []
    },
    {
      "cell_type": "code",
      "metadata": {
        "id": "CPxWRhpD4c4Q"
      },
      "source": [
        "#%% Multiple output arguments\n",
        "def plus_minus(x,y):\n",
        "    return x+y, x-y\n",
        "ans1,ans2 = plus_minus(10,20)\n",
        "print(ans1,ans2)  # Tuple assigment"
      ],
      "execution_count": null,
      "outputs": []
    }
  ]
}