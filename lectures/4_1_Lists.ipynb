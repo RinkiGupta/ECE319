{
  "nbformat": 4,
  "nbformat_minor": 0,
  "metadata": {
    "colab": {
      "name": "4_1_Lists.ipynb",
      "provenance": [],
      "collapsed_sections": [],
      "authorship_tag": "ABX9TyOjg7tJnJlxjeb8+mwOB0HE",
      "include_colab_link": true
    },
    "kernelspec": {
      "name": "python3",
      "display_name": "Python 3"
    }
  },
  "cells": [
    {
      "cell_type": "markdown",
      "metadata": {
        "id": "view-in-github",
        "colab_type": "text"
      },
      "source": [
        "<a href=\"https://colab.research.google.com/github/RinkiGupta/ECE319/blob/master/lectures/4_1_Lists.ipynb\" target=\"_parent\"><img src=\"https://colab.research.google.com/assets/colab-badge.svg\" alt=\"Open In Colab\"/></a>"
      ]
    },
    {
      "cell_type": "markdown",
      "metadata": {
        "id": "AOxFc2xIBWQr",
        "colab_type": "text"
      },
      "source": [
        "# List\n",
        "A list has comma-separated values (items) between square brackets.\n",
        "\n",
        "List may contain values of different data types.\n",
        "\n",
        "List allows duplicate items."
      ]
    },
    {
      "cell_type": "code",
      "metadata": {
        "id": "1RqTDz9e4Op9",
        "colab_type": "code",
        "colab": {
          "base_uri": "https://localhost:8080/",
          "height": 50
        },
        "outputId": "63ad5810-95a0-4b30-8955-48da1aef3006"
      },
      "source": [
        "# create a list\n",
        "my_list = ['an','an','the',1,2.0,True,[3,'a',2]]\n",
        "print(my_list, type(my_list))\n",
        "print('Number of elements in my_list: ',len(my_list)) "
      ],
      "execution_count": 11,
      "outputs": [
        {
          "output_type": "stream",
          "text": [
            "['an', 'an', 'the', 1, 2.0, True, [3, 'a', 2]] <class 'list'>\n",
            "Number of elements in my_list:  7\n"
          ],
          "name": "stdout"
        }
      ]
    },
    {
      "cell_type": "code",
      "metadata": {
        "id": "7Y6jcTS44PlF",
        "colab_type": "code",
        "colab": {
          "base_uri": "https://localhost:8080/",
          "height": 34
        },
        "outputId": "11f4ab78-8b05-4d0f-d76e-5cfe3fb0d25d"
      },
      "source": [
        "# Lists are mutable\n",
        "my_list[0] = 'a'\n",
        "print(my_list, type(my_list))"
      ],
      "execution_count": 12,
      "outputs": [
        {
          "output_type": "stream",
          "text": [
            "['a', 'an', 'the', 1, 2.0, True, [3, 'a', 2]] <class 'list'>\n"
          ],
          "name": "stdout"
        }
      ]
    },
    {
      "cell_type": "markdown",
      "metadata": {
        "id": "9Q_grEGkCFwW",
        "colab_type": "text"
      },
      "source": [
        "# Accessing\n",
        "\n",
        "List is a built-in sequence type.\n",
        "\n",
        "It is an ordered sequence, which is index-accessible.\n"
      ]
    },
    {
      "cell_type": "code",
      "metadata": {
        "id": "kmRpHfIeCaIH",
        "colab_type": "code",
        "colab": {
          "base_uri": "https://localhost:8080/",
          "height": 34
        },
        "outputId": "4b28c583-0643-4cfc-ff42-a125335b4369"
      },
      "source": [
        "#%% list slicing var_name[start:end:stride]\n",
        "weekdays = ['mon','tues','wed','thurs','fri']\n",
        "s1 = weekdays[0] \n",
        "print(s1,type(s1))"
      ],
      "execution_count": 13,
      "outputs": [
        {
          "output_type": "stream",
          "text": [
            "mon <class 'str'>\n"
          ],
          "name": "stdout"
        }
      ]
    },
    {
      "cell_type": "code",
      "metadata": {
        "id": "fSWXg32OD_LG",
        "colab_type": "code",
        "colab": {
          "base_uri": "https://localhost:8080/",
          "height": 34
        },
        "outputId": "e24685d6-6ff7-45c1-93ce-a453eb4c8dc4"
      },
      "source": [
        "s2=weekdays[0:3] \n",
        "print(s2,type(s2))"
      ],
      "execution_count": 15,
      "outputs": [
        {
          "output_type": "stream",
          "text": [
            "['mon', 'tues', 'wed'] <class 'list'>\n"
          ],
          "name": "stdout"
        }
      ]
    },
    {
      "cell_type": "code",
      "metadata": {
        "id": "GvZHPFInEC-b",
        "colab_type": "code",
        "colab": {
          "base_uri": "https://localhost:8080/",
          "height": 101
        },
        "outputId": "d902d739-a7a3-447c-f5dd-3f46629d2340"
      },
      "source": [
        "print(weekdays[:3]) # elements 0, 1, 2\n",
        "print(weekdays[3:]) # elements 3, 4\n",
        "print(weekdays[-1]) # last element (element 4)\n",
        "print(weekdays[::2]) # every 2nd element (0, 2, 4)\n",
        "print(weekdays[::-1]) # backwards (4, 3, 2, 1, 0)"
      ],
      "execution_count": 17,
      "outputs": [
        {
          "output_type": "stream",
          "text": [
            "['mon', 'tues', 'wed']\n",
            "['thurs', 'fri']\n",
            "fri\n",
            "['mon', 'wed', 'fri']\n",
            "['fri', 'thurs', 'wed', 'tues', 'mon']\n"
          ],
          "name": "stdout"
        }
      ]
    },
    {
      "cell_type": "code",
      "metadata": {
        "id": "pzIP0CoAElDJ",
        "colab_type": "code",
        "colab": {
          "base_uri": "https://localhost:8080/",
          "height": 34
        },
        "outputId": "90071ea5-4544-45d7-8084-9d581ff69da6"
      },
      "source": [
        "print(my_list, type(my_list))"
      ],
      "execution_count": 18,
      "outputs": [
        {
          "output_type": "stream",
          "text": [
            "['a', 'an', 'the', 1, 2.0, True, [3, 'a', 2]] <class 'list'>\n"
          ],
          "name": "stdout"
        }
      ]
    },
    {
      "cell_type": "code",
      "metadata": {
        "id": "eCRVdL7XEpDM",
        "colab_type": "code",
        "colab": {}
      },
      "source": [
        "## Guess the outputs\n",
        "print(my_list[-1])\n",
        "print(my_list[-1][1])"
      ],
      "execution_count": null,
      "outputs": []
    },
    {
      "cell_type": "markdown",
      "metadata": {
        "id": "a65NNJT-IqTh",
        "colab_type": "text"
      },
      "source": [
        "# List Methods\n",
        "\n",
        "These are all of the methods of list objects:"
      ]
    },
    {
      "cell_type": "code",
      "metadata": {
        "id": "1e89T4CdJLFO",
        "colab_type": "code",
        "colab": {
          "base_uri": "https://localhost:8080/",
          "height": 50
        },
        "outputId": "b9fd8505-a428-45e3-d1aa-3049425bca80"
      },
      "source": [
        "# create an empty list (two ways)\n",
        "months = []\n",
        "months1 = list()\n",
        "print(months,type(months))\n",
        "print(months1,type(months1))"
      ],
      "execution_count": 64,
      "outputs": [
        {
          "output_type": "stream",
          "text": [
            "[] <class 'list'>\n",
            "[] <class 'list'>\n"
          ],
          "name": "stdout"
        }
      ]
    },
    {
      "cell_type": "code",
      "metadata": {
        "id": "lOM86K1cJYUh",
        "colab_type": "code",
        "colab": {
          "base_uri": "https://localhost:8080/",
          "height": 34
        },
        "outputId": "6b9809c6-c72a-4da5-ee81-a4bdf1947d90"
      },
      "source": [
        "months.append('Jan')  # append element to end\n",
        "print('After Append:', months)"
      ],
      "execution_count": 65,
      "outputs": [
        {
          "output_type": "stream",
          "text": [
            "After Append: ['Jan']\n"
          ],
          "name": "stdout"
        }
      ]
    },
    {
      "cell_type": "code",
      "metadata": {
        "colab_type": "code",
        "id": "KiPYZnpBJqHS",
        "colab": {
          "base_uri": "https://localhost:8080/",
          "height": 34
        },
        "outputId": "6ccf3da6-0c46-43f5-d8ce-52b492649b1b"
      },
      "source": [
        "months.append('Feb')  # append element to end\n",
        "print('Again Append:', months) "
      ],
      "execution_count": 66,
      "outputs": [
        {
          "output_type": "stream",
          "text": [
            "Again Append: ['Jan', 'Feb']\n"
          ],
          "name": "stdout"
        }
      ]
    },
    {
      "cell_type": "code",
      "metadata": {
        "id": "Kj0FWjfAJjJh",
        "colab_type": "code",
        "colab": {
          "base_uri": "https://localhost:8080/",
          "height": 34
        },
        "outputId": "fb40de16-4a34-4689-ce3b-45733f2f9179"
      },
      "source": [
        "months.extend(['May', 'Apr', 'Apr','May','Apr']) # Extend the list by appending all the items from the iterable\n",
        "print('Extend:', months) "
      ],
      "execution_count": 67,
      "outputs": [
        {
          "output_type": "stream",
          "text": [
            "Extend: ['Jan', 'Feb', 'May', 'Apr', 'Apr', 'May', 'Apr']\n"
          ],
          "name": "stdout"
        }
      ]
    },
    {
      "cell_type": "code",
      "metadata": {
        "id": "2UMtapqnKUGM",
        "colab_type": "code",
        "colab": {
          "base_uri": "https://localhost:8080/",
          "height": 34
        },
        "outputId": "501236e1-7c29-48f6-d775-d1e5d32dbd5b"
      },
      "source": [
        "months.insert(2, 'Mar') # insert element at a particular index (shifts everything right)\n",
        "print('Insert:', months) "
      ],
      "execution_count": 68,
      "outputs": [
        {
          "output_type": "stream",
          "text": [
            "Insert: ['Jan', 'Feb', 'Mar', 'May', 'Apr', 'Apr', 'May', 'Apr']\n"
          ],
          "name": "stdout"
        }
      ]
    },
    {
      "cell_type": "code",
      "metadata": {
        "id": "NRXwGVOlKkcq",
        "colab_type": "code",
        "colab": {
          "base_uri": "https://localhost:8080/",
          "height": 34
        },
        "outputId": "c42526ac-4c82-464e-bbea-918e7447be4d"
      },
      "source": [
        "months.remove('Apr') # searches for first instance and removes it\n",
        "print('Remove:', months) "
      ],
      "execution_count": 69,
      "outputs": [
        {
          "output_type": "stream",
          "text": [
            "Remove: ['Jan', 'Feb', 'Mar', 'May', 'Apr', 'May', 'Apr']\n"
          ],
          "name": "stdout"
        }
      ]
    },
    {
      "cell_type": "code",
      "metadata": {
        "id": "x9Ts180KLOb1",
        "colab_type": "code",
        "colab": {
          "base_uri": "https://localhost:8080/",
          "height": 50
        },
        "outputId": "cfaa3bc4-b277-490d-f15e-bbd69fe914b8"
      },
      "source": [
        "out=months.pop(3) # removes element 3 and returns it\n",
        "print('Popped:', out) \n",
        "print('After Pop:', months) "
      ],
      "execution_count": 70,
      "outputs": [
        {
          "output_type": "stream",
          "text": [
            "Popped: May\n",
            "After Pop: ['Jan', 'Feb', 'Mar', 'Apr', 'May', 'Apr']\n"
          ],
          "name": "stdout"
        }
      ]
    },
    {
      "cell_type": "code",
      "metadata": {
        "id": "mQTGEEcJLd87",
        "colab_type": "code",
        "colab": {
          "base_uri": "https://localhost:8080/",
          "height": 50
        },
        "outputId": "de620929-c051-4bb6-a595-44c750fbc46f"
      },
      "source": [
        "print(months.count('Apr'))  # number of occurances\n",
        "print(months.count('Jun'))  # number of occurances"
      ],
      "execution_count": 72,
      "outputs": [
        {
          "output_type": "stream",
          "text": [
            "2\n",
            "0\n"
          ],
          "name": "stdout"
        }
      ]
    },
    {
      "cell_type": "code",
      "metadata": {
        "id": "hTNZZPkUNkdz",
        "colab_type": "code",
        "colab": {
          "base_uri": "https://localhost:8080/",
          "height": 34
        },
        "outputId": "fc8a30d6-3cac-4c6d-ca40-80e8b7bf6e9d"
      },
      "source": [
        "print(months.index('Apr')) # returns index of first instance"
      ],
      "execution_count": 73,
      "outputs": [
        {
          "output_type": "stream",
          "text": [
            "3\n"
          ],
          "name": "stdout"
        }
      ]
    },
    {
      "cell_type": "code",
      "metadata": {
        "id": "CJtn-0hlO2I5",
        "colab_type": "code",
        "colab": {
          "base_uri": "https://localhost:8080/",
          "height": 34
        },
        "outputId": "8ad20ef0-792a-4e67-9a3c-8006f68706d1"
      },
      "source": [
        "months1= months.copy() #Return a Copy of the list\n",
        "print('Copy: ',months1)"
      ],
      "execution_count": 74,
      "outputs": [
        {
          "output_type": "stream",
          "text": [
            "Copy:  ['Jan', 'Feb', 'Mar', 'Apr', 'May', 'Apr']\n"
          ],
          "name": "stdout"
        }
      ]
    },
    {
      "cell_type": "code",
      "metadata": {
        "id": "jGACqyBmPLf0",
        "colab_type": "code",
        "colab": {
          "base_uri": "https://localhost:8080/",
          "height": 34
        },
        "outputId": "319e03c6-1b12-4d2e-e1db-e9e1599c87bf"
      },
      "source": [
        "# sort a list in place (modifies but does not return the list)\n",
        "months1.sort()\n",
        "print('Sort: ',months1)"
      ],
      "execution_count": 76,
      "outputs": [
        {
          "output_type": "stream",
          "text": [
            "Sort:  ['Apr', 'Apr', 'Feb', 'Jan', 'Mar', 'May']\n"
          ],
          "name": "stdout"
        }
      ]
    },
    {
      "cell_type": "code",
      "metadata": {
        "id": "QLr7LDjsOhrc",
        "colab_type": "code",
        "colab": {
          "base_uri": "https://localhost:8080/",
          "height": 50
        },
        "outputId": "7aece84f-978f-439d-ea8d-7bae8f6d8fce"
      },
      "source": [
        "# Return a sorted list (but does not modify the original list)\n",
        "print('Sorted function: ',sorted(months))\n",
        "print('Original: ',months)"
      ],
      "execution_count": 78,
      "outputs": [
        {
          "output_type": "stream",
          "text": [
            "Sorted function:  ['Apr', 'Apr', 'Feb', 'Jan', 'Mar', 'May']\n",
            "Original:  ['Jan', 'Feb', 'Mar', 'Apr', 'May', 'Apr']\n"
          ],
          "name": "stdout"
        }
      ]
    },
    {
      "cell_type": "code",
      "metadata": {
        "id": "6FZuQNuKTqcw",
        "colab_type": "code",
        "colab": {
          "base_uri": "https://localhost:8080/",
          "height": 84
        },
        "outputId": "91dbeee7-4b7a-4b88-dfc0-44321b17c81d"
      },
      "source": [
        "# Delete elements of list\n",
        "print('Original: ',months)\n",
        "del months[1]\n",
        "print('del months[1]: ',months)\n",
        "del months[:3]\n",
        "print('del months[:3]: ',months)\n",
        "del months[:]\n",
        "print('del months[:]: ',months)"
      ],
      "execution_count": 92,
      "outputs": [
        {
          "output_type": "stream",
          "text": [
            "Original:  ['Jan', 'Feb', 'Mar', 'Apr', 'May', 'Apr']\n",
            "del months[1]:  ['Jan', 'Mar', 'Apr', 'May', 'Apr']\n",
            "del months[:3]:  ['May', 'Apr']\n",
            "del months[:]:  []\n"
          ],
          "name": "stdout"
        }
      ]
    },
    {
      "cell_type": "markdown",
      "metadata": {
        "id": "rgEBA0eCPwDy",
        "colab_type": "text"
      },
      "source": [
        "# Basic List Operations"
      ]
    },
    {
      "cell_type": "code",
      "metadata": {
        "id": "WetRBHNdPvva",
        "colab_type": "code",
        "colab": {
          "base_uri": "https://localhost:8080/",
          "height": 84
        },
        "outputId": "2eb43c1c-9282-486b-fd3e-c83d8ddce0fa"
      },
      "source": [
        "print([1, 2, 3] + [4, 5, 6]) # conatenate +\n",
        "print([\"a\"] * 2 + [\"b\"] * 3) # replicate *\n",
        "eg1 = ['a',1,'an',2.0,'the',1+2j] # mixed data-types\n",
        "print('a' in eg1) # Membership\n",
        "print(1.1 in eg1) # Membership"
      ],
      "execution_count": 81,
      "outputs": [
        {
          "output_type": "stream",
          "text": [
            "[1, 2, 3, 4, 5, 6]\n",
            "['a', 'a', 'b', 'b', 'b']\n",
            "True\n",
            "False\n"
          ],
          "name": "stdout"
        }
      ]
    },
    {
      "cell_type": "markdown",
      "metadata": {
        "id": "ZQvyzmK3Rir2",
        "colab_type": "text"
      },
      "source": [
        "# List as an iterable"
      ]
    },
    {
      "cell_type": "code",
      "metadata": {
        "id": "SO2ajpcuRncY",
        "colab_type": "code",
        "colab": {
          "base_uri": "https://localhost:8080/",
          "height": 101
        },
        "outputId": "d72f27ba-13e2-4800-ee8f-5ecc57fb7989"
      },
      "source": [
        "my_list = [1,2,'Jan','Feb',['Mar',10]]\n",
        "for x in my_list: # Iteration\n",
        "    print(x)"
      ],
      "execution_count": 82,
      "outputs": [
        {
          "output_type": "stream",
          "text": [
            "1\n",
            "2\n",
            "Jan\n",
            "Feb\n",
            "['Mar', 10]\n"
          ],
          "name": "stdout"
        }
      ]
    },
    {
      "cell_type": "markdown",
      "metadata": {
        "id": "dK-woOMtSCaE",
        "colab_type": "text"
      },
      "source": [
        "**List Comprehensions** are concise way to create lists. \n",
        "\n",
        "Used to make new lists where each element is the result of some operations applied to each member of another sequence or iterable, or to create a subsequence of those elements that satisfy a certain condition."
      ]
    },
    {
      "cell_type": "code",
      "metadata": {
        "id": "9NfKThgHR1A5",
        "colab_type": "code",
        "colab": {
          "base_uri": "https://localhost:8080/",
          "height": 34
        },
        "outputId": "136d8721-2d6e-4cac-f12d-e462fcedb8a2"
      },
      "source": [
        "sqr = [x**2 for x in range(6)]\n",
        "print(sqr)"
      ],
      "execution_count": 85,
      "outputs": [
        {
          "output_type": "stream",
          "text": [
            "[0, 1, 4, 9, 16, 25]\n"
          ],
          "name": "stdout"
        }
      ]
    },
    {
      "cell_type": "code",
      "metadata": {
        "id": "QquR2SxISYS8",
        "colab_type": "code",
        "colab": {
          "base_uri": "https://localhost:8080/",
          "height": 34
        },
        "outputId": "912e63e1-472e-42be-97ed-3cddf4b6bf3d"
      },
      "source": [
        "list1 = [1,5,20,4,3,2] \n",
        "even = [x for x in list1 if x%2==0]\n",
        "print(even)"
      ],
      "execution_count": 93,
      "outputs": [
        {
          "output_type": "stream",
          "text": [
            "[20, 4, 2]\n"
          ],
          "name": "stdout"
        }
      ]
    },
    {
      "cell_type": "code",
      "metadata": {
        "id": "ksEOwGmdTBAn",
        "colab_type": "code",
        "colab": {
          "base_uri": "https://localhost:8080/",
          "height": 50
        },
        "outputId": "fdd39ea4-bf19-493c-e0f8-a05b831d9418"
      },
      "source": [
        "# Create list from string\n",
        "s1='Python is Fun'\n",
        "s2=list(s1) #string to list\n",
        "print(s2)\n",
        "s2a=s1.split(\" \") #string to list\n",
        "print(s2a)"
      ],
      "execution_count": 91,
      "outputs": [
        {
          "output_type": "stream",
          "text": [
            "['P', 'y', 't', 'h', 'o', 'n', ' ', 'i', 's', ' ', 'F', 'u', 'n']\n",
            "['Python', 'is', 'Fun']\n"
          ],
          "name": "stdout"
        }
      ]
    }
  ]
}