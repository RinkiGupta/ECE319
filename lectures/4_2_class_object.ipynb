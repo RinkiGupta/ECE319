{
  "nbformat": 4,
  "nbformat_minor": 0,
  "metadata": {
    "colab": {
      "provenance": [],
      "include_colab_link": true
    },
    "kernelspec": {
      "name": "python3",
      "display_name": "Python 3"
    }
  },
  "cells": [
    {
      "cell_type": "markdown",
      "metadata": {
        "id": "view-in-github",
        "colab_type": "text"
      },
      "source": [
        "<a href=\"https://colab.research.google.com/github/RinkiGupta/ECE319/blob/master/lectures/4_1_class_object.ipynb\" target=\"_parent\"><img src=\"https://colab.research.google.com/assets/colab-badge.svg\" alt=\"Open In Colab\"/></a>"
      ]
    },
    {
      "cell_type": "markdown",
      "metadata": {
        "id": "o1BvjuNfT_WI"
      },
      "source": [
        "# Class\n",
        "\n",
        "In *procedural programming* the focus is on writing functions or procedures which operate on data. \n",
        "\n",
        "In *object-oriented programming* the focus is on the creation of objects which contain both data and functionality (method) together. \n",
        "\n",
        "**Class definition**: There is a header which begins with the keyword, `class`, followed by the name of the class, and ending with a colon. Indentation levels tell us where the class ends. Class definitions, like function definitions (def statements) must be executed before they have any effect."
      ]
    },
    {
      "cell_type": "code",
      "metadata": {
        "id": "4ICkwaU9T2pO"
      },
      "source": [
        "class Point:\n",
        "    '''Create a point on 2D plane''' #docstring\n",
        "    del_x=10 # class variable\n",
        "    def check(self): # method\n",
        "      print('Hello...')"
      ],
      "execution_count": null,
      "outputs": []
    },
    {
      "cell_type": "code",
      "metadata": {
        "id": "SazTzJ-QpU-t"
      },
      "source": [
        "# Access doc string of class\n",
        "Point.__doc__"
      ],
      "execution_count": null,
      "outputs": []
    },
    {
      "cell_type": "markdown",
      "metadata": {
        "id": "K1AUBspsUFsc"
      },
      "source": [
        "# Object\n",
        "\n",
        "* Object is simply a collection of data (variables) and methods (functions) that act on those data. \n",
        "* A class is a user-defined blueprint or prototype from which objects are created. \n",
        "* An Object is an instance of a Class. \n",
        "\n",
        "**Creating an Object**: “calling” a class creates an empty object. "
      ]
    },
    {
      "cell_type": "code",
      "metadata": {
        "id": "Q5vtQ8rD0Lsm"
      },
      "source": [
        "pt1=Point() # pt1 is an object of class Point"
      ],
      "execution_count": null,
      "outputs": []
    },
    {
      "cell_type": "markdown",
      "metadata": {
        "id": "sTcmfZEWUK1Q"
      },
      "source": [
        "# Class Attributes\n",
        "\n",
        "* Data variable that is part of a class/instance. Eg `del_x` in class Point\n",
        "* Method, which is somewhat similar to a function, except it is associated with object of a class.\n",
        "Eg `check()` in class Point\n",
        "\n",
        "Atribute Referencing \n",
        "* Data : object.variable_name\n",
        "* Method: object.method_name(arg)"
      ]
    },
    {
      "cell_type": "code",
      "metadata": {
        "id": "p-KaPsoRqU2-"
      },
      "source": [
        "print('pt1.del_x=',pt1.del_x) # attribute reference\n",
        "pt1.check() # attribute reference"
      ],
      "execution_count": null,
      "outputs": []
    },
    {
      "cell_type": "code",
      "metadata": {
        "id": "X-vcPrCasQG0"
      },
      "source": [
        "# class variables can be modified by assignment\n",
        "pt1.del_x = 5\n",
        "print('pt1.del_x=',pt1.del_x) "
      ],
      "execution_count": null,
      "outputs": []
    },
    {
      "cell_type": "code",
      "metadata": {
        "id": "yRdeS_Xl1q1Q"
      },
      "source": [
        "pt2 = Point()\n",
        "pt2.del_x"
      ],
      "execution_count": null,
      "outputs": []
    },
    {
      "cell_type": "markdown",
      "metadata": {
        "id": "BpObgcXqWk7U"
      },
      "source": [
        "## Initializer method and `self`\n",
        "\n",
        "The Python **`self`** parameter is a reference to the current instance of a class. \n",
        "* `self` is used to refer to variables and methods within the class. \n",
        "* Methods of a class have `self` as a special *first* parameter, which helps to access the variables belongs to the class. \n",
        "\n",
        "A class may contain an initializer method **`__init__()`**. \n",
        "* The initializer method is automatically called whenever a new instance of a class is created. \n",
        "* It gives the programmer the opportunity to set up the instance variables to an initial state/values.  \n",
        "\n",
        "The combined process of “making a new object” and “get its settings initialized to a default settings” is called instantiation.\n"
      ]
    },
    {
      "cell_type": "code",
      "metadata": {
        "id": "3FnV71Twx070"
      },
      "source": [
        "class Point:\n",
        "    '''Create a point on 2D plane''' #docstring\n",
        "    del_xy=[1,1] # class variable\n",
        "    def __init__(self,x=0,y=0): # initializer method\n",
        "      self.x=x # instance variables\n",
        "      self.y=y # instance variables\n",
        "      print('Object created...')\n",
        "    def translate(self,shift_x=0,shift_y=0):\n",
        "      if shift_x and shift_y:\n",
        "        self.x=self.x+shift_x\n",
        "        self.y=self.y+shift_y\n",
        "      else:\n",
        "        self.x=self.x+self.del_xy[0]\n",
        "        self.y=self.y+self.del_xy[1]"
      ],
      "execution_count": null,
      "outputs": []
    },
    {
      "cell_type": "code",
      "metadata": {
        "id": "dQgQ-20l0rKo"
      },
      "source": [
        "pt1 = Point() # one instance of class Point\n",
        "pt2 = Point(5,8) # Another instance of class Point\n",
        "print('Point 1: ',pt1.x,pt1.y, ', default shift:',pt1.del_xy)\n",
        "print('Point 2: ',pt2.x,pt2.y, ', default shift:',pt2.del_xy)"
      ],
      "execution_count": null,
      "outputs": []
    },
    {
      "cell_type": "code",
      "metadata": {
        "id": "-iS27Dwz2SFY"
      },
      "source": [
        "pt1.translate()\n",
        "pt2.translate(2,2)\n",
        "print('After translation:')\n",
        "print('Point 1: ',pt1.x,pt1.y, ', default shift:',pt1.del_xy)\n",
        "print('Point 2: ',pt2.x,pt2.y, ', default shift:',pt2.del_xy)"
      ],
      "execution_count": null,
      "outputs": []
    },
    {
      "cell_type": "markdown",
      "metadata": {
        "id": "2bRBvBUb1xw5"
      },
      "source": [
        "Each instance of class has its own Instance Variables (`x,y`), but they share the Class Variables (`del_x`)\n",
        "\n",
        "Shared data can have possibly surprising effects with involving mutable objects such as lists and dictionaries. "
      ]
    },
    {
      "cell_type": "code",
      "metadata": {
        "id": "vlaWzv_l7DTl"
      },
      "source": [
        "class Point:\n",
        "    '''Create a point on 2D plane''' #docstring\n",
        "    del_xy=[1,1] # class variable\n",
        "    def __init__(self,x=0,y=0): # initializer method\n",
        "      self.x=x # instance variables\n",
        "      self.y=y # instance variables\n",
        "      print('Object created...')\n",
        "    def translate(self,shift_x=0,shift_y=0):\n",
        "      if shift_x and shift_y:\n",
        "        self.x=self.x+shift_x\n",
        "        self.y=self.y+shift_y\n",
        "      else:\n",
        "        self.x=self.x+self.del_xy[0]\n",
        "        self.y=self.y+self.del_xy[1]\n",
        "        self.del_xy[0] = 0"
      ],
      "execution_count": null,
      "outputs": []
    },
    {
      "cell_type": "code",
      "metadata": {
        "id": "I3hmkVgS2GLH"
      },
      "source": [
        "pt1 = Point() # one instance of class Point\n",
        "pt2 = Point(5,8) # Another instance of class Point\n",
        "print('Point 1: ',pt1.x,pt1.y, ', default shift:',pt1.del_xy)\n",
        "print('Point 2: ',pt2.x,pt2.y, ', default shift:',pt2.del_xy)"
      ],
      "execution_count": null,
      "outputs": []
    },
    {
      "cell_type": "code",
      "metadata": {
        "id": "1xd1H1pOcYHC"
      },
      "source": [
        "pt1.translate(2,2)\n",
        "pt2.translate(2,2)\n",
        "print('After translation:')\n",
        "print('Point 1: ',pt1.x,pt1.y, ', default shift:',pt1.del_xy)\n",
        "print('Point 2: ',pt2.x,pt2.y, ', default shift:',pt2.del_xy)"
      ],
      "execution_count": null,
      "outputs": []
    },
    {
      "cell_type": "code",
      "metadata": {
        "id": "5PWAhH159GLB"
      },
      "source": [
        "pt1.translate() # Note: del_xy[0] is updated to 0\n",
        "print('After translation:')\n",
        "print('Point 1: ',pt1.x,pt1.y, ', default shift:',pt1.del_xy)\n",
        "# Mutable Class variables updated across all instances of class\n",
        "print('Point 2: ',pt2.x,pt2.y, ', default shift:',pt2.del_xy)"
      ],
      "execution_count": null,
      "outputs": []
    },
    {
      "cell_type": "code",
      "metadata": {
        "id": "YFdTzZi23ztr"
      },
      "source": [
        "# Hence, pt2.x is not translated\n",
        "pt2.translate()\n",
        "print('Point 2 after translation: ',pt2.x,pt2.y)"
      ],
      "execution_count": null,
      "outputs": []
    },
    {
      "cell_type": "markdown",
      "metadata": {
        "id": "2-x-warmURIV"
      },
      "source": [
        "# Inheritance\n",
        "Inheritance is the capability of one class (derived or child class) to derive or inherit the properties from some another class (base or parent class). It enables reusability of code.\n",
        "\n",
        "The syntax for a derived class definition looks like this:\n",
        "```\n",
        "class DerivedClassName(BaseClassName):\n",
        "    <statement-1>\n",
        "    .\n",
        "    .\n",
        "    .\n",
        "    <statement-N>\n",
        "```\n",
        "\n",
        "\n"
      ]
    },
    {
      "cell_type": "code",
      "metadata": {
        "id": "IMpIvFZZxCxe"
      },
      "source": [
        "# Base Class\n",
        "class Point:\n",
        "    '''Create a point on 2D plane''' #docstring\n",
        "    del_xy=[1,1] # class variable\n",
        "    def __init__(self,x=0,y=0): # initializer method\n",
        "      self.x=x # instance variables\n",
        "      self.y=y # instance variables\n",
        "      print('Object created...')\n",
        "    def translate(self,shift_x=0,shift_y=0):\n",
        "      if shift_x and shift_y:\n",
        "        self.x=self.x+shift_x\n",
        "        self.y=self.y+shift_y\n",
        "      else:\n",
        "        self.x=self.x+self.del_xy[0]\n",
        "        self.y=self.y+self.del_xy[1]"
      ],
      "execution_count": null,
      "outputs": []
    },
    {
      "cell_type": "code",
      "metadata": {
        "id": "dUEQBNScZ61Z"
      },
      "source": [
        "import math\n",
        "# Derived Class\n",
        "class Polar(Point):   #Derived class \n",
        "    'Create a point on 2D plane(polar representation)'\n",
        "\n",
        "    def __init__(self,a=1,b=1):\n",
        "        Point.__init__(self,a,b) #change the default value of attributes\n",
        "        self.r=math.sqrt(a**2+b**2)\n",
        "        self.theta = math.atan(b/a)\n",
        "\n",
        "    def rotate(self,phi=0):\n",
        "        self.theta = self.theta+phi\n",
        "        self.x = self.r*math.cos(self.theta)\n",
        "        self.y = self.r*math.sin(self.theta)\n",
        "    #Uncomment and Execute again\n",
        "    '''\n",
        "    def translate(self,shift_x=0,shift_y=0): # Overrides definition of method in Base class\n",
        "      if shift_x and shift_y:\n",
        "        self.x=self.x+shift_x\n",
        "        self.y=self.y+shift_y\n",
        "      else:\n",
        "        self.x=self.x+self.del_xy[0]\n",
        "        self.y=self.y+self.del_xy[1]\n",
        "      self.r=math.sqrt(self.x**2+self.y**2)\n",
        "      self.theta = math.atan(self.y/self.x)\n",
        "    '''"
      ],
      "execution_count": null,
      "outputs": []
    },
    {
      "cell_type": "code",
      "metadata": {
        "id": "oOC7NZ-aq-Bn"
      },
      "source": [
        "pt1 = Point(3,4)\n",
        "pt2 = Polar(1,1)\n",
        "print(pt1.x,pt1.y)\n",
        "print(pt2.x,pt2.y,pt2.r,pt2.theta/math.pi,'*pi')\n"
      ],
      "execution_count": null,
      "outputs": []
    },
    {
      "cell_type": "code",
      "metadata": {
        "id": "8qQHvU23t3jY"
      },
      "source": [
        "pt2.rotate(math.pi/4)\n",
        "print(pt2.x,pt2.y,pt2.r,pt2.theta/math.pi,'*pi')"
      ],
      "execution_count": null,
      "outputs": []
    },
    {
      "cell_type": "code",
      "metadata": {
        "id": "YLpXRatnwFUZ"
      },
      "source": [
        "pt2.translate(1,-0.4142135)\n",
        "print(pt2.x,pt2.y,pt2.r,pt2.theta/math.pi,'*pi')"
      ],
      "execution_count": null,
      "outputs": []
    },
    {
      "cell_type": "code",
      "metadata": {
        "id": "I4ShPGCyzrJ1"
      },
      "source": [
        "print('Point 1: ',pt1.x,pt1.y, ', default shift:',pt1.del_xy)\n",
        "pt1.translate(2,2)\n",
        "print('Point 1: ',pt1.x,pt1.y, ', default shift:',pt1.del_xy)"
      ],
      "execution_count": null,
      "outputs": []
    },
    {
      "cell_type": "code",
      "metadata": {
        "id": "5jkbhFXe0qil"
      },
      "source": [
        "pt1.rotate(0) # pt1 is object of class Point, not Polar"
      ],
      "execution_count": null,
      "outputs": []
    },
    {
      "cell_type": "markdown",
      "metadata": {
        "id": "W2C3Ik39Z7kZ"
      },
      "source": [
        "# Everything in Python is an Object\n",
        "**Python is an object-oriented programming language.** (Actually, python is a multi-paradigm programming language and supports both procedural and object-oriented programming.) In Python everything is an object: every integer, string, list, and function. Eg. \n",
        "```\n",
        "str1='Hello World'\n",
        "list1=['c','b','a']\n",
        "```\n",
        "str1 is an object of class str. list1 is an object of class list. Also, there are methods associated with each object. Eg. In class str, there are various methods such as upper, strip, count, index. List has methods such as append, extend, index, sort."
      ]
    },
    {
      "cell_type": "code",
      "metadata": {
        "id": "TIxA3C3eZ9jH"
      },
      "source": [
        "str1='Hello World'\n",
        "print(type(str1))\n",
        "str1.upper()    # eg of method associated with object of class str\n"
      ],
      "execution_count": null,
      "outputs": []
    },
    {
      "cell_type": "code",
      "metadata": {
        "id": "e8eJ3KyMakK-"
      },
      "source": [
        "lst1=['car','bus','airplane']\n",
        "print(type(lst1))\n",
        "lst1.sort()\n",
        "print(lst1)"
      ],
      "execution_count": null,
      "outputs": []
    },
    {
      "cell_type": "markdown",
      "metadata": {
        "id": "WLzMoVysak22"
      },
      "source": [
        "**Difference between functions and methods**\n",
        "\n",
        "Methods in Python are very similar to functions except for two major differences. \n",
        "* The method is implicitly used for an object for which it is called. \n",
        "* The method is accessible to data that is contained within the class. \n",
        "\n",
        "Eg function len() can be used on object of class str as well as list. However, upper is a method in class str and sort is a method in class list.\n"
      ]
    },
    {
      "cell_type": "markdown",
      "metadata": {
        "id": "z5xDlo1ilX-Y"
      },
      "source": [
        "# Practice Code\n",
        "Write a Python class named Employee constructed by Name and Designation. Include two methods \n",
        "\n",
        "*   email() to create and print email of the employee from his name, as name@xyz.com\n",
        "*   salary() to print employee's salary given his designation. Use conversion Manager: 12000, Worker: 5000\n",
        "\n",
        "Hence print name, email and salary of multiple employees.\n",
        "\n"
      ]
    },
    {
      "cell_type": "code",
      "metadata": {
        "colab": {
          "base_uri": "https://localhost:8080/"
        },
        "id": "du-RqqWrn0mI",
        "outputId": "add1aabb-2b58-4002-e3b7-c3ed3c180488"
      },
      "source": [
        "names = ['Ron','Sally','Alan','Ben']\n",
        "designations = ['Worker','Manager','Manager','Worker']\n",
        "# complete the program\n"
      ],
      "execution_count": null,
      "outputs": [
        {
          "output_type": "stream",
          "text": [
            "For  Ron\n",
            "\tEmail is  ron@xyz.com\n",
            "\tSalary is  5000\n",
            "For  Sally\n",
            "\tEmail is  sally@xyz.com\n",
            "\tSalary is  12000\n",
            "For  Alan\n",
            "\tEmail is  alan@xyz.com\n",
            "\tSalary is  12000\n",
            "For  Ben\n",
            "\tEmail is  ben@xyz.com\n",
            "\tSalary is  5000\n"
          ],
          "name": "stdout"
        }
      ]
    }
  ]
}
