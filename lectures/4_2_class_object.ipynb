{
  "nbformat": 4,
  "nbformat_minor": 0,
  "metadata": {
    "colab": {
      "name": "4_2_class_object.ipynb",
      "provenance": [],
      "collapsed_sections": [],
      "authorship_tag": "ABX9TyP4+W9yH5Z7i7ckdupw8Gph",
      "include_colab_link": true
    },
    "kernelspec": {
      "name": "python3",
      "display_name": "Python 3"
    }
  },
  "cells": [
    {
      "cell_type": "markdown",
      "metadata": {
        "id": "view-in-github",
        "colab_type": "text"
      },
      "source": [
        "<a href=\"https://colab.research.google.com/github/RinkiGupta/ECE319/blob/master/lectures/4_2_class_object.ipynb\" target=\"_parent\"><img src=\"https://colab.research.google.com/assets/colab-badge.svg\" alt=\"Open In Colab\"/></a>"
      ]
    },
    {
      "cell_type": "markdown",
      "metadata": {
        "id": "o1BvjuNfT_WI",
        "colab_type": "text"
      },
      "source": [
        "# Class\n",
        "\n",
        "In *procedural programming* the focus is on writing functions or procedures which operate on data. \n",
        "\n",
        "In *object-oriented programming* the focus is on the creation of objects which contain both data and functionality (method) together. \n",
        "\n",
        "**Class definition**: There is a header which begins with the keyword, `class`, followed by the name of the class, and ending with a colon. Indentation levels tell us where the class ends. Class definitions, like function definitions (def statements) must be executed before they have any effect."
      ]
    },
    {
      "cell_type": "code",
      "metadata": {
        "id": "4ICkwaU9T2pO",
        "colab_type": "code",
        "colab": {}
      },
      "source": [
        "class Point:\n",
        "    '''Create a point on 2D plane''' #docstring\n",
        "    del_x=10 # class variable\n",
        "    def check(self): # method\n",
        "      print('Hello...')"
      ],
      "execution_count": 1,
      "outputs": []
    },
    {
      "cell_type": "code",
      "metadata": {
        "id": "SazTzJ-QpU-t",
        "colab_type": "code",
        "colab": {
          "base_uri": "https://localhost:8080/",
          "height": 35
        },
        "outputId": "27362898-c2c8-4df1-8789-fff82ba10c86"
      },
      "source": [
        "# Access doc string of class\n",
        "Point.__doc__"
      ],
      "execution_count": 2,
      "outputs": [
        {
          "output_type": "execute_result",
          "data": {
            "application/vnd.google.colaboratory.intrinsic+json": {
              "type": "string"
            },
            "text/plain": [
              "'Create a point on 2D plane'"
            ]
          },
          "metadata": {
            "tags": []
          },
          "execution_count": 2
        }
      ]
    },
    {
      "cell_type": "markdown",
      "metadata": {
        "id": "K1AUBspsUFsc",
        "colab_type": "text"
      },
      "source": [
        "# Object\n",
        "\n",
        "A class is a user-defined blueprint or prototype from which objects are created. An Object is an instance of a Class. Object is simply a collection of data (variables) and methods (functions) that act on those data. \n",
        "\n",
        "Creating an Object: “calling” a class creates an empty object. "
      ]
    },
    {
      "cell_type": "code",
      "metadata": {
        "id": "Q5vtQ8rD0Lsm",
        "colab_type": "code",
        "colab": {}
      },
      "source": [
        "pt1=Point() # pt1 is an object of class Point"
      ],
      "execution_count": 3,
      "outputs": []
    },
    {
      "cell_type": "markdown",
      "metadata": {
        "id": "sTcmfZEWUK1Q",
        "colab_type": "text"
      },
      "source": [
        "# Class Attributes\n",
        "\n",
        "* Data variable that is part of a class/instance. Eg `del_x` in class calculator\n",
        "* Method, which is somewhat similar to a function, except it is associated with object of a class.\n",
        "Eg `check()` in class calculator\n",
        "\n",
        "Atribute Reference: object.variable_name\n",
        "\n",
        "Class variables can be modified by assignment"
      ]
    },
    {
      "cell_type": "code",
      "metadata": {
        "id": "p-KaPsoRqU2-",
        "colab_type": "code",
        "colab": {
          "base_uri": "https://localhost:8080/",
          "height": 50
        },
        "outputId": "c2429d55-518a-48bb-c8d9-78c739fde2df"
      },
      "source": [
        "print('pt1.del_x=',pt1.del_x) # attribute reference\n",
        "pt1.check() # attribute reference"
      ],
      "execution_count": 4,
      "outputs": [
        {
          "output_type": "stream",
          "text": [
            "pt1.del_x= 10\n",
            "Hello...\n"
          ],
          "name": "stdout"
        }
      ]
    },
    {
      "cell_type": "code",
      "metadata": {
        "id": "X-vcPrCasQG0",
        "colab_type": "code",
        "colab": {
          "base_uri": "https://localhost:8080/",
          "height": 34
        },
        "outputId": "b8d26eec-f14c-4822-fa84-3d06ea70b20e"
      },
      "source": [
        "# class variables can be modified by assignment\n",
        "pt1.del_x = 5\n",
        "print('pt1.del_x=',pt1.del_x) "
      ],
      "execution_count": 5,
      "outputs": [
        {
          "output_type": "stream",
          "text": [
            "pt1.del_x= 5\n"
          ],
          "name": "stdout"
        }
      ]
    },
    {
      "cell_type": "markdown",
      "metadata": {
        "id": "BpObgcXqWk7U",
        "colab_type": "text"
      },
      "source": [
        "## Initializer method and `self`\n",
        "\n",
        "A class may contain an initializer method **`__init__()`**. The initializer method is automatically called whenever a new instance of a class is created. It gives the programmer the opportunity to set up the instance variables to an initial state/values.  \n",
        "\n",
        "The Python **`self`** parameter is a reference to the current instance of a class. `self` is used to refer to variables and methods within the class. Methods of a class have `self` as a special *first* parameter, which helps to access the variables belongs to the class. \n",
        "\n",
        "The combined process of “making a new object” and “get its settings initialized to a default settings” is called instantiation.\n"
      ]
    },
    {
      "cell_type": "code",
      "metadata": {
        "id": "3FnV71Twx070",
        "colab_type": "code",
        "colab": {}
      },
      "source": [
        "class Point:\n",
        "    '''Create a point on 2D plane''' #docstring\n",
        "    del_xy=[1,1] # class variable\n",
        "    def __init__(self,x=0,y=0): # initializer method\n",
        "      self.x=x # instance variables\n",
        "      self.y=y # instance variables\n",
        "      print('Object created...')\n",
        "    def translate(self,shift_x=0,shift_y=0):\n",
        "      if shift_x and shift_y:\n",
        "        self.x=self.x+shift_x\n",
        "        self.y=self.y+shift_y\n",
        "      else:\n",
        "        self.x=self.x+self.del_xy[0]\n",
        "        self.y=self.y+self.del_xy[1]"
      ],
      "execution_count": 10,
      "outputs": []
    },
    {
      "cell_type": "code",
      "metadata": {
        "id": "dQgQ-20l0rKo",
        "colab_type": "code",
        "colab": {
          "base_uri": "https://localhost:8080/",
          "height": 84
        },
        "outputId": "6222721c-56e0-46ff-b9be-9698d568751c"
      },
      "source": [
        "pt1 = Point() # one instance of class Point\n",
        "pt2 = Point(5,8) # Another instance of class Point\n",
        "print('Point 1: ',pt1.x,pt1.y, ', default shift:',pt1.del_xy)\n",
        "print('Point 2: ',pt2.x,pt2.y, ', default shift:',pt2.del_xy)"
      ],
      "execution_count": 11,
      "outputs": [
        {
          "output_type": "stream",
          "text": [
            "Object created...\n",
            "Object created...\n",
            "Point 1:  0 0 , default shift: [1, 1]\n",
            "Point 2:  5 8 , default shift: [1, 1]\n"
          ],
          "name": "stdout"
        }
      ]
    },
    {
      "cell_type": "code",
      "metadata": {
        "id": "-iS27Dwz2SFY",
        "colab_type": "code",
        "colab": {
          "base_uri": "https://localhost:8080/",
          "height": 67
        },
        "outputId": "7aaa4911-8c8c-491a-db34-d8fb0a553a7a"
      },
      "source": [
        "pt1.translate()\n",
        "pt2.translate(2,2)\n",
        "print('After translation:')\n",
        "print('Point 1: ',pt1.x,pt1.y, ', default shift:',pt1.del_xy)\n",
        "print('Point 2: ',pt2.x,pt2.y, ', default shift:',pt2.del_xy)"
      ],
      "execution_count": 12,
      "outputs": [
        {
          "output_type": "stream",
          "text": [
            "After translation:\n",
            "Point 1:  1 1 , default shift: [1, 1]\n",
            "Point 2:  7 10 , default shift: [1, 1]\n"
          ],
          "name": "stdout"
        }
      ]
    },
    {
      "cell_type": "markdown",
      "metadata": {
        "id": "2bRBvBUb1xw5",
        "colab_type": "text"
      },
      "source": [
        "Each instance of class has its own Instance Variables (`x,y`), but they share the Class Variables (`del_x`)\n",
        "\n",
        "Shared data can have possibly surprising effects with involving mutable objects such as lists and dictionaries. "
      ]
    },
    {
      "cell_type": "code",
      "metadata": {
        "id": "vlaWzv_l7DTl",
        "colab_type": "code",
        "colab": {}
      },
      "source": [
        "class Point:\n",
        "    '''Create a point on 2D plane''' #docstring\n",
        "    del_xy=[1,1] # class variable\n",
        "    def __init__(self,x=0,y=0): # initializer method\n",
        "      self.x=x # instance variables\n",
        "      self.y=y # instance variables\n",
        "      print('Object created...')\n",
        "    def translate(self,shift_x=0,shift_y=0):\n",
        "      if shift_x and shift_y:\n",
        "        self.x=self.x+shift_x\n",
        "        self.y=self.y+shift_y\n",
        "      else:\n",
        "        self.x=self.x+self.del_xy[0]\n",
        "        self.y=self.y+self.del_xy[1]\n",
        "        self.del_xy[0] = 0"
      ],
      "execution_count": 13,
      "outputs": []
    },
    {
      "cell_type": "code",
      "metadata": {
        "id": "I3hmkVgS2GLH",
        "colab_type": "code",
        "colab": {
          "base_uri": "https://localhost:8080/",
          "height": 134
        },
        "outputId": "a7f73940-6ba0-4588-a6a1-b01dcf97ccc9"
      },
      "source": [
        "pt1 = Point() # one instance of class Point\n",
        "pt2 = Point(5,8) # Another instance of class Point\n",
        "print('Point 1: ',pt1.x,pt1.y, ', default shift:',pt1.del_xy)\n",
        "print('Point 2: ',pt2.x,pt2.y, ', default shift:',pt2.del_xy)\n",
        "pt1.translate(2,2)\n",
        "pt2.translate(2,2)\n",
        "print('After translation:')\n",
        "print('Point 1: ',pt1.x,pt1.y, ', default shift:',pt1.del_xy)\n",
        "print('Point 2: ',pt2.x,pt2.y, ', default shift:',pt2.del_xy)"
      ],
      "execution_count": 14,
      "outputs": [
        {
          "output_type": "stream",
          "text": [
            "Object created...\n",
            "Object created...\n",
            "Point 1:  0 0 , default shift: [1, 1]\n",
            "Point 2:  5 8 , default shift: [1, 1]\n",
            "After translation:\n",
            "Point 1:  2 2 , default shift: [1, 1]\n",
            "Point 2:  7 10 , default shift: [1, 1]\n"
          ],
          "name": "stdout"
        }
      ]
    },
    {
      "cell_type": "code",
      "metadata": {
        "id": "5PWAhH159GLB",
        "colab_type": "code",
        "colab": {
          "base_uri": "https://localhost:8080/",
          "height": 67
        },
        "outputId": "2311efdd-1192-49ed-c037-37ca23374225"
      },
      "source": [
        "pt1.translate()\n",
        "print('After translation:')\n",
        "print('Point 1: ',pt1.x,pt1.y, ', default shift:',pt1.del_xy)\n",
        "# Mutable Class variables updated across all instances of class\n",
        "print('Point 2: ',pt2.x,pt2.y, ', default shift:',pt2.del_xy)"
      ],
      "execution_count": 15,
      "outputs": [
        {
          "output_type": "stream",
          "text": [
            "After translation:\n",
            "Point 1:  3 3 , default shift: [0, 1]\n",
            "Point 2:  7 10 , default shift: [0, 1]\n"
          ],
          "name": "stdout"
        }
      ]
    },
    {
      "cell_type": "code",
      "metadata": {
        "id": "YFdTzZi23ztr",
        "colab_type": "code",
        "colab": {
          "base_uri": "https://localhost:8080/",
          "height": 34
        },
        "outputId": "cf9b7ffe-3450-4232-b7e4-3bb79f43d167"
      },
      "source": [
        "pt2.translate()\n",
        "print('Point 2 after translation: ',pt2.x,pt2.y)"
      ],
      "execution_count": 16,
      "outputs": [
        {
          "output_type": "stream",
          "text": [
            "Point 2 after translation:  7 11\n"
          ],
          "name": "stdout"
        }
      ]
    },
    {
      "cell_type": "markdown",
      "metadata": {
        "id": "2-x-warmURIV",
        "colab_type": "text"
      },
      "source": [
        "# Inheritance\n",
        "Inheritance is the capability of one class (derived or child class) to derive or inherit the properties from some another class (base or parent class). It enables reusability of code.\n",
        "\n",
        "The syntax for a derived class definition looks like this:\n",
        "```\n",
        "class DerivedClassName(BaseClassName):\n",
        "    <statement-1>\n",
        "    .\n",
        "    .\n",
        "    .\n",
        "    <statement-N>\n",
        "```\n",
        "\n",
        "\n"
      ]
    },
    {
      "cell_type": "code",
      "metadata": {
        "id": "IMpIvFZZxCxe",
        "colab_type": "code",
        "colab": {}
      },
      "source": [
        "# Base Class\n",
        "class Point:\n",
        "    '''Create a point on 2D plane''' #docstring\n",
        "    del_xy=[1,1] # class variable\n",
        "    def __init__(self,x=0,y=0): # initializer method\n",
        "      self.x=x # instance variables\n",
        "      self.y=y # instance variables\n",
        "      print('Object created...')\n",
        "    def translate(self,shift_x=0,shift_y=0):\n",
        "      if shift_x and shift_y:\n",
        "        self.x=self.x+shift_x\n",
        "        self.y=self.y+shift_y\n",
        "      else:\n",
        "        self.x=self.x+self.del_xy[0]\n",
        "        self.y=self.y+self.del_xy[1]"
      ],
      "execution_count": 17,
      "outputs": []
    },
    {
      "cell_type": "code",
      "metadata": {
        "id": "dUEQBNScZ61Z",
        "colab_type": "code",
        "colab": {}
      },
      "source": [
        "import math\n",
        "# Derived Class\n",
        "class Polar(Point):   #Derived class \n",
        "    'Create a point on 2D plane(polar representation)'\n",
        "\n",
        "    def __init__(self,a=1,b=1):\n",
        "        Point.__init__(self,a,b) #change the default value of attributes\n",
        "        self.r=math.sqrt(a**2+b**2)\n",
        "        self.theta = math.atan(b/a)\n",
        "\n",
        "    def rotate(self,phi=0):\n",
        "        self.theta = self.theta+phi\n",
        "        self.x = self.r*math.cos(self.theta)\n",
        "        self.y = self.r*math.sin(self.theta)\n",
        "    #Uncomment and Execute again\n",
        "    ''' \n",
        "    def translate(self,shift_x=0,shift_y=0): # Overrides definition of method in Base class\n",
        "      if shift_x and shift_y:\n",
        "        self.x=self.x+shift_x\n",
        "        self.y=self.y+shift_y\n",
        "      else:\n",
        "        self.x=self.x+self.del_xy[0]\n",
        "        self.y=self.y+self.del_xy[1]\n",
        "      self.r=math.sqrt(self.x**2+self.y**2)\n",
        "      self.theta = math.atan(self.y/self.x)\n",
        "    '''"
      ],
      "execution_count": 19,
      "outputs": []
    },
    {
      "cell_type": "code",
      "metadata": {
        "id": "oOC7NZ-aq-Bn",
        "colab_type": "code",
        "colab": {
          "base_uri": "https://localhost:8080/",
          "height": 84
        },
        "outputId": "e68bc6a4-98ca-40cf-d6fb-35bf509bf7f4"
      },
      "source": [
        "pt1 = Point(3,4)\n",
        "pt2 = Polar(1,1)\n",
        "print(pt1.x,pt1.y)\n",
        "print(pt2.x,pt2.y,pt2.r,pt2.theta/math.pi,'*pi')\n"
      ],
      "execution_count": 20,
      "outputs": [
        {
          "output_type": "stream",
          "text": [
            "Object created...\n",
            "Object created...\n",
            "3 4\n",
            "1 1 1.4142135623730951 0.25 *pi\n"
          ],
          "name": "stdout"
        }
      ]
    },
    {
      "cell_type": "code",
      "metadata": {
        "id": "8qQHvU23t3jY",
        "colab_type": "code",
        "colab": {
          "base_uri": "https://localhost:8080/",
          "height": 34
        },
        "outputId": "0e2996a2-c600-4467-cbfa-d93e106458c3"
      },
      "source": [
        "pt2.rotate(math.pi/4)\n",
        "print(pt2.x,pt2.y,pt2.r,pt2.theta/math.pi,'*pi')"
      ],
      "execution_count": 21,
      "outputs": [
        {
          "output_type": "stream",
          "text": [
            "8.659560562354934e-17 1.4142135623730951 1.4142135623730951 0.5 *pi\n"
          ],
          "name": "stdout"
        }
      ]
    },
    {
      "cell_type": "code",
      "metadata": {
        "id": "YLpXRatnwFUZ",
        "colab_type": "code",
        "colab": {
          "base_uri": "https://localhost:8080/",
          "height": 34
        },
        "outputId": "03ed57c3-f167-42ef-e0da-ab9f47936c6e"
      },
      "source": [
        "pt2.translate(-1,-0.4142135)\n",
        "print(pt2.x,pt2.y,pt2.r,pt2.theta/math.pi,'*pi')"
      ],
      "execution_count": 22,
      "outputs": [
        {
          "output_type": "stream",
          "text": [
            "-0.9999999999999999 1.0000000623730951 1.4142135623730951 0.5 *pi\n"
          ],
          "name": "stdout"
        }
      ]
    },
    {
      "cell_type": "code",
      "metadata": {
        "id": "I4ShPGCyzrJ1",
        "colab_type": "code",
        "colab": {
          "base_uri": "https://localhost:8080/",
          "height": 50
        },
        "outputId": "cc998727-da00-45fa-c442-40f86265184b"
      },
      "source": [
        "print('Point 1: ',pt1.x,pt1.y, ', default shift:',pt1.del_xy)\n",
        "pt1.translate(2,2)\n",
        "print('Point 1: ',pt1.x,pt1.y, ', default shift:',pt1.del_xy)"
      ],
      "execution_count": 23,
      "outputs": [
        {
          "output_type": "stream",
          "text": [
            "Point 1:  3 4 , default shift: [1, 1]\n",
            "Point 1:  5 6 , default shift: [1, 1]\n"
          ],
          "name": "stdout"
        }
      ]
    },
    {
      "cell_type": "code",
      "metadata": {
        "id": "5jkbhFXe0qil",
        "colab_type": "code",
        "colab": {
          "base_uri": "https://localhost:8080/",
          "height": 162
        },
        "outputId": "a9d3679e-dd36-4c0b-9d8c-8de147b722be"
      },
      "source": [
        "pt1.rotate(0) # pt1 is object of class Point, not Polar"
      ],
      "execution_count": 24,
      "outputs": [
        {
          "output_type": "error",
          "ename": "AttributeError",
          "evalue": "ignored",
          "traceback": [
            "\u001b[0;31m---------------------------------------------------------------------------\u001b[0m",
            "\u001b[0;31mAttributeError\u001b[0m                            Traceback (most recent call last)",
            "\u001b[0;32m<ipython-input-24-c0e7e4bf308a>\u001b[0m in \u001b[0;36m<module>\u001b[0;34m()\u001b[0m\n\u001b[0;32m----> 1\u001b[0;31m \u001b[0mpt1\u001b[0m\u001b[0;34m.\u001b[0m\u001b[0mrotate\u001b[0m\u001b[0;34m(\u001b[0m\u001b[0;36m0\u001b[0m\u001b[0;34m)\u001b[0m \u001b[0;31m# pt1 is object of class Point, not Polar\u001b[0m\u001b[0;34m\u001b[0m\u001b[0;34m\u001b[0m\u001b[0m\n\u001b[0m",
            "\u001b[0;31mAttributeError\u001b[0m: 'Point' object has no attribute 'rotate'"
          ]
        }
      ]
    },
    {
      "cell_type": "markdown",
      "metadata": {
        "id": "W2C3Ik39Z7kZ",
        "colab_type": "text"
      },
      "source": [
        "# Everything in Python is an Object\n",
        "**Python is an object-oriented programming language.** (Actually, python is a multi-paradigm programming language and supports both procedural and object-oriented programming.) In Python everything is an object: every integer, string, list, and function. Eg. \n",
        "```\n",
        "str1='Hello World'\n",
        "list1=['c','b','a']\n",
        "```\n",
        "str1 is an object of class str. list1 is an object of class list. Also, there are methods associated with each object. Eg. In class str, there are various methods such as upper, strip, count, index. List has methods such as append, extend, index, sort."
      ]
    },
    {
      "cell_type": "code",
      "metadata": {
        "id": "TIxA3C3eZ9jH",
        "colab_type": "code",
        "colab": {
          "base_uri": "https://localhost:8080/",
          "height": 52
        },
        "outputId": "444d107e-f0bd-41b6-a0fe-e53a8c2f84ac"
      },
      "source": [
        "str1='Hello World'\n",
        "print(type(str1))\n",
        "str1.upper()    # eg of method associated with object of class str\n"
      ],
      "execution_count": 25,
      "outputs": [
        {
          "output_type": "stream",
          "text": [
            "<class 'str'>\n"
          ],
          "name": "stdout"
        },
        {
          "output_type": "execute_result",
          "data": {
            "application/vnd.google.colaboratory.intrinsic+json": {
              "type": "string"
            },
            "text/plain": [
              "'HELLO WORLD'"
            ]
          },
          "metadata": {
            "tags": []
          },
          "execution_count": 25
        }
      ]
    },
    {
      "cell_type": "code",
      "metadata": {
        "id": "e8eJ3KyMakK-",
        "colab_type": "code",
        "colab": {
          "base_uri": "https://localhost:8080/",
          "height": 50
        },
        "outputId": "1b7b04df-4b4c-42e6-b520-cb07e19c73ec"
      },
      "source": [
        "lst1=['car','bus','airplane']\n",
        "print(type(lst1))\n",
        "lst1.sort()\n",
        "print(lst1)"
      ],
      "execution_count": 34,
      "outputs": [
        {
          "output_type": "stream",
          "text": [
            "<class 'list'>\n",
            "['airplane', 'bus', 'car']\n"
          ],
          "name": "stdout"
        }
      ]
    },
    {
      "cell_type": "markdown",
      "metadata": {
        "id": "WLzMoVysak22",
        "colab_type": "text"
      },
      "source": [
        "**Difference between functions and methods**\n",
        "\n",
        "Methods in Python are very similar to functions except for two major differences. \n",
        "* The method is implicitly used for an object for which it is called. \n",
        "* The method is accessible to data that is contained within the class. \n",
        "\n",
        "Eg function len() can be used on object of class str as well as list. However, upper is a method in class str and sort is a method in class list.\n"
      ]
    }
  ]
}