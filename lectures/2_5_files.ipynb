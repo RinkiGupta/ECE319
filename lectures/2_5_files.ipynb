{
  "nbformat": 4,
  "nbformat_minor": 0,
  "metadata": {
    "kernelspec": {
      "display_name": "Python 3",
      "language": "python",
      "name": "python3"
    },
    "language_info": {
      "codemirror_mode": {
        "name": "ipython",
        "version": 3
      },
      "file_extension": ".py",
      "mimetype": "text/x-python",
      "name": "python",
      "nbconvert_exporter": "python",
      "pygments_lexer": "ipython3",
      "version": "3.6.4"
    },
    "colab": {
      "name": "2_5_files.ipynb",
      "provenance": [],
      "collapsed_sections": [],
      "include_colab_link": true
    }
  },
  "cells": [
    {
      "cell_type": "markdown",
      "metadata": {
        "id": "view-in-github",
        "colab_type": "text"
      },
      "source": [
        "<a href=\"https://colab.research.google.com/github/RinkiGupta/ECE319/blob/master/lectures/2_5_files.ipynb\" target=\"_parent\"><img src=\"https://colab.research.google.com/assets/colab-badge.svg\" alt=\"Open In Colab\"/></a>"
      ]
    },
    {
      "cell_type": "markdown",
      "metadata": {
        "id": "JNmdkjytZ1_3",
        "colab_type": "text"
      },
      "source": [
        "# File Operations"
      ]
    },
    {
      "cell_type": "markdown",
      "metadata": {
        "id": "AtTfUj86mQf5",
        "colab_type": "text"
      },
      "source": [
        "## File Writing\n",
        "\n",
        "'w' Writing Mode. \n",
        "\n",
        "Create file if it does not exsits or Overwrites an exsisting file   "
      ]
    },
    {
      "cell_type": "markdown",
      "metadata": {
        "id": "bJ5cPxQImTGp",
        "colab_type": "text"
      },
      "source": [
        "### File writing using open-close"
      ]
    },
    {
      "cell_type": "code",
      "metadata": {
        "id": "ELvJAS5UZ1_5",
        "colab_type": "code",
        "colab": {}
      },
      "source": [
        "f= open(\"testfile1.txt\",'w') # f is file object \n",
        "f.write(\"My first sentence\") #include \\n at end to introduce new line in file\n",
        "f.write(\"My second sentence\")\n",
        "f.close() # Close the file"
      ],
      "execution_count": 2,
      "outputs": []
    },
    {
      "cell_type": "markdown",
      "metadata": {
        "id": "L6s_ADUnchxT",
        "colab_type": "text"
      },
      "source": [
        "### File writing using with\n",
        "\n",
        "It automatically closes the file when the loop is exited."
      ]
    },
    {
      "cell_type": "code",
      "metadata": {
        "id": "nfUD62jsc9UD",
        "colab_type": "code",
        "colab": {}
      },
      "source": [
        "list1 = ['Apple','Banana','Grapes']\n",
        "with open('testfile1.txt', 'w') as f1: #overwrites existing file\n",
        "    for item in list1:\n",
        "        f1.write(item+'\\n') # write a string to a file"
      ],
      "execution_count": 3,
      "outputs": []
    },
    {
      "cell_type": "code",
      "metadata": {
        "id": "YmcLVrtVffxs",
        "colab_type": "code",
        "colab": {}
      },
      "source": [
        "list1 = ['Red\\n','Yellow\\n','Green\\n'] # list should only contain strings\n",
        "with open('testfile1.txt', 'w') as f1: \n",
        "        f1.writelines(list1) # write all elemnts in the list to a file"
      ],
      "execution_count": 4,
      "outputs": []
    },
    {
      "cell_type": "code",
      "metadata": {
        "id": "l_8xhfgphQb-",
        "colab_type": "code",
        "colab": {}
      },
      "source": [
        "# use print to print to a file\n",
        "list2 = ['Apple','Banana','Grapes']\n",
        "with open('testfile1.txt', 'w') as f1:\n",
        "    for item in list2:\n",
        "        print(item, file=f1) # another way of writing to a file"
      ],
      "execution_count": 15,
      "outputs": []
    },
    {
      "cell_type": "markdown",
      "metadata": {
        "id": "CRlCT71IZ1_9",
        "colab_type": "text"
      },
      "source": [
        "## File Reading\n",
        "\n",
        "'r' Reading Mode. \n",
        "\n",
        "Gives FileNotFoundError if the file does not exist. "
      ]
    },
    {
      "cell_type": "markdown",
      "metadata": {
        "id": "9fVjhA4_mXbF",
        "colab_type": "text"
      },
      "source": [
        "### File reading using open-close"
      ]
    },
    {
      "cell_type": "code",
      "metadata": {
        "id": "S0bjxQlHbt8e",
        "colab_type": "code",
        "colab": {
          "base_uri": "https://localhost:8080/",
          "height": 84
        },
        "outputId": "23087cd1-9e32-47c2-ead1-b2610ed08d4d"
      },
      "source": [
        "f= open(r\"testfile1.txt\",'r') # f is file object \n",
        "line=f.read() #read the ENTIRE contents of a file\n",
        "f.close() # Close the file\n",
        "print(line)"
      ],
      "execution_count": 6,
      "outputs": [
        {
          "output_type": "stream",
          "text": [
            "Apple\n",
            "Banana\n",
            "Grapes\n",
            "\n"
          ],
          "name": "stdout"
        }
      ]
    },
    {
      "cell_type": "code",
      "metadata": {
        "id": "_AU4wBORdivS",
        "colab_type": "code",
        "colab": {
          "base_uri": "https://localhost:8080/",
          "height": 195
        },
        "outputId": "f5b5a9f9-799a-42fa-dab0-8621a98634b9"
      },
      "source": [
        "#%% Check what happens if a non-existing file is opened in reading mode\n",
        "f=open(\"file_test.txt\",'r')\n",
        "f.close()"
      ],
      "execution_count": 7,
      "outputs": [
        {
          "output_type": "error",
          "ename": "FileNotFoundError",
          "evalue": "ignored",
          "traceback": [
            "\u001b[0;31m---------------------------------------------------------------------------\u001b[0m",
            "\u001b[0;31mFileNotFoundError\u001b[0m                         Traceback (most recent call last)",
            "\u001b[0;32m<ipython-input-7-e64947ae85c2>\u001b[0m in \u001b[0;36m<module>\u001b[0;34m()\u001b[0m\n\u001b[1;32m      1\u001b[0m \u001b[0;31m#%% Check what happens if a non-existing file is opened in reading mode\u001b[0m\u001b[0;34m\u001b[0m\u001b[0;34m\u001b[0m\u001b[0;34m\u001b[0m\u001b[0m\n\u001b[0;32m----> 2\u001b[0;31m \u001b[0mf\u001b[0m\u001b[0;34m=\u001b[0m\u001b[0mopen\u001b[0m\u001b[0;34m(\u001b[0m\u001b[0;34m\"file_test.txt\"\u001b[0m\u001b[0;34m,\u001b[0m\u001b[0;34m'r'\u001b[0m\u001b[0;34m)\u001b[0m\u001b[0;34m\u001b[0m\u001b[0;34m\u001b[0m\u001b[0m\n\u001b[0m\u001b[1;32m      3\u001b[0m \u001b[0mf\u001b[0m\u001b[0;34m.\u001b[0m\u001b[0mclose\u001b[0m\u001b[0;34m(\u001b[0m\u001b[0;34m)\u001b[0m\u001b[0;34m\u001b[0m\u001b[0;34m\u001b[0m\u001b[0m\n",
            "\u001b[0;31mFileNotFoundError\u001b[0m: [Errno 2] No such file or directory: 'file_test.txt'"
          ]
        }
      ]
    },
    {
      "cell_type": "markdown",
      "metadata": {
        "id": "DEB62HaVic9d",
        "colab_type": "text"
      },
      "source": [
        "### File reading using with\n",
        "\n",
        "It automatically closes the file when the loop is exited."
      ]
    },
    {
      "cell_type": "code",
      "metadata": {
        "id": "fvp8hBJgdsoz",
        "colab_type": "code",
        "colab": {
          "base_uri": "https://localhost:8080/",
          "height": 118
        },
        "outputId": "9dbcdb52-fe4c-4b36-de13-1c9bfa15900c"
      },
      "source": [
        "with open('testfile1.txt') as f: # f is a file object\n",
        "    for line in f: # Read each line as text\n",
        "        print(line)\n",
        "        #print(line.strip()) # Remove trailing newline character"
      ],
      "execution_count": 8,
      "outputs": [
        {
          "output_type": "stream",
          "text": [
            "Apple\n",
            "\n",
            "Banana\n",
            "\n",
            "Grapes\n",
            "\n"
          ],
          "name": "stdout"
        }
      ]
    },
    {
      "cell_type": "code",
      "metadata": {
        "id": "0dyOSzZgkFre",
        "colab_type": "code",
        "colab": {
          "base_uri": "https://localhost:8080/",
          "height": 84
        },
        "outputId": "0e9592c5-bd68-403b-dd66-fc60928feb82"
      },
      "source": [
        "#%% read line-by-line [using open-close]\n",
        "f= open(\"testfile1.txt\",'r') # f is file object \n",
        "line1=f.readline() #read line-by-line, use .strip() to exclude \\n at end\n",
        "line2=f.readline() \n",
        "f.close()\n",
        "print(line1)\n",
        "print(line2)"
      ],
      "execution_count": 9,
      "outputs": [
        {
          "output_type": "stream",
          "text": [
            "Apple\n",
            "\n",
            "Banana\n",
            "\n"
          ],
          "name": "stdout"
        }
      ]
    },
    {
      "cell_type": "code",
      "metadata": {
        "id": "OwQeSRS_dRqT",
        "colab_type": "code",
        "colab": {
          "base_uri": "https://localhost:8080/",
          "height": 84
        },
        "outputId": "ab75098d-7c25-4fa6-a40b-2521537581c2"
      },
      "source": [
        "#%% read line-by-line [using with]\n",
        "with open(\"testfile1.txt\",'r') as f: # f is file object \n",
        "  line1=f.readline() #read line-by-line, use .strip() to exclude \\n at end\n",
        "  line2=f.readline() \n",
        "print(line1)\n",
        "print(line2)"
      ],
      "execution_count": 10,
      "outputs": [
        {
          "output_type": "stream",
          "text": [
            "Apple\n",
            "\n",
            "Banana\n",
            "\n"
          ],
          "name": "stdout"
        }
      ]
    },
    {
      "cell_type": "markdown",
      "metadata": {
        "id": "ER4tQrPwmEg3",
        "colab_type": "text"
      },
      "source": [
        "### tell() and seek()"
      ]
    },
    {
      "cell_type": "code",
      "metadata": {
        "id": "qvPUoDOVdXfQ",
        "colab_type": "code",
        "colab": {
          "base_uri": "https://localhost:8080/",
          "height": 67
        },
        "outputId": "e3a12522-6120-4362-9478-b1c77c470a60"
      },
      "source": [
        "#%% f.tell() \n",
        "# returns an integer giving the file object's current position in the file\n",
        "f= open(\"testfile1.txt\",'r') # f is file object \n",
        "print(f.tell())\n",
        "line1=f.readline() # read line-by-line, use .strip() to exclude \\n at end\n",
        "print(f.tell())\n",
        "line2=f.readline() \n",
        "print(f.tell())\n",
        "f.close()"
      ],
      "execution_count": 16,
      "outputs": [
        {
          "output_type": "stream",
          "text": [
            "0\n",
            "6\n",
            "13\n"
          ],
          "name": "stdout"
        }
      ]
    },
    {
      "cell_type": "code",
      "metadata": {
        "id": "KdysqvMGdbLk",
        "colab_type": "code",
        "colab": {
          "base_uri": "https://localhost:8080/",
          "height": 134
        },
        "outputId": "b40582ef-5f3d-484e-cd25-093e06e3b0b3"
      },
      "source": [
        "# f.seek(new_position) \n",
        "#change the file object's position\n",
        "f= open(\"testfile1.txt\",'r') # f is file object \n",
        "print(f.tell())\n",
        "line1=f.readline() #read line-by-line, use .strip() to exclude \\n at end\n",
        "print(f.tell())\n",
        "f.seek(0) \n",
        "line2=f.readline() \n",
        "print(f.tell())\n",
        "f.close()\n",
        "print(line1)\n",
        "print(line2)"
      ],
      "execution_count": 17,
      "outputs": [
        {
          "output_type": "stream",
          "text": [
            "0\n",
            "6\n",
            "6\n",
            "Apple\n",
            "\n",
            "Apple\n",
            "\n"
          ],
          "name": "stdout"
        }
      ]
    },
    {
      "cell_type": "code",
      "metadata": {
        "id": "ghSpkQMBeBEl",
        "colab_type": "code",
        "colab": {
          "base_uri": "https://localhost:8080/",
          "height": 84
        },
        "outputId": "51fd5c59-644b-405e-cd27-6193c8034729"
      },
      "source": [
        "#%% Guess the outputs line1, line2, line3\n",
        "f= open(\"testfile1.txt\",'r') # f is file object \n",
        "print(f.tell())\n",
        "line1=f.readline() \n",
        "print(f.tell())\n",
        "f.seek(0)\n",
        "line2=f.readline() \n",
        "print(f.tell())\n",
        "line3=f.readline() \n",
        "print(f.tell())\n",
        "f.close()"
      ],
      "execution_count": 18,
      "outputs": [
        {
          "output_type": "stream",
          "text": [
            "0\n",
            "6\n",
            "6\n",
            "13\n"
          ],
          "name": "stdout"
        }
      ]
    },
    {
      "cell_type": "code",
      "metadata": {
        "id": "hF4uzydndTuS",
        "colab_type": "code",
        "colab": {
          "base_uri": "https://localhost:8080/",
          "height": 34
        },
        "outputId": "94450968-3a44-4497-f9bd-f38ed258947f"
      },
      "source": [
        "# Read lines of a file into a list \n",
        "f= open(\"testfile1.txt\",'r') # f is file object \n",
        "all_lines=f.readlines()\n",
        "f.close()\n",
        "print(all_lines)"
      ],
      "execution_count": 11,
      "outputs": [
        {
          "output_type": "stream",
          "text": [
            "['Apple\\n', 'Banana\\n', 'Grapes\\n']\n"
          ],
          "name": "stdout"
        }
      ]
    },
    {
      "cell_type": "code",
      "metadata": {
        "id": "bmYO6TZZnPrO",
        "colab_type": "code",
        "colab": {}
      },
      "source": [
        "# Read from a file, then write to another file \n",
        "with open('testfile1.txt', 'r') as f1:\n",
        "    with open('upper_'+'testfile1.txt', 'w') as f2:\n",
        "        for line in f1: # read from file testfile1.txt\n",
        "            line = line.strip().upper()\n",
        "            print(line, file=f2) # write to file upper_testfile1.txt"
      ],
      "execution_count": 12,
      "outputs": []
    },
    {
      "cell_type": "markdown",
      "metadata": {
        "id": "uaE376Kdnjc0",
        "colab_type": "text"
      },
      "source": [
        "## File Appending\n",
        "\n",
        "'a' Append Mode. Append data to existing file. Create file, if not found"
      ]
    },
    {
      "cell_type": "code",
      "metadata": {
        "id": "XvvgZDOqZ1_-",
        "colab_type": "code",
        "colab": {}
      },
      "source": [
        "f1=open('testfile1.txt','a')\n",
        "f1.write('Orange\\n')\n",
        "print('White',file=f1)\n",
        "f1.close()"
      ],
      "execution_count": 13,
      "outputs": []
    },
    {
      "cell_type": "code",
      "metadata": {
        "id": "zXga4WnEnuN8",
        "colab_type": "code",
        "colab": {}
      },
      "source": [
        "# Read from a file, then append to another file \n",
        "with open('testfile1.txt', 'r') as f1:\n",
        "    with open('upper_' + 'testfile1.txt', 'a') as f2:\n",
        "        for line in f1: # read from file testfile1.txt\n",
        "            line = line.strip()\n",
        "            print(line, file=f2) # append to file upper_testfile1.txt"
      ],
      "execution_count": null,
      "outputs": []
    },
    {
      "cell_type": "markdown",
      "metadata": {
        "id": "J49jB9gPZ2AC",
        "colab_type": "text"
      },
      "source": [
        "Another Example:\n",
        "\n",
        "zip() function takes in iterables as arguments and returns series of tuples containing elements from each iterable."
      ]
    },
    {
      "cell_type": "code",
      "metadata": {
        "id": "RVqocyhg7fc4",
        "colab_type": "code",
        "colab": {
          "base_uri": "https://localhost:8080/",
          "height": 54
        },
        "outputId": "418142de-5dfc-410f-bcbc-c3c282d694bd"
      },
      "source": [
        "list1 = ['Apple','Cauliflower', 'Tomato', 'Lemon', 'Capsicum']\n",
        "list2 = ['Fruit','Vegetable','Red','Yellow','Green']\n",
        "print(list(zip(list1,list2)))"
      ],
      "execution_count": 25,
      "outputs": [
        {
          "output_type": "stream",
          "text": [
            "[('Apple', 'Fruit', 'Apple'), ('Cauliflower', 'Vegetable', 'Cauliflower'), ('Tomato', 'Red', 'Tomato'), ('Lemon', 'Yellow', 'Lemon'), ('Capsicum', 'Green', 'Capsicum')]\n"
          ],
          "name": "stdout"
        }
      ]
    },
    {
      "cell_type": "code",
      "metadata": {
        "id": "y8uicx6JZ2AC",
        "colab_type": "code",
        "colab": {}
      },
      "source": [
        "# Create two files, one with Item and another with Description\n",
        "list1 = ['Apple','Cauliflower', 'Tomato', 'Lemon', 'Capsicum']\n",
        "list2 = ['Fruit','Vegetable','Red','Yellow','Green']\n",
        "with open('file1.txt', 'w') as f1:\n",
        "    for item in list1:\n",
        "        print(item,file=f1)\n",
        "with open('file2.txt', 'w') as f2:\n",
        "    for item in list2:\n",
        "        print(item,file=f2)\n",
        "# Then, create a third file with item and description put together \n",
        "with open('file1.txt', 'r') as f1:\n",
        "    with open('file2.txt', 'r') as f2:\n",
        "        with open('file3.txt', 'w') as f3:\n",
        "            for line1,line2 in zip(f1,f2): #read from two files simultaneously\n",
        "                line1 = line1.strip()\n",
        "                line2 = line2.strip()\n",
        "                print(line1+\" is \"+line2, file=f3)"
      ],
      "execution_count": 24,
      "outputs": []
    }
  ]
}