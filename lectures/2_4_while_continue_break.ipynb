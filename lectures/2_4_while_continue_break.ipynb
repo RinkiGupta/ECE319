{
  "nbformat": 4,
  "nbformat_minor": 0,
  "metadata": {
    "kernelspec": {
      "display_name": "Python 3",
      "language": "python",
      "name": "python3"
    },
    "language_info": {
      "codemirror_mode": {
        "name": "ipython",
        "version": 3
      },
      "file_extension": ".py",
      "mimetype": "text/x-python",
      "name": "python",
      "nbconvert_exporter": "python",
      "pygments_lexer": "ipython3",
      "version": "3.7.3"
    },
    "colab": {
      "provenance": [],
      "include_colab_link": true
    }
  },
  "cells": [
    {
      "cell_type": "markdown",
      "metadata": {
        "id": "view-in-github",
        "colab_type": "text"
      },
      "source": [
        "<a href=\"https://colab.research.google.com/github/RinkiGupta/ECE319/blob/master/lectures/2_4_while_continue_break.ipynb\" target=\"_parent\"><img src=\"https://colab.research.google.com/assets/colab-badge.svg\" alt=\"Open In Colab\"/></a>"
      ]
    },
    {
      "cell_type": "markdown",
      "metadata": {
        "id": "PXU28t19_7-z"
      },
      "source": [
        "# While loop and Control Statements"
      ]
    },
    {
      "cell_type": "markdown",
      "metadata": {
        "id": "JfIya90a_7-1"
      },
      "source": [
        "## while loop\n",
        "Iterate indefinitely till a condition becomes false.\n",
        "\n",
        "**for** and **while** are **Pre-test loops**: A loop that tests before deciding whether to execute its body.\n",
        "\n",
        "<img src='https://github.com/RinkiGupta/ECE319/blob/master/res/m2_pic8_while.png?raw=true' width=50%>\n"
      ]
    },
    {
      "cell_type": "code",
      "metadata": {
        "id": "AB4vSTGC_7-2"
      },
      "source": [
        "count = 3 # number of invites to print\n",
        "while count>0:\n",
        "    user_in = input('Enter name of friend: ')\n",
        "    print('Hello ', user_in,'. Please join my party!')\n",
        "    count-=1\n",
        "print('Done!!')"
      ],
      "execution_count": null,
      "outputs": []
    },
    {
      "cell_type": "code",
      "metadata": {
        "id": "KKwCsYxZCMft"
      },
      "source": [
        "# while-else\n",
        "count = 3 # number of invites to print\n",
        "while count>0:\n",
        "    user_in = input('Enter name of friend: ')\n",
        "    print('Hello ', user_in,'. Please join my party!')\n",
        "    count-=1\n",
        "else:\n",
        "    print('Count reached zero') #executed when while-condition becomes false\n",
        "print('Done!!')"
      ],
      "execution_count": null,
      "outputs": []
    },
    {
      "cell_type": "markdown",
      "metadata": {
        "id": "7EOfHSkmBadx"
      },
      "source": [
        "## break\n",
        "\n",
        "The break statement terminates the loop containing it.\n",
        "\n",
        "Control of the program flows to the statement immediately after the body of the loop."
      ]
    },
    {
      "cell_type": "code",
      "metadata": {
        "id": "2jwGpDVE_7_H"
      },
      "source": [
        "# while-else with break\n",
        "count = 3 # maximum number of invites\n",
        "while count>0:\n",
        "    user_in = input('Enter name of friend or type exit to exit: ')\n",
        "    if user_in == 'exit':\n",
        "        print('User exited')\n",
        "        break # exit the while-loop\n",
        "    print('Hello ', user_in,'. Please join my party!')\n",
        "    count-=1\n",
        "else:\n",
        "    print('Count reached zero') #executes when condition in front of while becomes false\n",
        "print('Done!!')"
      ],
      "execution_count": null,
      "outputs": []
    },
    {
      "cell_type": "markdown",
      "metadata": {
        "id": "jXIuCSkHEboR"
      },
      "source": [
        "## continue\n",
        "\n",
        "The continue statement is used to skip the rest of the code inside a loop for the current iteration only.\n",
        "\n",
        "Loop does not terminate but continues on with the next iteration."
      ]
    },
    {
      "cell_type": "code",
      "metadata": {
        "id": "r_mRkbRQ_7_K"
      },
      "source": [
        "# while-else with continue\n",
        "count = 3 # maximum number of invites\n",
        "while count>0:\n",
        "    user_in = input('Enter name of friend : ')\n",
        "    if user_in[0] == 'A':\n",
        "        continue # skip reamining loop in the current iteration only\n",
        "    print('Hello ', user_in,'. Please join my party!')\n",
        "    count-=1\n",
        "    print('count=',count)\n",
        "else:\n",
        "    print('Count reached zero') #executes when condition in front of while becomes false\n",
        "print('Done!!')"
      ],
      "execution_count": null,
      "outputs": []
    },
    {
      "cell_type": "code",
      "metadata": {
        "id": "6dQHu1Y1_7_M"
      },
      "source": [
        "# while-else with pass\n",
        "count = 3 # maximum number of invites\n",
        "while count>0:\n",
        "    user_in = input('Enter name of friend : ')\n",
        "    if user_in[0] == 'A':\n",
        "        pass # do nothing\n",
        "    print('Hello ', user_in,'. Please join my party!')\n",
        "    count-=1\n",
        "    print('count=',count)\n",
        "else:\n",
        "    print('Count reached zero') #executes when condition in front of while becomes false\n",
        "print('Done!!')"
      ],
      "execution_count": null,
      "outputs": []
    },
    {
      "cell_type": "markdown",
      "metadata": {
        "id": "QgNF20Q7FBf3"
      },
      "source": [
        "# for-else with break"
      ]
    },
    {
      "cell_type": "code",
      "metadata": {
        "id": "QKISuQwu_7_P"
      },
      "source": [
        "# for/else with break\n",
        "s1 = 'Python'\n",
        "for ele in s1:\n",
        "    if ele=='o': # change to 'a', what happens?\n",
        "        print('Break Executed...')\n",
        "        break # exit for-loop\n",
        "    print(ele)\n",
        "else:   # when for loop exists without encountering break\n",
        "    print('Reached else of for-else')\n",
        "print('Done')"
      ],
      "execution_count": null,
      "outputs": []
    },
    {
      "cell_type": "code",
      "metadata": {
        "id": "CjbjEb-J_7_S"
      },
      "source": [
        "# for/else with continue\n",
        "s1 = 'Python'\n",
        "for ele in s1:\n",
        "    if ele=='o':\n",
        "        print('Continue Executed...')\n",
        "        continue # skip remaining loop for current iteration only\n",
        "    print(ele)\n",
        "else:   # when for loop exists without encountering break\n",
        "    print('Reached else of for-else')\n",
        "print('Done')"
      ],
      "execution_count": null,
      "outputs": []
    },
    {
      "cell_type": "markdown",
      "source": [
        "# Practice\n",
        "\n",
        "1. Check if strings entered by a user are palindrome or not. The user may enter up to 5 strings at the maximum.\n",
        "\n",
        "2. Explain how a while-else loop works, using the following program as an example:\n",
        "\n",
        "```\n",
        "x=4\n",
        "flag='y'\n",
        "while x>0:\n",
        "  print('Now x=',x)\n",
        "  x-=1\n",
        "  flag=input('Continue? (y/n)')\n",
        "  if flag!='y':\n",
        "    break\n",
        "else:\n",
        "  print('Now x is zero.')\n",
        "```\n",
        "\n"
      ],
      "metadata": {
        "id": "NHOiDSSTsEQ4"
      }
    }
  ]
}