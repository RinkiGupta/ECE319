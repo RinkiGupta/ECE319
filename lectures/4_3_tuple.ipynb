{
  "nbformat": 4,
  "nbformat_minor": 0,
  "metadata": {
    "kernelspec": {
      "display_name": "Python 3",
      "language": "python",
      "name": "python3"
    },
    "language_info": {
      "codemirror_mode": {
        "name": "ipython",
        "version": 3
      },
      "file_extension": ".py",
      "mimetype": "text/x-python",
      "name": "python",
      "nbconvert_exporter": "python",
      "pygments_lexer": "ipython3",
      "version": "3.6.4"
    },
    "colab": {
      "provenance": [],
      "include_colab_link": true
    }
  },
  "cells": [
    {
      "cell_type": "markdown",
      "metadata": {
        "id": "view-in-github",
        "colab_type": "text"
      },
      "source": [
        "<a href=\"https://colab.research.google.com/github/RinkiGupta/ECE319/blob/master/lectures/4_3_tuple.ipynb\" target=\"_parent\"><img src=\"https://colab.research.google.com/assets/colab-badge.svg\" alt=\"Open In Colab\"/></a>"
      ]
    },
    {
      "cell_type": "markdown",
      "metadata": {
        "id": "89-eG2DDf1jc"
      },
      "source": [
        "# Tuple\n",
        "\n",
        "* A tuple is comma-separated values, that are immutable. \n",
        "* They are generally used when data is to be protected from modification.\n",
        "* Tuple may contain values of different data types."
      ]
    },
    {
      "cell_type": "code",
      "metadata": {
        "id": "vhuUq-IVH54Z"
      },
      "source": [
        "a=(10,11,'A',\"B\")\n",
        "print(a,type(a))\n",
        "b=1,2.0,'a',[1,2] # tuple packing (create tuple without using parentheses)\n",
        "print(b,type(b))\n",
        "print('Number of elements in tuple: ',len(b)) "
      ],
      "execution_count": null,
      "outputs": []
    },
    {
      "cell_type": "code",
      "metadata": {
        "id": "vQR8n5vqIIik"
      },
      "source": [
        "b1,b2,b3,b4=b # tuple unpacking\n",
        "print(b1,type(b1))\n",
        "print(b2,type(b2))\n",
        "print(b3,type(b3))\n",
        "print(b4,type(b4))"
      ],
      "execution_count": null,
      "outputs": []
    },
    {
      "cell_type": "code",
      "metadata": {
        "id": "5t3rObZpf1je"
      },
      "source": [
        "# tuple assignment\n",
        "a1,a2 = 10,5 \n",
        "print('Original a1, a2 = ',a1,a2)\n",
        "a2,a1 = a1,a2 #swap values using tuple assignment\n",
        "print('Reassigned a1, a2 = ',a1,a2)"
      ],
      "execution_count": null,
      "outputs": []
    },
    {
      "cell_type": "code",
      "metadata": {
        "id": "NzaNUu9Wqz0j"
      },
      "source": [
        "print(b[0])"
      ],
      "execution_count": null,
      "outputs": []
    },
    {
      "cell_type": "code",
      "metadata": {
        "id": "jT_WpI2BJ96M"
      },
      "source": [
        "# Tuples are immutable\n",
        "b[0]=10"
      ],
      "execution_count": null,
      "outputs": []
    },
    {
      "cell_type": "markdown",
      "metadata": {
        "id": "zKwldiIiJ0q5"
      },
      "source": [
        "## Accessing"
      ]
    },
    {
      "cell_type": "code",
      "metadata": {
        "id": "B4NjtyNVJVZ0"
      },
      "source": [
        "b=1,2.0,'a',[1,2]\n",
        "print(b[:2]) # elements 0, 1\n",
        "print(b[2:]) # elements 2, 3\n",
        "print(b[-1]) # last element (element 3)\n",
        "print(b[::2]) # every 2nd element (0, 2)\n",
        "print(b[::-1]) # backwards (3, 2, 1, 0)"
      ],
      "execution_count": null,
      "outputs": []
    },
    {
      "cell_type": "markdown",
      "metadata": {
        "id": "HkmQyFpvMdW7"
      },
      "source": [
        "## Tuples as Iterables"
      ]
    },
    {
      "cell_type": "code",
      "metadata": {
        "id": "iQR5SvS9MgaK"
      },
      "source": [
        "for item in b:\n",
        "  print(item)"
      ],
      "execution_count": null,
      "outputs": []
    },
    {
      "cell_type": "markdown",
      "metadata": {
        "id": "_Nx0hn4sf1ji"
      },
      "source": [
        "## Tuples as return values "
      ]
    },
    {
      "cell_type": "code",
      "metadata": {
        "id": "gm2TGxeKf1jm"
      },
      "source": [
        "def incdec(val,a):\n",
        "    return val+a,val-a\n",
        "\n",
        "result=incdec(10,2)\n",
        "print('result: ',result,', type:',type(result))\n",
        "\n",
        "result1,result2=incdec(10,2) #unpacking a tuple\n",
        "print('After Unpacking:')\n",
        "print('result1: ',result1,', result2:',result2)\n",
        "print('type result1: ',type(result1),', type result2:',type(result2))"
      ],
      "execution_count": null,
      "outputs": []
    },
    {
      "cell_type": "markdown",
      "metadata": {
        "id": "3VqtdhZwNDxi"
      },
      "source": [
        "## Tuple Methods"
      ]
    },
    {
      "cell_type": "code",
      "metadata": {
        "id": "zCbUvtBcNSU2"
      },
      "source": [
        "a = 1,2,1,4,2,1\n",
        "print('Number of occurances of 1: ',a.count(1))\n",
        "print('Number of occurances of 0: ',a.count(0))"
      ],
      "execution_count": null,
      "outputs": []
    },
    {
      "cell_type": "code",
      "metadata": {
        "id": "A5v75Y7NNk89"
      },
      "source": [
        "print('Index of first occurance of 2: ',a.index(2))"
      ],
      "execution_count": null,
      "outputs": []
    },
    {
      "cell_type": "markdown",
      "metadata": {
        "id": "zi3uTpAaONa7"
      },
      "source": [
        "## Tuple Operations"
      ]
    },
    {
      "cell_type": "code",
      "metadata": {
        "id": "ZuHCqpI6ORf8"
      },
      "source": [
        "print((1, 2, 3) + (4, 5, 6)) # conatenate +\n",
        "print((\"a\",) * 2 + (\"b\",) * 3) # replicate *\n",
        "eg1 = ('a',1,'an',2.0,'the',1+2j) # mixed data-types\n",
        "print('a' in eg1) # Membership\n",
        "print(1.1 in eg1) # Membership"
      ],
      "execution_count": null,
      "outputs": []
    },
    {
      "cell_type": "code",
      "metadata": {
        "id": "dxoxz-kbQKVs"
      },
      "source": [
        "# del to delete complete Tuple\n",
        "del eg1"
      ],
      "execution_count": null,
      "outputs": []
    },
    {
      "cell_type": "code",
      "metadata": {
        "id": "VHrjUnjzQRQl"
      },
      "source": [
        "print(eg1)"
      ],
      "execution_count": null,
      "outputs": []
    }
  ]
}