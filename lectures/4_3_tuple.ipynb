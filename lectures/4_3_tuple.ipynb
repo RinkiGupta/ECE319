{
  "nbformat": 4,
  "nbformat_minor": 0,
  "metadata": {
    "kernelspec": {
      "display_name": "Python 3",
      "language": "python",
      "name": "python3"
    },
    "language_info": {
      "codemirror_mode": {
        "name": "ipython",
        "version": 3
      },
      "file_extension": ".py",
      "mimetype": "text/x-python",
      "name": "python",
      "nbconvert_exporter": "python",
      "pygments_lexer": "ipython3",
      "version": "3.6.4"
    },
    "colab": {
      "name": "4_3_tuple.ipynb",
      "provenance": [],
      "collapsed_sections": [],
      "include_colab_link": true
    }
  },
  "cells": [
    {
      "cell_type": "markdown",
      "metadata": {
        "id": "view-in-github",
        "colab_type": "text"
      },
      "source": [
        "<a href=\"https://colab.research.google.com/github/RinkiGupta/ECE319/blob/master/lectures/4_3_tuple.ipynb\" target=\"_parent\"><img src=\"https://colab.research.google.com/assets/colab-badge.svg\" alt=\"Open In Colab\"/></a>"
      ]
    },
    {
      "cell_type": "markdown",
      "metadata": {
        "id": "89-eG2DDf1jc"
      },
      "source": [
        "# Tuple\n",
        "\n",
        "A tuple is comma-separated values, that are immutable. They are generally used when data is to be protected from modification.\n",
        "\n",
        "Tuple may contain values of different data types."
      ]
    },
    {
      "cell_type": "code",
      "metadata": {
        "id": "vhuUq-IVH54Z",
        "outputId": "961a0d3e-59ce-4295-fac0-5f407e5ee4c0",
        "colab": {
          "base_uri": "https://localhost:8080/",
          "height": 69
        }
      },
      "source": [
        "a=(10,11,'A',\"B\")\n",
        "print(a,type(a))\n",
        "b=1,2.0,'a',[1,2] # tuple packing (create tuple without using parentheses)\n",
        "print(b,type(b))\n",
        "print('Number of elements in tuple: ',len(b)) "
      ],
      "execution_count": null,
      "outputs": [
        {
          "output_type": "stream",
          "text": [
            "(10, 11, 'A', 'B') <class 'tuple'>\n",
            "(1, 2.0, 'a', [1, 2]) <class 'tuple'>\n",
            "Number of elements in tuple:  4\n"
          ],
          "name": "stdout"
        }
      ]
    },
    {
      "cell_type": "code",
      "metadata": {
        "id": "vQR8n5vqIIik",
        "outputId": "8f5fbe80-041f-4100-c458-bd0c8f72e6e8",
        "colab": {
          "base_uri": "https://localhost:8080/",
          "height": 87
        }
      },
      "source": [
        "b1,b2,b3,b4=b # tuple unpacking\n",
        "print(b1,type(b1))\n",
        "print(b2,type(b2))\n",
        "print(b3,type(b3))\n",
        "print(b4,type(b4))"
      ],
      "execution_count": null,
      "outputs": [
        {
          "output_type": "stream",
          "text": [
            "1 <class 'int'>\n",
            "2.0 <class 'float'>\n",
            "a <class 'str'>\n",
            "[1, 2] <class 'list'>\n"
          ],
          "name": "stdout"
        }
      ]
    },
    {
      "cell_type": "code",
      "metadata": {
        "id": "5t3rObZpf1je",
        "outputId": "d5acd844-59bc-45c5-9fb5-0e752c1ff8e7",
        "colab": {
          "base_uri": "https://localhost:8080/",
          "height": 52
        }
      },
      "source": [
        "# tuple assignment\n",
        "a1,a2 = 10,5 \n",
        "print('Original a1, a2 = ',a1,a2)\n",
        "a2,a1 = a1,a2 #swap values using tuple assignment\n",
        "print('Reassigned a1, a2 = ',a1,a2)"
      ],
      "execution_count": null,
      "outputs": [
        {
          "output_type": "stream",
          "text": [
            "Original a1, a2 =  10 5\n",
            "Reassigned a1, a2 =  5 10\n"
          ],
          "name": "stdout"
        }
      ]
    },
    {
      "cell_type": "code",
      "metadata": {
        "id": "jT_WpI2BJ96M",
        "outputId": "f37b4387-33a7-4058-9cf4-ac398038d8a8",
        "colab": {
          "base_uri": "https://localhost:8080/",
          "height": 183
        }
      },
      "source": [
        "# Tuples are immutable\n",
        "b[0]=10"
      ],
      "execution_count": null,
      "outputs": [
        {
          "output_type": "error",
          "ename": "TypeError",
          "evalue": "ignored",
          "traceback": [
            "\u001b[0;31m---------------------------------------------------------------------------\u001b[0m",
            "\u001b[0;31mTypeError\u001b[0m                                 Traceback (most recent call last)",
            "\u001b[0;32m<ipython-input-10-fda9044d2f09>\u001b[0m in \u001b[0;36m<module>\u001b[0;34m()\u001b[0m\n\u001b[1;32m      1\u001b[0m \u001b[0;31m# Tuples are immutable\u001b[0m\u001b[0;34m\u001b[0m\u001b[0;34m\u001b[0m\u001b[0;34m\u001b[0m\u001b[0m\n\u001b[0;32m----> 2\u001b[0;31m \u001b[0mb\u001b[0m\u001b[0;34m[\u001b[0m\u001b[0;36m0\u001b[0m\u001b[0;34m]\u001b[0m\u001b[0;34m=\u001b[0m\u001b[0;36m10\u001b[0m\u001b[0;34m\u001b[0m\u001b[0;34m\u001b[0m\u001b[0m\n\u001b[0m",
            "\u001b[0;31mTypeError\u001b[0m: 'tuple' object does not support item assignment"
          ]
        }
      ]
    },
    {
      "cell_type": "markdown",
      "metadata": {
        "id": "zKwldiIiJ0q5"
      },
      "source": [
        "## Accessing"
      ]
    },
    {
      "cell_type": "code",
      "metadata": {
        "id": "B4NjtyNVJVZ0",
        "outputId": "ade11871-6179-42fd-d37a-ba7a70bbba41",
        "colab": {
          "base_uri": "https://localhost:8080/",
          "height": 104
        }
      },
      "source": [
        "b=1,2.0,'a',[1,2]\n",
        "print(b[:2]) # elements 0, 1\n",
        "print(b[2:]) # elements 2, 3\n",
        "print(b[-1]) # last element (element 3)\n",
        "print(b[::2]) # every 2nd element (0, 2)\n",
        "print(b[::-1]) # backwards (3, 2, 1, 0)"
      ],
      "execution_count": null,
      "outputs": [
        {
          "output_type": "stream",
          "text": [
            "(1, 2.0)\n",
            "('a', [1, 2])\n",
            "[1, 2]\n",
            "(1, 'a')\n",
            "([1, 2], 'a', 2.0, 1)\n"
          ],
          "name": "stdout"
        }
      ]
    },
    {
      "cell_type": "markdown",
      "metadata": {
        "id": "HkmQyFpvMdW7"
      },
      "source": [
        "## Tuples as Iterables"
      ]
    },
    {
      "cell_type": "code",
      "metadata": {
        "id": "xzualcwCMkcv",
        "outputId": "983dc0ea-456d-4b5b-ffee-303082a73018",
        "colab": {
          "base_uri": "https://localhost:8080/",
          "height": 35
        }
      },
      "source": [
        "print(b)"
      ],
      "execution_count": null,
      "outputs": [
        {
          "output_type": "stream",
          "text": [
            "(1, 2.0, 'a', [1, 2])\n"
          ],
          "name": "stdout"
        }
      ]
    },
    {
      "cell_type": "code",
      "metadata": {
        "id": "iQR5SvS9MgaK",
        "outputId": "59cb15f8-b62b-4aa1-9d2c-b932ae8e3114",
        "colab": {
          "base_uri": "https://localhost:8080/",
          "height": 87
        }
      },
      "source": [
        "for item in b:\n",
        "  print(item)"
      ],
      "execution_count": null,
      "outputs": [
        {
          "output_type": "stream",
          "text": [
            "1\n",
            "2.0\n",
            "a\n",
            "[1, 2]\n"
          ],
          "name": "stdout"
        }
      ]
    },
    {
      "cell_type": "markdown",
      "metadata": {
        "id": "_Nx0hn4sf1ji"
      },
      "source": [
        "## Tuples as return values "
      ]
    },
    {
      "cell_type": "code",
      "metadata": {
        "id": "gm2TGxeKf1jm",
        "outputId": "82f99ceb-8ea8-4315-b87a-140f465a5750",
        "colab": {
          "base_uri": "https://localhost:8080/",
          "height": 87
        }
      },
      "source": [
        "def incdec(val,a):\n",
        "    return val+a,val-a\n",
        "\n",
        "result=incdec(10,2)\n",
        "print('result: ',result,', type:',type(result))\n",
        "\n",
        "result1,result2=incdec(10,2) #unpacking a tuple\n",
        "print('After Unpacking:')\n",
        "print('result1: ',result1,', result2:',result2)\n",
        "print('type result1: ',type(result1),', type result2:',type(result2))"
      ],
      "execution_count": null,
      "outputs": [
        {
          "output_type": "stream",
          "text": [
            "result:  (12, 8) , type: <class 'tuple'>\n",
            "After Unpacking:\n",
            "result1:  12 , result2: 8\n",
            "type result1:  <class 'int'> , type result2: <class 'int'>\n"
          ],
          "name": "stdout"
        }
      ]
    },
    {
      "cell_type": "markdown",
      "metadata": {
        "id": "3VqtdhZwNDxi"
      },
      "source": [
        "## Tuple Methods"
      ]
    },
    {
      "cell_type": "code",
      "metadata": {
        "id": "zCbUvtBcNSU2",
        "outputId": "bf5f7895-6246-4b5b-c4f2-511db72a499b",
        "colab": {
          "base_uri": "https://localhost:8080/",
          "height": 52
        }
      },
      "source": [
        "a = 1,2,1,4,2,1\n",
        "print('Number of occurances of 1: ',a.count(1))\n",
        "print('Number of occurances of 0: ',a.count(0))"
      ],
      "execution_count": null,
      "outputs": [
        {
          "output_type": "stream",
          "text": [
            "Number of occurances of 1:  3\n",
            "Number of occurances of 0:  0\n"
          ],
          "name": "stdout"
        }
      ]
    },
    {
      "cell_type": "code",
      "metadata": {
        "id": "A5v75Y7NNk89",
        "outputId": "3a0558a3-1664-4d04-d190-e0b062960f26",
        "colab": {
          "base_uri": "https://localhost:8080/",
          "height": 35
        }
      },
      "source": [
        "print('Index of first occurance of 2: ',a.index(2))"
      ],
      "execution_count": null,
      "outputs": [
        {
          "output_type": "stream",
          "text": [
            "Index of first occurance of 2:  1\n"
          ],
          "name": "stdout"
        }
      ]
    },
    {
      "cell_type": "markdown",
      "metadata": {
        "id": "zi3uTpAaONa7"
      },
      "source": [
        "## Tuple Operations"
      ]
    },
    {
      "cell_type": "code",
      "metadata": {
        "id": "ZuHCqpI6ORf8",
        "outputId": "188003bb-da9d-4b7d-ee8e-6c7d5e3649ab",
        "colab": {
          "base_uri": "https://localhost:8080/",
          "height": 87
        }
      },
      "source": [
        "print((1, 2, 3) + (4, 5, 6)) # conatenate +\n",
        "print((\"a\",) * 2 + (\"b\",) * 3) # replicate *\n",
        "eg1 = ('a',1,'an',2.0,'the',1+2j) # mixed data-types\n",
        "print('a' in eg1) # Membership\n",
        "print(1.1 in eg1) # Membership"
      ],
      "execution_count": null,
      "outputs": [
        {
          "output_type": "stream",
          "text": [
            "(1, 2, 3, 4, 5, 6)\n",
            "('a', 'a', 'b', 'b', 'b')\n",
            "True\n",
            "False\n"
          ],
          "name": "stdout"
        }
      ]
    },
    {
      "cell_type": "code",
      "metadata": {
        "id": "dxoxz-kbQKVs"
      },
      "source": [
        "# del to delete complete Tuple\n",
        "del eg1"
      ],
      "execution_count": null,
      "outputs": []
    },
    {
      "cell_type": "code",
      "metadata": {
        "id": "VHrjUnjzQRQl",
        "outputId": "1cb6773a-9a67-4a3a-9ee1-3abf340cac07",
        "colab": {
          "base_uri": "https://localhost:8080/",
          "height": 166
        }
      },
      "source": [
        "print(eg1)"
      ],
      "execution_count": null,
      "outputs": [
        {
          "output_type": "error",
          "ename": "NameError",
          "evalue": "ignored",
          "traceback": [
            "\u001b[0;31m---------------------------------------------------------------------------\u001b[0m",
            "\u001b[0;31mNameError\u001b[0m                                 Traceback (most recent call last)",
            "\u001b[0;32m<ipython-input-29-4e3039858483>\u001b[0m in \u001b[0;36m<module>\u001b[0;34m()\u001b[0m\n\u001b[0;32m----> 1\u001b[0;31m \u001b[0mprint\u001b[0m\u001b[0;34m(\u001b[0m\u001b[0meg1\u001b[0m\u001b[0;34m)\u001b[0m\u001b[0;34m\u001b[0m\u001b[0;34m\u001b[0m\u001b[0m\n\u001b[0m",
            "\u001b[0;31mNameError\u001b[0m: name 'eg1' is not defined"
          ]
        }
      ]
    }
  ]
}