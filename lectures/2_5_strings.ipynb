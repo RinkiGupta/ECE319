{
  "nbformat": 4,
  "nbformat_minor": 0,
  "metadata": {
    "kernelspec": {
      "display_name": "Python 3",
      "language": "python",
      "name": "python3"
    },
    "language_info": {
      "codemirror_mode": {
        "name": "ipython",
        "version": 3
      },
      "file_extension": ".py",
      "mimetype": "text/x-python",
      "name": "python",
      "nbconvert_exporter": "python",
      "pygments_lexer": "ipython3",
      "version": "3.7.2"
    },
    "colab": {
      "name": "2_5_strings.ipynb",
      "provenance": [],
      "include_colab_link": true
    }
  },
  "cells": [
    {
      "cell_type": "markdown",
      "metadata": {
        "id": "view-in-github",
        "colab_type": "text"
      },
      "source": [
        "<a href=\"https://colab.research.google.com/github/RinkiGupta/ECE319/blob/master/lectures/2_5_strings.ipynb\" target=\"_parent\"><img src=\"https://colab.research.google.com/assets/colab-badge.svg\" alt=\"Open In Colab\"/></a>"
      ]
    },
    {
      "cell_type": "markdown",
      "metadata": {
        "id": "g4qdTDNoM-QA",
        "colab_type": "text"
      },
      "source": [
        "# Python Strings\n",
        "\n",
        "String may be defined within single quotes ' ' or double quotes \" \" or triple quotes ''' ''' (multiline string)\n",
        "\n",
        "The delimiters must match."
      ]
    },
    {
      "cell_type": "code",
      "metadata": {
        "id": "MXPcSiCZM-QB",
        "colab_type": "code",
        "colab": {},
        "outputId": "91dcec9b-5c90-499d-8e98-9f8115f16811"
      },
      "source": [
        "print('Hello World')\n",
        "print(\"Hello World, Again\")\n",
        "print('''Hello World !!!!!! ''')"
      ],
      "execution_count": null,
      "outputs": [
        {
          "output_type": "stream",
          "text": [
            "Hello World\n",
            "Hello World, Again\n",
            "Hello World !!!!!! \n"
          ],
          "name": "stdout"
        }
      ]
    },
    {
      "cell_type": "code",
      "metadata": {
        "id": "_1-B5O86M-QI",
        "colab_type": "code",
        "colab": {},
        "outputId": "276e5ad1-6c7f-4bb2-cfc6-f897b9cbcb40"
      },
      "source": [
        "s = \"Hello World\"\n",
        "print(s,type(s))"
      ],
      "execution_count": null,
      "outputs": [
        {
          "output_type": "stream",
          "text": [
            "Hello World <class 'str'>\n"
          ],
          "name": "stdout"
        }
      ]
    },
    {
      "cell_type": "code",
      "metadata": {
        "id": "aQyGG7nyM-QL",
        "colab_type": "code",
        "colab": {},
        "outputId": "2d7701bf-3ea1-45ba-8e47-76a5e8c4d1cc"
      },
      "source": [
        "## Strings are immutable datatypes\n",
        "print(s[0])\n",
        "#s[0]='E'"
      ],
      "execution_count": null,
      "outputs": [
        {
          "output_type": "stream",
          "text": [
            "H\n"
          ],
          "name": "stdout"
        },
        {
          "output_type": "error",
          "ename": "TypeError",
          "evalue": "'str' object does not support item assignment",
          "traceback": [
            "\u001b[1;31m---------------------------------------------------------------------------\u001b[0m",
            "\u001b[1;31mTypeError\u001b[0m                                 Traceback (most recent call last)",
            "\u001b[1;32m<ipython-input-4-72e0956a8d97>\u001b[0m in \u001b[0;36m<module>\u001b[1;34m\u001b[0m\n\u001b[0;32m      1\u001b[0m \u001b[1;31m## Strings are immutable datatypes\u001b[0m\u001b[1;33m\u001b[0m\u001b[1;33m\u001b[0m\u001b[1;33m\u001b[0m\u001b[0m\n\u001b[0;32m      2\u001b[0m \u001b[0mprint\u001b[0m\u001b[1;33m(\u001b[0m\u001b[0ms\u001b[0m\u001b[1;33m[\u001b[0m\u001b[1;36m0\u001b[0m\u001b[1;33m]\u001b[0m\u001b[1;33m)\u001b[0m\u001b[1;33m\u001b[0m\u001b[1;33m\u001b[0m\u001b[0m\n\u001b[1;32m----> 3\u001b[1;33m \u001b[0ms\u001b[0m\u001b[1;33m[\u001b[0m\u001b[1;36m0\u001b[0m\u001b[1;33m]\u001b[0m\u001b[1;33m=\u001b[0m\u001b[1;34m'E'\u001b[0m\u001b[1;33m\u001b[0m\u001b[1;33m\u001b[0m\u001b[0m\n\u001b[0m",
            "\u001b[1;31mTypeError\u001b[0m: 'str' object does not support item assignment"
          ]
        }
      ]
    },
    {
      "cell_type": "markdown",
      "metadata": {
        "id": "6SzN4JJzM-QP",
        "colab_type": "text"
      },
      "source": [
        "## Slicing\n",
        "Strings are sequence types. Indices in Python begin at 0. Negative Index are also allowed."
      ]
    },
    {
      "cell_type": "code",
      "metadata": {
        "id": "in-RvM4IM-QP",
        "colab_type": "code",
        "colab": {},
        "outputId": "b9d59d0e-6c46-4a8e-cd6c-3f7a45cf9d79"
      },
      "source": [
        "s = \"Hello World\"\n",
        "print('s', s) \n",
        "print('s[0]', s[0]) # character at index 0\n",
        "print('s[6]', s[6]) # character at index 6\n",
        "print('s[0:5]', s[0:5]) # sub-string between index 0 to 4\n",
        "print('s[:5]', s[:5]) # sub-string from start index to index 4\n",
        "print('s[6:12]', s[6:12]) # # sub-string between index 6 to 11\n",
        "print('s[6:]', s[6:]) # # sub-string between index 6 till the end index\n",
        "print('s[0:12:2]', s[0:12:2]) # characters between index 0 to 11 in steps of 2\n",
        "print('s[::2]', s[0:12:2]) # characters between start index to end index in steps of 2"
      ],
      "execution_count": null,
      "outputs": [
        {
          "output_type": "stream",
          "text": [
            "s Hello World\n",
            "s[0] H\n",
            "s[6] W\n",
            "s[0:6] Hello \n",
            "s[:6] Hello \n",
            "s[6:12] World\n",
            "s[6:] World\n",
            "s[0:12:2] HloWrd\n",
            "s[::2] HloWrd\n"
          ],
          "name": "stdout"
        }
      ]
    },
    {
      "cell_type": "code",
      "metadata": {
        "id": "oi-ft7FXM-QS",
        "colab_type": "code",
        "colab": {},
        "outputId": "ba16dfa8-db51-412f-db7a-0494e1ea10d3"
      },
      "source": [
        "s = \"Hello World\"\n",
        "print('s[-1]', s[-1]) # character at index -1\n",
        "print('s[-5]', s[-5]) # character at index -5\n",
        "print('s[-11:-5]', s[-11:-5]) # characters between index -11 to -6 in steps of 1\n",
        "print('s[:-5]', s[:-5]) # sub-string from start index to index -6\n",
        "print('s[-5:]', s[-5:]) # # sub-string between index -5 till the end index\n",
        "print('s[-7:-12:-1]', s[-7:-12:-1]) # characters between index -7 to -11 in steps of -1\n",
        "print('s[-1:-6:-1]', s[-1:-6:-1]) # characters between index -1 to -5 in steps of -1"
      ],
      "execution_count": null,
      "outputs": [
        {
          "output_type": "stream",
          "text": [
            "s[-1] d\n",
            "s[-5] W\n",
            "s[-11:-5] Hello \n",
            "s[:-5] Hello \n",
            "s[-5:] World\n",
            "s[-7:-12:-1] olleH\n",
            "s[-1:-6:-1] dlroW\n"
          ],
          "name": "stdout"
        }
      ]
    },
    {
      "cell_type": "markdown",
      "metadata": {
        "id": "q-oBYFA5M-QW",
        "colab_type": "text"
      },
      "source": [
        "## String Methods\n",
        "A new string is returned as output, the original string is not modified."
      ]
    },
    {
      "cell_type": "code",
      "metadata": {
        "id": "PI7eaaE7M-QW",
        "colab_type": "code",
        "colab": {},
        "outputId": "8bb0520b-4342-4ed6-944b-95691edef931"
      },
      "source": [
        "s1='Python'; s2=s1.lower(); print('s1.lower()  ',s1,' -> ',s2) # returns string in lower case\n",
        "s1='Python'; s2=s1.upper(); print('s1.upper()  ',s1,' -> ',s2) # returns string in upper case\n",
        "s1='hello python'; s2=s1.title(); print('s1.title()  ',s1,' -> ',s2) # returns string in title case"
      ],
      "execution_count": null,
      "outputs": [
        {
          "output_type": "stream",
          "text": [
            "s1.lower()   Python  ->  python\n",
            "s1.upper()   Python  ->  PYTHON\n",
            "s1.title()   hello python  ->  Hello Python\n"
          ],
          "name": "stdout"
        }
      ]
    },
    {
      "cell_type": "code",
      "metadata": {
        "id": "w3fUmpmaM-Qa",
        "colab_type": "code",
        "colab": {},
        "outputId": "7c09fc23-9708-45f2-f12e-dcb80c788227"
      },
      "source": [
        "# remove whitespace \n",
        "s4 = '     bread and butter     '\n",
        "print('.'+s4+'.')\n",
        "print('.'+s4.lstrip()+'.') #remove leading white space \n",
        "print('.'+s4.rstrip()+'.')#remove trailing white space\n",
        "print('.'+s4.strip()+'.') #run both lstrip and rstrip"
      ],
      "execution_count": null,
      "outputs": [
        {
          "output_type": "stream",
          "text": [
            ".     bread and butter     .\n",
            ".bread and butter     .\n",
            ".     bread and butter.\n",
            ".bread and butter.\n"
          ],
          "name": "stdout"
        }
      ]
    },
    {
      "cell_type": "code",
      "metadata": {
        "id": "4daZ9oU-M-Qd",
        "colab_type": "code",
        "colab": {},
        "outputId": "d2af7f81-e55c-48d0-e225-25d723d1256b"
      },
      "source": [
        "# Replace substring\n",
        "s1 = 'Hello World'\n",
        "s2 = s1.replace(\"World\", \"Python\") # replaces all instances of 'World' with 'Python'\n",
        "print(s2)\n",
        "s2=s1.replace(\" \",\",\")\n",
        "print(s2)\n",
        "s2=s1.replace(\" \",\"\")\n",
        "print(s2)"
      ],
      "execution_count": null,
      "outputs": [
        {
          "output_type": "stream",
          "text": [
            "Hello Python\n",
            "Hello,World\n",
            "HelloWorld\n"
          ],
          "name": "stdout"
        }
      ]
    },
    {
      "cell_type": "code",
      "metadata": {
        "id": "zn3RgXY6M-Qg",
        "colab_type": "code",
        "colab": {},
        "outputId": "5812a8df-0501-4025-9aeb-efd4d352ef83"
      },
      "source": [
        "# Check String \n",
        "s1='Hello World'; \n",
        "s2=s1.startswith('Hello'); print(\"s1.startswith('Hello') \", s2) # True is s1 begins with the specified substring\n",
        "s2=s1.startswith('He'); print(\"s1.startswith('He') \", s2) \n",
        "s2=s1.endswith('World'); print(\"s1.endswith('World') \", s2)  # True is s1 ends with the specified substring\n",
        "s2=s1.endswith('ld'); print(\"s1.endswith('ld') \", s2) \n",
        "s3='45018' \n",
        "s2=s3.isdigit(); print(\"s3.isdigit() \", s2)  # returns True if every character in the string is a digit\n",
        "s4='   '\n",
        "s2=s4.isspace(); print(\"s4.isdigit() \", s2) # returns True if every character in the string is a whitespace"
      ],
      "execution_count": null,
      "outputs": [
        {
          "output_type": "stream",
          "text": [
            "s1.startswith('Hello')  True\n",
            "s1.startswith('He')  True\n",
            "s1.endswith('World')  True\n",
            "s1.endswith('ld')  True\n",
            "s3.isdigit()  True\n",
            "s4.isdigit()  True\n"
          ],
          "name": "stdout"
        }
      ]
    },
    {
      "cell_type": "code",
      "metadata": {
        "id": "WNFy5iikM-Qj",
        "colab_type": "code",
        "colab": {},
        "outputId": "48da7ade-98a8-4792-ea2e-c97bb345c5d9"
      },
      "source": [
        "s = \"Hello World\"\n",
        "\n",
        "# length of string\n",
        "print(\" length of string \")\n",
        "print(len(s)) \n",
        "\n",
        "# returns index of first occurrence of substring if found and -1 otherwise\n",
        "print(\" s.find('World') \")\n",
        "print(s.find('World')) \n",
        "\n",
        "# -1 means substring not found\n",
        "print(\" s.find('Python') \")\n",
        "print(s.find('Python'))\n",
        "\n",
        "# returns index of first occurrence of substring if found and -1 otherwise\n",
        "print(\" s.find('l') \")\n",
        "print(s.find('l')) \n",
        "\n",
        "#returns index of first occurrence of substring between specified indices if found and -1 otherwise\n",
        "print(\" s.find('l', 6,len(s1)) \")\n",
        "print(s1.find('l', 6,len(s1))) \n",
        "\n",
        "\n",
        "# number of occurrences of substring between [start, end] indices\n",
        "print(\" s1.count('l') \")\n",
        "print( s1.count('l') ) \n",
        "\n",
        "print(\" s1.count('l', 6,len(s1)) \")\n",
        "print( s1.count('l', 6,len(s1)) ) "
      ],
      "execution_count": null,
      "outputs": [
        {
          "output_type": "stream",
          "text": [
            " length of string \n",
            "11\n",
            " s.find('World') \n",
            "6\n",
            " s.find('Python') \n",
            "-1\n",
            " s.find('l') \n",
            "2\n",
            " s.find('l', 6,len(s1)) \n",
            "9\n",
            " s1.count('l') \n",
            "3\n",
            " s1.count('l', 6,len(s1)) \n",
            "1\n"
          ],
          "name": "stdout"
        }
      ]
    },
    {
      "cell_type": "code",
      "metadata": {
        "id": "ihmbOoZfM-Ql",
        "colab_type": "code",
        "colab": {},
        "outputId": "aef94282-36b2-447e-88f9-0809ec0c7c26"
      },
      "source": [
        "# Join strings in a list, no numeral allowed in list \n",
        "list_of_words = ['Hello','World','Again']\n",
        "string_of_words=' '.join(list_of_words) \n",
        "print(list_of_words ,type(list_of_words),' -> ', string_of_words,type(string_of_words))\n",
        "#Split a string into a list where each word is a list item\n",
        "split_string = string_of_words.split(' ')\n",
        "print(string_of_words ,type(string_of_words),' -> ', split_string,type(split_string))\n",
        "s2 = 'a, an, the'\n",
        "s3=s2.split(',') # returns ['a',' an',' the']\n",
        "print(s2 ,type(s2),' -> ', s3,type(s3))"
      ],
      "execution_count": null,
      "outputs": [
        {
          "output_type": "stream",
          "text": [
            "['Hello', 'World', 'Again'] <class 'list'>  ->  Hello World Again <class 'str'>\n",
            "Hello World Again <class 'str'>  ->  ['Hello', 'World', 'Again'] <class 'list'>\n",
            "a, an, the <class 'str'>  ->  ['a', ' an', ' the'] <class 'list'>\n"
          ],
          "name": "stdout"
        }
      ]
    },
    {
      "cell_type": "markdown",
      "metadata": {
        "id": "mSgES7klM-Qo",
        "colab_type": "text"
      },
      "source": [
        "## String Operators"
      ]
    },
    {
      "cell_type": "code",
      "metadata": {
        "scrolled": false,
        "id": "vxVdoUzbM-Qp",
        "colab_type": "code",
        "colab": {},
        "outputId": "4bae1fe2-16c9-40b3-eac4-681e82850ed3"
      },
      "source": [
        "a=\"Hello\"\n",
        "b=\"World\"\n",
        "print(a+b) # Concatenation,'HelloWorld'\n",
        "print(a*2) # Repetition, returns 'HelloHello'\n",
        "# Membership Operators\n",
        "print('H' in a)\n",
        "print('H' in b)\n",
        "print('W' not in a)"
      ],
      "execution_count": null,
      "outputs": [
        {
          "output_type": "stream",
          "text": [
            "HelloWorld\n",
            "HelloHello\n",
            "True\n",
            "False\n",
            "True\n"
          ],
          "name": "stdout"
        }
      ]
    },
    {
      "cell_type": "markdown",
      "metadata": {
        "id": "YvF0XMJ1M-Qr",
        "colab_type": "text"
      },
      "source": [
        "## String Formating"
      ]
    },
    {
      "cell_type": "code",
      "metadata": {
        "id": "1CSpG33tM-Qs",
        "colab_type": "code",
        "colab": {},
        "outputId": "d9b8a33a-7547-4891-e4b7-af2f539c1141"
      },
      "source": [
        "# Escape Characters\n",
        "print('Example of escape character:\\\\')\n",
        "print(\"This is \\\"Python\\\" Lab\") # \\' is treated as single quote, \\\" as double quote\n",
        "print('Example of escape character \\\\t, Tab')\n",
        "print(\"Hello\\tPython\")\n",
        "print('Example of escape character \\\\r, Carriage Return')\n",
        "print(\"Hello World\\rAgain\")\n",
        "print('Example of escape character \\\\n, New Line')\n",
        "print(\"Hello\\nPython\")\n",
        "\n",
        "# Raw String: Suppresses actual meaning of Escape characters\n",
        "print('Example of Raw String')\n",
        "print(r\"Hello\\nWorld\") #Raw String\n",
        "s1='C:\\new_folder'\n",
        "print(s1)\n",
        "s2=r'C:\\new_folder'\n",
        "print(s2)"
      ],
      "execution_count": null,
      "outputs": [
        {
          "output_type": "stream",
          "text": [
            "Example of escape character:\\\n",
            "This is \"Python\" Lab\n",
            "Example of escape character \\t, Tab\n",
            "Hello\tPython\n",
            "Example of escape character \\r, Carriage Return\n",
            "Hello World\rAgain\n",
            "Example of escape character \\n, New Line\n",
            "Hello\n",
            "Python\n",
            "Example of Raw String\n",
            "Hello\\nWorld\n",
            "C:\n",
            "ew_folder\n",
            "C:\\new_folder\n"
          ],
          "name": "stdout"
        }
      ]
    },
    {
      "cell_type": "code",
      "metadata": {
        "id": "TOWOYE1UM-Qu",
        "colab_type": "code",
        "colab": {},
        "outputId": "6c32d847-8b17-4170-b1fd-447325d4a2a9"
      },
      "source": [
        "# Multiline String\n",
        "s7 = r\"\"\"this is a long string that is made up of\n",
        "several lines and non-printable characters such as\n",
        "TAB ( \\t ) and they will show up that way when displayed.\n",
        "NEWLINEs within the string, whether explicitly given like\n",
        "this \\n , or just a NEWLINE within\n",
        "the variable assignment will also show up.\n",
        "\"\"\"\n",
        "print(s7)"
      ],
      "execution_count": null,
      "outputs": [
        {
          "output_type": "stream",
          "text": [
            "this is a long string that is made up of\n",
            "several lines and non-printable characters such as\n",
            "TAB ( \\t ) and they will show up that way when displayed.\n",
            "NEWLINEs within the string, whether explicitly given like\n",
            "this \\n , or just a NEWLINE within\n",
            "the variable assignment will also show up.\n",
            "\n"
          ],
          "name": "stdout"
        }
      ]
    },
    {
      "cell_type": "code",
      "metadata": {
        "id": "eTtW_wG6M-Qx",
        "colab_type": "code",
        "colab": {},
        "outputId": "258986a0-fbb8-4f1a-d334-d277f6ca1e7e"
      },
      "source": [
        "s1 = 'raining %s and %s' % ('cats','dogs') ; print(s1)\n",
        "s1 = 'raining {} and {}'.format('cats','dogs'); print(s1) \n",
        "s1 = 'raining {1} and {0}'.format('cats','dogs'); print(s1)  # indexed arguments\n",
        "s1 = 'raining {arg1} and {arg2}'.format(arg1='cats',arg2='dogs'); print(s1)  # named arguments\n",
        "s1 = 'pi is {:.2f}'.format(3.14159); print(s1)  # returns 'pi is 3.14'\n",
        "s1 = \"value1 = %.2f, value2 = %d\" %(3.1415, 1.5) ; print(s1) \n",
        "arg1='cats'; arg2='dogs';\n",
        "s1= f'raining {arg1} and {arg2}'; print(s1) # f strings"
      ],
      "execution_count": null,
      "outputs": [
        {
          "output_type": "stream",
          "text": [
            "raining cats and dogs\n",
            "raining cats and dogs\n",
            "raining dogs and cats\n",
            "raining cats and dogs\n",
            "pi is 3.14\n",
            "value1 = 3.14, value2 = 1\n",
            "raining cats and dogs\n"
          ],
          "name": "stdout"
        }
      ]
    }
  ]
}