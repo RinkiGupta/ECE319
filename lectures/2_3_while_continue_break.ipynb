{
  "nbformat": 4,
  "nbformat_minor": 0,
  "metadata": {
    "kernelspec": {
      "display_name": "Python 3",
      "language": "python",
      "name": "python3"
    },
    "language_info": {
      "codemirror_mode": {
        "name": "ipython",
        "version": 3
      },
      "file_extension": ".py",
      "mimetype": "text/x-python",
      "name": "python",
      "nbconvert_exporter": "python",
      "pygments_lexer": "ipython3",
      "version": "3.7.3"
    },
    "colab": {
      "name": "2_3_while_continue_break.ipynb",
      "provenance": [],
      "collapsed_sections": [],
      "include_colab_link": true
    }
  },
  "cells": [
    {
      "cell_type": "markdown",
      "metadata": {
        "id": "view-in-github",
        "colab_type": "text"
      },
      "source": [
        "<a href=\"https://colab.research.google.com/github/RinkiGupta/ECE319/blob/master/lectures/2_3_while_continue_break.ipynb\" target=\"_parent\"><img src=\"https://colab.research.google.com/assets/colab-badge.svg\" alt=\"Open In Colab\"/></a>"
      ]
    },
    {
      "cell_type": "markdown",
      "metadata": {
        "id": "PXU28t19_7-z",
        "colab_type": "text"
      },
      "source": [
        "# While loop and Control Statements"
      ]
    },
    {
      "cell_type": "markdown",
      "metadata": {
        "id": "JfIya90a_7-1",
        "colab_type": "text"
      },
      "source": [
        "## while loop\n",
        "Iterate indefinitely till a condition becomes false.\n",
        "\n",
        "**for** and **while** are **Pre-test loops**: A loop that tests before deciding whether to execute its body. \n"
      ]
    },
    {
      "cell_type": "code",
      "metadata": {
        "id": "AB4vSTGC_7-2",
        "colab_type": "code",
        "colab": {
          "base_uri": "https://localhost:8080/",
          "height": 145
        },
        "outputId": "d55909ec-67fd-482d-c3f4-945932ed7f81"
      },
      "source": [
        "count = 3 # number of invites to print\n",
        "while count>0:\n",
        "    user_in = input('Enter name of friend: ')\n",
        "    print('Hello ', user_in,'. Please join my party!')\n",
        "    count-=1\n",
        "print('Done!!')"
      ],
      "execution_count": 4,
      "outputs": [
        {
          "output_type": "stream",
          "text": [
            "Enter name of friend: Rose\n",
            "Hello  Rose . Please join my party!\n",
            "Enter name of friend: Sally\n",
            "Hello  Sally . Please join my party!\n",
            "Enter name of friend: Ben\n",
            "Hello  Ben . Please join my party!\n",
            "Done!!\n"
          ],
          "name": "stdout"
        }
      ]
    },
    {
      "cell_type": "code",
      "metadata": {
        "colab_type": "code",
        "id": "KKwCsYxZCMft",
        "colab": {
          "base_uri": "https://localhost:8080/",
          "height": 163
        },
        "outputId": "a11fa5f7-6d57-4355-ce81-f0c2cc641a71"
      },
      "source": [
        "# while-else\n",
        "count = 3 # number of invites to print\n",
        "while count>0:\n",
        "    user_in = input('Enter name of friend: ')\n",
        "    print('Hello ', user_in,'. Please join my party!')\n",
        "    count-=1\n",
        "else:\n",
        "    print('Count reached zero') #executed when while-condition becomes false\n",
        "print('Done!!')"
      ],
      "execution_count": 5,
      "outputs": [
        {
          "output_type": "stream",
          "text": [
            "Enter name of friend: Rose\n",
            "Hello  Rose . Please join my party!\n",
            "Enter name of friend: Sally\n",
            "Hello  Sally . Please join my party!\n",
            "Enter name of friend: Ben\n",
            "Hello  Ben . Please join my party!\n",
            "Count reached zero\n",
            "Done!!\n"
          ],
          "name": "stdout"
        }
      ]
    },
    {
      "cell_type": "code",
      "metadata": {
        "id": "84YCv5mz_7-9",
        "colab_type": "code",
        "colab": {
          "base_uri": "https://localhost:8080/",
          "height": 145
        },
        "outputId": "fa331842-acc1-42da-add1-1596fa19e4d7"
      },
      "source": [
        "# Give exit option: Method 1\n",
        "count = 3 # number of invites to print\n",
        "while count>0:\n",
        "    user_in = input('Enter name of friend or type exit to exit: ')\n",
        "    if user_in=='exit':\n",
        "      print('User exited')\n",
        "      count=0\n",
        "    else:\n",
        "      print('Hello ', user_in,'. Please join my party!')\n",
        "      count-=1\n",
        "print('Done!!')"
      ],
      "execution_count": 6,
      "outputs": [
        {
          "output_type": "stream",
          "text": [
            "Enter name of friend or type exit to exit: Rose\n",
            "Hello  Rose . Please join my party!\n",
            "Enter name of friend or type exit to exit: Sally\n",
            "Hello  Sally . Please join my party!\n",
            "Enter name of friend or type exit to exit: exit\n",
            "User exited\n",
            "Done!!\n"
          ],
          "name": "stdout"
        }
      ]
    },
    {
      "cell_type": "markdown",
      "metadata": {
        "id": "7EOfHSkmBadx",
        "colab_type": "text"
      },
      "source": [
        "## break\n",
        "\n",
        "The break statement terminates the loop containing it. \n",
        "\n",
        "Control of the program flows to the statement immediately after the body of the loop."
      ]
    },
    {
      "cell_type": "code",
      "metadata": {
        "id": "JG8f1GsA_7_E",
        "colab_type": "code",
        "colab": {
          "base_uri": "https://localhost:8080/",
          "height": 145
        },
        "outputId": "6054c306-58d2-435d-886b-f78fa4400387"
      },
      "source": [
        "# while with break\n",
        "# give exit option: Method 2\n",
        "count = 3 # maximum number of invites\n",
        "while count>0:\n",
        "    user_in = input('Enter name of friend or type exit to exit: ')\n",
        "    if user_in == 'exit':\n",
        "        print('User exited')\n",
        "        break # exit the while-loop\n",
        "    print('Hello ', user_in,'. Please join my party!')\n",
        "    count-=1\n",
        "print('Done!!')"
      ],
      "execution_count": 7,
      "outputs": [
        {
          "output_type": "stream",
          "text": [
            "Enter name of friend or type exit to exit: Rose\n",
            "Hello  Rose . Please join my party!\n",
            "Enter name of friend or type exit to exit: Sally\n",
            "Hello  Sally . Please join my party!\n",
            "Enter name of friend or type exit to exit: exit\n",
            "User exited\n",
            "Done!!\n"
          ],
          "name": "stdout"
        }
      ]
    },
    {
      "cell_type": "code",
      "metadata": {
        "id": "2jwGpDVE_7_H",
        "colab_type": "code",
        "colab": {
          "base_uri": "https://localhost:8080/",
          "height": 145
        },
        "outputId": "6cf2fbf2-56fc-4069-ce8b-d29eadf946fc"
      },
      "source": [
        "# while-else with break\n",
        "count = 3 # maximum number of invites\n",
        "while count>0:\n",
        "    user_in = input('Enter name of friend or type exit to exit: ')\n",
        "    if user_in == 'exit':\n",
        "        print('User exited')\n",
        "        break # exit the while-loop\n",
        "    print('Hello ', user_in,'. Please join my party!')\n",
        "    count-=1\n",
        "else:\n",
        "    print('Count reached zero') #executes when condition in front of while becomes false\n",
        "print('Done!!')"
      ],
      "execution_count": 17,
      "outputs": [
        {
          "output_type": "stream",
          "text": [
            "Enter name of friend or type exit to exit: Rose\n",
            "Hello  Rose . Please join my party!\n",
            "Enter name of friend or type exit to exit: Sally\n",
            "Hello  Sally . Please join my party!\n",
            "Enter name of friend or type exit to exit: exit\n",
            "User exited\n",
            "Done!!\n"
          ],
          "name": "stdout"
        }
      ]
    },
    {
      "cell_type": "markdown",
      "metadata": {
        "id": "jXIuCSkHEboR",
        "colab_type": "text"
      },
      "source": [
        "## continue\n",
        "\n",
        "The continue statement is used to skip the rest of the code inside a loop for the current iteration only. \n",
        "\n",
        "Loop does not terminate but continues on with the next iteration."
      ]
    },
    {
      "cell_type": "code",
      "metadata": {
        "id": "r_mRkbRQ_7_K",
        "colab_type": "code",
        "colab": {
          "base_uri": "https://localhost:8080/",
          "height": 235
        },
        "outputId": "48c45120-6344-4f12-c7b4-ea9c990d3e08"
      },
      "source": [
        "# while-else with continue\n",
        "count = 3 # maximum number of invites\n",
        "while count>0:\n",
        "    user_in = input('Enter name of friend : ')\n",
        "    if user_in[0] == 'A':\n",
        "        continue # skip reamining loop in the current iteration only\n",
        "    print('Hello ', user_in,'. Please join my party!')\n",
        "    count-=1\n",
        "    print('count=',count)\n",
        "else:\n",
        "    print('Count reached zero') #executes when condition in front of while becomes false\n",
        "print('Done!!')"
      ],
      "execution_count": 9,
      "outputs": [
        {
          "output_type": "stream",
          "text": [
            "Enter name of friend : Rose\n",
            "Hello  Rose . Please join my party!\n",
            "count= 2\n",
            "Enter name of friend : Alan\n",
            "Enter name of friend : Ben\n",
            "Hello  Ben . Please join my party!\n",
            "count= 1\n",
            "Enter name of friend : Sally\n",
            "Hello  Sally . Please join my party!\n",
            "count= 0\n",
            "Count reached zero\n",
            "Done!!\n"
          ],
          "name": "stdout"
        }
      ]
    },
    {
      "cell_type": "code",
      "metadata": {
        "id": "6dQHu1Y1_7_M",
        "colab_type": "code",
        "colab": {
          "base_uri": "https://localhost:8080/",
          "height": 217
        },
        "outputId": "deb5978f-4a7b-430b-ad2e-674740e237ca"
      },
      "source": [
        "# while-else with pass\n",
        "count = 3 # maximum number of invites\n",
        "while count>0:\n",
        "    user_in = input('Enter name of friend : ')\n",
        "    if user_in[0] == 'A':\n",
        "        pass # do nothing\n",
        "    print('Hello ', user_in,'. Please join my party!')\n",
        "    count-=1\n",
        "    print('count=',count)\n",
        "else:\n",
        "    print('Count reached zero') #executes when condition in front of while becomes false\n",
        "print('Done!!')"
      ],
      "execution_count": 10,
      "outputs": [
        {
          "output_type": "stream",
          "text": [
            "Enter name of friend : Rose\n",
            "Hello  Rose . Please join my party!\n",
            "count= 2\n",
            "Enter name of friend : Ben\n",
            "Hello  Ben . Please join my party!\n",
            "count= 1\n",
            "Enter name of friend : Sally\n",
            "Hello  Sally . Please join my party!\n",
            "count= 0\n",
            "Count reached zero\n",
            "Done!!\n"
          ],
          "name": "stdout"
        }
      ]
    },
    {
      "cell_type": "markdown",
      "metadata": {
        "id": "QgNF20Q7FBf3",
        "colab_type": "text"
      },
      "source": [
        "# for-else with break"
      ]
    },
    {
      "cell_type": "code",
      "metadata": {
        "id": "QKISuQwu_7_P",
        "colab_type": "code",
        "colab": {
          "base_uri": "https://localhost:8080/",
          "height": 90
        },
        "outputId": "b5437c88-7a11-4231-c2fa-58349459ab33"
      },
      "source": [
        "# for/else with break\n",
        "s1 = 'Python'\n",
        "for ele in s1:\n",
        "    if ele=='t':\n",
        "        print('Break Executed...')\n",
        "        break # exit for-loop\n",
        "    print(ele)\n",
        "else:   # when for loop exists without encountering break \n",
        "    print('Reached else of for-else')\n",
        "print('Done')"
      ],
      "execution_count": 16,
      "outputs": [
        {
          "output_type": "stream",
          "text": [
            "P\n",
            "y\n",
            "Break Executed...\n",
            "Done\n"
          ],
          "name": "stdout"
        }
      ]
    },
    {
      "cell_type": "code",
      "metadata": {
        "id": "CjbjEb-J_7_S",
        "colab_type": "code",
        "colab": {
          "base_uri": "https://localhost:8080/",
          "height": 163
        },
        "outputId": "d611e5ac-f608-4989-f25f-127678d0a2f9"
      },
      "source": [
        "# for/else with continue\n",
        "s1 = 'Python'\n",
        "for ele in s1:    \n",
        "    if ele=='o':\n",
        "        print('Continue Executed...')\n",
        "        continue # skip remaining loop for current iteration only\n",
        "    print(ele)\n",
        "else:   # when for loop exists without encountering break \n",
        "    print('Reached else of for-else')\n",
        "print('Done')"
      ],
      "execution_count": 14,
      "outputs": [
        {
          "output_type": "stream",
          "text": [
            "P\n",
            "y\n",
            "t\n",
            "h\n",
            "Continue Executed...\n",
            "n\n",
            "Reached else of for-else\n",
            "Done\n"
          ],
          "name": "stdout"
        }
      ]
    }
  ]
}