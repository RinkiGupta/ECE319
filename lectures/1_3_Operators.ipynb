{
  "nbformat": 4,
  "nbformat_minor": 0,
  "metadata": {
    "kernelspec": {
      "display_name": "Python 3",
      "language": "python",
      "name": "python3"
    },
    "language_info": {
      "codemirror_mode": {
        "name": "ipython",
        "version": 3
      },
      "file_extension": ".py",
      "mimetype": "text/x-python",
      "name": "python",
      "nbconvert_exporter": "python",
      "pygments_lexer": "ipython3",
      "version": "3.6.4"
    },
    "colab": {
      "name": "1_3_Operators.ipynb",
      "provenance": [],
      "collapsed_sections": [],
      "include_colab_link": true
    }
  },
  "cells": [
    {
      "cell_type": "markdown",
      "metadata": {
        "id": "view-in-github",
        "colab_type": "text"
      },
      "source": [
        "<a href=\"https://colab.research.google.com/github/RinkiGupta/ECE319/blob/master/lectures/1_3_Operators.ipynb\" target=\"_parent\"><img src=\"https://colab.research.google.com/assets/colab-badge.svg\" alt=\"Open In Colab\"/></a>"
      ]
    },
    {
      "cell_type": "markdown",
      "metadata": {
        "id": "HBkPx1X848aF",
        "colab_type": "text"
      },
      "source": [
        "# Operators\n",
        "\n",
        "Operators operate on operands (values) and return a result.\n"
      ]
    },
    {
      "cell_type": "markdown",
      "metadata": {
        "id": "x5dDaQOsVIZX",
        "colab_type": "text"
      },
      "source": [
        "##Arithmetic Operators\n",
        "For mathematical operations\n"
      ]
    },
    {
      "cell_type": "code",
      "metadata": {
        "id": "cScb8K0p_tt9",
        "colab_type": "code",
        "colab": {
          "base_uri": "https://localhost:8080/",
          "height": 87
        },
        "outputId": "7c3efcd2-d95c-4884-e59a-829d7bc6bdc9"
      },
      "source": [
        "var1,var2=10,20   \n",
        "# Addition\n",
        "print('var1+var2 = ',var1+var2) \n",
        "# Subtraction\n",
        "print('var1-var2 = ',var1-var2)\n",
        "# Multiplication\n",
        "print('var1*var2 = ',var1*var2)\n",
        "# Division\n",
        "print('var1/var2 = ',var1/var2)"
      ],
      "execution_count": null,
      "outputs": [
        {
          "output_type": "stream",
          "text": [
            "var1+var2 =  30\n",
            "var1-var2 =  -10\n",
            "var1*var2 =  200\n",
            "var1/var2 =  0.5\n"
          ],
          "name": "stdout"
        }
      ]
    },
    {
      "cell_type": "code",
      "metadata": {
        "id": "1YllwuLJP6Bl",
        "colab_type": "code",
        "colab": {
          "base_uri": "https://localhost:8080/",
          "height": 70
        },
        "outputId": "f35abd77-b90b-4f5e-dc2f-b8f97727ea38"
      },
      "source": [
        "print('Power or Exponential: 11**2 = ',11**2)\n",
        "print('Quotient or Floor Division: 11//2 = ',11//2)\n",
        "print('Remainder or Modulus: 11%2 = ',11%2)"
      ],
      "execution_count": null,
      "outputs": [
        {
          "output_type": "stream",
          "text": [
            "Power or Exponential: 11**2 =  121\n",
            "Quotient or Floor Division: 11//2 =  5\n",
            "Remainder or Modulus: 11%2 =  1\n"
          ],
          "name": "stdout"
        }
      ]
    },
    {
      "cell_type": "code",
      "metadata": {
        "id": "LKdGzxr838a5",
        "colab_type": "code",
        "colab": {
          "base_uri": "https://localhost:8080/",
          "height": 70
        },
        "outputId": "4d8f243f-f185-4e4e-8f04-605f4454ba01"
      },
      "source": [
        "# Operator overload\n",
        "a='First'\n",
        "b='Second'\n",
        "print(a+b) # Concatenation\n",
        "print(a*3) # Repeat the string three times\n",
        "print(a*2+b)"
      ],
      "execution_count": null,
      "outputs": [
        {
          "output_type": "stream",
          "text": [
            "FirstSecond\n",
            "FirstFirstFirst\n",
            "FirstFirstSecond\n"
          ],
          "name": "stdout"
        }
      ]
    },
    {
      "cell_type": "markdown",
      "metadata": {
        "id": "TdrGL-Fjt_3N",
        "colab_type": "text"
      },
      "source": [
        "##Assignment Operators\n",
        "\n",
        "Perform an Arithmetic operation and assign the result to the variable on left\n",
        "\n",
        "**a+=b** is equivalent to **a=a+b**"
      ]
    },
    {
      "cell_type": "code",
      "metadata": {
        "id": "Hf1p3sjFuVv_",
        "colab_type": "code",
        "colab": {
          "base_uri": "https://localhost:8080/",
          "height": 158
        },
        "outputId": "e73889ff-7436-4e2b-ca10-bd14671cf377"
      },
      "source": [
        "var = 11;   print('var ',var)\n",
        "var+=2;     print('var+=2 ',var)  # Add and Assign\n",
        "var-=1;     print('var-=1 ',var) # Subtract and Assign\n",
        "var*=2;     print('var*=2 ',var) # Multiply and Assign\n",
        "var/=2;     print('var/=2 ',var) # Divide and Assign\n",
        "var**=2;     print('var**=2 ',var) # Exponential and Assign\n",
        "var//=10;     print('var//=10 ',var) # Floor divide and Assign\n",
        "var%=6;     print('var%=6 ',var) # Modulus and Assign"
      ],
      "execution_count": null,
      "outputs": [
        {
          "output_type": "stream",
          "text": [
            "var  11\n",
            "var+=2  13\n",
            "var-=1  12\n",
            "var*=2  24\n",
            "var/=2  12.0\n",
            "var**=2  144.0\n",
            "var//=10  14.0\n",
            "var%=6  2.0\n"
          ],
          "name": "stdout"
        }
      ]
    },
    {
      "cell_type": "markdown",
      "metadata": {
        "id": "EI1yQBJyPy4m",
        "colab_type": "text"
      },
      "source": [
        "##Relational Operators\n",
        "For doing comparison\\\n",
        "Output is a Boolean"
      ]
    },
    {
      "cell_type": "code",
      "metadata": {
        "id": "PFMeXzcrP1eP",
        "colab_type": "code",
        "colab": {
          "base_uri": "https://localhost:8080/",
          "height": 122
        },
        "outputId": "148fb204-c022-4117-9646-7809d605f2c7"
      },
      "source": [
        "print('10>20? ',10>20)  # Is 10 Greater than 20?\n",
        "print('10<20? ',10<20)  # Less than\n",
        "print('10>=20? ',10>=20)  # Greater than or equal to\n",
        "print('10<=20? ',10<=20)  # Less than or equal to\n",
        "print('10==20? ',10==20)  # Is 10 equal to 20?\n",
        "print('10!=20? ',10!=20)  # not equal to"
      ],
      "execution_count": null,
      "outputs": [
        {
          "output_type": "stream",
          "text": [
            "10>20?  False\n",
            "10<20?  True\n",
            "10>=20?  False\n",
            "10<=20?  True\n",
            "10==20?  False\n",
            "10!=20?  True\n"
          ],
          "name": "stdout"
        }
      ]
    },
    {
      "cell_type": "markdown",
      "metadata": {
        "id": "hGmZyJKNRIA1",
        "colab_type": "text"
      },
      "source": [
        "##Logical Operators\n",
        "\n",
        "Combining two Booleans"
      ]
    },
    {
      "cell_type": "code",
      "metadata": {
        "id": "xWrqHDOnRHHv",
        "colab_type": "code",
        "colab": {
          "base_uri": "https://localhost:8080/",
          "height": 70
        },
        "outputId": "6559638e-21a6-42bd-e1a0-8f4519dc9e9f"
      },
      "source": [
        "var1=True; var2=False;\n",
        "# and returns True when both values are True\n",
        "print('var1 and var2 = ', var1 and var2) \n",
        "# or returns True if either one of the values is True\n",
        "print('var1 or var2 = ', var1 or var2) \n",
        "# not returns negation of the values\n",
        "print('not var1 = ',not var1) "
      ],
      "execution_count": null,
      "outputs": [
        {
          "output_type": "stream",
          "text": [
            "var1 and var2 =  False\n",
            "var1 or var2 =  True\n",
            "not var1 =  False\n"
          ],
          "name": "stdout"
        }
      ]
    },
    {
      "cell_type": "code",
      "metadata": {
        "id": "pbxoo8GWRYyA",
        "colab_type": "code",
        "colab": {
          "base_uri": "https://localhost:8080/",
          "height": 70
        },
        "outputId": "8485f51a-4b8f-430f-c874-e12f91c7dd98"
      },
      "source": [
        "# Used for combining conditions\n",
        "print((5 > 3) and (6 > 3))\n",
        "print((5 > 3) or (5 < 3))\n",
        "print(not(5 > 3))"
      ],
      "execution_count": null,
      "outputs": [
        {
          "output_type": "stream",
          "text": [
            "True\n",
            "True\n",
            "False\n"
          ],
          "name": "stdout"
        }
      ]
    },
    {
      "cell_type": "markdown",
      "metadata": {
        "id": "NVUZKyFIR0m4",
        "colab_type": "text"
      },
      "source": [
        "##Membership Operators\n",
        "\n",
        "**in** checks whether a value is in another\n",
        "**not in** checks whether a value is not in another"
      ]
    },
    {
      "cell_type": "code",
      "metadata": {
        "id": "nSrVVhCnUlGl",
        "colab_type": "code",
        "colab": {
          "base_uri": "https://localhost:8080/",
          "height": 52
        },
        "outputId": "2e361d9a-325e-44e8-f292-60fb70f9cd2a"
      },
      "source": [
        "a=\"Hello\"\n",
        "print('H' in a)\n",
        "print('h' not in a)"
      ],
      "execution_count": null,
      "outputs": [
        {
          "output_type": "stream",
          "text": [
            "True\n",
            "True\n"
          ],
          "name": "stdout"
        }
      ]
    },
    {
      "cell_type": "markdown",
      "metadata": {
        "id": "bn5sH0LIC6gA",
        "colab_type": "text"
      },
      "source": [
        "## Identity Operator\n",
        "**is** results in a True value if the variables on either side of the operator point to the same object"
      ]
    },
    {
      "cell_type": "code",
      "metadata": {
        "id": "xXiHWJLWDGsa",
        "colab_type": "code",
        "colab": {
          "base_uri": "https://localhost:8080/",
          "height": 87
        },
        "outputId": "03d9d681-d4f6-44a1-e201-a283e53abe03"
      },
      "source": [
        "a=[1,2,3];    b=[1,2,3]\n",
        "print('id(a)',id(a), ', id(b)',id(b)) #id( ) returns the object's memory address\n",
        "print('a is b? ',a is b)\n",
        "c=a\n",
        "print('id(a)',id(a), ', id(c)',id(c))\n",
        "print('a is c?',a is c)"
      ],
      "execution_count": null,
      "outputs": [
        {
          "output_type": "stream",
          "text": [
            "id(a) 139621471459272 , id(b) 139621462261064\n",
            "a is b?  False\n",
            "id(a) 139621471459272 , id(c) 139621471459272\n",
            "a is c? True\n"
          ],
          "name": "stdout"
        }
      ]
    },
    {
      "cell_type": "markdown",
      "metadata": {
        "id": "1pe_8q-048aN",
        "colab_type": "text"
      },
      "source": [
        "## Bitwise Operators\n",
        "\n",
        "Number is considered as a string of bits, written in two's-complement binary form."
      ]
    },
    {
      "cell_type": "code",
      "metadata": {
        "id": "CkVgZu_l48aO",
        "colab_type": "code",
        "colab": {
          "base_uri": "https://localhost:8080/",
          "height": 122
        },
        "outputId": "a18de1c5-a9be-479f-9c49-673bf85ffb92"
      },
      "source": [
        "print('Binary representation of 2:',bin(2))\n",
        "print('Binary representation of 3:',bin(3))\n",
        "print('2 & 3 = ',2 & 3)  #Bitwise AND, 010 & 011 = 010\n",
        "print('2 | 3 = ',2 | 3)  #Bitwise OR, 010 | 011 = 011\n",
        "print('2 << 1 = ',2<<1)  #Bitwise-shift left by 1, 010 --> 100\n",
        "print('2 >> 1 = ',2>>1)  #Bitwise-shift right by 1, 010 --> 001"
      ],
      "execution_count": null,
      "outputs": [
        {
          "output_type": "stream",
          "text": [
            "Binary representation of 2: 0b10\n",
            "Binary representation of 3: 0b11\n",
            "2 & 3 =  2\n",
            "2 | 3 =  3\n",
            "2 << 1 =  4\n",
            "2 >> 1 =  1\n"
          ],
          "name": "stdout"
        }
      ]
    },
    {
      "cell_type": "code",
      "metadata": {
        "id": "KQCZD72T3U-j",
        "colab_type": "code",
        "colab": {
          "base_uri": "https://localhost:8080/",
          "height": 34
        },
        "outputId": "4f268cc7-8226-4408-9e6b-252fba4de069"
      },
      "source": [
        "# Even / odd\n",
        "num=13\n",
        "mod = num % 2\n",
        "print('Even?', not bool(mod))"
      ],
      "execution_count": null,
      "outputs": [
        {
          "output_type": "stream",
          "text": [
            "Even? False\n"
          ],
          "name": "stdout"
        }
      ]
    }
  ]
}