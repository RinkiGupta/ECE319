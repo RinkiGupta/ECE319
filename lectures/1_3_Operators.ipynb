{
  "nbformat": 4,
  "nbformat_minor": 0,
  "metadata": {
    "kernelspec": {
      "display_name": "Python 3",
      "language": "python",
      "name": "python3"
    },
    "language_info": {
      "codemirror_mode": {
        "name": "ipython",
        "version": 3
      },
      "file_extension": ".py",
      "mimetype": "text/x-python",
      "name": "python",
      "nbconvert_exporter": "python",
      "pygments_lexer": "ipython3",
      "version": "3.6.4"
    },
    "colab": {
      "name": "1_3_Operators.ipynb",
      "provenance": [],
      "collapsed_sections": [],
      "include_colab_link": true
    }
  },
  "cells": [
    {
      "cell_type": "markdown",
      "metadata": {
        "id": "view-in-github",
        "colab_type": "text"
      },
      "source": [
        "<a href=\"https://colab.research.google.com/github/RinkiGupta/ECE319/blob/master/lectures/1_3_Operators.ipynb\" target=\"_parent\"><img src=\"https://colab.research.google.com/assets/colab-badge.svg\" alt=\"Open In Colab\"/></a>"
      ]
    },
    {
      "cell_type": "markdown",
      "metadata": {
        "id": "HBkPx1X848aF",
        "colab_type": "text"
      },
      "source": [
        "# Operators\n",
        "\n",
        "Operators operate on operands (values) and return a result.\n"
      ]
    },
    {
      "cell_type": "markdown",
      "metadata": {
        "id": "x5dDaQOsVIZX",
        "colab_type": "text"
      },
      "source": [
        "##Arithmetic Operators\n",
        "For mathematical operations\n"
      ]
    },
    {
      "cell_type": "code",
      "metadata": {
        "id": "cScb8K0p_tt9",
        "colab_type": "code",
        "colab": {
          "base_uri": "https://localhost:8080/",
          "height": 35
        },
        "outputId": "e8d71b0c-97e0-478d-ea94-d995af9a51f3"
      },
      "source": [
        "var1,var2=10,20   \n",
        "print('var1+var2 = ',var1+var2) # Addition\n",
        "# Subtraction\n",
        "# Multiplication\n",
        "# Division"
      ],
      "execution_count": null,
      "outputs": [
        {
          "output_type": "stream",
          "text": [
            "var1+var2 =  30\n"
          ],
          "name": "stdout"
        }
      ]
    },
    {
      "cell_type": "code",
      "metadata": {
        "id": "1YllwuLJP6Bl",
        "colab_type": "code",
        "colab": {
          "base_uri": "https://localhost:8080/",
          "height": 70
        },
        "outputId": "bf5e376f-9b0c-45d7-c2f1-cc42f624efc1"
      },
      "source": [
        "print('Power or Exponential: 11**2 = ')\n",
        "print('Quotient or Floor Division: 11//2 = ')\n",
        "print('Remainder or Modulus: 11%2 = ')"
      ],
      "execution_count": null,
      "outputs": [
        {
          "output_type": "stream",
          "text": [
            "Power or Exponential: 11**2 = \n",
            "Quotient or Floor Division: 11//2 = \n",
            "Remainder or Modulus: 11%2 = \n"
          ],
          "name": "stdout"
        }
      ]
    },
    {
      "cell_type": "markdown",
      "metadata": {
        "id": "TdrGL-Fjt_3N",
        "colab_type": "text"
      },
      "source": [
        "##Assignment Operators\n",
        "\n",
        "Perform an Arithmetic operation and assign the result to the variable on left\n",
        "\n",
        "**a+=b** is equivalent to **a=a+b**"
      ]
    },
    {
      "cell_type": "code",
      "metadata": {
        "id": "Hf1p3sjFuVv_",
        "colab_type": "code",
        "colab": {
          "base_uri": "https://localhost:8080/",
          "height": 52
        },
        "outputId": "81d4d93e-39b1-4bd9-fd44-9f7c6f2c8484"
      },
      "source": [
        "var = 11;   print('var ',var)\n",
        "var+=2;     print('var+=2 ',var)  # Add and Assign\n",
        "# Subtract and Assign\n",
        "# Multiply and Assign\n",
        "# Divide and Assign\n",
        "# Exponential and Assign\n",
        "# Floor divide and Assign\n",
        "# Modulus and Assign"
      ],
      "execution_count": null,
      "outputs": [
        {
          "output_type": "stream",
          "text": [
            "var  11\n",
            "var+=2  13\n"
          ],
          "name": "stdout"
        }
      ]
    },
    {
      "cell_type": "markdown",
      "metadata": {
        "id": "EI1yQBJyPy4m",
        "colab_type": "text"
      },
      "source": [
        "##Relational Operators\n",
        "For doing comparison\\\n",
        "Output is a Boolean"
      ]
    },
    {
      "cell_type": "code",
      "metadata": {
        "id": "PFMeXzcrP1eP",
        "colab_type": "code",
        "colab": {
          "base_uri": "https://localhost:8080/",
          "height": 35
        },
        "outputId": "12175182-c25d-47cc-ead4-36179e5bbfc2"
      },
      "source": [
        "print('10>20? ',10>20)  # Is 10 Greater than 20?\n",
        "# Less than\n",
        "# Greater than or equal to\n",
        "# Less than or equal to\n",
        "# Is 10 equal to 20?\n",
        "# not equal to"
      ],
      "execution_count": null,
      "outputs": [
        {
          "output_type": "stream",
          "text": [
            "10>20?  False\n"
          ],
          "name": "stdout"
        }
      ]
    },
    {
      "cell_type": "markdown",
      "metadata": {
        "id": "hGmZyJKNRIA1",
        "colab_type": "text"
      },
      "source": [
        "##Logical Operators\n",
        "\n",
        "Combining two Booleans"
      ]
    },
    {
      "cell_type": "code",
      "metadata": {
        "id": "xWrqHDOnRHHv",
        "colab_type": "code",
        "colab": {
          "base_uri": "https://localhost:8080/",
          "height": 35
        },
        "outputId": "490eafd7-9e50-4cef-c795-51c875a7b050"
      },
      "source": [
        "var1=True; var2=False\n",
        "# and returns True when both values are True\n",
        "print('var1 and var2 = ', var1 and var2) \n",
        "# or returns True if either one of the values is True\n",
        "\n",
        "# not returns negation of the values\n"
      ],
      "execution_count": null,
      "outputs": [
        {
          "output_type": "stream",
          "text": [
            "var1 and var2 =  False\n"
          ],
          "name": "stdout"
        }
      ]
    },
    {
      "cell_type": "code",
      "metadata": {
        "id": "pbxoo8GWRYyA",
        "colab_type": "code",
        "colab": {
          "base_uri": "https://localhost:8080/",
          "height": 35
        },
        "outputId": "3baad9ad-3db0-4bf8-a466-07c079b696af"
      },
      "source": [
        "# Used for combining conditions\n",
        "print((5 > 3) and (6 > 3))"
      ],
      "execution_count": null,
      "outputs": [
        {
          "output_type": "stream",
          "text": [
            "True\n"
          ],
          "name": "stdout"
        }
      ]
    },
    {
      "cell_type": "markdown",
      "metadata": {
        "id": "NVUZKyFIR0m4",
        "colab_type": "text"
      },
      "source": [
        "##Membership Operators\n",
        "\n",
        "**in** checks whether a value is in another\n",
        "**not in** checks whether a value is not in another"
      ]
    },
    {
      "cell_type": "code",
      "metadata": {
        "id": "nSrVVhCnUlGl",
        "colab_type": "code",
        "colab": {}
      },
      "source": [
        "a=\"Hello\"\n"
      ],
      "execution_count": null,
      "outputs": []
    },
    {
      "cell_type": "markdown",
      "metadata": {
        "id": "bn5sH0LIC6gA",
        "colab_type": "text"
      },
      "source": [
        "## Identity Operator\n",
        "**is** results in a True value if the variables on either side of the operator point to the same object"
      ]
    },
    {
      "cell_type": "code",
      "metadata": {
        "id": "xXiHWJLWDGsa",
        "colab_type": "code",
        "colab": {
          "base_uri": "https://localhost:8080/",
          "height": 88
        },
        "outputId": "62aa25ae-4252-48cd-9084-42d11f0e0ce4"
      },
      "source": [
        "a=[1,2,3];    b=[1,2,3]\n",
        "print('id(a)',id(a), ', id(b)',id(b)) #id( ) returns the object's memory address\n",
        "print('a is b? ',a is b)\n",
        "c=a\n",
        "print('id(a)',id(a), ', id(c)',id(c))\n",
        "print('a is c?',a is c)"
      ],
      "execution_count": null,
      "outputs": [
        {
          "output_type": "stream",
          "text": [
            "id(a) 139790120058120 , id(b) 139790120058248\n",
            "a is b?  False\n",
            "id(a) 139790120058120 , id(c) 139790120058120\n",
            "a is c? True\n"
          ],
          "name": "stdout"
        }
      ]
    },
    {
      "cell_type": "markdown",
      "metadata": {
        "id": "1pe_8q-048aN",
        "colab_type": "text"
      },
      "source": [
        "## Bitwise Operators\n",
        "\n",
        "Number is considered as a string of bits, written in two's-complement binary form."
      ]
    },
    {
      "cell_type": "code",
      "metadata": {
        "id": "CkVgZu_l48aO",
        "colab_type": "code",
        "colab": {
          "base_uri": "https://localhost:8080/",
          "height": 124
        },
        "outputId": "c9b1dcc5-2257-4fca-ab59-a4d5c1aa0a30"
      },
      "source": [
        "print('Binary representation of 2:',bin(2))\n",
        "print('Binary representation of 3:',bin(3))\n",
        "print('2 & 3 = ',2 & 3)  #Bitwise AND, 010 & 011 = 010\n",
        "print('2 | 3 = ',2 | 3)  #Bitwise OR, 010 | 011 = 011\n",
        "print('2 << 1 = ',2<<1)  #Bitwise-shift left by 1, 010 --> 100\n",
        "print('2 >> 1 = ',2>>1)  #Bitwise-shift right by 1, 010 --> 001"
      ],
      "execution_count": null,
      "outputs": [
        {
          "output_type": "stream",
          "text": [
            "Binary representation of 2: 0b10\n",
            "Binary representation of 3: 0b11\n",
            "2 & 3 =  2\n",
            "2 | 3 =  3\n",
            "2 << 1 =  4\n",
            "2 >> 1 =  1\n"
          ],
          "name": "stdout"
        }
      ]
    }
  ]
}