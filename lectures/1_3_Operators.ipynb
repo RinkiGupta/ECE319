{
  "nbformat": 4,
  "nbformat_minor": 0,
  "metadata": {
    "kernelspec": {
      "display_name": "Python 3",
      "language": "python",
      "name": "python3"
    },
    "language_info": {
      "codemirror_mode": {
        "name": "ipython",
        "version": 3
      },
      "file_extension": ".py",
      "mimetype": "text/x-python",
      "name": "python",
      "nbconvert_exporter": "python",
      "pygments_lexer": "ipython3",
      "version": "3.6.4"
    },
    "colab": {
      "name": "1_3_Operators.ipynb",
      "provenance": [],
      "collapsed_sections": [],
      "include_colab_link": true
    }
  },
  "cells": [
    {
      "cell_type": "markdown",
      "metadata": {
        "id": "view-in-github",
        "colab_type": "text"
      },
      "source": [
        "<a href=\"https://colab.research.google.com/github/RinkiGupta/ECE319/blob/master/lectures/1_3_Operators.ipynb\" target=\"_parent\"><img src=\"https://colab.research.google.com/assets/colab-badge.svg\" alt=\"Open In Colab\"/></a>"
      ]
    },
    {
      "cell_type": "markdown",
      "metadata": {
        "id": "HBkPx1X848aF"
      },
      "source": [
        "# Operators\n",
        "* Operators operate on operands (values) and return a result.\n",
        "* Types of Operators in Python:\n",
        "\n",
        "<center>\n",
        "<img src='https://github.com/RinkiGupta/ECE319/blob/master/res/m1_pic6_operators.png?raw=true'>\n",
        "</center>\n",
        "\n"
      ]
    },
    {
      "cell_type": "markdown",
      "metadata": {
        "id": "x5dDaQOsVIZX"
      },
      "source": [
        "##Arithmetic Operators\n",
        "For mathematical operations\n"
      ]
    },
    {
      "cell_type": "code",
      "metadata": {
        "id": "cScb8K0p_tt9"
      },
      "source": [
        "var1,var2=10,20   \n",
        "# Addition\n",
        "print('var1+var2 = ',var1+var2) \n",
        "# Subtraction\n",
        "print('var1-var2 = ',var1-var2)\n",
        "# Multiplication\n",
        "print('var1*var2 = ',var1*var2)\n",
        "# Division\n",
        "print('var1/var2 = ',var2/var1)"
      ],
      "execution_count": null,
      "outputs": []
    },
    {
      "cell_type": "code",
      "metadata": {
        "id": "1YllwuLJP6Bl"
      },
      "source": [
        "print('Power or Exponential: 11**2 = ',11**2)\n",
        "print('Quotient or Floor Division: 11//2 = ',11//2)\n",
        "print('Remainder or Modulus: 11%2 = ',11%2)"
      ],
      "execution_count": null,
      "outputs": []
    },
    {
      "cell_type": "code",
      "metadata": {
        "id": "LKdGzxr838a5"
      },
      "source": [
        "# Operator overload\n",
        "a='First'\n",
        "b='Second'\n",
        "print(a+b) # Concatenation\n",
        "print(a*3) # Repeat the string three times"
      ],
      "execution_count": null,
      "outputs": []
    },
    {
      "cell_type": "code",
      "metadata": {
        "id": "CXQK4eyfZFFR"
      },
      "source": [
        "# DIY: Guess the output\n",
        "print(a*2+b)"
      ],
      "execution_count": null,
      "outputs": []
    },
    {
      "cell_type": "markdown",
      "metadata": {
        "id": "TdrGL-Fjt_3N"
      },
      "source": [
        "##Assignment Operators\n",
        "\n",
        "Perform an Arithmetic operation and assign the result to the variable on left\n",
        "\n",
        "**a+=b** is equivalent to **a=a+b**"
      ]
    },
    {
      "cell_type": "code",
      "metadata": {
        "id": "Hf1p3sjFuVv_"
      },
      "source": [
        "var = 11;   print('var ',var)\n",
        "var+=2;     print('var+=2 ',var)  # Add and Assign\n",
        "var-=1;     print('var-=1 ',var) # Subtract and Assign\n",
        "var*=2;     print('var*=2 ',var) # Multiply and Assign\n",
        "var/=2;     print('var/=2 ',var) # Divide and Assign\n",
        "var**=2;     print('var**=2 ',var) # Exponential and Assign\n",
        "var//=10;     print('var//=10 ',var) # Floor divide and Assign\n",
        "var%=6;     print('var%=6 ',var) # Modulus and Assign"
      ],
      "execution_count": null,
      "outputs": []
    },
    {
      "cell_type": "markdown",
      "metadata": {
        "id": "EI1yQBJyPy4m"
      },
      "source": [
        "##Relational Operators\n",
        "For doing comparison\\\n",
        "Output is a Boolean"
      ]
    },
    {
      "cell_type": "code",
      "metadata": {
        "id": "PFMeXzcrP1eP"
      },
      "source": [
        "print('10>20? ',10>20)  # Is 10 Greater than 20?\n",
        "print('10<20? ',10<20)  # Less than\n",
        "print('10>=20? ',10>=20)  # Greater than or equal to\n",
        "print('10<=20? ',10<=20)  # Less than or equal to\n",
        "print('10==20? ',10==20)  # Is 10 equal to 20?\n",
        "print('10!=20? ',10!=20)  # not equal to"
      ],
      "execution_count": null,
      "outputs": []
    },
    {
      "cell_type": "markdown",
      "metadata": {
        "id": "hGmZyJKNRIA1"
      },
      "source": [
        "##Logical Operators\n",
        "\n",
        "Combining two Booleans"
      ]
    },
    {
      "cell_type": "code",
      "metadata": {
        "id": "xWrqHDOnRHHv"
      },
      "source": [
        "var1=True; var2=False;\n",
        "# and returns True when both values are True\n",
        "print('var1 and var2 = ', var1 and var2) \n",
        "# or returns True if either one of the values is True\n",
        "print('var1 or var2 = ', var1 or var2) \n",
        "# not returns negation of the values\n",
        "print('not var1 = ',not var1) "
      ],
      "execution_count": null,
      "outputs": []
    },
    {
      "cell_type": "code",
      "metadata": {
        "id": "pbxoo8GWRYyA"
      },
      "source": [
        "# Used for combining conditions\n",
        "print((5 > 3) and (6 > 3))\n",
        "print((5 > 3) or (5 < 3))\n",
        "print(not (5 > 3))"
      ],
      "execution_count": null,
      "outputs": []
    },
    {
      "cell_type": "markdown",
      "metadata": {
        "id": "NVUZKyFIR0m4"
      },
      "source": [
        "##Membership Operators\n",
        "\n",
        "**in** checks whether a value is in another\n",
        "**not in** checks whether a value is not in another"
      ]
    },
    {
      "cell_type": "code",
      "metadata": {
        "id": "nSrVVhCnUlGl"
      },
      "source": [
        "a=\"Hello\"\n",
        "print('H' in a)"
      ],
      "execution_count": null,
      "outputs": []
    },
    {
      "cell_type": "code",
      "metadata": {
        "id": "taVxrb1SZPCV"
      },
      "source": [
        "# DIY: Guess the output\n",
        "print('h' not in a)"
      ],
      "execution_count": null,
      "outputs": []
    },
    {
      "cell_type": "markdown",
      "metadata": {
        "id": "bn5sH0LIC6gA"
      },
      "source": [
        "## Identity Operator\n",
        "**is** results in a True value if the variables on either side of the operator point to the same object"
      ]
    },
    {
      "cell_type": "code",
      "metadata": {
        "id": "xXiHWJLWDGsa"
      },
      "source": [
        "a=[1,2,3];    b=[1,2,3]\n",
        "print('id(a)',id(a), ', id(b)',id(b)) #id( ) returns the object's memory address\n",
        "print('a is b? ',a is b)\n",
        "c=a\n",
        "print('id(a)',id(a), ', id(c)',id(c))\n",
        "print('a is c?',a is c)"
      ],
      "execution_count": null,
      "outputs": []
    },
    {
      "cell_type": "markdown",
      "metadata": {
        "id": "1pe_8q-048aN"
      },
      "source": [
        "## Bitwise Operators\n",
        "\n",
        "Number is considered as a string of bits, written in two's-complement binary form."
      ]
    },
    {
      "cell_type": "code",
      "metadata": {
        "id": "CkVgZu_l48aO"
      },
      "source": [
        "print('Binary representation of 2:',bin(2))\n",
        "print('Binary representation of 3:',bin(3))\n",
        "print('2 & 3 = ',2 & 3)  #Bitwise AND, 010 & 011 = 010\n",
        "print('2 | 3 = ',2 | 3)  #Bitwise OR, 010 | 011 = 011\n",
        "print('2 << 1 = ',2<<1)  #Bitwise-shift left by 1, 010 --> 100\n",
        "print('2 >> 1 = ',2>>1)  #Bitwise-shift right by 1, 010 --> 001"
      ],
      "execution_count": null,
      "outputs": []
    },
    {
      "cell_type": "code",
      "metadata": {
        "id": "KQCZD72T3U-j"
      },
      "source": [
        "# How to determine if a number is Even / odd\n",
        "num=13\n",
        "print('Even?',num%2 == 0)\n",
        "print('Even?',not bool(num%2))"
      ],
      "execution_count": null,
      "outputs": []
    }
  ]
}