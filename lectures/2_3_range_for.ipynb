{
  "nbformat": 4,
  "nbformat_minor": 0,
  "metadata": {
    "kernelspec": {
      "display_name": "Python 3",
      "language": "python",
      "name": "python3"
    },
    "language_info": {
      "codemirror_mode": {
        "name": "ipython",
        "version": 3
      },
      "file_extension": ".py",
      "mimetype": "text/x-python",
      "name": "python",
      "nbconvert_exporter": "python",
      "pygments_lexer": "ipython3",
      "version": "3.7.3"
    },
    "colab": {
      "provenance": [],
      "include_colab_link": true
    }
  },
  "cells": [
    {
      "cell_type": "markdown",
      "metadata": {
        "id": "view-in-github",
        "colab_type": "text"
      },
      "source": [
        "<a href=\"https://colab.research.google.com/github/RinkiGupta/ECE319/blob/master/lectures/2_3_range_for.ipynb\" target=\"_parent\"><img src=\"https://colab.research.google.com/assets/colab-badge.svg\" alt=\"Open In Colab\"/></a>"
      ]
    },
    {
      "cell_type": "markdown",
      "source": [
        "## Python Indentation\n",
        "* Indentation refers to the spaces at the beginning of a code line.\n",
        "* In Python, indentation is used to indicate a block of code.\n",
        "\n",
        "\n",
        "<img src='https://github.com/RinkiGupta/ECE319/blob/master/res/m2_pic1_indentation.png?raw=true' width=70%>"
      ],
      "metadata": {
        "id": "yQJVzCRYIxHM"
      }
    },
    {
      "cell_type": "code",
      "source": [
        "var='Hello'\n",
        "print(var) # no Indentation"
      ],
      "metadata": {
        "id": "OW73e0WRIwb4"
      },
      "execution_count": null,
      "outputs": []
    },
    {
      "cell_type": "code",
      "source": [
        "var='Hello'\n",
        "  print(var) # unintended Indentation may create error"
      ],
      "metadata": {
        "id": "yjVqiiW7I0zc"
      },
      "execution_count": null,
      "outputs": []
    },
    {
      "cell_type": "markdown",
      "metadata": {
        "id": "zJbStcBaqzMS"
      },
      "source": [
        "# range()\n",
        "The range() function returns a sequence of numbers.\n",
        "\n",
        "<img src='https://github.com/RinkiGupta/ECE319/blob/master/res/m2_pic6_range.png?raw=true' width=70%>"
      ]
    },
    {
      "cell_type": "code",
      "metadata": {
        "id": "pzGqHYUNqzMT"
      },
      "source": [
        "print('list(range(5)) ', list(range(5)) ) # 0 to 4 in steps of 1\n",
        "print('list(range(2,5)) ', list(range(2,5)) ) # 2 to 4 in steps of 1\n",
        "print('list(range(1,5,2)) ', list(range(1,5,2)) ) # 1 to 3 in steps of 2"
      ],
      "execution_count": null,
      "outputs": []
    },
    {
      "cell_type": "code",
      "metadata": {
        "id": "A6jyef-tacbV"
      },
      "source": [
        "print(range(5))"
      ],
      "execution_count": null,
      "outputs": []
    },
    {
      "cell_type": "code",
      "metadata": {
        "id": "kAg0gAYPAXYX"
      },
      "source": [
        "# Guess the output\n",
        "print(list(range(5,1,-1)))"
      ],
      "execution_count": null,
      "outputs": []
    },
    {
      "cell_type": "code",
      "metadata": {
        "id": "KN4bhWB7Bc1i"
      },
      "source": [
        "# Guess the output\n",
        "print(list(range(1,5,0.5)))"
      ],
      "execution_count": null,
      "outputs": []
    },
    {
      "cell_type": "code",
      "metadata": {
        "id": "XH8WDMyTBe-v"
      },
      "source": [
        "# Guess the output\n",
        "print(list(range(0.5,5.5)))"
      ],
      "execution_count": null,
      "outputs": []
    },
    {
      "cell_type": "markdown",
      "metadata": {
        "id": "0m6wOz-9qzMa"
      },
      "source": [
        "# for loop\n",
        "When we have a **sequence of things to loop through**, we can construct a definite loop using a for statement and automate repetition. Code block inside for-loop is indicated by identation.\n",
        "\n",
        "* Sequence or iterable object: list, tuple, a string or range()\n",
        "* variable: store the successive values from the sequence in the loop\n",
        "\n",
        "<img src='https://github.com/RinkiGupta/ECE319/blob/master/res/m2_pic7_for.png?raw=true' width=50%>\n"
      ]
    },
    {
      "cell_type": "markdown",
      "metadata": {
        "id": "Jxgno024YzyT"
      },
      "source": [
        "## Use list as the iterable"
      ]
    },
    {
      "cell_type": "code",
      "metadata": {
        "id": "-rm1SXGGqzMb"
      },
      "source": [
        "friends = ['Alan', 'Ben', 'Sally', 'Rose']\n",
        "# use for-loop to say hello to each friend\n",
        "for friend in friends:\n",
        "  print('Hello',friend)\n",
        "print('Please join my Party!')"
      ],
      "execution_count": null,
      "outputs": []
    },
    {
      "cell_type": "markdown",
      "metadata": {
        "id": "OSPM6YNTZAUx"
      },
      "source": [
        "## Use string as iterable"
      ]
    },
    {
      "cell_type": "code",
      "metadata": {
        "id": "-g-zl5HQY_bB"
      },
      "source": [
        "# DIY: Guess the output\n",
        "friend = 'Alan'\n",
        "for ele in friend:\n",
        "  print(ele)"
      ],
      "execution_count": null,
      "outputs": []
    },
    {
      "cell_type": "markdown",
      "metadata": {
        "id": "RTMb5EN9Y5g-"
      },
      "source": [
        "## Use range() as iterable"
      ]
    },
    {
      "cell_type": "code",
      "metadata": {
        "id": "e06Bt5Qnck4s"
      },
      "source": [
        "friends = ['Alan', 'Ben', 'Sally', 'Rose']"
      ],
      "execution_count": null,
      "outputs": []
    },
    {
      "cell_type": "code",
      "metadata": {
        "id": "cUpOZlmjXlki"
      },
      "source": [
        "len(friends)"
      ],
      "execution_count": null,
      "outputs": []
    },
    {
      "cell_type": "code",
      "metadata": {
        "id": "70TxueaeXmSQ"
      },
      "source": [
        "list(range(len(friends)))"
      ],
      "execution_count": null,
      "outputs": []
    },
    {
      "cell_type": "code",
      "metadata": {
        "id": "qeHIAMI1kzvo"
      },
      "source": [
        "friends[0]"
      ],
      "execution_count": null,
      "outputs": []
    },
    {
      "cell_type": "code",
      "metadata": {
        "id": "mFSqBbyCqzMf"
      },
      "source": [
        "friends = ['Alan', 'Ben', 'Sally', 'Rose']\n",
        "# use range and indexing in for-loop to say hello to each friend\n",
        "for idx in range(len(friends)):\n",
        "  print(idx,'Hello',friends[idx])\n",
        "print('Please join my Party!')"
      ],
      "execution_count": null,
      "outputs": []
    },
    {
      "cell_type": "markdown",
      "metadata": {
        "id": "zlrreCNqYVCc"
      },
      "source": [
        "## Enumerate\n",
        "\n",
        "Enumerate() method adds a counter to an iterable and returns it in a form of enumerate object"
      ]
    },
    {
      "cell_type": "code",
      "metadata": {
        "id": "BfAvSMQtYrTr"
      },
      "source": [
        "list(enumerate(friends))"
      ],
      "execution_count": null,
      "outputs": []
    },
    {
      "cell_type": "code",
      "metadata": {
        "id": "aou1v0CKYKGB"
      },
      "source": [
        "friends = ['Alan', 'Ben', 'Sally', 'Rose']\n",
        "# use range and indexing in for-loop to say hello to each friend\n",
        "for idx,friend in enumerate(friends):\n",
        "  print(idx,'Hello',friend)\n",
        "print('Please join my Party!')"
      ],
      "execution_count": null,
      "outputs": []
    },
    {
      "cell_type": "code",
      "metadata": {
        "id": "pOfn2lXFaDLA"
      },
      "source": [
        "list(enumerate(friends, start=1)) # specify start value of the counter"
      ],
      "execution_count": null,
      "outputs": []
    },
    {
      "cell_type": "markdown",
      "metadata": {
        "id": "M0EtW7RxqzMn"
      },
      "source": [
        "## Single Line For Loop"
      ]
    },
    {
      "cell_type": "code",
      "metadata": {
        "id": "GaARQsFRqzMn"
      },
      "source": [
        "friends = ['Alan', 'Ben', 'Sally', 'Rose']\n",
        "hellos = ['Hello '+friend for friend in friends]\n",
        "print(hellos)"
      ],
      "execution_count": null,
      "outputs": []
    },
    {
      "cell_type": "markdown",
      "metadata": {
        "id": "Tz94u661qzMj"
      },
      "source": [
        "## Nested for-loop"
      ]
    },
    {
      "cell_type": "code",
      "metadata": {
        "id": "lRFHMviOqzMk"
      },
      "source": [
        "# Evaluate Simple Interest for 4 different Interest rates\n",
        "# Use nested for-loop to determine Total Amount at end of each year\n",
        "P=2000\n",
        "T=4\n",
        "rates = [2.5, 4, 5, 6.5]\n",
        "for rate in rates:\n",
        "  print('Calculating SI at rate',rate,'%')\n",
        "  for year in range(1,T+1):\n",
        "    interest = (P*rate*year)/100\n",
        "    print(\"\\tTotal Amount at end of year \",year,\"  =\",P+interest)"
      ],
      "execution_count": null,
      "outputs": []
    }
  ]
}