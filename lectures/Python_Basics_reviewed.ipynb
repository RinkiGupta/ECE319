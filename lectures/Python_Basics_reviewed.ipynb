{
  "nbformat": 4,
  "nbformat_minor": 0,
  "metadata": {
    "kernelspec": {
      "display_name": "Python 3 (system-wide)",
      "language": "python",
      "metadata": {
        "cocalc": {
          "description": "Python 3 programming language",
          "priority": 100,
          "url": "https://www.python.org/"
        }
      },
      "name": "python3"
    },
    "language_info": {
      "codemirror_mode": {
        "name": "ipython",
        "version": 3
      },
      "file_extension": ".py",
      "mimetype": "text/x-python",
      "name": "python",
      "nbconvert_exporter": "python",
      "pygments_lexer": "ipython3",
      "version": "3.6.9"
    },
    "name": "Python Review.ipynb",
    "colab": {
      "name": "Python Basics reviewed.ipynb",
      "provenance": [],
      "collapsed_sections": [],
      "include_colab_link": true
    }
  },
  "cells": [
    {
      "cell_type": "markdown",
      "metadata": {
        "id": "view-in-github",
        "colab_type": "text"
      },
      "source": [
        "<a href=\"https://colab.research.google.com/github/RinkiGupta/ECE319/blob/master/lectures/Python_Basics_reviewed.ipynb\" target=\"_parent\"><img src=\"https://colab.research.google.com/assets/colab-badge.svg\" alt=\"Open In Colab\"/></a>"
      ]
    },
    {
      "cell_type": "markdown",
      "metadata": {
        "collapsed": false,
        "id": "xsFrQE1y4Gse"
      },
      "source": [
        "---\n",
        "# Python basics"
      ]
    },
    {
      "cell_type": "code",
      "metadata": {
        "id": "ivrAPJYu4Gsf"
      },
      "source": [
        "# this is a comment, it doesn't do anything"
      ],
      "execution_count": 1,
      "outputs": []
    },
    {
      "cell_type": "code",
      "metadata": {
        "id": "7fNg6m0j4Gsi",
        "outputId": "5034c5f2-e1d9-4369-b7c6-c070ea47aa68",
        "colab": {
          "base_uri": "https://localhost:8080/",
          "height": 34
        }
      },
      "source": [
        "print(1)"
      ],
      "execution_count": 2,
      "outputs": [
        {
          "output_type": "stream",
          "text": [
            "1\n"
          ],
          "name": "stdout"
        }
      ]
    },
    {
      "cell_type": "code",
      "metadata": {
        "id": "u5VO_Ui44Gso"
      },
      "source": [
        "# Variable Creation using assignment operator\n",
        "var = 1"
      ],
      "execution_count": 6,
      "outputs": []
    },
    {
      "cell_type": "code",
      "metadata": {
        "id": "B-Ml5SMT4Gsr",
        "outputId": "063e3367-304b-436c-d3aa-9c032dbbd419",
        "colab": {
          "base_uri": "https://localhost:8080/",
          "height": 34
        }
      },
      "source": [
        "print(var) # expression needs to be printed"
      ],
      "execution_count": 7,
      "outputs": [
        {
          "output_type": "stream",
          "text": [
            "1\n"
          ],
          "name": "stdout"
        }
      ]
    },
    {
      "cell_type": "code",
      "metadata": {
        "id": "HvyENEUfP6x2",
        "outputId": "40baac6f-1e59-4278-deb0-12907838a795",
        "colab": {
          "base_uri": "https://localhost:8080/",
          "height": 128
        }
      },
      "source": [
        "var one = 1 # no space in variable name"
      ],
      "execution_count": 10,
      "outputs": [
        {
          "output_type": "error",
          "ename": "SyntaxError",
          "evalue": "ignored",
          "traceback": [
            "\u001b[0;36m  File \u001b[0;32m\"<ipython-input-10-9fb4eddb1fe5>\"\u001b[0;36m, line \u001b[0;32m1\u001b[0m\n\u001b[0;31m    var one = 1\u001b[0m\n\u001b[0m          ^\u001b[0m\n\u001b[0;31mSyntaxError\u001b[0m\u001b[0;31m:\u001b[0m invalid syntax\n"
          ]
        }
      ]
    },
    {
      "cell_type": "code",
      "metadata": {
        "id": "8F-Tzk3eQN31",
        "outputId": "5b3d7f14-9e9b-4072-8df8-4dd561938b20",
        "colab": {
          "base_uri": "https://localhost:8080/",
          "height": 128
        }
      },
      "source": [
        "var-one=1 # no other special character in variable name other than underscore"
      ],
      "execution_count": 13,
      "outputs": [
        {
          "output_type": "error",
          "ename": "SyntaxError",
          "evalue": "ignored",
          "traceback": [
            "\u001b[0;36m  File \u001b[0;32m\"<ipython-input-13-6ddcfaeff78a>\"\u001b[0;36m, line \u001b[0;32m1\u001b[0m\n\u001b[0;31m    var-one=1 # no other special character in variable name other than underscore\u001b[0m\n\u001b[0m                                                                                 ^\u001b[0m\n\u001b[0;31mSyntaxError\u001b[0m\u001b[0;31m:\u001b[0m can't assign to operator\n"
          ]
        }
      ]
    },
    {
      "cell_type": "code",
      "metadata": {
        "id": "k2tcRM7EQF5Z"
      },
      "source": [
        "var_one=1 # allowed"
      ],
      "execution_count": 12,
      "outputs": []
    },
    {
      "cell_type": "markdown",
      "metadata": {
        "collapsed": false,
        "id": "2chJNwKB4Gs9"
      },
      "source": [
        "## Operators: Review"
      ]
    },
    {
      "cell_type": "code",
      "metadata": {
        "id": "EoCKJzxI4Gs-",
        "outputId": "86f9cd04-a830-462f-821e-84a025f4fe3c",
        "colab": {
          "base_uri": "https://localhost:8080/",
          "height": 134
        }
      },
      "source": [
        "# Arithmetic Operators\n",
        "var1,var2=10,20   \n",
        "# Addition\n",
        "print('var1+var2 = ',var1+var2) \n",
        "# Subtraction\n",
        "print('var1-var2 = ',var1-var2)\n",
        "# Multiplication\n",
        "print('var1*var2 = ',var1*var2)\n",
        "# Division\n",
        "print('var1/var2 = ',var1/var2)\n",
        "print('Power or Exponential: 11**2 = ',11**2)\n",
        "print('Quotient or Floor Division: 11//2 = ',11//2)\n",
        "print('Remainder or Modulus: 11%2 = ',11%2)"
      ],
      "execution_count": 14,
      "outputs": [
        {
          "output_type": "stream",
          "text": [
            "var1+var2 =  30\n",
            "var1-var2 =  -10\n",
            "var1*var2 =  200\n",
            "var1/var2 =  0.5\n",
            "Power or Exponential: 11**2 =  121\n",
            "Quotient or Floor Division: 11//2 =  5\n",
            "Remainder or Modulus: 11%2 =  1\n"
          ],
          "name": "stdout"
        }
      ]
    },
    {
      "cell_type": "code",
      "metadata": {
        "id": "-XodLzYrRE8I",
        "outputId": "8c707eb8-38e4-44b1-e729-87dab7bc821f",
        "colab": {
          "base_uri": "https://localhost:8080/",
          "height": 50
        }
      },
      "source": [
        "# Check for even/odd\n",
        "num1 = 4\n",
        "print('Is num1 even? ', num1%2 ==0 )\n",
        "print('Is num1 even? ', not bool(num1%2))"
      ],
      "execution_count": 21,
      "outputs": [
        {
          "output_type": "stream",
          "text": [
            "Is num1 even?  True\n",
            "Is num1 even?  True\n"
          ],
          "name": "stdout"
        }
      ]
    },
    {
      "cell_type": "code",
      "metadata": {
        "id": "V2VSZxUCR7R0",
        "outputId": "46de4768-48e9-4ae1-8ab6-d06ad03b24c5",
        "colab": {
          "base_uri": "https://localhost:8080/",
          "height": 67
        }
      },
      "source": [
        "a = 'Python' + ' Review' # concatenation\n",
        "print('string + string: ', a)\n",
        "a = [1, 2, 3] + [4, 5, 6] # concatenation\n",
        "print('list + list: ', a)\n",
        "a = (1,2,3) + (4,5,6) # concatenation\n",
        "print('tuple + tuple: ', a)"
      ],
      "execution_count": 25,
      "outputs": [
        {
          "output_type": "stream",
          "text": [
            "string + string:  Python Review\n",
            "list + list:  [1, 2, 3, 4, 5, 6]\n",
            "tuple + tuple:  (1, 2, 3, 4, 5, 6)\n"
          ],
          "name": "stdout"
        }
      ]
    },
    {
      "cell_type": "code",
      "metadata": {
        "id": "J8YEXa7KTQRT",
        "outputId": "a7b7f4bd-57df-4ab6-97b8-40b0b59bb371",
        "colab": {
          "base_uri": "https://localhost:8080/",
          "height": 67
        }
      },
      "source": [
        "b= 'Py'*3 # String Replication\n",
        "print('string*3 ', b)\n",
        "b= [1,2,3]*3 # String Replication\n",
        "print('List*3 ', b)\n",
        "b= (1,2,3)*3 # String Replication\n",
        "print('Tuple*3 ', b)"
      ],
      "execution_count": 26,
      "outputs": [
        {
          "output_type": "stream",
          "text": [
            "string*3  PyPyPy\n",
            "List*3  [1, 2, 3, 1, 2, 3, 1, 2, 3]\n",
            "Tuple*3  (1, 2, 3, 1, 2, 3, 1, 2, 3)\n"
          ],
          "name": "stdout"
        }
      ]
    },
    {
      "cell_type": "code",
      "metadata": {
        "id": "IP1TiWP24GtE",
        "outputId": "f99e1b61-8a84-481a-ca3c-7b941fc61a1d",
        "colab": {
          "base_uri": "https://localhost:8080/",
          "height": 118
        }
      },
      "source": [
        "# Relational Operators\n",
        "print('10>20? ',10>20)  # Is 10 Greater than 20?\n",
        "print('10<20? ',10<20)  # Less than\n",
        "print('10>=20? ',10>=20)  # Greater than or equal to\n",
        "print('10<=20? ',10<=20)  # Less than or equal to\n",
        "print('10==20? ',10==20)  # Is 10 equal to 20?\n",
        "print('10!=20? ',10!=20)  # not equal to"
      ],
      "execution_count": 27,
      "outputs": [
        {
          "output_type": "stream",
          "text": [
            "10>20?  False\n",
            "10<20?  True\n",
            "10>=20?  False\n",
            "10<=20?  True\n",
            "10==20?  False\n",
            "10!=20?  True\n"
          ],
          "name": "stdout"
        }
      ]
    },
    {
      "cell_type": "code",
      "metadata": {
        "id": "avb6-XwWYYfu",
        "outputId": "9a37fab4-a21a-4a90-b24c-e1763409cab3",
        "colab": {
          "base_uri": "https://localhost:8080/",
          "height": 34
        }
      },
      "source": [
        "# Eg: Determine sum of all negative numbers in a list\n",
        "lst1 = [-1,5,-2,3,-2]\n",
        "sum1=0\n",
        "for i in lst1:\n",
        "    if i<0:\n",
        "        sum1+=i\n",
        "print(\"Sum of even numbers in list: \",sum1)"
      ],
      "execution_count": 58,
      "outputs": [
        {
          "output_type": "stream",
          "text": [
            "Sum of even numbers in list:  -5\n"
          ],
          "name": "stdout"
        }
      ]
    },
    {
      "cell_type": "code",
      "metadata": {
        "id": "-CQj1-QgYuGA",
        "outputId": "4a3116d5-7f72-43b0-dfd3-a6097a903d1a",
        "colab": {
          "base_uri": "https://localhost:8080/",
          "height": 50
        }
      },
      "source": [
        "# Eg: Determine sum of all negative numbers in a list\n",
        "lst1 = [-1,5,-2,3,-2]\n",
        "lst2 = [x for x in lst1 if x>0] # list comprehension\n",
        "print(lst2)\n",
        "sum1 =sum( lst2  )\n",
        "print('Sum=',sum1)"
      ],
      "execution_count": 60,
      "outputs": [
        {
          "output_type": "stream",
          "text": [
            "[5, 3]\n",
            "Sum= 8\n"
          ],
          "name": "stdout"
        }
      ]
    },
    {
      "cell_type": "code",
      "metadata": {
        "id": "Yn9VH1MtZncF"
      },
      "source": [
        "# Eg: What to change in line 2 to Determine sum of all odd numbers in a list\n",
        "lst1 = [-1,5,-2,3,-2]\n",
        "lst2 = [x for x in lst1 if x>0] # hint: check if condition\n",
        "print(lst2)\n",
        "sum1 =sum( lst2  )\n",
        "print('Sum=',sum1)"
      ],
      "execution_count": null,
      "outputs": []
    },
    {
      "cell_type": "code",
      "metadata": {
        "id": "Z0GAY1hd4GtK",
        "outputId": "a216083d-f135-47b3-8261-140ee52aaa0d",
        "colab": {
          "base_uri": "https://localhost:8080/",
          "height": 101
        }
      },
      "source": [
        "# Check equality\n",
        "a = 'Python' == 'Python' \n",
        "print('string==string? ', a)\n",
        "a = [1,2,3]==[1,2,3]\n",
        "print('list==list? ', a)\n",
        "a = (1,2,3)==(1,2,3)\n",
        "print('tuple==tuple? ', a)\n",
        "a = {1,2,3}=={1,2,3}\n",
        "print('set==set? ', a)\n",
        "a = {1:'a',2:'b',3:'c'}=={1:'a',2:'b',3:'c'}\n",
        "print('dict==dict? ', a)"
      ],
      "execution_count": 37,
      "outputs": [
        {
          "output_type": "stream",
          "text": [
            "string==string?  True\n",
            "list==list?  True\n",
            "tuple==tuple?  True\n",
            "set==set?  True\n",
            "dict==dict?  True\n"
          ],
          "name": "stdout"
        }
      ]
    },
    {
      "cell_type": "code",
      "metadata": {
        "id": "Ge9yEi1RVAxs"
      },
      "source": [
        "# Guess the output\n",
        "a = 'Python' == 'python' \n",
        "print('string==string? ', a)\n",
        "a = [1,2,3]==(1,2,3)\n",
        "print('list==tuple? ', a)"
      ],
      "execution_count": null,
      "outputs": []
    },
    {
      "cell_type": "code",
      "metadata": {
        "id": "lkEKPRd6VNMa",
        "outputId": "813832a3-3cd1-4879-d40b-71fd65ba1e5b",
        "colab": {
          "base_uri": "https://localhost:8080/",
          "height": 34
        }
      },
      "source": [
        "# What would you change in line 3 so that output is True?\n",
        "a='Python'\n",
        "b='python'\n",
        "print(a==b) # HINT: use a method/change the operator"
      ],
      "execution_count": 43,
      "outputs": [
        {
          "output_type": "stream",
          "text": [
            "False\n"
          ],
          "name": "stdout"
        }
      ]
    },
    {
      "cell_type": "code",
      "metadata": {
        "id": "0VWMDP3IVpjK",
        "outputId": "f051a4ae-ce8b-420a-c30c-6ec3a3df0b3a",
        "colab": {
          "base_uri": "https://localhost:8080/",
          "height": 118
        }
      },
      "source": [
        "# Subet-Superset\n",
        "A={1,2,3}\n",
        "B={1,2}\n",
        "print('A is superset of B : ', A>B)\n",
        "print('B is subset of A : ', B<A)"
      ],
      "execution_count": 52,
      "outputs": [
        {
          "output_type": "stream",
          "text": [
            "A is superset of B :  True\n",
            "B is subset of A :  True\n",
            "A is superset of B :  True\n",
            "B is subset of A :  True\n",
            "A is superset of B :  False\n",
            "B is subset of A :  False\n"
          ],
          "name": "stdout"
        }
      ]
    },
    {
      "cell_type": "markdown",
      "metadata": {
        "collapsed": false,
        "id": "VpUeASRQ4Gta"
      },
      "source": [
        "## Accessing"
      ]
    },
    {
      "cell_type": "code",
      "metadata": {
        "id": "w8WrivZ_4Gtb"
      },
      "source": [
        "# check the value of each\n",
        "a = 'Python'\n",
        "b = list(a)\n",
        "c = tuple(a)\n",
        "d = dict(zip(b,c))\n",
        "e = set(a)"
      ],
      "execution_count": 54,
      "outputs": []
    },
    {
      "cell_type": "code",
      "metadata": {
        "id": "T07vv_I0YB6S",
        "outputId": "a1bdd623-1114-4a6e-9f4b-3456906a720f",
        "colab": {
          "base_uri": "https://localhost:8080/",
          "height": 101
        }
      },
      "source": [
        "print(a,type(a))\n",
        "print(b,type(b))\n",
        "print(c,type(c))\n",
        "print(d,type(d))\n",
        "print(e,type(e))"
      ],
      "execution_count": 55,
      "outputs": [
        {
          "output_type": "stream",
          "text": [
            "Python <class 'str'>\n",
            "['P', 'y', 't', 'h', 'o', 'n'] <class 'list'>\n",
            "('P', 'y', 't', 'h', 'o', 'n') <class 'tuple'>\n",
            "{'P': 'P', 'y': 'y', 't': 't', 'h': 'h', 'o': 'o', 'n': 'n'} <class 'dict'>\n",
            "{'o', 'P', 't', 'n', 'y', 'h'} <class 'set'>\n"
          ],
          "name": "stdout"
        }
      ]
    },
    {
      "cell_type": "markdown",
      "metadata": {
        "collapsed": false,
        "id": "dPyBKg8U4Gtd"
      },
      "source": [
        "Index Accessed: Strings, List, Tuple "
      ]
    },
    {
      "cell_type": "code",
      "metadata": {
        "id": "Qw-XOXDf4Gtd",
        "outputId": "6ff74b5a-2d81-40dc-ed63-c7a104a13732",
        "colab": {
          "base_uri": "https://localhost:8080/",
          "height": 101
        }
      },
      "source": [
        "print(a[0],b[0],c[0],sep=' ... ')\n",
        "print(a[0:3],b[0:3],c[0:3],sep=' ... ')\n",
        "print(a[0:3:2],b[0:3:2],c[0:3:2],sep=' ... ')\n",
        "print(a[-4:-2],b[-4:-2],c[-4:-2],sep=' ... ')\n",
        "print(a[-4:-7:-1],b[-4:-7:-1],c[-4:-7:-1],sep=' ... ')"
      ],
      "execution_count": 71,
      "outputs": [
        {
          "output_type": "stream",
          "text": [
            "P ... P ... P\n",
            "Pyt ... ['P', 'y', 't'] ... ('P', 'y', 't')\n",
            "Pt ... ['P', 't'] ... ('P', 't')\n",
            "th ... ['t', 'h'] ... ('t', 'h')\n",
            "tyP ... ['t', 'y', 'P'] ... ('t', 'y', 'P')\n"
          ],
          "name": "stdout"
        }
      ]
    },
    {
      "cell_type": "code",
      "metadata": {
        "id": "TbyiJ_H1bsnK"
      },
      "source": [
        "# Guess the output\n",
        "print(a[::-1],b[::-1],c[::-1],sep=' ... ')"
      ],
      "execution_count": null,
      "outputs": []
    },
    {
      "cell_type": "markdown",
      "metadata": {
        "collapsed": false,
        "id": "wsKu_srY4Gtg"
      },
      "source": [
        "Dictionary is key-accessed"
      ]
    },
    {
      "cell_type": "code",
      "metadata": {
        "id": "HQ-qSZbZ4Gth",
        "outputId": "9ee9559a-65b8-4527-dbb6-cd717b2941a3",
        "colab": {
          "base_uri": "https://localhost:8080/",
          "height": 50
        }
      },
      "source": [
        "print(d.keys())\n",
        "print(d['P'])"
      ],
      "execution_count": 81,
      "outputs": [
        {
          "output_type": "stream",
          "text": [
            "dict_keys(['P', 'y', 't', 'h', 'o', 'n'])\n",
            "P\n"
          ],
          "name": "stdout"
        }
      ]
    },
    {
      "cell_type": "markdown",
      "metadata": {
        "id": "jsJ4QW-Jcu2j"
      },
      "source": [
        "Set is unordered"
      ]
    },
    {
      "cell_type": "code",
      "metadata": {
        "id": "LadOA2T9ctUI",
        "outputId": "14948c62-b4b2-4183-988b-94e98d99ea49",
        "colab": {
          "base_uri": "https://localhost:8080/",
          "height": 34
        }
      },
      "source": [
        "for e1 in e:\n",
        "  print(e1,end=' ')"
      ],
      "execution_count": 82,
      "outputs": [
        {
          "output_type": "stream",
          "text": [
            "o P t n y h "
          ],
          "name": "stdout"
        }
      ]
    },
    {
      "cell_type": "markdown",
      "metadata": {
        "collapsed": false,
        "id": "FskZfQzI4Gwv"
      },
      "source": [
        "---\n",
        "# Control flow"
      ]
    },
    {
      "cell_type": "markdown",
      "metadata": {
        "collapsed": false,
        "id": "C-fnRW384Gwv"
      },
      "source": [
        "## For loops"
      ]
    },
    {
      "cell_type": "markdown",
      "metadata": {
        "collapsed": false,
        "id": "2ZX9s9C34Gww"
      },
      "source": [
        "For loops have the following syntax:\n",
        "\n",
        "```python\n",
        "for variable in iterable:\n",
        "    # indentation\n",
        "    # then write code here\n",
        "```\n",
        "where\n",
        "*  `iterable` is a str, list, tuple, dictionary, set, file object etc. that can be iterated over.\n",
        "*   the `variable` will hold a different element of the iterable.\n",
        "\n",
        "On the first iteration, it will hold the first element of `iterable`, on the second iteration, it will hold the second element, and so on."
      ]
    },
    {
      "cell_type": "code",
      "metadata": {
        "id": "U6KxjltieK-9"
      },
      "source": [
        "a = 'Python'\n",
        "b = list(a)\n",
        "c = tuple(a)\n",
        "d = dict(zip(b,[0,1,2,3,4,5]))\n",
        "e = set(a)"
      ],
      "execution_count": 120,
      "outputs": []
    },
    {
      "cell_type": "code",
      "metadata": {
        "id": "5c9ZP_atfRh5",
        "outputId": "73b5d8fb-5f63-4ffe-b554-fd14ff627ee6",
        "colab": {
          "base_uri": "https://localhost:8080/",
          "height": 118
        }
      },
      "source": [
        "iter1=a #change to b,c,d,e\n",
        "for i in iter1: \n",
        "    print(i) "
      ],
      "execution_count": 112,
      "outputs": [
        {
          "output_type": "stream",
          "text": [
            "P\n",
            "y\n",
            "t\n",
            "h\n",
            "o\n",
            "n\n"
          ],
          "name": "stdout"
        }
      ]
    },
    {
      "cell_type": "code",
      "metadata": {
        "id": "jVttJTJ-eKeB"
      },
      "source": [
        "# write a file\n",
        "with open('file1.txt','w') as f1:\n",
        "  for b1 in b:\n",
        "    print(b1,file=f1)"
      ],
      "execution_count": 85,
      "outputs": []
    },
    {
      "cell_type": "code",
      "metadata": {
        "id": "HHPWSyLveiX7",
        "outputId": "1a96ac1b-02b7-456c-e765-d827de8be720",
        "colab": {
          "base_uri": "https://localhost:8080/",
          "height": 118
        }
      },
      "source": [
        "# read and display a file\n",
        "with open('file1.txt') as f1:\n",
        "  for line in f1:\n",
        "    print(line.strip())"
      ],
      "execution_count": 113,
      "outputs": [
        {
          "output_type": "stream",
          "text": [
            "P\n",
            "y\n",
            "t\n",
            "h\n",
            "o\n",
            "n\n"
          ],
          "name": "stdout"
        }
      ]
    },
    {
      "cell_type": "code",
      "metadata": {
        "id": "5aIkN8lfgkPe",
        "outputId": "13ea5149-0d2d-4068-990c-a0488439bac3",
        "colab": {
          "base_uri": "https://localhost:8080/",
          "height": 218
        }
      },
      "source": [
        "f1= open('file1.txt') #f1 is file-object\n",
        "for i in f1: \n",
        "    print(i) # each line in file1.txt\n",
        "f1.close()"
      ],
      "execution_count": 125,
      "outputs": [
        {
          "output_type": "stream",
          "text": [
            "P\n",
            "\n",
            "y\n",
            "\n",
            "t\n",
            "\n",
            "h\n",
            "\n",
            "o\n",
            "\n",
            "n\n",
            "\n"
          ],
          "name": "stdout"
        }
      ]
    },
    {
      "cell_type": "code",
      "metadata": {
        "id": "MuDID0H_4Gww",
        "outputId": "1547e2ec-c682-4d9b-8e68-b1f728e2adba",
        "colab": {
          "base_uri": "https://localhost:8080/",
          "height": 118
        }
      },
      "source": [
        "iter1=a #change to b,c\n",
        "for i in range(len(iter1)): \n",
        "    print(\"The value of\", i,\"-th element is: \" + iter1[i]) # only for index-accessed iterables"
      ],
      "execution_count": 126,
      "outputs": [
        {
          "output_type": "stream",
          "text": [
            "The value of 0 -th element is: P\n",
            "The value of 1 -th element is: y\n",
            "The value of 2 -th element is: t\n",
            "The value of 3 -th element is: h\n",
            "The value of 4 -th element is: o\n",
            "The value of 5 -th element is: n\n"
          ],
          "name": "stdout"
        }
      ]
    },
    {
      "cell_type": "code",
      "metadata": {
        "id": "7ImDDHAP4Gwz",
        "outputId": "0ca1b071-dc7c-4f74-fa1f-a5a9d8ffc532",
        "colab": {
          "base_uri": "https://localhost:8080/",
          "height": 185
        }
      },
      "source": [
        "# Square of numbers from 1 to 10\n",
        "for i in range(1,11):\n",
        "    print(i ** 2)"
      ],
      "execution_count": 128,
      "outputs": [
        {
          "output_type": "stream",
          "text": [
            "1\n",
            "4\n",
            "9\n",
            "16\n",
            "25\n",
            "36\n",
            "49\n",
            "64\n",
            "81\n",
            "100\n"
          ],
          "name": "stdout"
        }
      ]
    },
    {
      "cell_type": "code",
      "metadata": {
        "id": "oi5lq5to4Gw1",
        "outputId": "bdf655ba-3d32-4eed-8975-cec9515564d0",
        "colab": {
          "base_uri": "https://localhost:8080/",
          "height": 34
        }
      },
      "source": [
        "# Square of numbers from 1 to 10 and construct a list out of it\n",
        "squares = []\n",
        "for i in range(1,11):\n",
        "    squares.append(i ** 2)\n",
        "\n",
        "print(squares)\n",
        "\n"
      ],
      "execution_count": 129,
      "outputs": [
        {
          "output_type": "stream",
          "text": [
            "[1, 4, 9, 16, 25, 36, 49, 64, 81, 100]\n"
          ],
          "name": "stdout"
        }
      ]
    },
    {
      "cell_type": "code",
      "metadata": {
        "id": "lJzFfPwq4Gw4",
        "outputId": "893a2f8f-7029-4220-e260-c44b57c68aa7",
        "colab": {
          "base_uri": "https://localhost:8080/",
          "height": 34
        }
      },
      "source": [
        "# Use list comprehension\n",
        "lst1 = [i ** 2 for i in range(1,11)]\n",
        "print(lst1)"
      ],
      "execution_count": 131,
      "outputs": [
        {
          "output_type": "stream",
          "text": [
            "[1, 4, 9, 16, 25, 36, 49, 64, 81, 100]\n"
          ],
          "name": "stdout"
        }
      ]
    },
    {
      "cell_type": "code",
      "metadata": {
        "id": "x8MgwDpFiDCl",
        "outputId": "d28cf90a-88a2-401c-fff8-87956333f8a7",
        "colab": {
          "base_uri": "https://localhost:8080/",
          "height": 34
        }
      },
      "source": [
        "# Use dict comprehension\n",
        "dct1 = {i:i**2 for i in range(1,11)}\n",
        "print(dct1)"
      ],
      "execution_count": 132,
      "outputs": [
        {
          "output_type": "stream",
          "text": [
            "{1: 1, 2: 4, 3: 9, 4: 16, 5: 25, 6: 36, 7: 49, 8: 64, 9: 81, 10: 100}\n"
          ],
          "name": "stdout"
        }
      ]
    },
    {
      "cell_type": "markdown",
      "metadata": {
        "collapsed": false,
        "id": "mCOm1fwV4Gw9"
      },
      "source": [
        "## While loops"
      ]
    },
    {
      "cell_type": "markdown",
      "metadata": {
        "collapsed": false,
        "id": "0iCkfnSx4Gw_"
      },
      "source": [
        "While loops aren't used as frequently in Python as they are in other languages, but they do exist. They have the form:\n",
        "\n",
        "```python\n",
        "while condition:\n",
        "    # again, indent four spaces\n",
        "    # then write code here\n",
        "```\n",
        "\n",
        "where `condition` is an expression or variable that evaluates to a boolean (`True` or `False`)."
      ]
    },
    {
      "cell_type": "code",
      "metadata": {
        "id": "0cNwKrt24GxA",
        "outputId": "9d5feae0-46da-4ae2-e38a-468d1c7c1beb"
      },
      "source": [
        "i = 0\n",
        "while i < 10:\n",
        "    print(i)\n",
        "    i = i + 1"
      ],
      "execution_count": null,
      "outputs": [
        {
          "output_type": "stream",
          "text": [
            "0\n",
            "1\n",
            "2\n",
            "3\n",
            "4\n",
            "5\n",
            "6\n",
            "7\n",
            "8\n",
            "9\n"
          ],
          "name": "stdout"
        }
      ]
    },
    {
      "cell_type": "markdown",
      "metadata": {
        "collapsed": false,
        "id": "rgHhiRP34GxB"
      },
      "source": [
        "## If statements"
      ]
    },
    {
      "cell_type": "markdown",
      "metadata": {
        "collapsed": false,
        "id": "MO5pTIw14GxC"
      },
      "source": [
        "We don't want to always operate on every element of a list. Sometimes, we'd like to do different things, depending on the value of the item.\n",
        "\n",
        "For example, this squares all even numbers and cubes all odd numbers:"
      ]
    },
    {
      "cell_type": "code",
      "metadata": {
        "scrolled": true,
        "id": "Cnd6bw384GxC",
        "outputId": "881f7f22-18b2-48b4-fcff-d2610252125e"
      },
      "source": [
        "squares_and_cubes = []\n",
        "for i in range(10):\n",
        "    # i % 2 is \"i modulo 2\", and will be 0 if even, 1 if odd\n",
        "    if (i % 2) == 0:\n",
        "        squares_and_cubes.append(i ** 2)\n",
        "    else:\n",
        "        squares_and_cubes.append(i ** 3)\n",
        "\n",
        "squares_and_cubes"
      ],
      "execution_count": null,
      "outputs": [
        {
          "output_type": "execute_result",
          "data": {
            "text/plain": [
              "[0, 1, 4, 27, 16, 125, 36, 343, 64, 729]"
            ]
          },
          "metadata": {
            "tags": []
          },
          "execution_count": 51
        }
      ]
    },
    {
      "cell_type": "markdown",
      "metadata": {
        "collapsed": false,
        "id": "ia0u41Nq4GxE"
      },
      "source": [
        "---\n",
        "# Functions"
      ]
    },
    {
      "cell_type": "markdown",
      "metadata": {
        "collapsed": false,
        "id": "Ba6viWPK4GxE"
      },
      "source": [
        "Functions have the following form:\n",
        "\n",
        "```python\n",
        "def function_name(argument1, argument2, argument3):\n",
        "    # indentation\n",
        "    # write some code here\n",
        "    return something\n",
        "```\n",
        "\n",
        "where `function_name` is the name you want to call your function, and the variables inside the parentheses are the arguments to the function (you can have any number of arguments, including zero). The `something` that is returned should be defined within the function."
      ]
    },
    {
      "cell_type": "markdown",
      "metadata": {
        "collapsed": false,
        "id": "_zDRfXRY4GxF"
      },
      "source": [
        "For example, here's a function that takes a list of numbers and squares it:"
      ]
    },
    {
      "cell_type": "code",
      "metadata": {
        "id": "JHpTa8At4GxF"
      },
      "source": [
        "def make_squares(some_list):\n",
        "    new_list = []\n",
        "    for item in some_list:\n",
        "        new_list.append(item ** 2)\n",
        "    return new_list # return output argument"
      ],
      "execution_count": 133,
      "outputs": []
    },
    {
      "cell_type": "code",
      "metadata": {
        "id": "OZJ_ckTd4GxH",
        "outputId": "bce9456e-b373-474d-842f-00f256bfbabf",
        "colab": {
          "base_uri": "https://localhost:8080/",
          "height": 34
        }
      },
      "source": [
        "new_list= make_squares([1, 2, 3])\n",
        "print(new_list)"
      ],
      "execution_count": 134,
      "outputs": [
        {
          "output_type": "stream",
          "text": [
            "[1, 4, 9]\n"
          ],
          "name": "stdout"
        }
      ]
    },
    {
      "cell_type": "code",
      "metadata": {
        "id": "bgAmj3Kz4GxI",
        "outputId": "e911694c-fa4d-428c-b754-4efdbb3b7287",
        "colab": {
          "base_uri": "https://localhost:8080/",
          "height": 34
        }
      },
      "source": [
        "another_list = [3, 9, 10, 24, 3, 234]\n",
        "make_squares(another_list)"
      ],
      "execution_count": 135,
      "outputs": [
        {
          "output_type": "execute_result",
          "data": {
            "text/plain": [
              "[9, 81, 100, 576, 9, 54756]"
            ]
          },
          "metadata": {
            "tags": []
          },
          "execution_count": 135
        }
      ]
    },
    {
      "cell_type": "code",
      "metadata": {
        "id": "RHHQRJx4i27s",
        "outputId": "4f41009c-2aa9-4237-bd5b-3d3d7e8fca8c",
        "colab": {
          "base_uri": "https://localhost:8080/",
          "height": 34
        }
      },
      "source": [
        "# Anonymous or lambda function\n",
        "sq = lambda x: x**2\n",
        "new_list = [sq(x) for x in [1,2,3]]\n",
        "print(new_list)"
      ],
      "execution_count": 140,
      "outputs": [
        {
          "output_type": "stream",
          "text": [
            "[1, 4, 9]\n"
          ],
          "name": "stdout"
        }
      ]
    }
  ]
}