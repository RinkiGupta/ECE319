{
  "nbformat": 4,
  "nbformat_minor": 0,
  "metadata": {
    "kernelspec": {
      "display_name": "Python 3",
      "language": "python",
      "name": "python3"
    },
    "language_info": {
      "codemirror_mode": {
        "name": "ipython",
        "version": 3
      },
      "file_extension": ".py",
      "mimetype": "text/x-python",
      "name": "python",
      "nbconvert_exporter": "python",
      "pygments_lexer": "ipython3",
      "version": "3.7.3"
    },
    "colab": {
      "name": "2_2_if_loop.ipynb",
      "provenance": [],
      "collapsed_sections": [],
      "include_colab_link": true
    }
  },
  "cells": [
    {
      "cell_type": "markdown",
      "metadata": {
        "id": "view-in-github",
        "colab_type": "text"
      },
      "source": [
        "<a href=\"https://colab.research.google.com/github/RinkiGupta/ECE319/blob/master/lectures/2_2_if_loop.ipynb\" target=\"_parent\"><img src=\"https://colab.research.google.com/assets/colab-badge.svg\" alt=\"Open In Colab\"/></a>"
      ]
    },
    {
      "cell_type": "markdown",
      "metadata": {
        "id": "b-8hCp_JT_2R"
      },
      "source": [
        "# Conditional Statements\n",
        "## Python Indentation\n",
        "* Indentation refers to the spaces at the beginning of a code line.\n",
        "* In Python, indentation is used to indicate a block of code.\n",
        "\n",
        "\n",
        "<img src='https://github.com/RinkiGupta/ECE319/blob/master/res/m2_pic1_indentation.png?raw=true' width=70%>"
      ]
    },
    {
      "cell_type": "code",
      "metadata": {
        "id": "hDZ9SNDxT_2U"
      },
      "source": [
        "var='Hello'\n",
        "print(var) # no Indentation "
      ],
      "execution_count": null,
      "outputs": []
    },
    {
      "cell_type": "code",
      "metadata": {
        "id": "FMkCPlXV55_d"
      },
      "source": [
        "var='Hello'\n",
        "  print(var) # unintended Indentation may create error"
      ],
      "execution_count": null,
      "outputs": []
    },
    {
      "cell_type": "markdown",
      "metadata": {
        "id": "VCU9LxesT_2f"
      },
      "source": [
        "## If Loop\n",
        "\n",
        "Used for conditional execution of a code block\n",
        "\n",
        "<img src='https://github.com/RinkiGupta/ECE319/blob/master/res/m2_pic2_if.png?raw=true' width=70%>"
      ]
    },
    {
      "cell_type": "code",
      "metadata": {
        "id": "Yu1RLeQDT_2g"
      },
      "source": [
        "# example: if-loop\n",
        "x=input('Do you want to have some Pizza? (yes/no) ')\n",
        "if x=='yes':\n",
        "    n= input('Enter the number of slices you want to have: ')#Execute Conditionally \n",
        "    print('Bringing you', n, 'slices of Pizza')\n",
        "print('Have a Good Day!') #Execute Unconditionally \n",
        "print('Come again later!') "
      ],
      "execution_count": null,
      "outputs": []
    },
    {
      "cell_type": "markdown",
      "metadata": {
        "id": "VznirawiT_2m"
      },
      "source": [
        "## If-else\n",
        "\n",
        "Code block under else is executed only when the condition controlling the execution of code block under if is False\n",
        "\n",
        "<img src='https://github.com/RinkiGupta/ECE319/blob/master/res/m2_pic3_ifelse.png?raw=true' width=75%>"
      ]
    },
    {
      "cell_type": "code",
      "metadata": {
        "id": "RSC1yJX-T_2p",
        "colab": {
          "base_uri": "https://localhost:8080/"
        },
        "outputId": "0c7cf3a9-131a-430e-a2b0-10366459117d"
      },
      "source": [
        "# example: if-else loop \n",
        "x=input('Do you want to have some Pizza? (yes/no) ')\n",
        "if x=='yes':\n",
        "    n= input('Enter the number of slices you want to have: ')#Execute Conditionally \n",
        "    print('Bringing you', n, 'slices of Pizza')\n",
        "else:\n",
        "    print('Ok, come again later!') \n",
        "print('Have a Good Day!') #Execute Unconditionally "
      ],
      "execution_count": null,
      "outputs": [
        {
          "output_type": "stream",
          "text": [
            "Do you want to have some Pizza? (yes/no) no\n",
            "Ok, come again later!\n",
            "Have a Good Day!\n"
          ],
          "name": "stdout"
        }
      ]
    },
    {
      "cell_type": "markdown",
      "metadata": {
        "id": "b0WKuerNT_2z"
      },
      "source": [
        "## If - elif - else\n",
        "\n",
        "Conditions are checked sequentially, starting from that after if, then that after elif (and suceeding elif). If none of the conditions is true, the codeblock under else is executed.\n",
        "\n",
        "<img src='https://github.com/RinkiGupta/ECE319/blob/master/res/m2_pic4_ifelifelse.png?raw=true' width=65%>"
      ]
    },
    {
      "cell_type": "code",
      "metadata": {
        "id": "3UwmhR-oT_20"
      },
      "source": [
        "# example: if-elif-else \n",
        "x=input('Do you want to have some Pizza? (yes/maybe/no) ')\n",
        "if x=='yes':\n",
        "    n= input('Enter the number of slices you want to have: ')#Execute Conditionally \n",
        "    print('Bringing you', n, 'slices of Pizza')\n",
        "elif x=='maybe':\n",
        "    print('We a special discount today...')\n",
        "    n= input('Enter the number of slices you want to have: ')#Execute Conditionally \n",
        "    print('Bringing you', n, 'slices of Pizza')\n",
        "else:\n",
        "    print('Ok, come again later!') \n",
        "print('Have a Good Day!') #Execute Unconditionally "
      ],
      "execution_count": null,
      "outputs": []
    },
    {
      "cell_type": "markdown",
      "metadata": {
        "id": "SUkp6nCVT_2_"
      },
      "source": [
        "## Nested If\n",
        "\n",
        "if loop containted inside if loop. (Note the Indentations)\n",
        "\n",
        "<img src='https://github.com/RinkiGupta/ECE319/blob/master/res/m2_pic5_nestedif.png?raw=true' width=65%>"
      ]
    },
    {
      "cell_type": "code",
      "metadata": {
        "id": "OdSJ5uzPT_3B"
      },
      "source": [
        "x=input('Do you want to have some Pizza? (yes/no) ') # Code block 1\n",
        "if x=='yes':\n",
        "    n= input('Enter the number of slices you want to have: ') # Code block 2 \n",
        "    y=input('Do you want to have a cold drink also? (yes/no) ')\n",
        "    if y=='yes':\n",
        "        flav= input('Enter the flavour (cola/orange): ')  # Code block 3\n",
        "        print('Bringing you', n, 'slices of Pizza and (', flav, ') cold drink')\n",
        "    else:\n",
        "        print('Bringing you', n, 'slices of Pizza')\n",
        "else:\n",
        "    print('Ok, come again later !') #Execute Conditionally \n",
        "print('Have a Good Day!') #Execute Unconditionally "
      ],
      "execution_count": null,
      "outputs": []
    },
    {
      "cell_type": "markdown",
      "metadata": {
        "id": "v-LMSu66T_3L"
      },
      "source": [
        "# Practice Problem"
      ]
    },
    {
      "cell_type": "markdown",
      "metadata": {
        "id": "f580yv8f8Jdo"
      },
      "source": [
        "1. Given a number, display if it is positive-even, negative-even, positive-odd, negative-odd or zero."
      ]
    },
    {
      "cell_type": "code",
      "metadata": {
        "id": "cBQHHiZPT_3Z"
      },
      "source": [
        "var1 = int(input('Enter an integer : '))\n",
        "# complete the code \n"
      ],
      "execution_count": null,
      "outputs": []
    }
  ]
}