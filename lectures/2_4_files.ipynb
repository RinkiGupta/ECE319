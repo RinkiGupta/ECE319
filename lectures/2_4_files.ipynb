{
  "nbformat": 4,
  "nbformat_minor": 0,
  "metadata": {
    "colab": {
      "name": "2_5_files.ipynb",
      "provenance": [],
      "collapsed_sections": [],
      "include_colab_link": true
    },
    "kernelspec": {
      "display_name": "Python 3",
      "language": "python",
      "name": "python3"
    },
    "language_info": {
      "codemirror_mode": {
        "name": "ipython",
        "version": 3
      },
      "file_extension": ".py",
      "mimetype": "text/x-python",
      "name": "python",
      "nbconvert_exporter": "python",
      "pygments_lexer": "ipython3",
      "version": "3.6.4"
    }
  },
  "cells": [
    {
      "cell_type": "markdown",
      "metadata": {
        "id": "view-in-github",
        "colab_type": "text"
      },
      "source": [
        "<a href=\"https://colab.research.google.com/github/RinkiGupta/ECE319/blob/master/lectures/2_4_files.ipynb\" target=\"_parent\"><img src=\"https://colab.research.google.com/assets/colab-badge.svg\" alt=\"Open In Colab\"/></a>"
      ]
    },
    {
      "cell_type": "markdown",
      "metadata": {
        "id": "JNmdkjytZ1_3"
      },
      "source": [
        "# File Operations"
      ]
    },
    {
      "cell_type": "markdown",
      "metadata": {
        "id": "AtTfUj86mQf5"
      },
      "source": [
        "## File Writing\n",
        "\n",
        "'w' Writing Mode. \n",
        "\n",
        "Create file if it does not exsits or Overwrites an exsisting file   "
      ]
    },
    {
      "cell_type": "markdown",
      "metadata": {
        "id": "bJ5cPxQImTGp"
      },
      "source": [
        "### File writing using open-close"
      ]
    },
    {
      "cell_type": "code",
      "metadata": {
        "id": "ELvJAS5UZ1_5"
      },
      "source": [
        "f= open(\"testfile1.txt\",'w') # f is file object \n",
        "f.write(\"My first sentence\\n\") #include \\n at end to introduce new line in file\n",
        "f.write(\"My second sentence\")\n",
        "f.close() # Close the file"
      ],
      "execution_count": null,
      "outputs": []
    },
    {
      "cell_type": "markdown",
      "metadata": {
        "id": "L6s_ADUnchxT"
      },
      "source": [
        "### File writing using with\n",
        "\n",
        "It automatically closes the file when the loop is exited."
      ]
    },
    {
      "cell_type": "code",
      "metadata": {
        "id": "nfUD62jsc9UD"
      },
      "source": [
        "list1 = ['Apple','Banana']\n",
        "with open('testfile1.txt', 'w') as f1: #overwrites existing file\n",
        "    for item in list1:\n",
        "        f1.write(item+'\\n') # write a string to a file"
      ],
      "execution_count": null,
      "outputs": []
    },
    {
      "cell_type": "code",
      "metadata": {
        "id": "l_8xhfgphQb-"
      },
      "source": [
        "# use print to print to a file\n",
        "list2 = ['Apple','Banana','Grapes']\n",
        "with open('testfile1.txt', 'w') as f1:\n",
        "    for item in list2:\n",
        "        print(item, file=f1) # another way of writing to a file"
      ],
      "execution_count": null,
      "outputs": []
    },
    {
      "cell_type": "markdown",
      "metadata": {
        "id": "CRlCT71IZ1_9"
      },
      "source": [
        "## File Reading\n",
        "\n",
        "'r' Reading Mode. \n",
        "\n",
        "Gives FileNotFoundError if the file does not exist. "
      ]
    },
    {
      "cell_type": "markdown",
      "metadata": {
        "id": "9fVjhA4_mXbF"
      },
      "source": [
        "### File reading using open-close"
      ]
    },
    {
      "cell_type": "code",
      "metadata": {
        "id": "S0bjxQlHbt8e"
      },
      "source": [
        "f= open(r\"testfile1.txt\",'r') # f is file object \n",
        "line=f.read() #read the ENTIRE contents of a file\n",
        "f.close() # Close the file\n",
        "print(line,type(line))"
      ],
      "execution_count": null,
      "outputs": []
    },
    {
      "cell_type": "code",
      "metadata": {
        "id": "_AU4wBORdivS"
      },
      "source": [
        "#%% Check what happens if a non-existing file is opened in reading mode\n",
        "f=open(\"file_test.txt\",'r')\n",
        "f.close()"
      ],
      "execution_count": null,
      "outputs": []
    },
    {
      "cell_type": "markdown",
      "metadata": {
        "id": "DEB62HaVic9d"
      },
      "source": [
        "### File reading using with\n",
        "\n",
        "It automatically closes the file when the loop is exited."
      ]
    },
    {
      "cell_type": "code",
      "metadata": {
        "id": "fvp8hBJgdsoz"
      },
      "source": [
        "with open('testfile1.txt') as f: # f is a file object\n",
        "    for line in f: # Read each line as text\n",
        "        print(line)\n",
        "        #print(line.strip()) # Remove trailing newline character"
      ],
      "execution_count": null,
      "outputs": []
    },
    {
      "cell_type": "code",
      "metadata": {
        "id": "-yHBXPDKpCqW"
      },
      "source": [
        "# Read from a file, write to another file \n",
        "with open('testfile1.txt', 'r') as f1:\n",
        "    with open('testfile2.txt', 'w') as f2:\n",
        "        for line in f1: # read from file testfile1.txt\n",
        "            line = line.strip().upper()\n",
        "            print(line, file=f2) # write to file testfile2.txt"
      ],
      "execution_count": null,
      "outputs": []
    },
    {
      "cell_type": "code",
      "metadata": {
        "id": "1_f1WTgCoGLn"
      },
      "source": [
        "# zip(): Read from multiple iterables simultaneously\n",
        "list1 = ['Apple','Cauliflower', 'Tomato', 'Lemon', 'Capsicum']\n",
        "list2 = ['Fruit','Vegetable','Red','Yellow','Green']\n",
        "print(list(zip(list1,list2)))"
      ],
      "execution_count": null,
      "outputs": []
    },
    {
      "cell_type": "code",
      "metadata": {
        "id": "XvvgZDOqZ1_-"
      },
      "source": [
        "# Read from two files, write to third file\n",
        "with open('testfile1.txt', 'r') as f1:\n",
        "    with open('testfile2.txt', 'r') as f2:\n",
        "        with open('testfile3.txt', 'w') as f3:\n",
        "            for line1,line2 in zip(f1,f2): #read from two files simultaneously\n",
        "                line1 = line1.strip()\n",
        "                line2 = line2.strip()\n",
        "                print(line1+\" => \"+line2, file=f3)"
      ],
      "execution_count": null,
      "outputs": []
    },
    {
      "cell_type": "markdown",
      "metadata": {
        "id": "OWAUuVken7_t"
      },
      "source": [
        "## File Appending\n",
        "\n",
        "'a' Append Mode. Append data to existing file. Create file, if not found"
      ]
    },
    {
      "cell_type": "code",
      "metadata": {
        "id": "VjC8-8fyoFb-"
      },
      "source": [
        "# Read from a file, then append to another file \n",
        "lst3 = ['Orange','Cherry']\n",
        "with open('testfile3.txt', 'a') as f3:\n",
        "      for item in lst3: # read from file testfile1.txt\n",
        "          print(item, file=f3) # append to file upper_testfile1.txt"
      ],
      "execution_count": null,
      "outputs": []
    },
    {
      "cell_type": "code",
      "metadata": {
        "id": "9rMXyVZvn-Jm"
      },
      "source": [
        "f1=open('testfile3.txt','a')\n",
        "f1.write('Berry\\n')\n",
        "print('Guava',file=f1)\n",
        "f1.close()"
      ],
      "execution_count": null,
      "outputs": []
    },
    {
      "cell_type": "markdown",
      "metadata": {
        "id": "rFNIDB9Qn5Wx"
      },
      "source": [
        "# More on file methods"
      ]
    },
    {
      "cell_type": "code",
      "metadata": {
        "id": "Wqp_5l7btEGQ"
      },
      "source": [
        "#read the ENTIRE contents of a file in a String\n",
        "f= open(r\"testfile1.txt\",'r') # f is file object \n",
        "line=f.read() \n",
        "f.close() # Close the file\n",
        "print(line)"
      ],
      "execution_count": null,
      "outputs": []
    },
    {
      "cell_type": "code",
      "metadata": {
        "id": "0dyOSzZgkFre"
      },
      "source": [
        "#%% read line-by-line \n",
        "f= open(\"testfile1.txt\",'r') # f is file object \n",
        "line1=f.readline() #read line-by-line, use .strip() to exclude \\n at end\n",
        "line2=f.readline() \n",
        "f.close()\n",
        "print(line1)\n",
        "print(line2)"
      ],
      "execution_count": null,
      "outputs": []
    },
    {
      "cell_type": "code",
      "metadata": {
        "id": "hF4uzydndTuS"
      },
      "source": [
        "# Read lines of a file into a list \n",
        "f= open(\"testfile1.txt\",'r') # f is file object \n",
        "all_lines=f.readlines()\n",
        "f.close()\n",
        "print(all_lines)"
      ],
      "execution_count": null,
      "outputs": []
    },
    {
      "cell_type": "markdown",
      "metadata": {
        "id": "ER4tQrPwmEg3"
      },
      "source": [
        "### tell() and seek()"
      ]
    },
    {
      "cell_type": "code",
      "metadata": {
        "id": "qvPUoDOVdXfQ"
      },
      "source": [
        "#%% f.tell() \n",
        "# returns an integer giving the file object's current position in the file\n",
        "f= open(\"testfile1.txt\",'r') # f is file object \n",
        "print(f.tell())\n",
        "line1=f.readline() # read line-by-line, use .strip() to exclude \\n at end\n",
        "print(f.tell())\n",
        "line2=f.readline() \n",
        "print(f.tell())\n",
        "f.close()"
      ],
      "execution_count": null,
      "outputs": []
    },
    {
      "cell_type": "code",
      "metadata": {
        "id": "KdysqvMGdbLk"
      },
      "source": [
        "# f.seek(new_position) \n",
        "#change the file object's position\n",
        "f= open(\"testfile1.txt\",'r') # f is file object \n",
        "print(f.tell())\n",
        "line1=f.readline() #read line-by-line, use .strip() to exclude \\n at end\n",
        "print(f.tell())\n",
        "f.seek(0) \n",
        "line2=f.readline() \n",
        "print(f.tell())\n",
        "f.close()\n",
        "print(line1)\n",
        "print(line2)"
      ],
      "execution_count": null,
      "outputs": []
    },
    {
      "cell_type": "code",
      "metadata": {
        "id": "ghSpkQMBeBEl"
      },
      "source": [
        "#%% Guess the outputs line1, line2, line3\n",
        "f= open(\"testfile1.txt\",'r') # f is file object \n",
        "print(f.tell())\n",
        "line1=f.readline() \n",
        "print(f.tell())\n",
        "f.seek(0)\n",
        "line2=f.readline() \n",
        "print(f.tell())\n",
        "line3=f.readline() \n",
        "print(f.tell())\n",
        "f.close()"
      ],
      "execution_count": null,
      "outputs": []
    }
  ]
}