{
  "nbformat": 4,
  "nbformat_minor": 0,
  "metadata": {
    "colab": {
      "provenance": [],
      "include_colab_link": true
    },
    "kernelspec": {
      "display_name": "Python 3",
      "language": "python",
      "name": "python3"
    },
    "language_info": {
      "codemirror_mode": {
        "name": "ipython",
        "version": 3
      },
      "file_extension": ".py",
      "mimetype": "text/x-python",
      "name": "python",
      "nbconvert_exporter": "python",
      "pygments_lexer": "ipython3",
      "version": "3.7.3"
    }
  },
  "cells": [
    {
      "cell_type": "markdown",
      "metadata": {
        "id": "view-in-github",
        "colab_type": "text"
      },
      "source": [
        "<a href=\"https://colab.research.google.com/github/RinkiGupta/ECE319/blob/master/lectures/1_1_Basic_Syntax_Variables.ipynb\" target=\"_parent\"><img src=\"https://colab.research.google.com/assets/colab-badge.svg\" alt=\"Open In Colab\"/></a>"
      ]
    },
    {
      "cell_type": "markdown",
      "metadata": {
        "id": "hPKxrbdxGuWR"
      },
      "source": [
        " # Basic Syntax\n",
        "\n",
        "Colab Environment:\n",
        "\n",
        "<center>\n",
        "\n",
        "<img src='https://github.com/RinkiGupta/ECE319/blob/master/res/m1_pic1_cells.png?raw=true' width=60%>\n",
        "\n",
        "</center>"
      ]
    },
    {
      "cell_type": "code",
      "metadata": {
        "id": "526UnjDvGuWT"
      },
      "source": [
        "# DIY: print a string using inbuilt function print\n"
      ],
      "execution_count": null,
      "outputs": []
    },
    {
      "cell_type": "markdown",
      "metadata": {
        "id": "1dYUFAXrGuWY"
      },
      "source": [
        "##  Comment\n",
        "*   Comments begin with a #\n",
        "*   They are not executed at runtime"
      ]
    },
    {
      "cell_type": "code",
      "metadata": {
        "id": "Ip1hR6AWGuWY"
      },
      "source": [
        "# print('Comment') \n",
        "print('Statement') # statement"
      ],
      "execution_count": null,
      "outputs": []
    },
    {
      "cell_type": "markdown",
      "metadata": {
        "id": "HBkPx1X848aF"
      },
      "source": [
        "# Variables"
      ]
    },
    {
      "cell_type": "markdown",
      "metadata": {
        "id": "x5dDaQOsVIZX"
      },
      "source": [
        "## Variable creation\n",
        "Variables are reserved memory locations.\n",
        "\n",
        "**Variables are created using value assignment**\n",
        "\n",
        "<center>\n",
        "<img src='https://github.com/RinkiGupta/ECE319/blob/master/res/m1_pic2_variable%20creation.PNG?raw=true' width=50%>\n",
        "</center>\n",
        "\n",
        "Variable names\n",
        "*   may begin with alphabets\n",
        "*   may contain alphanumeric characters and special character _\n",
        "*   are case sensitive"
      ]
    },
    {
      "cell_type": "code",
      "metadata": {
        "id": "cScb8K0p_tt9"
      },
      "source": [
        "var1 = 10"
      ],
      "execution_count": null,
      "outputs": []
    },
    {
      "cell_type": "code",
      "metadata": {
        "id": "uTWwL_OM5B8r"
      },
      "source": [
        "print(var1)"
      ],
      "execution_count": null,
      "outputs": []
    },
    {
      "cell_type": "markdown",
      "metadata": {
        "id": "EI1yQBJyPy4m"
      },
      "source": [
        "## Variable reassignment"
      ]
    },
    {
      "cell_type": "code",
      "metadata": {
        "id": "e3tt7d7efgLb"
      },
      "source": [
        "# DIY: Create var1 containing a string and print the variable\n"
      ],
      "execution_count": null,
      "outputs": []
    },
    {
      "cell_type": "markdown",
      "metadata": {
        "id": "m7o0LHNx48aG"
      },
      "source": [
        "You need to create variable before using it"
      ]
    },
    {
      "cell_type": "code",
      "metadata": {
        "id": "8Gj54oLxQnc_"
      },
      "source": [
        "var2=1.2\n",
        "print(var2)"
      ],
      "execution_count": null,
      "outputs": []
    },
    {
      "cell_type": "markdown",
      "metadata": {
        "id": "hGmZyJKNRIA1"
      },
      "source": [
        "## Multiple variable assignment"
      ]
    },
    {
      "cell_type": "code",
      "metadata": {
        "id": "xWrqHDOnRHHv"
      },
      "source": [
        "var0=var1=10\n",
        "print(var0)\n",
        "print(var1)"
      ],
      "execution_count": null,
      "outputs": []
    },
    {
      "cell_type": "code",
      "metadata": {
        "id": "pbxoo8GWRYyA"
      },
      "source": [
        "var0,var1 = 'Hello',10 # Tuple assignment\n",
        "print(var0)\n",
        "print(var1)"
      ],
      "execution_count": null,
      "outputs": []
    },
    {
      "cell_type": "markdown",
      "metadata": {
        "id": "NVUZKyFIR0m4"
      },
      "source": [
        "## Delete a Variable"
      ]
    },
    {
      "cell_type": "code",
      "metadata": {
        "id": "nSrVVhCnUlGl"
      },
      "source": [
        "print(var0)\n",
        "print(var1)\n",
        "print('Deleting variables var0, var1...')\n",
        "del var0, var1\n",
        "print(var0) # cannot call variable after deleting\n",
        "print(var1)"
      ],
      "execution_count": null,
      "outputs": []
    },
    {
      "cell_type": "markdown",
      "metadata": {
        "id": "oGo-ys7Fhm2Z"
      },
      "source": [
        "## Reserved Words\n",
        "\n",
        "* Reserved words (or keywords) are defined with predefined meaning and syntax in the language.\n",
        "* Reserved words can’t be used as identifiers for other programming elements like name of variable, function etc.\n",
        "* Python 3 has 33 keywords\n",
        "\n",
        "<center>\n",
        "<img src='https://github.com/RinkiGupta/ECE319/blob/master/res/m1_pic3_reserved%20words.png?raw=true' width=75%>\n",
        "</center>\n",
        "\n",
        "\n",
        "\n"
      ]
    },
    {
      "cell_type": "code",
      "metadata": {
        "id": "bFVcc7eJGuW-"
      },
      "source": [
        "del=2 # del is a reserved word"
      ],
      "execution_count": null,
      "outputs": []
    },
    {
      "cell_type": "markdown",
      "metadata": {
        "id": "5Nov-UEi5VZv"
      },
      "source": [
        "# More on print()"
      ]
    },
    {
      "cell_type": "markdown",
      "metadata": {
        "id": "8634C4X0vPbf"
      },
      "source": [
        "## Print Single Variable"
      ]
    },
    {
      "cell_type": "code",
      "metadata": {
        "id": "riA1JAxIvLrI"
      },
      "source": [
        "var1=10\n",
        "print(var1)\n",
        "print('Var1=',var1)\n",
        "print('Var1=%d' %var1)\n",
        "print('Var1={}'.format(var1))"
      ],
      "execution_count": null,
      "outputs": []
    },
    {
      "cell_type": "markdown",
      "metadata": {
        "id": "k02gDAjovTS7"
      },
      "source": [
        "## Print Multiple Variables"
      ]
    },
    {
      "cell_type": "code",
      "metadata": {
        "id": "ZpUuZjBlvVZ5"
      },
      "source": [
        "var2=20.518\n",
        "print('Var1=',var1,' Var2=',var2)\n",
        "print('Var1=%d, Var2=%f' %(var1,var2))\n",
        "print('Var1=%d, Var2=%.2f' %(var1,var2))\n",
        "print('Var1={}, Var2={}'.format(var1,var2))"
      ],
      "execution_count": null,
      "outputs": []
    },
    {
      "cell_type": "markdown",
      "metadata": {
        "id": "NneYiHcuvZ-R"
      },
      "source": [
        "## print() Parameters: sep, end"
      ]
    },
    {
      "cell_type": "code",
      "metadata": {
        "id": "eWQzH0iBvawG"
      },
      "source": [
        "# change separator using sep\n",
        "print('Var1=,',var1,' Var2=',var2)\n",
        "print('Var1=,',var1,' Var2=',var2,sep='---')"
      ],
      "execution_count": null,
      "outputs": []
    },
    {
      "cell_type": "code",
      "metadata": {
        "id": "Jh9vV9blvc6J"
      },
      "source": [
        "'''\n",
        "end parameter of print()\n",
        "The print() function accepts an optional parameter known as end of line \n",
        "Its value is new_line by default. We can change the end character in a print statement with the value of our choice using this parameter.\n",
        "'''\n",
        "print(\"Let's learn\",end='...')  \n",
        "print(\"Python\") \n",
        "print('is Great')"
      ],
      "execution_count": null,
      "outputs": []
    },
    {
      "cell_type": "markdown",
      "source": [
        "# Practice"
      ],
      "metadata": {
        "id": "eiDyb5YeIWDA"
      }
    },
    {
      "cell_type": "markdown",
      "source": [
        "Q. Which of the following syntax would print 20.10.2020?\n",
        "  1. print('20'+'10'+'2020', end='.')\n",
        "  2. print('20'+'10'+'2020', sep='.')\n",
        "  3. print('20','10','2020', end='.')\n",
        "  4. print('20','10','2020', sep='.')\n"
      ],
      "metadata": {
        "id": "oJA4LZ3NIYD3"
      }
    }
  ]
}