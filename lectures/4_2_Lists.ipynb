{
  "nbformat": 4,
  "nbformat_minor": 0,
  "metadata": {
    "colab": {
      "name": "4_2_Lists.ipynb",
      "provenance": [],
      "collapsed_sections": [],
      "include_colab_link": true
    },
    "kernelspec": {
      "name": "python3",
      "display_name": "Python 3"
    }
  },
  "cells": [
    {
      "cell_type": "markdown",
      "metadata": {
        "id": "view-in-github",
        "colab_type": "text"
      },
      "source": [
        "<a href=\"https://colab.research.google.com/github/RinkiGupta/ECE319/blob/master/lectures/4_2_Lists.ipynb\" target=\"_parent\"><img src=\"https://colab.research.google.com/assets/colab-badge.svg\" alt=\"Open In Colab\"/></a>"
      ]
    },
    {
      "cell_type": "markdown",
      "metadata": {
        "id": "AOxFc2xIBWQr"
      },
      "source": [
        "# List\n",
        " \n",
        "*   A list has comma-separated values (items) between square brackets.\n",
        "*   List may contain values of different data types.\n",
        "*   List allows duplicate items."
      ]
    },
    {
      "cell_type": "code",
      "metadata": {
        "id": "1RqTDz9e4Op9"
      },
      "source": [
        "# create a list\n",
        "my_list = ['an','an','the',1,2.0,True,[3,'a',2]]\n",
        "print(my_list, type(my_list))\n",
        "print('Number of elements in my_list: ',len(my_list)) "
      ],
      "execution_count": null,
      "outputs": []
    },
    {
      "cell_type": "code",
      "metadata": {
        "id": "10EPEIhLtM4i"
      },
      "source": [
        "my_list[0]"
      ],
      "execution_count": null,
      "outputs": []
    },
    {
      "cell_type": "code",
      "metadata": {
        "id": "7Y6jcTS44PlF"
      },
      "source": [
        "# Lists are mutable\n",
        "my_list[0] = 'a'\n",
        "print(my_list, type(my_list))"
      ],
      "execution_count": null,
      "outputs": []
    },
    {
      "cell_type": "markdown",
      "metadata": {
        "id": "9Q_grEGkCFwW"
      },
      "source": [
        "# Accessing\n",
        "* List is a built-in sequence type.\n",
        "* It is an ordered sequence, which is index-accessible.\n"
      ]
    },
    {
      "cell_type": "code",
      "metadata": {
        "id": "kmRpHfIeCaIH"
      },
      "source": [
        "#%% list slicing var_name[start:end:stride]\n",
        "weekdays = ['mon','tues','wed','thurs','fri']\n",
        "s1 = weekdays[0] \n",
        "print(s1,type(s1))"
      ],
      "execution_count": null,
      "outputs": []
    },
    {
      "cell_type": "code",
      "metadata": {
        "id": "fSWXg32OD_LG"
      },
      "source": [
        "s2=weekdays[0:3] \n",
        "print(s2,type(s2))"
      ],
      "execution_count": null,
      "outputs": []
    },
    {
      "cell_type": "code",
      "metadata": {
        "id": "GvZHPFInEC-b"
      },
      "source": [
        "print(weekdays[:3]) # elements 0, 1, 2\n",
        "print(weekdays[3:]) # elements 3, 4\n",
        "print(weekdays[::2]) # every 2nd element (0, 2, 4)"
      ],
      "execution_count": null,
      "outputs": []
    },
    {
      "cell_type": "code",
      "metadata": {
        "id": "CbhwKeRTePDu"
      },
      "source": [
        "print(weekdays[-1]) # last element (element 4)\n",
        "print(weekdays[-2:]) # last two elements \n",
        "print(weekdays[:-2]) # except last two elements \n",
        "print(weekdays[::-1]) # backwards (4, 3, 2, 1, 0)"
      ],
      "execution_count": null,
      "outputs": []
    },
    {
      "cell_type": "code",
      "metadata": {
        "id": "pzIP0CoAElDJ"
      },
      "source": [
        "# A list that we defined earlier\n",
        "print(my_list, type(my_list))"
      ],
      "execution_count": null,
      "outputs": []
    },
    {
      "cell_type": "code",
      "metadata": {
        "id": "eCRVdL7XEpDM"
      },
      "source": [
        "## Guess the outputs\n",
        "print(my_list[-1])\n",
        "print(my_list[-1][1])"
      ],
      "execution_count": null,
      "outputs": []
    },
    {
      "cell_type": "markdown",
      "metadata": {
        "id": "a65NNJT-IqTh"
      },
      "source": [
        "# List Methods\n",
        "\n",
        "These are all of the methods of list objects:"
      ]
    },
    {
      "cell_type": "code",
      "metadata": {
        "id": "1e89T4CdJLFO"
      },
      "source": [
        "# create an empty list (two ways)\n",
        "months = []\n",
        "months1 = list()\n",
        "print(months,type(months))\n",
        "print(months1,type(months1))"
      ],
      "execution_count": null,
      "outputs": []
    },
    {
      "cell_type": "code",
      "metadata": {
        "id": "lOM86K1cJYUh"
      },
      "source": [
        "months.append('Jan')  # append element to end\n",
        "print('After Append:', months)"
      ],
      "execution_count": null,
      "outputs": []
    },
    {
      "cell_type": "code",
      "metadata": {
        "id": "KiPYZnpBJqHS"
      },
      "source": [
        "months.append('Feb')  # append element to end\n",
        "print('Again Append:', months) "
      ],
      "execution_count": null,
      "outputs": []
    },
    {
      "cell_type": "code",
      "metadata": {
        "id": "Kj0FWjfAJjJh"
      },
      "source": [
        "months.extend(['May', 'Apr', 'Apr','May','Apr']) # Extend the list by appending all the items from the iterable\n",
        "print('Extend:', months) "
      ],
      "execution_count": null,
      "outputs": []
    },
    {
      "cell_type": "code",
      "metadata": {
        "id": "2UMtapqnKUGM"
      },
      "source": [
        "months.insert(2, 'Mar') # insert element at a particular index (shifts everything right)\n",
        "print('Insert:', months) "
      ],
      "execution_count": null,
      "outputs": []
    },
    {
      "cell_type": "code",
      "metadata": {
        "id": "NRXwGVOlKkcq"
      },
      "source": [
        "months.remove('Apr') # searches for first instance and removes it\n",
        "print('Remove:', months) "
      ],
      "execution_count": null,
      "outputs": []
    },
    {
      "cell_type": "code",
      "metadata": {
        "id": "x9Ts180KLOb1"
      },
      "source": [
        "out=months.pop(3) # removes element 3 and returns it\n",
        "print('Popped:', out) \n",
        "print('After Pop:', months) "
      ],
      "execution_count": null,
      "outputs": []
    },
    {
      "cell_type": "code",
      "metadata": {
        "id": "mQTGEEcJLd87"
      },
      "source": [
        "print(months.count('Apr'))  # number of occurances\n",
        "print(months.count('Jun'))  # number of occurances"
      ],
      "execution_count": null,
      "outputs": []
    },
    {
      "cell_type": "code",
      "metadata": {
        "id": "hTNZZPkUNkdz"
      },
      "source": [
        "print(months.index('Apr')) # returns index of first instance"
      ],
      "execution_count": null,
      "outputs": []
    },
    {
      "cell_type": "code",
      "metadata": {
        "id": "CJtn-0hlO2I5"
      },
      "source": [
        "months1= months.copy() #Return a Copy of the list\n",
        "print('Copy: ',months1)"
      ],
      "execution_count": null,
      "outputs": []
    },
    {
      "cell_type": "code",
      "metadata": {
        "id": "jGACqyBmPLf0"
      },
      "source": [
        "# sort a list in place (modifies but does not return the list)\n",
        "months1.sort()\n",
        "print('Sort: ',months1)"
      ],
      "execution_count": null,
      "outputs": []
    },
    {
      "cell_type": "code",
      "metadata": {
        "id": "QLr7LDjsOhrc"
      },
      "source": [
        "# Return a sorted list (but does not modify the original list)\n",
        "print('Sorted function: ',sorted(months))\n",
        "print('Original: ',months)"
      ],
      "execution_count": null,
      "outputs": []
    },
    {
      "cell_type": "code",
      "metadata": {
        "id": "6FZuQNuKTqcw"
      },
      "source": [
        "# Delete elements of list\n",
        "print('Original: ',months)\n",
        "del months[1]\n",
        "print('del months[1]: ',months)\n",
        "del months[:3]\n",
        "print('del months[:3]: ',months)\n",
        "del months[:]\n",
        "print('del months[:]: ',months)"
      ],
      "execution_count": null,
      "outputs": []
    },
    {
      "cell_type": "markdown",
      "metadata": {
        "id": "rgEBA0eCPwDy"
      },
      "source": [
        "# Basic List Operations"
      ]
    },
    {
      "cell_type": "code",
      "metadata": {
        "id": "WetRBHNdPvva"
      },
      "source": [
        "print([1, 2, 3] + [4, 5, 6]) # conatenate +\n",
        "print([\"a\"] * 2 + [\"b\"] * 3) # replicate *\n",
        "eg1 = ['a',1,'an',2.0,'the',1+2j] # mixed data-types\n",
        "print('a' in eg1) # Membership\n",
        "print(1.1 in eg1) # Membership"
      ],
      "execution_count": null,
      "outputs": []
    },
    {
      "cell_type": "markdown",
      "metadata": {
        "id": "ZQvyzmK3Rir2"
      },
      "source": [
        "# List as an iterable"
      ]
    },
    {
      "cell_type": "code",
      "metadata": {
        "id": "SO2ajpcuRncY"
      },
      "source": [
        "my_list = [1,2,'Jan','Feb',['Mar',10]]\n",
        "for x in my_list: # Iteration\n",
        "    print(x)"
      ],
      "execution_count": null,
      "outputs": []
    },
    {
      "cell_type": "markdown",
      "metadata": {
        "id": "dK-woOMtSCaE"
      },
      "source": [
        "**List Comprehensions** are concise way to create lists. \n",
        "\n",
        "Used to make new lists where each element is the result of some operations applied to each member of another sequence or iterable, or to create a subsequence of those elements that satisfy a certain condition."
      ]
    },
    {
      "cell_type": "code",
      "metadata": {
        "id": "9NfKThgHR1A5"
      },
      "source": [
        "sqr = [x**2 for x in range(6)]\n",
        "print(sqr)"
      ],
      "execution_count": null,
      "outputs": []
    },
    {
      "cell_type": "code",
      "metadata": {
        "id": "QquR2SxISYS8"
      },
      "source": [
        "list1 = [1,5,20,4,3,2] \n",
        "even = [x for x in list1 if x%2==0]\n",
        "print(even)"
      ],
      "execution_count": null,
      "outputs": []
    },
    {
      "cell_type": "code",
      "metadata": {
        "id": "ksEOwGmdTBAn"
      },
      "source": [
        "# Create list from string\n",
        "s1='Python is Fun'\n",
        "s2=list(s1) #string to list\n",
        "print(s2)\n",
        "s2a=s1.split(\" \") #string to list\n",
        "print(s2a)"
      ],
      "execution_count": null,
      "outputs": []
    }
  ]
}