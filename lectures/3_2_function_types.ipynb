{
  "cells": [
    {
      "cell_type": "markdown",
      "metadata": {
        "id": "view-in-github",
        "colab_type": "text"
      },
      "source": [
        "<a href=\"https://colab.research.google.com/github/RinkiGupta/ECE319/blob/master/lectures/3_2_function_types.ipynb\" target=\"_parent\"><img src=\"https://colab.research.google.com/assets/colab-badge.svg\" alt=\"Open In Colab\"/></a>"
      ]
    },
    {
      "cell_type": "markdown",
      "metadata": {
        "id": "KO-DahaNNCyT"
      },
      "source": [
        "# Types of Functions\n",
        "\n",
        "There are 3 types of functions in Python:\n",
        "\n",
        "* Built-in functions, such as print(), len(), type()\n",
        "* User-Defined Functions: Declared with **def** keyword.\n",
        "* Anonymous functions (also called **lambda** functions) because they are not declared with the standard def keyword."
      ]
    },
    {
      "cell_type": "code",
      "execution_count": null,
      "metadata": {
        "id": "R0HdkHxcM1GM",
        "outputId": "8c1922de-f3a6-423c-f823-e8b9aa9ccbdc"
      },
      "outputs": [
        {
          "name": "stdout",
          "output_type": "stream",
          "text": [
            "<class 'function'>\n",
            "25\n"
          ]
        }
      ],
      "source": [
        "# User-defined function\n",
        "def square(x):\n",
        "   return x**2\n",
        "print(type(square))\n",
        "print(square(5))"
      ]
    },
    {
      "cell_type": "markdown",
      "metadata": {
        "id": "jgxFe6i5USLu"
      },
      "source": [
        "## Anonymous/unnamed/lambda function\n",
        "\n",
        "In Python we can also create unnamed functions, using the `lambda` keyword.\n",
        "\n",
        "* Lambda function has no function name and can only contain one expression.\n",
        "\n",
        "* Lambda definition does not include a “return” statement, it always contains an expression which is returned.\n",
        "\n",
        "* This technique is useful for example when we want to pass a simple function as an argument to another function.\n",
        "\n",
        "General syntax is:\n",
        "\n",
        "`lambda arguments: expression`\n"
      ]
    },
    {
      "cell_type": "code",
      "execution_count": null,
      "metadata": {
        "id": "aG4eTioWN9YX",
        "outputId": "46f4fa1d-d173-40e5-d314-a966997105ba"
      },
      "outputs": [
        {
          "name": "stdout",
          "output_type": "stream",
          "text": [
            "<class 'function'>\n",
            "25\n"
          ]
        }
      ],
      "source": [
        "# Anonymous Function/ Lambda Function\n",
        "sq = lambda x: x**2\n",
        "print(type(sq))\n",
        "print(sq(5))"
      ]
    },
    {
      "cell_type": "code",
      "execution_count": null,
      "metadata": {
        "id": "lGN4hVUWSqe_",
        "outputId": "bd5a4271-18f4-41cd-ef00-414ad549a1bb"
      },
      "outputs": [
        {
          "name": "stdout",
          "output_type": "stream",
          "text": [
            "[144, 100, 4, 16, 9]\n"
          ]
        }
      ],
      "source": [
        "# The map() function executes a specified function for each item in an iterable.\n",
        "# map(function, iterables)\n",
        "\n",
        "lst1= [12,10,2,4,3]\n",
        "lst2 = list(map(lambda x: x**2, lst1))\n",
        "print(lst2)"
      ]
    },
    {
      "cell_type": "code",
      "execution_count": null,
      "metadata": {
        "id": "iQjyUdyQO1bP",
        "outputId": "6d36bb5a-6adb-4f2a-9023-6f5fd63bfff9"
      },
      "outputs": [
        {
          "name": "stdout",
          "output_type": "stream",
          "text": [
            "<class 'function'>\n",
            "25\n"
          ]
        }
      ],
      "source": [
        "# A lambda function can take any number of arguments, but can only have one expression.\n",
        "pow1 = lambda a,b: a**b\n",
        "print(type(pow1))\n",
        "print(pow1(5,2))"
      ]
    },
    {
      "cell_type": "markdown",
      "metadata": {
        "id": "m-Ie2VM5P3_p"
      },
      "source": [
        "# Global and Local Variables\n",
        "\n",
        "The part of a program where a variable is accessible is called its **scope**.\n",
        "* Variables that are defined outside a function have a **global scope**. Global variables can be obtained by all functions that might be in your script.\n",
        "* Variables that are defined inside a function have a **local scope**. Local variables are defined within a function block and can only be accessed inside that function\n",
        "\n",
        "\n",
        "  <img src='https://github.com/RinkiGupta/ECE319/blob/master/res/local_global.png?raw=true' width=30%>"
      ]
    },
    {
      "cell_type": "code",
      "execution_count": null,
      "metadata": {
        "id": "LtztbYSNPGZ4"
      },
      "outputs": [],
      "source": [
        "x = 10  #Global Variable\n",
        "print('1. Outside function, x = ',x)\n",
        "\n",
        "def increment(a):\n",
        "    y=1 #Local variable\n",
        "    print('2. Inside function, x= ',x) # Can access x\n",
        "    print('3. Inside function, y= ',y)\n",
        "    y=y+a\n",
        "    print('4. Incremented value, y= ',y)\n",
        "\n",
        "increment(2)\n",
        "print('5. Outside function again, x= ',x)\n",
        "print('6. Outside function, y= ',y)"
      ]
    },
    {
      "cell_type": "code",
      "execution_count": null,
      "metadata": {
        "id": "I4U8W0g5S1Pd"
      },
      "outputs": [],
      "source": [
        "x = 10  #Global Variable\n",
        "print('1. Outside function, x = ',x)\n",
        "\n",
        "def increment(a):\n",
        "    y=1 #Local variable\n",
        "    x=20 #Local variable\n",
        "    print('2. Inside function, x= ',x) # Access Local variable x\n",
        "    print('3. Inside function, y= ',y)\n",
        "    y=y+a\n",
        "    print('4. Incremented value, y= ',y)\n",
        "\n",
        "increment(2)\n",
        "print('5. Outside function again, x= ',x) #Global variable x"
      ]
    },
    {
      "cell_type": "code",
      "execution_count": null,
      "metadata": {
        "id": "v88xFVqxRRCm"
      },
      "outputs": [],
      "source": [
        "x = 10  #Global Variable\n",
        "print('1. Outside function, x = ',x)\n",
        "\n",
        "def increment(a):\n",
        "    y=1 #Local variable\n",
        "    x=20 #Local variable\n",
        "    print('2. Inside function, x= ',x)\n",
        "    print('3. Inside function, y= ',y)\n",
        "    y=y+a\n",
        "    x=x+a #Local variable\n",
        "    print('4. Incremented value, y= ',y)\n",
        "    print('5. Incremented value, x= ',x)\n",
        "\n",
        "increment(2)\n",
        "print('6. Outside function again, x= ',x)"
      ]
    },
    {
      "cell_type": "markdown",
      "metadata": {
        "id": "wVu5mlMTV3yH"
      },
      "source": [
        "# Global keyword\n",
        "\n",
        "We **`global`** keyword to read and write a global variable inside a function.\n",
        "\n",
        "Use of `global` keyword outside a function has no effect"
      ]
    },
    {
      "cell_type": "code",
      "execution_count": null,
      "metadata": {
        "id": "3N43ZHIiTojR"
      },
      "outputs": [],
      "source": [
        "x = 10  #Global Variable\n",
        "print('1. Outside function, x = ',x)\n",
        "\n",
        "def increment(a):\n",
        "    y=1 #Local variable\n",
        "    global x #Change Scope to global\n",
        "    print('2. Inside function, x= ',x)\n",
        "    print('3. Inside function, y= ',y)\n",
        "    y=y+a\n",
        "    x=x+a #Declared global\n",
        "    print('4. Incremented value, y= ',y)\n",
        "    print('5. Incremented value, x= ',x)\n",
        "\n",
        "increment(2)\n",
        "print('6. Outside function again, x= ',x)"
      ]
    },
    {
      "cell_type": "code",
      "execution_count": null,
      "metadata": {
        "id": "MdqnNr4TWfto"
      },
      "outputs": [],
      "source": [
        "x = 10  #Global Variable\n",
        "print('1. Outside function, x = ',x)\n",
        "global x # no effect\n",
        "def increment(a):\n",
        "    y=1 #Local variable\n",
        "    #global x\n",
        "    print('2. Inside function, x= ',x)\n",
        "    print('3. Inside function, y= ',y)\n",
        "    y=y+a\n",
        "    x=x+a #Local variable\n",
        "    print('4. Incremented value, y= ',y)\n",
        "    print('5. Incremented value, x= ',x)\n",
        "\n",
        "increment(2)\n",
        "print('6. Outside function again, x= ',x)"
      ]
    },
    {
      "cell_type": "markdown",
      "metadata": {
        "id": "Zv9Hik7ZYmhK"
      },
      "source": [
        "# Modules\n",
        "\n",
        "* A module is a file consisting of Python code.\n",
        "* A module can define functions, classes and variables. A module can also include runnable code.\n",
        "\n",
        "**Library** is a collection of modules."
      ]
    },
    {
      "cell_type": "markdown",
      "metadata": {
        "id": "EtAOjPHUZKfG"
      },
      "source": [
        "**Example: Math Module**\n",
        "\n",
        "This module provides access to the mathematical functions defined by the C standard.\n",
        "\n",
        "https://docs.python.org/3/library/math.html\n",
        "\n",
        "The **import** statement adds the object to the current scope of your program."
      ]
    },
    {
      "cell_type": "code",
      "execution_count": null,
      "metadata": {
        "id": "WEGBpeWjYlXo",
        "outputId": "524435ea-9930-45d7-ecc7-7be54e9afbe7"
      },
      "outputs": [
        {
          "name": "stdout",
          "output_type": "stream",
          "text": [
            "1.0\n",
            "0.0\n",
            "1.2246467991473532e-16\n",
            "120\n"
          ]
        }
      ],
      "source": [
        "#%% Module\n",
        "import math  #Gain access to code from math module\n",
        "print( math.log(math.e) )\n",
        "print( math.sin(0) )\n",
        "print( math.sin(math.pi) )\n",
        "print( math.factorial(5) )"
      ]
    },
    {
      "cell_type": "code",
      "execution_count": null,
      "metadata": {
        "id": "CKww2qF_Z8AT"
      },
      "outputs": [],
      "source": [
        "import math as ma # define an abbreviation for module name\n",
        "print( ma.log10(10) )\n",
        "print( ma.sqrt(4) )\n",
        "print( ma.cos(0) )\n",
        "print( ma.cos(ma.pi) )"
      ]
    },
    {
      "cell_type": "code",
      "execution_count": null,
      "metadata": {
        "id": "He8TiK5yZ-MU"
      },
      "outputs": [],
      "source": [
        "# Specify both the code to be imported along with the module where it is contained\n",
        "from math import pi\n",
        "print(\"The value of pi is\", pi)"
      ]
    },
    {
      "cell_type": "code",
      "execution_count": null,
      "metadata": {
        "id": "mZiXWsCFaAHx"
      },
      "outputs": [],
      "source": [
        "from math import pi,sin, cos\n",
        "def sincos(ang):\n",
        "    return sin(ang),cos(ang)\n",
        "print( sincos(pi))"
      ]
    },
    {
      "cell_type": "markdown",
      "metadata": {
        "id": "nWNmXO3WdON6"
      },
      "source": [
        "# Practice Programs\n",
        "\n",
        "1. Write a function that returns the number of vowels in a string\n",
        "\n",
        "2. Write a function that returns the grade in a subject, given the score in the subject.\n",
        "\n",
        "Eg. 0-40: C, 41:60: B, 61:70: A, 71-100:A+\n",
        "\n",
        "3. Write a function that returns an email id given the name and surname of the person.\n",
        "(use lambda function)\n",
        "\n",
        "Eg. Rinki Gupta: rgupta@xyz.co.in\n"
      ]
    },
    {
      "cell_type": "code",
      "execution_count": null,
      "metadata": {
        "id": "oto_7qHpo-FZ"
      },
      "outputs": [],
      "source": []
    }
  ],
  "metadata": {
    "colab": {
      "provenance": [],
      "include_colab_link": true
    },
    "kernelspec": {
      "display_name": "Python 3",
      "language": "python",
      "name": "python3"
    },
    "language_info": {
      "codemirror_mode": {
        "name": "ipython",
        "version": 3
      },
      "file_extension": ".py",
      "mimetype": "text/x-python",
      "name": "python",
      "nbconvert_exporter": "python",
      "pygments_lexer": "ipython3",
      "version": "3.7.2"
    }
  },
  "nbformat": 4,
  "nbformat_minor": 0
}