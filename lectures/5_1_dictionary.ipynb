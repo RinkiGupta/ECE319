{
  "nbformat": 4,
  "nbformat_minor": 0,
  "metadata": {
    "kernelspec": {
      "display_name": "Python 3",
      "language": "python",
      "name": "python3"
    },
    "language_info": {
      "codemirror_mode": {
        "name": "ipython",
        "version": 3
      },
      "file_extension": ".py",
      "mimetype": "text/x-python",
      "name": "python",
      "nbconvert_exporter": "python",
      "pygments_lexer": "ipython3",
      "version": "3.6.4"
    },
    "colab": {
      "provenance": [],
      "include_colab_link": true
    }
  },
  "cells": [
    {
      "cell_type": "markdown",
      "metadata": {
        "id": "view-in-github",
        "colab_type": "text"
      },
      "source": [
        "<a href=\"https://colab.research.google.com/github/RinkiGupta/ECE319/blob/master/lectures/5_1_dictionary.ipynb\" target=\"_parent\"><img src=\"https://colab.research.google.com/assets/colab-badge.svg\" alt=\"Open In Colab\"/></a>"
      ]
    },
    {
      "cell_type": "markdown",
      "metadata": {
        "id": "UZOew8p5vqsY"
      },
      "source": [
        "# Dictionary\n",
        "\n",
        "Dictionary is container datatype, which is unordered collection of items (thus no index accessing).\n",
        "\n",
        "Each item of a dictionary has a key:value pair."
      ]
    },
    {
      "cell_type": "markdown",
      "metadata": {
        "id": "v0KcdsvEyi-3"
      },
      "source": [
        "## Dictionary Creation\n",
        "\n",
        "* key:value pairs in {}\n",
        "* Empty curly bracket {}\n",
        "* dict() constructor\n",
        "* list of tuples with dict() constructor\n",
        "* dict comprehension\n"
      ]
    },
    {
      "cell_type": "code",
      "metadata": {
        "id": "kf8RtwsOq0w4",
        "colab": {
          "base_uri": "https://localhost:8080/"
        },
        "outputId": "42b4025a-b02c-4bd3-a2c7-c6931b6bb47a"
      },
      "source": [
        "# specify key:value pairs in {}\n",
        "d1 = {1: 'Jan', 2: 'Feb', 3: 'Mar'}\n",
        "print(d1,type(d1))"
      ],
      "execution_count": null,
      "outputs": [
        {
          "output_type": "stream",
          "name": "stdout",
          "text": [
            "{1: 'Jan', 2: 'Feb', 3: 'Mar'} <class 'dict'>\n"
          ]
        }
      ]
    },
    {
      "cell_type": "code",
      "metadata": {
        "id": "fbHyjecMx72W",
        "colab": {
          "base_uri": "https://localhost:8080/"
        },
        "outputId": "3ee90e5b-9dc0-4460-ed8e-530aad4c885e"
      },
      "source": [
        "d1 = {}\n",
        "print('d1: ',d1,type(d1))\n",
        "d2 = dict()\n",
        "print('d2: ',d2,type(d2))"
      ],
      "execution_count": null,
      "outputs": [
        {
          "output_type": "stream",
          "name": "stdout",
          "text": [
            "d1:  {} <class 'dict'>\n",
            "d2:  {} <class 'dict'>\n"
          ]
        }
      ]
    },
    {
      "cell_type": "code",
      "metadata": {
        "id": "-81cy13QqVdv",
        "colab": {
          "base_uri": "https://localhost:8080/"
        },
        "outputId": "e578fe04-1e70-4f99-f951-d2798be30bd7"
      },
      "source": [
        "# dictionary from list of keys and list of values\n",
        "lst_dates=[1,2,3] #list of keys\n",
        "lst_months=['Jan','Feb','Mar'] #list of values\n",
        "list_tup =  list(zip(lst_dates,lst_months))\n",
        "print(list_tup)"
      ],
      "execution_count": null,
      "outputs": [
        {
          "output_type": "stream",
          "name": "stdout",
          "text": [
            "[(1, 'Jan'), (2, 'Feb'), (3, 'Mar')]\n"
          ]
        }
      ]
    },
    {
      "cell_type": "code",
      "metadata": {
        "id": "vT-gs7Amvqsg",
        "colab": {
          "base_uri": "https://localhost:8080/"
        },
        "outputId": "39a8159b-19d6-4357-b91e-94f5d766c8e4"
      },
      "source": [
        "# dictionary from list of tuples\n",
        "d2 = dict(list_tup)\n",
        "print(d2)"
      ],
      "execution_count": null,
      "outputs": [
        {
          "output_type": "stream",
          "name": "stdout",
          "text": [
            "{1: 'Jan', 2: 'Feb', 3: 'Mar'}\n"
          ]
        }
      ]
    },
    {
      "cell_type": "code",
      "metadata": {
        "id": "zs57r0FlmA4U",
        "colab": {
          "base_uri": "https://localhost:8080/"
        },
        "outputId": "98b33800-d49f-48ab-de55-48d446d51906"
      },
      "source": [
        "# dict comprehension\n",
        "dct2 = {k: k**2 for k in range(1,6)}\n",
        "print(dct2)"
      ],
      "execution_count": null,
      "outputs": [
        {
          "output_type": "stream",
          "name": "stdout",
          "text": [
            "{1: 1, 2: 4, 3: 9, 4: 16, 5: 25}\n"
          ]
        }
      ]
    },
    {
      "cell_type": "markdown",
      "metadata": {
        "id": "9adQXmLt0LG8"
      },
      "source": [
        "Keys:\n",
        "* can be any immutable type- strings, numbers and tuples if the tuple contains immutable datatype item.\n",
        "* have to be unique (no duplication of keys)\n",
        "\n",
        "Values:\n",
        "* may be any datatype. Mixed datatypes are allowed.\n",
        "* duplication of values is allowed."
      ]
    },
    {
      "cell_type": "code",
      "metadata": {
        "id": "olleNq-QvqsZ",
        "colab": {
          "base_uri": "https://localhost:8080/"
        },
        "outputId": "40b77b7a-756f-4899-c8f1-eb17e42c2865"
      },
      "source": [
        "dct1 = {2:'human', 4:['dog','horse','lion'],'spider':8,(0,):'dolphin'}\n",
        "print('dct1: ',dct1,type(dct1))\n",
        "print('Number of items (key-value pairs) in dct1: ',len(dct1))"
      ],
      "execution_count": null,
      "outputs": [
        {
          "output_type": "stream",
          "name": "stdout",
          "text": [
            "dct1:  {2: 'human', 4: ['dog', 'horse', 'lion'], 'spider': 8, (0,): 'dolphin'} <class 'dict'>\n",
            "Number of items (key-value pairs) in dct1:  4\n"
          ]
        }
      ]
    },
    {
      "cell_type": "markdown",
      "metadata": {
        "id": "aSWFQlfdvqsd"
      },
      "source": [
        "## Accessing by key\n",
        "\n",
        "dictionaries are indexed by mentioning the key in square brackets."
      ]
    },
    {
      "cell_type": "code",
      "metadata": {
        "id": "t47fZ_6Mvqsd",
        "colab": {
          "base_uri": "https://localhost:8080/"
        },
        "outputId": "595258c0-6a98-4dbb-9d60-1f5f73fd2948"
      },
      "source": [
        "print('2:',dct1[2])\n",
        "print('spider:',dct1['spider'])\n",
        "print('(0,):',dct1[(0,)])"
      ],
      "execution_count": null,
      "outputs": [
        {
          "output_type": "stream",
          "name": "stdout",
          "text": [
            "2: human\n",
            "spider: 8\n",
            "(0,): dolphin\n"
          ]
        }
      ]
    },
    {
      "cell_type": "code",
      "metadata": {
        "id": "jEhuppzn2NA9",
        "colab": {
          "base_uri": "https://localhost:8080/"
        },
        "outputId": "ae5a8475-60b4-4329-c948-3611052f7c7d"
      },
      "source": [
        "print('dct1[4]',dct1[4])      # Guess output\n",
        "print('dct1[4][1]',dct1[4][1])   # Guess output"
      ],
      "execution_count": null,
      "outputs": [
        {
          "output_type": "stream",
          "name": "stdout",
          "text": [
            "dct1[4] ['dog', 'horse', 'lion']\n",
            "dct1[4][1] horse\n"
          ]
        }
      ]
    },
    {
      "cell_type": "code",
      "metadata": {
        "id": "615FN29e1xm4",
        "colab": {
          "base_uri": "https://localhost:8080/",
          "height": 175
        },
        "outputId": "0561a348-157d-4a4f-f127-5564fc1f6ce3"
      },
      "source": [
        "print(dct1[0]) # Error if non-existent key is used to extract value"
      ],
      "execution_count": null,
      "outputs": [
        {
          "output_type": "error",
          "ename": "KeyError",
          "evalue": "ignored",
          "traceback": [
            "\u001b[0;31m---------------------------------------------------------------------------\u001b[0m",
            "\u001b[0;31mKeyError\u001b[0m                                  Traceback (most recent call last)",
            "\u001b[0;32m<ipython-input-9-b0489c007a15>\u001b[0m in \u001b[0;36m<cell line: 1>\u001b[0;34m()\u001b[0m\n\u001b[0;32m----> 1\u001b[0;31m \u001b[0mprint\u001b[0m\u001b[0;34m(\u001b[0m\u001b[0mdct1\u001b[0m\u001b[0;34m[\u001b[0m\u001b[0;36m0\u001b[0m\u001b[0;34m]\u001b[0m\u001b[0;34m)\u001b[0m \u001b[0;31m# Error if non-existent key is used to extract value\u001b[0m\u001b[0;34m\u001b[0m\u001b[0;34m\u001b[0m\u001b[0m\n\u001b[0m",
            "\u001b[0;31mKeyError\u001b[0m: 0"
          ]
        }
      ]
    },
    {
      "cell_type": "markdown",
      "metadata": {
        "id": "SnDxjgvH4rAi"
      },
      "source": [
        "## Updating dictionary\n",
        "\n",
        "*   New key may be added\n",
        "*   Existing key (and corresponding value) may be removed\n",
        "\n"
      ]
    },
    {
      "cell_type": "code",
      "metadata": {
        "id": "p9jI6c2r46cJ",
        "colab": {
          "base_uri": "https://localhost:8080/"
        },
        "outputId": "7eed6827-34fc-412a-9ab6-75cf315d2a3a"
      },
      "source": [
        "# include new key:value pair in existing dictionary\n",
        "dct1[6]=\"insects\"\n",
        "print('Updated Dictionary:')\n",
        "print(dct1,type(dct1))\n",
        "print('Number of items (key-value pairs) in dct1: ',len(dct1))"
      ],
      "execution_count": null,
      "outputs": [
        {
          "output_type": "stream",
          "name": "stdout",
          "text": [
            "Updated Dictionary:\n",
            "{2: 'human', 4: ['dog', 'horse', 'lion'], 'spider': 8, (0,): 'dolphin', 6: 'insects'} <class 'dict'>\n",
            "Number of items (key-value pairs) in dct1:  5\n"
          ]
        }
      ]
    },
    {
      "cell_type": "code",
      "metadata": {
        "id": "oWJ4bKYf-W0e",
        "colab": {
          "base_uri": "https://localhost:8080/"
        },
        "outputId": "55f637bd-5631-464b-b796-b9320e16a8c2"
      },
      "source": [
        "# if new value stored using existing key, previous value is overwritten\n",
        "dct1[2]='monkey'\n",
        "print('Updated Dictionary:')\n",
        "print(dct1,type(dct1))\n",
        "print('Number of items (key-value pairs) in dct1: ',len(dct1))"
      ],
      "execution_count": null,
      "outputs": [
        {
          "output_type": "stream",
          "name": "stdout",
          "text": [
            "Updated Dictionary:\n",
            "{2: 'monkey', 4: ['dog', 'horse', 'lion'], 'spider': 8, (0,): 'dolphin', 6: 'insects'} <class 'dict'>\n",
            "Number of items (key-value pairs) in dct1:  5\n"
          ]
        }
      ]
    },
    {
      "cell_type": "code",
      "metadata": {
        "id": "L2UewFAq56Ku",
        "colab": {
          "base_uri": "https://localhost:8080/"
        },
        "outputId": "5064fa22-a8e9-4a63-e391-151ca0987634"
      },
      "source": [
        "# delete a key-value pair\n",
        "del dct1[(0,)]\n",
        "print('Updated Dictionary:')\n",
        "print(dct1,type(dct1))\n",
        "print('Number of items (key-value pairs) in dct1: ',len(dct1))"
      ],
      "execution_count": null,
      "outputs": [
        {
          "output_type": "stream",
          "name": "stdout",
          "text": [
            "Updated Dictionary:\n",
            "{2: 'monkey', 4: ['dog', 'horse', 'lion'], 'spider': 8, 6: 'insects'} <class 'dict'>\n",
            "Number of items (key-value pairs) in dct1:  4\n"
          ]
        }
      ]
    },
    {
      "cell_type": "code",
      "metadata": {
        "id": "Wyyjjv-X6Kkb"
      },
      "source": [
        "# delete the dictionary\n",
        "del dct1"
      ],
      "execution_count": null,
      "outputs": []
    },
    {
      "cell_type": "code",
      "metadata": {
        "id": "mItPs1w96PJ8",
        "colab": {
          "base_uri": "https://localhost:8080/",
          "height": 175
        },
        "outputId": "f989867c-f53a-419e-8939-625d82699962"
      },
      "source": [
        "print(dct1)"
      ],
      "execution_count": null,
      "outputs": [
        {
          "output_type": "error",
          "ename": "NameError",
          "evalue": "ignored",
          "traceback": [
            "\u001b[0;31m---------------------------------------------------------------------------\u001b[0m",
            "\u001b[0;31mNameError\u001b[0m                                 Traceback (most recent call last)",
            "\u001b[0;32m<ipython-input-14-df2cb3ec6320>\u001b[0m in \u001b[0;36m<cell line: 1>\u001b[0;34m()\u001b[0m\n\u001b[0;32m----> 1\u001b[0;31m \u001b[0mprint\u001b[0m\u001b[0;34m(\u001b[0m\u001b[0mdct1\u001b[0m\u001b[0;34m)\u001b[0m\u001b[0;34m\u001b[0m\u001b[0;34m\u001b[0m\u001b[0m\n\u001b[0m",
            "\u001b[0;31mNameError\u001b[0m: name 'dct1' is not defined"
          ]
        }
      ]
    },
    {
      "cell_type": "markdown",
      "metadata": {
        "id": "upHwChr7631v"
      },
      "source": [
        "## Dictionary Methods"
      ]
    },
    {
      "cell_type": "code",
      "metadata": {
        "id": "cJZmv7FQ-_6F",
        "colab": {
          "base_uri": "https://localhost:8080/"
        },
        "outputId": "38c280d9-9449-495d-edfc-b21f72722734"
      },
      "source": [
        "dct1 = {2:'human', 4:'dog', 8:'spider'}\n",
        "print(dct1.items()) #contains a list of key:value pairs as tuples"
      ],
      "execution_count": null,
      "outputs": [
        {
          "output_type": "stream",
          "name": "stdout",
          "text": [
            "dict_items([(2, 'human'), (4, 'dog'), (8, 'spider')])\n"
          ]
        }
      ]
    },
    {
      "cell_type": "code",
      "metadata": {
        "id": "N3_1EShw0oeP",
        "colab": {
          "base_uri": "https://localhost:8080/"
        },
        "outputId": "2922de79-15c7-42c4-f00d-67f3b90d7c8e"
      },
      "source": [
        "print(dct1.keys()) # contains list of all keys"
      ],
      "execution_count": null,
      "outputs": [
        {
          "output_type": "stream",
          "name": "stdout",
          "text": [
            "dict_keys([2, 4, 8])\n"
          ]
        }
      ]
    },
    {
      "cell_type": "code",
      "metadata": {
        "id": "nREXiXPz622H",
        "colab": {
          "base_uri": "https://localhost:8080/"
        },
        "outputId": "73d921fd-ab20-437c-d304-7b29748ec2b0"
      },
      "source": [
        "print(dct1.values()) # contains list of all values"
      ],
      "execution_count": null,
      "outputs": [
        {
          "output_type": "stream",
          "name": "stdout",
          "text": [
            "dict_values(['human', 'dog', 'spider'])\n"
          ]
        }
      ]
    },
    {
      "cell_type": "code",
      "metadata": {
        "id": "pKUP6Bd9_-pC",
        "colab": {
          "base_uri": "https://localhost:8080/"
        },
        "outputId": "05b15e7f-58cb-4c03-ce78-7f601a3f6591"
      },
      "source": [
        "dct2 = {6:'insects',0:'dolphin'}\n",
        "print('dct2: ',dct2,type(dct2))\n",
        "dct1.update(dct2) # Adds dictionary dct2's key-values pairs to dct1\n",
        "print('dct1: ',dct1)"
      ],
      "execution_count": null,
      "outputs": [
        {
          "output_type": "stream",
          "name": "stdout",
          "text": [
            "dct2:  {6: 'insects', 0: 'dolphin'} <class 'dict'>\n",
            "dct1:  {2: 'human', 4: 'dog', 8: 'spider', 6: 'insects', 0: 'dolphin'}\n"
          ]
        }
      ]
    },
    {
      "cell_type": "code",
      "metadata": {
        "id": "2lJ_IJorAlU3",
        "colab": {
          "base_uri": "https://localhost:8080/"
        },
        "outputId": "2d0e08ab-b51d-480d-9a30-97e8f446c570"
      },
      "source": [
        "# remove a particular item(key:value pair) from a dictionary and returns its value\n",
        "val0=dct1.pop(6) #specify key of key-value pair to be removed\n",
        "print('Popped Item value:',val0)\n",
        "print('dct1: ',dct1)"
      ],
      "execution_count": null,
      "outputs": [
        {
          "output_type": "stream",
          "name": "stdout",
          "text": [
            "Popped Item value: insects\n",
            "dct1:  {2: 'human', 4: 'dog', 8: 'spider', 0: 'dolphin'}\n"
          ]
        }
      ]
    },
    {
      "cell_type": "code",
      "metadata": {
        "id": "RSibRRbTnR7E",
        "colab": {
          "base_uri": "https://localhost:8080/"
        },
        "outputId": "70004fe9-d173-4375-c35d-21d3eea34750"
      },
      "source": [
        "# Membership operator ( in ) checks for membership of a key\n",
        "print(\"Is 2 a key? \", 2 in dct1)\n",
        "print(\"Is 0 a key? \", 0 in dct1)"
      ],
      "execution_count": null,
      "outputs": [
        {
          "output_type": "stream",
          "name": "stdout",
          "text": [
            "Is 2 a key?  True\n",
            "Is 0 a key?  True\n"
          ]
        }
      ]
    },
    {
      "cell_type": "markdown",
      "metadata": {
        "id": "TNuzis1y9E2b"
      },
      "source": [
        "## Looping through Dictionary"
      ]
    },
    {
      "cell_type": "code",
      "metadata": {
        "id": "UqVLv97rAhGP",
        "colab": {
          "base_uri": "https://localhost:8080/"
        },
        "outputId": "7af1ba72-f527-4827-ef11-238b6b933594"
      },
      "source": [
        "dct1.keys()"
      ],
      "execution_count": null,
      "outputs": [
        {
          "output_type": "execute_result",
          "data": {
            "text/plain": [
              "dict_keys([2, 4, 8, 0])"
            ]
          },
          "metadata": {},
          "execution_count": 21
        }
      ]
    },
    {
      "cell_type": "code",
      "metadata": {
        "id": "jPoM1-mZB7ju",
        "colab": {
          "base_uri": "https://localhost:8080/"
        },
        "outputId": "792553c2-0342-447a-a58b-9af721026c38"
      },
      "source": [
        "# use keys as iterable\n",
        "for k in dct1.keys():\n",
        "    print(k,dct1[k])"
      ],
      "execution_count": null,
      "outputs": [
        {
          "output_type": "stream",
          "name": "stdout",
          "text": [
            "2 human\n",
            "4 dog\n",
            "8 spider\n",
            "0 dolphin\n"
          ]
        }
      ]
    }
  ]
}