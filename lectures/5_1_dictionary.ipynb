{
  "nbformat": 4,
  "nbformat_minor": 0,
  "metadata": {
    "kernelspec": {
      "display_name": "Python 3",
      "language": "python",
      "name": "python3"
    },
    "language_info": {
      "codemirror_mode": {
        "name": "ipython",
        "version": 3
      },
      "file_extension": ".py",
      "mimetype": "text/x-python",
      "name": "python",
      "nbconvert_exporter": "python",
      "pygments_lexer": "ipython3",
      "version": "3.6.4"
    },
    "colab": {
      "provenance": [],
      "collapsed_sections": [],
      "include_colab_link": true
    }
  },
  "cells": [
    {
      "cell_type": "markdown",
      "metadata": {
        "id": "view-in-github",
        "colab_type": "text"
      },
      "source": [
        "<a href=\"https://colab.research.google.com/github/RinkiGupta/ECE319/blob/master/lectures/5_1_dictionary.ipynb\" target=\"_parent\"><img src=\"https://colab.research.google.com/assets/colab-badge.svg\" alt=\"Open In Colab\"/></a>"
      ]
    },
    {
      "cell_type": "markdown",
      "metadata": {
        "id": "UZOew8p5vqsY"
      },
      "source": [
        "# Dictionary \n",
        "\n",
        "Dictionary is container datatype, which is unordered collection of items (thus no index accessing). \n",
        "\n",
        "Each item of a dictionary has a key:value pair."
      ]
    },
    {
      "cell_type": "markdown",
      "metadata": {
        "id": "v0KcdsvEyi-3"
      },
      "source": [
        "## Dictionary Creation\n",
        "\n",
        "* key:value pairs in {}\n",
        "* Empty curly bracket {}\n",
        "* dict() constructor\n",
        "* list of tuples with dict() constructor\n",
        "* dict comprehension\n"
      ]
    },
    {
      "cell_type": "code",
      "metadata": {
        "id": "kf8RtwsOq0w4"
      },
      "source": [
        "# specify key:value pairs in {}\n",
        "d1 = {1: 'Jan', 2: 'Feb', 3: 'Mar'}\n",
        "print(d1,type(d1))"
      ],
      "execution_count": null,
      "outputs": []
    },
    {
      "cell_type": "code",
      "metadata": {
        "id": "fbHyjecMx72W"
      },
      "source": [
        "d1 = {}\n",
        "print('d1: ',d1,type(d1))\n",
        "d2 = dict()\n",
        "print('d2: ',d2,type(d2))"
      ],
      "execution_count": null,
      "outputs": []
    },
    {
      "cell_type": "code",
      "metadata": {
        "id": "-81cy13QqVdv"
      },
      "source": [
        "# dictionary from list of keys and list of values\n",
        "lst_dates=[1,2,3] #list of keys\n",
        "lst_months=['Jan','Feb','Mar'] #list of values\n",
        "list_tup =  list(zip(lst_dates,lst_months))\n",
        "print(list_tup)"
      ],
      "execution_count": null,
      "outputs": []
    },
    {
      "cell_type": "code",
      "metadata": {
        "id": "vT-gs7Amvqsg"
      },
      "source": [
        "# dictionary from list of tuples\n",
        "d2 = dict(list_tup) \n",
        "print(d2)"
      ],
      "execution_count": null,
      "outputs": []
    },
    {
      "cell_type": "code",
      "metadata": {
        "id": "zs57r0FlmA4U"
      },
      "source": [
        "# dict comprehension\n",
        "dct2 = {k: k**2 for k in range(1,6)}\n",
        "print(dct2)"
      ],
      "execution_count": null,
      "outputs": []
    },
    {
      "cell_type": "markdown",
      "metadata": {
        "id": "9adQXmLt0LG8"
      },
      "source": [
        "Keys: \n",
        "* can be any immutable type- strings, numbers and tuples if the tuple contains immutable datatype item. \n",
        "* have to be unique (no duplication of keys)\n",
        "\n",
        "Values:\n",
        "* may be any datatype. Mixed datatypes are allowed.\n",
        "* duplication of values is allowed."
      ]
    },
    {
      "cell_type": "code",
      "metadata": {
        "id": "olleNq-QvqsZ"
      },
      "source": [
        "dct1 = {2:'human', 4:['dog','horse','lion'],'spider':8,(0,):'dolphin'}\n",
        "print('dct1: ',dct1,type(dct1))\n",
        "print('Number of items (key-value pairs) in dct1: ',len(dct1))"
      ],
      "execution_count": null,
      "outputs": []
    },
    {
      "cell_type": "markdown",
      "metadata": {
        "id": "aSWFQlfdvqsd"
      },
      "source": [
        "## Accessing by key\n",
        "\n",
        "dictionaries are indexed by mentioning the key in square brackets. "
      ]
    },
    {
      "cell_type": "code",
      "metadata": {
        "id": "t47fZ_6Mvqsd"
      },
      "source": [
        "print('2:',dct1[2])  \n",
        "print('spider:',dct1['spider']) \n",
        "print('(0,):',dct1[(0,)])"
      ],
      "execution_count": null,
      "outputs": []
    },
    {
      "cell_type": "code",
      "metadata": {
        "id": "jEhuppzn2NA9"
      },
      "source": [
        "print('dct1[4]',dct1[4])      # Guess output\n",
        "print('dct1[4][1]',dct1[4][1])   # Guess output"
      ],
      "execution_count": null,
      "outputs": []
    },
    {
      "cell_type": "code",
      "metadata": {
        "id": "615FN29e1xm4"
      },
      "source": [
        "print(dct1[0]) # Error if non-existent key is used to extract value"
      ],
      "execution_count": null,
      "outputs": []
    },
    {
      "cell_type": "markdown",
      "metadata": {
        "id": "SnDxjgvH4rAi"
      },
      "source": [
        "## Updating dictionary\n",
        "\n",
        "*   New key may be added\n",
        "*   Existing key (and corresponding value) may be removed\n",
        "\n"
      ]
    },
    {
      "cell_type": "code",
      "metadata": {
        "id": "p9jI6c2r46cJ"
      },
      "source": [
        "# include new key:value pair in existing dictionary\n",
        "dct1[6]=\"insects\"  \n",
        "print('Updated Dictionary:')\n",
        "print(dct1,type(dct1))\n",
        "print('Number of items (key-value pairs) in dct1: ',len(dct1))"
      ],
      "execution_count": null,
      "outputs": []
    },
    {
      "cell_type": "code",
      "metadata": {
        "id": "oWJ4bKYf-W0e"
      },
      "source": [
        "# if new value stored using existing key, previous value is overwritten\n",
        "dct1[2]='monkey'\n",
        "print('Updated Dictionary:')\n",
        "print(dct1,type(dct1))\n",
        "print('Number of items (key-value pairs) in dct1: ',len(dct1))"
      ],
      "execution_count": null,
      "outputs": []
    },
    {
      "cell_type": "code",
      "metadata": {
        "id": "L2UewFAq56Ku"
      },
      "source": [
        "# delete a key-value pair\n",
        "del dct1[(0,)]\n",
        "print('Updated Dictionary:')\n",
        "print(dct1,type(dct1))\n",
        "print('Number of items (key-value pairs) in dct1: ',len(dct1))"
      ],
      "execution_count": null,
      "outputs": []
    },
    {
      "cell_type": "code",
      "metadata": {
        "id": "Wyyjjv-X6Kkb"
      },
      "source": [
        "# delete the dictionary\n",
        "del dct1"
      ],
      "execution_count": null,
      "outputs": []
    },
    {
      "cell_type": "code",
      "metadata": {
        "id": "mItPs1w96PJ8"
      },
      "source": [
        "print(dct1)"
      ],
      "execution_count": null,
      "outputs": []
    },
    {
      "cell_type": "markdown",
      "metadata": {
        "id": "upHwChr7631v"
      },
      "source": [
        "## Dictionary Methods"
      ]
    },
    {
      "cell_type": "code",
      "metadata": {
        "id": "cJZmv7FQ-_6F"
      },
      "source": [
        "dct1 = {2:'human', 4:'dog', 8:'spider'}\n",
        "print(dct1.items()) #contains a list of key:value pairs as tuples"
      ],
      "execution_count": null,
      "outputs": []
    },
    {
      "cell_type": "code",
      "metadata": {
        "id": "N3_1EShw0oeP"
      },
      "source": [
        "print(dct1.keys()) # contains list of all keys"
      ],
      "execution_count": null,
      "outputs": []
    },
    {
      "cell_type": "code",
      "metadata": {
        "id": "nREXiXPz622H"
      },
      "source": [
        "print(dct1.values()) # contains list of all values"
      ],
      "execution_count": null,
      "outputs": []
    },
    {
      "cell_type": "code",
      "metadata": {
        "id": "pKUP6Bd9_-pC"
      },
      "source": [
        "dct2 = {6:'insects',0:'dolphin'}\n",
        "print('dct2: ',dct2,type(dct2))\n",
        "dct1.update(dct2) # Adds dictionary dct2's key-values pairs to dct1\n",
        "print('dct1: ',dct1)"
      ],
      "execution_count": null,
      "outputs": []
    },
    {
      "cell_type": "code",
      "metadata": {
        "id": "2lJ_IJorAlU3"
      },
      "source": [
        "# remove a particular item(key:value pair) from a dictionary and returns its value\n",
        "val0=dct1.pop(6) #specify key of key-value pair to be removed\n",
        "print('Popped Item value:',val0)\n",
        "print('dct1: ',dct1)"
      ],
      "execution_count": null,
      "outputs": []
    },
    {
      "cell_type": "code",
      "metadata": {
        "id": "RSibRRbTnR7E"
      },
      "source": [
        "# Membership operator ( in ) checks for membership of a key\n",
        "print(\"Is 2 a key? \", 2 in dct1)\n",
        "print(\"Is 0 a key? \", 0 in dct1)"
      ],
      "execution_count": null,
      "outputs": []
    },
    {
      "cell_type": "markdown",
      "metadata": {
        "id": "TNuzis1y9E2b"
      },
      "source": [
        "## Looping through Dictionary"
      ]
    },
    {
      "cell_type": "code",
      "metadata": {
        "id": "UqVLv97rAhGP"
      },
      "source": [
        "dct1.keys()"
      ],
      "execution_count": null,
      "outputs": []
    },
    {
      "cell_type": "code",
      "metadata": {
        "id": "jPoM1-mZB7ju"
      },
      "source": [
        "# use keys as iterable\n",
        "for k in dct1.keys():\n",
        "    print(k,dct1[k])"
      ],
      "execution_count": null,
      "outputs": []
    }
  ]
}