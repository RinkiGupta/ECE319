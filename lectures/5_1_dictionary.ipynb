{
  "nbformat": 4,
  "nbformat_minor": 0,
  "metadata": {
    "kernelspec": {
      "display_name": "Python 3",
      "language": "python",
      "name": "python3"
    },
    "language_info": {
      "codemirror_mode": {
        "name": "ipython",
        "version": 3
      },
      "file_extension": ".py",
      "mimetype": "text/x-python",
      "name": "python",
      "nbconvert_exporter": "python",
      "pygments_lexer": "ipython3",
      "version": "3.6.4"
    },
    "colab": {
      "name": "5_1_dictionary.ipynb",
      "provenance": [],
      "collapsed_sections": [],
      "include_colab_link": true
    }
  },
  "cells": [
    {
      "cell_type": "markdown",
      "metadata": {
        "id": "view-in-github",
        "colab_type": "text"
      },
      "source": [
        "<a href=\"https://colab.research.google.com/github/RinkiGupta/ECE319/blob/master/lectures/5_1_dictionary.ipynb\" target=\"_parent\"><img src=\"https://colab.research.google.com/assets/colab-badge.svg\" alt=\"Open In Colab\"/></a>"
      ]
    },
    {
      "cell_type": "markdown",
      "metadata": {
        "id": "UZOew8p5vqsY"
      },
      "source": [
        "# Dictionary \n",
        "\n",
        "Dictionary is container datatype, which is unordered collection of items (thus no index accessing). \n",
        "\n",
        "Each item of a dictionary has a key:value pair.\n",
        "\n",
        "Keys: \n",
        "* can be any immutable type- strings, numbers and tuples if the tuple contains immutable datatype item. \n",
        "* have to be unique (no duplication of keys)\n",
        "\n",
        "Values:\n",
        "* may be any datatype. Mixed datatypes are aloowed.\n",
        "* duplication of values is allowed."
      ]
    },
    {
      "cell_type": "code",
      "metadata": {
        "id": "olleNq-QvqsZ",
        "outputId": "e612d867-446c-44ef-881d-807b66eafe84",
        "colab": {
          "base_uri": "https://localhost:8080/",
          "height": 52
        }
      },
      "source": [
        "dct1 = {2:'human', 4:['dog','horse','lion'],'spider':8,(0,):'dolphin'}\n",
        "print('dct1: ',dct1,type(dct1))\n",
        "print('Number of items (key-value pairs) in dct1: ',len(dct1))"
      ],
      "execution_count": null,
      "outputs": [
        {
          "output_type": "stream",
          "text": [
            "dct1:  {2: 'human', 4: ['dog', 'horse', 'lion'], 'spider': 8, (0,): 'dolphin'} <class 'dict'>\n",
            "Number of items (key-value pairs) in dct1:  4\n"
          ],
          "name": "stdout"
        }
      ]
    },
    {
      "cell_type": "markdown",
      "metadata": {
        "id": "aSWFQlfdvqsd"
      },
      "source": [
        "## Accessing by key\n",
        "\n",
        "dictionaries are indexed by mentioning the key in square brackets. "
      ]
    },
    {
      "cell_type": "code",
      "metadata": {
        "id": "t47fZ_6Mvqsd",
        "outputId": "69d376f5-9194-4dec-d72e-5b8769d0f881",
        "colab": {
          "base_uri": "https://localhost:8080/",
          "height": 69
        }
      },
      "source": [
        "print('2:',dct1[2])  \n",
        "print('spider:',dct1['spider']) \n",
        "print('(0,):',dct1[(0,)])"
      ],
      "execution_count": null,
      "outputs": [
        {
          "output_type": "stream",
          "text": [
            "2: human\n",
            "spider: 8\n",
            "(0,): dolphin\n"
          ],
          "name": "stdout"
        }
      ]
    },
    {
      "cell_type": "code",
      "metadata": {
        "id": "jEhuppzn2NA9"
      },
      "source": [
        "print('dct1[4]',dct1[4])      # Guess output\n",
        "print('dct1[4][1]',dct1[4][1])   # Guess output"
      ],
      "execution_count": null,
      "outputs": []
    },
    {
      "cell_type": "code",
      "metadata": {
        "id": "615FN29e1xm4",
        "outputId": "ea0f075c-f897-4ed1-bd56-07c89b8c3f20",
        "colab": {
          "base_uri": "https://localhost:8080/",
          "height": 166
        }
      },
      "source": [
        "print(dct1[0]) # Error if non-existent key is used to extract value"
      ],
      "execution_count": null,
      "outputs": [
        {
          "output_type": "error",
          "ename": "KeyError",
          "evalue": "ignored",
          "traceback": [
            "\u001b[0;31m---------------------------------------------------------------------------\u001b[0m",
            "\u001b[0;31mKeyError\u001b[0m                                  Traceback (most recent call last)",
            "\u001b[0;32m<ipython-input-8-0f4bc3fde0ee>\u001b[0m in \u001b[0;36m<module>\u001b[0;34m()\u001b[0m\n\u001b[0;32m----> 1\u001b[0;31m \u001b[0mprint\u001b[0m\u001b[0;34m(\u001b[0m\u001b[0mdct1\u001b[0m\u001b[0;34m[\u001b[0m\u001b[0;36m0\u001b[0m\u001b[0;34m]\u001b[0m\u001b[0;34m)\u001b[0m\u001b[0;31m# Error, 0 is not a key and dict are not ordered sequences\u001b[0m\u001b[0;34m\u001b[0m\u001b[0;34m\u001b[0m\u001b[0m\n\u001b[0m",
            "\u001b[0;31mKeyError\u001b[0m: 0"
          ]
        }
      ]
    },
    {
      "cell_type": "markdown",
      "metadata": {
        "id": "SnDxjgvH4rAi"
      },
      "source": [
        "## Updating dictionary\n",
        "\n",
        "*   New key may be added\n",
        "*   Existing key (and corresponding value) may be removed\n",
        "\n"
      ]
    },
    {
      "cell_type": "code",
      "metadata": {
        "id": "p9jI6c2r46cJ",
        "outputId": "998681f2-ed6b-4988-a057-88a40c5e11f6",
        "colab": {
          "base_uri": "https://localhost:8080/",
          "height": 69
        }
      },
      "source": [
        "# include new key:value pair in existing dictionary\n",
        "dct1[6]=\"insects\"  \n",
        "print('Updated Dictionary:')\n",
        "print(dct1,type(dct1))\n",
        "print('Number of items (key-value pairs) in dct1: ',len(dct1))"
      ],
      "execution_count": null,
      "outputs": [
        {
          "output_type": "stream",
          "text": [
            "Updated Dictionary:\n",
            "{2: 'human', 4: ['dog', 'horse', 'lion'], 'spider': 8, (0,): 'dolphin', 6: 'insects'} <class 'dict'>\n",
            "Number of items (key-value pairs) in dct1:  5\n"
          ],
          "name": "stdout"
        }
      ]
    },
    {
      "cell_type": "code",
      "metadata": {
        "id": "oWJ4bKYf-W0e",
        "outputId": "31868fd4-6381-4eb8-88ae-89e08f9039d6",
        "colab": {
          "base_uri": "https://localhost:8080/",
          "height": 69
        }
      },
      "source": [
        "# if new value stored using existing key, previous value is overwritten\n",
        "dct1[2]='monkey'\n",
        "print('Updated Dictionary:')\n",
        "print(dct1,type(dct1))\n",
        "print('Number of items (key-value pairs) in dct1: ',len(dct1))"
      ],
      "execution_count": null,
      "outputs": [
        {
          "output_type": "stream",
          "text": [
            "Updated Dictionary:\n",
            "{2: 'monkey', 4: ['dog', 'horse', 'lion'], 'spider': 8, (0,): 'dolphin', 6: 'insects'} <class 'dict'>\n",
            "Number of items (key-value pairs) in dct1:  5\n"
          ],
          "name": "stdout"
        }
      ]
    },
    {
      "cell_type": "code",
      "metadata": {
        "id": "L2UewFAq56Ku",
        "outputId": "881d02d8-3161-4cfe-c995-07587de8165a",
        "colab": {
          "base_uri": "https://localhost:8080/",
          "height": 69
        }
      },
      "source": [
        "# delete a key-value pair\n",
        "del dct1[(0,)]\n",
        "print('Updated Dictionary:')\n",
        "print(dct1,type(dct1))\n",
        "print('Number of items (key-value pairs) in dct1: ',len(dct1))"
      ],
      "execution_count": null,
      "outputs": [
        {
          "output_type": "stream",
          "text": [
            "Updated Dictionary:\n",
            "{2: 'human', 4: ['dog', 'horse', 'lion'], 'spider': 8, 6: 'insects'} <class 'dict'>\n",
            "Number of items (key-value pairs) in dct1:  4\n"
          ],
          "name": "stdout"
        }
      ]
    },
    {
      "cell_type": "code",
      "metadata": {
        "id": "Wyyjjv-X6Kkb"
      },
      "source": [
        "# delete the dictionary\n",
        "del dct1"
      ],
      "execution_count": null,
      "outputs": []
    },
    {
      "cell_type": "code",
      "metadata": {
        "id": "mItPs1w96PJ8",
        "outputId": "0ccd0396-0e61-4109-fc92-ffec69e5051f",
        "colab": {
          "base_uri": "https://localhost:8080/",
          "height": 166
        }
      },
      "source": [
        "print(dct1)"
      ],
      "execution_count": null,
      "outputs": [
        {
          "output_type": "error",
          "ename": "NameError",
          "evalue": "ignored",
          "traceback": [
            "\u001b[0;31m---------------------------------------------------------------------------\u001b[0m",
            "\u001b[0;31mNameError\u001b[0m                                 Traceback (most recent call last)",
            "\u001b[0;32m<ipython-input-24-df2cb3ec6320>\u001b[0m in \u001b[0;36m<module>\u001b[0;34m()\u001b[0m\n\u001b[0;32m----> 1\u001b[0;31m \u001b[0mprint\u001b[0m\u001b[0;34m(\u001b[0m\u001b[0mdct1\u001b[0m\u001b[0;34m)\u001b[0m\u001b[0;34m\u001b[0m\u001b[0;34m\u001b[0m\u001b[0m\n\u001b[0m",
            "\u001b[0;31mNameError\u001b[0m: name 'dct1' is not defined"
          ]
        }
      ]
    },
    {
      "cell_type": "markdown",
      "metadata": {
        "id": "upHwChr7631v"
      },
      "source": [
        "## Dictionary Methods"
      ]
    },
    {
      "cell_type": "code",
      "metadata": {
        "id": "cJZmv7FQ-_6F",
        "outputId": "eb5bdb35-5602-4dd6-a745-00b54a92777f",
        "colab": {
          "base_uri": "https://localhost:8080/",
          "height": 35
        }
      },
      "source": [
        "dct1 = {2:'human', 4:'dog', 8:'spider'}\n",
        "print(dct1.items()) #returs a list containing key:value pairs as tuples"
      ],
      "execution_count": null,
      "outputs": [
        {
          "output_type": "stream",
          "text": [
            "dict_items([(2, 'human'), (4, 'dog'), (8, 'spider')])\n"
          ],
          "name": "stdout"
        }
      ]
    },
    {
      "cell_type": "code",
      "metadata": {
        "id": "N3_1EShw0oeP",
        "outputId": "941d9805-3b39-47ad-aa06-e57307339ef0",
        "colab": {
          "base_uri": "https://localhost:8080/",
          "height": 35
        }
      },
      "source": [
        "print(dct1.keys()) # return list containing all keys"
      ],
      "execution_count": null,
      "outputs": [
        {
          "output_type": "stream",
          "text": [
            "dict_keys([2, 4, 8])\n"
          ],
          "name": "stdout"
        }
      ]
    },
    {
      "cell_type": "code",
      "metadata": {
        "id": "nREXiXPz622H",
        "outputId": "ceeab440-dcb3-4e68-f76d-e3dceec44272",
        "colab": {
          "base_uri": "https://localhost:8080/",
          "height": 35
        }
      },
      "source": [
        "print(dct1.values()) # return list containing all values"
      ],
      "execution_count": null,
      "outputs": [
        {
          "output_type": "stream",
          "text": [
            "dict_values(['human', 'dog', 'spider'])\n"
          ],
          "name": "stdout"
        }
      ]
    },
    {
      "cell_type": "code",
      "metadata": {
        "id": "pKUP6Bd9_-pC",
        "outputId": "1be352e4-12f2-46de-b311-295f576c5343",
        "colab": {
          "base_uri": "https://localhost:8080/",
          "height": 52
        }
      },
      "source": [
        "dct2 = {6:'insects',0:'dolphin'}\n",
        "print('dct2: ',dct2,type(dct2))\n",
        "dct1.update(dct2) # Adds dictionary dct2's key-values pairs to dct1\n",
        "print('dct1: ',dct1)"
      ],
      "execution_count": null,
      "outputs": [
        {
          "output_type": "stream",
          "text": [
            "dct2:  {6: 'insects', 0: 'dolphin'} <class 'dict'>\n",
            "dct1:  {2: 'human', 4: 'dog', 8: 'spider', 6: 'insects', 0: 'dolphin'}\n"
          ],
          "name": "stdout"
        }
      ]
    },
    {
      "cell_type": "code",
      "metadata": {
        "id": "2lJ_IJorAlU3",
        "outputId": "9418d60f-766a-4422-8eb9-d762f58b5e3e",
        "colab": {
          "base_uri": "https://localhost:8080/",
          "height": 52
        }
      },
      "source": [
        "# remove a particular item(key:value pair) from a dictionary and return its value\n",
        "val0=dct1.pop(0)\n",
        "print('Popped Item value:',val0)\n",
        "print('dct1: ',dct1)"
      ],
      "execution_count": null,
      "outputs": [
        {
          "output_type": "stream",
          "text": [
            "Popped Item value: dolphin\n",
            "dct1:  {2: 'human', 4: 'dog', 8: 'spider', 6: 'insects'}\n"
          ],
          "name": "stdout"
        }
      ]
    },
    {
      "cell_type": "markdown",
      "metadata": {
        "id": "TNuzis1y9E2b"
      },
      "source": [
        "## Looping through Dictionary"
      ]
    },
    {
      "cell_type": "code",
      "metadata": {
        "id": "jPoM1-mZB7ju",
        "outputId": "271dfeda-944c-40a6-f58f-f6ef81233b68",
        "colab": {
          "base_uri": "https://localhost:8080/",
          "height": 87
        }
      },
      "source": [
        "# use keys as iterable\n",
        "for k in dct1.keys():\n",
        "    print(k,dct1[k])"
      ],
      "execution_count": null,
      "outputs": [
        {
          "output_type": "stream",
          "text": [
            "2 human\n",
            "4 dog\n",
            "8 spider\n",
            "6 insects\n"
          ],
          "name": "stdout"
        }
      ]
    },
    {
      "cell_type": "code",
      "metadata": {
        "id": "CioTtH9KCjgS",
        "outputId": "df46854d-4947-4bc5-e248-ed46a6b7dc2a",
        "colab": {
          "base_uri": "https://localhost:8080/",
          "height": 87
        }
      },
      "source": [
        "# Sort dictionary by key\n",
        "for k in sorted(dct1.keys()):\n",
        "    print(k,dct1[k])"
      ],
      "execution_count": null,
      "outputs": [
        {
          "output_type": "stream",
          "text": [
            "2 human\n",
            "4 dog\n",
            "6 insects\n",
            "8 spider\n"
          ],
          "name": "stdout"
        }
      ]
    },
    {
      "cell_type": "code",
      "metadata": {
        "id": "YoN4t9RfCmju",
        "outputId": "4598ce88-391e-4193-83a5-8e1c0940d23d",
        "colab": {
          "base_uri": "https://localhost:8080/",
          "height": 69
        }
      },
      "source": [
        "print('dct1',dct1)\n",
        "# Sort dictionary by value\n",
        "lst1 = sorted(dct1.items(), key= lambda x: x[1])\n",
        "print('lst1',lst1)\n",
        "dct2 =dict(lst1)\n",
        "print('dct2',dct2)"
      ],
      "execution_count": null,
      "outputs": [
        {
          "output_type": "stream",
          "text": [
            "dct1 {2: 'human', 4: 'dog', 8: 'spider', 6: 'insects'}\n",
            "lst1 [(4, 'dog'), (2, 'human'), (6, 'insects'), (8, 'spider')]\n",
            "dct2 {4: 'dog', 2: 'human', 6: 'insects', 8: 'spider'}\n"
          ],
          "name": "stdout"
        }
      ]
    },
    {
      "cell_type": "code",
      "metadata": {
        "id": "RSibRRbTnR7E",
        "outputId": "0f92ee14-e734-4e3f-d93a-47fa14287070",
        "colab": {
          "base_uri": "https://localhost:8080/",
          "height": 52
        }
      },
      "source": [
        "# Membership operator ( in ) checks if for membership of a key\n",
        "print(\"Is 2 a key? \", 2 in dct1)\n",
        "print(\"Is 0 a key? \", 0 in dct1)"
      ],
      "execution_count": null,
      "outputs": [
        {
          "output_type": "stream",
          "text": [
            "Is 2 a key?  True\n",
            "Is 0 a key?  False\n"
          ],
          "name": "stdout"
        }
      ]
    },
    {
      "cell_type": "markdown",
      "metadata": {
        "id": "v0KcdsvEyi-3"
      },
      "source": [
        "## Dictionary Creation\n",
        "\n",
        "* key:value pairs in {}\n",
        "* Empty curly bracket {}\n",
        "* dict() constructor\n",
        "* list of tuples with dict() constructor\n",
        "* dict comprehension\n"
      ]
    },
    {
      "cell_type": "code",
      "metadata": {
        "id": "kf8RtwsOq0w4",
        "outputId": "fee0aa49-ffbd-4ff0-e0b3-822603ba5919",
        "colab": {
          "base_uri": "https://localhost:8080/",
          "height": 35
        }
      },
      "source": [
        "# specify key:value pairs in {}\n",
        "d1 = {1: 'Jan', 2: 'Feb', 3: 'Mar'}\n",
        "print(d1,type(d1))"
      ],
      "execution_count": null,
      "outputs": [
        {
          "output_type": "stream",
          "text": [
            "{1: 'Jan', 2: 'Feb', 3: 'Mar'} <class 'dict'>\n"
          ],
          "name": "stdout"
        }
      ]
    },
    {
      "cell_type": "code",
      "metadata": {
        "id": "fbHyjecMx72W",
        "outputId": "01777161-ecbd-4b36-dae5-a41b203165e6",
        "colab": {
          "base_uri": "https://localhost:8080/",
          "height": 52
        }
      },
      "source": [
        "d1 = {}\n",
        "print('d1: ',d1,type(d1))\n",
        "d2 = dict()\n",
        "print('d2: ',d2,type(d2))"
      ],
      "execution_count": null,
      "outputs": [
        {
          "output_type": "stream",
          "text": [
            "d1:  {} <class 'dict'>\n",
            "d2:  {} <class 'dict'>\n"
          ],
          "name": "stdout"
        }
      ]
    },
    {
      "cell_type": "code",
      "metadata": {
        "id": "-81cy13QqVdv",
        "outputId": "9f45bf12-305b-4ec1-f0f9-1a32f8828dfd",
        "colab": {
          "base_uri": "https://localhost:8080/",
          "height": 35
        }
      },
      "source": [
        "# dictionary from list of keys and list of values\n",
        "lst_dates=[1,2,3]\n",
        "lst_months=['Jan','Feb','Mar']\n",
        "d2 = dict(zip(lst_dates,lst_months)) \n",
        "print(d2)"
      ],
      "execution_count": null,
      "outputs": [
        {
          "output_type": "stream",
          "text": [
            "{1: 'Jan', 2: 'Feb', 3: 'Mar'}\n"
          ],
          "name": "stdout"
        }
      ]
    },
    {
      "cell_type": "code",
      "metadata": {
        "id": "vT-gs7Amvqsg",
        "outputId": "74819db3-c43f-49ab-ec32-68f3d5c4d1c3",
        "colab": {
          "base_uri": "https://localhost:8080/",
          "height": 35
        }
      },
      "source": [
        "# dictionary from list of tuples\n",
        "lst_dates=[1,2,3]\n",
        "lst_months=['Jan','Feb','Mar']\n",
        "list_tup =  list(zip(lst_dates,lst_months))\n",
        "d2 = dict(list_tup) \n",
        "print(d2)"
      ],
      "execution_count": null,
      "outputs": [
        {
          "output_type": "stream",
          "text": [
            "{1: 'Jan', 2: 'Feb', 3: 'Mar'}\n"
          ],
          "name": "stdout"
        }
      ]
    },
    {
      "cell_type": "code",
      "metadata": {
        "id": "zs57r0FlmA4U",
        "outputId": "f8bf6fea-c092-4599-9a99-2b6c05c3e960",
        "colab": {
          "base_uri": "https://localhost:8080/",
          "height": 35
        }
      },
      "source": [
        "# dict comprehension\n",
        "dct2 = {k: k**2 for k in range(1,6)}\n",
        "print(dct2)"
      ],
      "execution_count": null,
      "outputs": [
        {
          "output_type": "stream",
          "text": [
            "{1: 1, 2: 4, 3: 9, 4: 16, 5: 25}\n"
          ],
          "name": "stdout"
        }
      ]
    }
  ]
}